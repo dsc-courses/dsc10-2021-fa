{
 "cells": [
  {
   "cell_type": "markdown",
   "metadata": {},
   "source": [
    "# Homework 1: Causality and Basic Python\n",
    "\n",
    "## Due Saturday, October 2 at 11:59pm\n",
    "\n",
    "Welcome to Homework 1! This week's HW will cover causality and basic Python. You can find additional help on these topics in [Chapter 02](https://www.inferentialthinking.com/chapters/02/causality-and-experiments.html) of Inferential Thinking and [Chapter 01](https://eldridgejm.github.io/dive_into_data_science/01-getting_started/tools.html) of Dive into Data Science."
   ]
  },
  {
   "cell_type": "markdown",
   "metadata": {},
   "source": [
    "### Instructions\n",
    "\n",
    "This assignment is due Saturday, October 2 at 11:59pm. You are given six slip days thoughout the quarter to extend deadlines. See the syllabus for more details. With the exception of using slip days, late work will not be accepted unless you have made special arrangements with your instructor.\n",
    "\n",
    "Make sure you complete Lab 1 before doing this homework. In particular, you will need concepts from Lab 1 for Problems 3, 4, and 7 of this homework. \n",
    "\n",
    "Remember to start early and submit often. \n",
    "\n",
    "**Important**: For homeworks, the `otter` tests don't usually tell you that your answer is correct. More often, they help catch careless mistakes. It's up to you to ensure that your answer is correct. If you're not sure, ask someone (not for the answer, but for some guidance about your approach). These are great questions for office hours (schedule on Canvas) or your team's chatroom on Campuswire. Directly sharing answers is not okay, but discussing problems with the course staff or with other students is encouraged. "
   ]
  },
  {
   "cell_type": "code",
   "execution_count": null,
   "metadata": {},
   "outputs": [],
   "source": [
    "# please don't change this cell, but do make sure to run it\n",
    "import babypandas as bpd\n",
    "import matplotlib.pyplot as plt\n",
    "import numpy as np\n",
    "import math\n",
    "import otter\n",
    "grader = otter.Notebook()"
   ]
  },
  {
   "cell_type": "markdown",
   "metadata": {},
   "source": [
    "## 0. Integrity of Scholarship Agreement\n",
    "\n",
    "Before starting the homework problems below, please carefully read and fill out this required [Integrity of Scholarship Agreement form](https://forms.gle/bEozkrjyEUeJfdXB8). \n",
    "\n",
    "To indicate that you have completed this requirement, please change the value of the variable below."
   ]
  },
  {
   "cell_type": "code",
   "execution_count": null,
   "metadata": {},
   "outputs": [],
   "source": [
    "completed_integrity_form = False"
   ]
  },
  {
   "cell_type": "markdown",
   "metadata": {},
   "source": [
    "## 1. COVID in Alaska\n"
   ]
  },
  {
   "cell_type": "markdown",
   "metadata": {},
   "source": [
    "Currently, as of 9/25/21, [The New York Times](https://www.nytimes.com/interactive/2021/us/covid-cases.html) reports that of the 123,074 COVID cases in the US in the last 7 days, only 1,043 were recorded in Alaska. That's a proportion of $\\frac{1{,}043}{123{,}074} = 0.0085$, or $0.85\\%$, which certainly doesn't sound like a lot. However, it's hard to evaluate the meaning of this data without more information. If you could request one additional piece of data to better assess the spread of COVID in Alaska as compared to the rest of the nation as a whole, what would you want to know? Explain how you would use that piece of data to determine whether COVID is spreading faster or slower in Alaska as compared to the elsewhere in the US."
   ]
  },
  {
   "cell_type": "markdown",
   "metadata": {
    "deletable": false,
    "editable": false
   },
   "source": [
    "<!-- BEGIN QUESTION -->\n",
    "\n",
    "<!--\n",
    "BEGIN QUESTION\n",
    "name: q1\n",
    "manual: true\n",
    "-->"
   ]
  },
  {
   "cell_type": "markdown",
   "metadata": {},
   "source": [
    "_Type your answer here, replacing this text._"
   ]
  },
  {
   "cell_type": "markdown",
   "metadata": {},
   "source": [
    "<!-- END QUESTION -->\n",
    "\n",
    "\n",
    "\n",
    "## 2. Characters in Oliver Twist\n"
   ]
  },
  {
   "cell_type": "markdown",
   "metadata": {},
   "source": [
    "In Lecture 1, we counted the number of times that the characters Amy, Beth, Jo, Meg, and Laurie were named in each chapter of the classic book, Little Women. In programming, the word \"character\" also refers to a single element of a string. For instance, the string `\"3 zebras!\"` has 9 characters – `\"3\"`, `\" \"`, `\"z\"`, `\"e\"`, `\"b\"`, `\"r\"`, `\"a\"`, `\"s\"`, and `\"!\"`. The following code generates a scatter plot in which each dot corresponds to a chapter of another classic book,  Oliver Twist by Charles Dickens. The horizontal position of a dot measures the number of periods in the chapter. The vertical position measures the total number of characters in that chapter."
   ]
  },
  {
   "cell_type": "code",
   "execution_count": null,
   "metadata": {},
   "outputs": [],
   "source": [
    "# This cell contains code that hasn't yet been covered in the course.\n",
    "# It isn't expected that you'll understand the code, but you should be able to \n",
    "# interpret the scatter plot it generates.\n",
    "\n",
    "import numpy as np\n",
    "import matplotlib.pyplot as plt\n",
    "\n",
    "plt.style.use('fivethirtyeight')\n",
    "\n",
    "book_file = \"./data/oliver_twist.txt\"\n",
    "chapters = open(book_file, encoding=\"utf-8\").read().split('CHAPTER ')[1:]\n",
    "chapters\n",
    "\n",
    "periods = np.char.count(chapters, '.')\n",
    "characters = [len(c) for c in chapters]\n",
    "\n",
    "plt.scatter(periods, characters)\n",
    "plt.xlabel('periods')\n",
    "plt.ylabel('characters')\n",
    "plt.axis([0, 300, 0, 35000]); "
   ]
  },
  {
   "cell_type": "markdown",
   "metadata": {},
   "source": [
    "**Question 1.** About how many periods are in the chapter with the greatest number of characters? Assign either 1, 2, 3, 4, or 5 to the name `characters_q1` below.\n",
    "\n",
    "1. 35\n",
    "2. 245\n",
    "3. 255\n",
    "4. 285\n",
    "5. 30000"
   ]
  },
  {
   "cell_type": "code",
   "execution_count": null,
   "metadata": {},
   "outputs": [],
   "source": [
    "characters_q1 = ..."
   ]
  },
  {
   "cell_type": "code",
   "execution_count": null,
   "metadata": {
    "deletable": false,
    "editable": false
   },
   "outputs": [],
   "source": [
    "grader.check(\"q21\")"
   ]
  },
  {
   "cell_type": "markdown",
   "metadata": {},
   "source": [
    "**Question 2.** About how many periods are in the chapter with the most characters per period? Assign either 1, 2, 3, 4, or 5 to the name `characters_q2` below.\n",
    "\n",
    "1. 35\n",
    "2. 245\n",
    "3. 255\n",
    "4. 285\n",
    "5. 30000\n"
   ]
  },
  {
   "cell_type": "code",
   "execution_count": null,
   "metadata": {},
   "outputs": [],
   "source": [
    "characters_q2 = ..."
   ]
  },
  {
   "cell_type": "code",
   "execution_count": null,
   "metadata": {
    "deletable": false,
    "editable": false
   },
   "outputs": [],
   "source": [
    "grader.check(\"q22\")"
   ]
  },
  {
   "cell_type": "markdown",
   "metadata": {},
   "source": [
    "**Question 3.** Which of the following is closest to the average number of characters per period in Oliver Twist? Assign either 1, 2, 3, 4, or 5 to the name `characters_q2` below.\n",
    "\n",
    "1. 50\n",
    "2. 100\n",
    "3. 150\n",
    "4. 200\n",
    "5. 250\n"
   ]
  },
  {
   "cell_type": "code",
   "execution_count": null,
   "metadata": {},
   "outputs": [],
   "source": [
    "characters_q3 = ..."
   ]
  },
  {
   "cell_type": "code",
   "execution_count": null,
   "metadata": {
    "deletable": false,
    "editable": false
   },
   "outputs": [],
   "source": [
    "grader.check(\"q23\")"
   ]
  },
  {
   "cell_type": "markdown",
   "metadata": {},
   "source": [
    "The tests for this section only check that you've set each variable to a number 1 through 5. Unlike in labs, tests in homeworks **do not** check that you answered correctly; they only check that your answer is *reasonable*, or in the correct format. To put it another way: all of your tests might pass, but that doesn't mean you'll get full credit -- some of your answers may still be wrong. It's up to you to make sure that they're right!"
   ]
  },
  {
   "cell_type": "markdown",
   "metadata": {},
   "source": [
    "## 3. Python Basics\n"
   ]
  },
  {
   "cell_type": "markdown",
   "metadata": {},
   "source": [
    "**Question 1.** When you run the following cell, Python produces a cryptic error message."
   ]
  },
  {
   "cell_type": "code",
   "execution_count": null,
   "metadata": {},
   "outputs": [],
   "source": [
    "5 = 4 + 1.0"
   ]
  },
  {
   "cell_type": "markdown",
   "metadata": {},
   "source": [
    "Choose the best explanation of what's wrong with the code, and then assign 1, 2, 3, or 4 to `basics_q1` below to indicate your answer.\n",
    "\n",
    "1. Python is not able to add an `int` to a `float` because they are of different data types.\n",
    "\n",
    "2. The left hand side is an `int`, while the right hand side is a `float`. It should be `5.0 = 4 + 1.0`.\n",
    "\n",
    "3. This is creating a variable called `5`, which doesn't make sense because `5` is a number.\n",
    "\n",
    "4. The result should be written after the calculation. It should be `1.0 + 4 = 5`."
   ]
  },
  {
   "cell_type": "markdown",
   "metadata": {},
   "source": [
    "**Important**: Once you have finished this question, \"comment\"  out the above code cell out by replacing it with `#5 = 4 + 1.0`. This will prevent the error message from appearing when your notebook is graded."
   ]
  },
  {
   "cell_type": "code",
   "execution_count": null,
   "metadata": {},
   "outputs": [],
   "source": [
    "basics_q1 = ..."
   ]
  },
  {
   "cell_type": "code",
   "execution_count": null,
   "metadata": {
    "deletable": false,
    "editable": false
   },
   "outputs": [],
   "source": [
    "grader.check(\"q31\")"
   ]
  },
  {
   "cell_type": "markdown",
   "metadata": {},
   "source": [
    "**Question 2.** Consider the following poorly-written code."
   ]
  },
  {
   "cell_type": "code",
   "execution_count": null,
   "metadata": {},
   "outputs": [],
   "source": [
    "two = 1\n",
    "two = two + two\n",
    "two = two * two\n",
    "two = two * two\n",
    "two = -two"
   ]
  },
  {
   "cell_type": "markdown",
   "metadata": {},
   "source": [
    "As this code executes, what values does the variable `two` take on? Assign 1, 2, 3, or 4 to `basics_q2` to indicate your answer.\n",
    "\n",
    "1. The variable `two` takes on the values: 1, 2, 4, -12, 12\n",
    "\n",
    "2. The variable `two` takes on the values: 1, 2, 4, 16, -16\n",
    "\n",
    "3. The variable `two` takes on the values: 1, 2, 4, 8, -8\n",
    "\n",
    "4. The variable `two` takes on the values: 1, 2, 4, -4, 16"
   ]
  },
  {
   "cell_type": "code",
   "execution_count": null,
   "metadata": {},
   "outputs": [],
   "source": [
    "basics_q2 = ..."
   ]
  },
  {
   "cell_type": "code",
   "execution_count": null,
   "metadata": {
    "deletable": false,
    "editable": false
   },
   "outputs": [],
   "source": [
    "grader.check(\"q32\")"
   ]
  },
  {
   "cell_type": "markdown",
   "metadata": {},
   "source": [
    "## 4. Euclidean Distance\n"
   ]
  },
  {
   "cell_type": "markdown",
   "metadata": {},
   "source": [
    "You might remember from math that the distance between two points in the plane, also called Euclidean distance, is calculated using the following formula:\n",
    "\n",
    "$$d  = \\sqrt{(x_2 - x_1)^2 + (y_2 - y_1)^2},$$\n",
    "\n",
    "This formula comes from the Pythagorean Theorem, as you can see in the picture below.\n",
    "\n",
    "<img src=\"./data/distance.png\"\n",
    "     width=300/>\n",
    "\n",
    "\n",
    "**Question 1.** Calculate the distance between the points $(37, 3)$ and $(-5, 17)$ and save your answer in the variable `distance`. Have Python perform all the intermediate calculations, such as subtracting and squaring.\n",
    "\n",
    "Note that the `math` package has not been imported. You don't need it for this question, and you should not import it. "
   ]
  },
  {
   "cell_type": "code",
   "execution_count": null,
   "metadata": {},
   "outputs": [],
   "source": [
    "x_1 = ...\n",
    "y_1 = ...\n",
    "\n",
    "x_2 = ...\n",
    "y_2 = ...\n",
    "\n",
    "distance = ...\n",
    "distance"
   ]
  },
  {
   "cell_type": "code",
   "execution_count": null,
   "metadata": {
    "deletable": false,
    "editable": false
   },
   "outputs": [],
   "source": [
    "grader.check(\"q41\")"
   ]
  },
  {
   "cell_type": "markdown",
   "metadata": {},
   "source": [
    "**Question 2.** Calculate the distance smallest distance between any pair of points on the list below, and save your answer in the variable `smallest_distance`. Make sure to try all pairs!\n",
    "- $(4, 7)$\n",
    "- $(-4, 2)$\n",
    "- $(-2, 9)$\n",
    "- $(1, 1)$"
   ]
  },
  {
   "cell_type": "code",
   "execution_count": null,
   "metadata": {},
   "outputs": [],
   "source": [
    "# Feel free to define intermediate variables to use in your solution.\n",
    "# This is a multi-step problem that shouldn't be done in one line of code!\n",
    "\n",
    "\n",
    "smallest_distance = ...\n",
    "smallest_distance"
   ]
  },
  {
   "cell_type": "code",
   "execution_count": null,
   "metadata": {
    "deletable": false,
    "editable": false
   },
   "outputs": [],
   "source": [
    "grader.check(\"q42\")"
   ]
  },
  {
   "cell_type": "markdown",
   "metadata": {},
   "source": [
    "## 5. Job Opportunities & Education in Rural India\n"
   ]
  },
  {
   "cell_type": "markdown",
   "metadata": {},
   "source": [
    "A [study](http://www.nber.org/papers/w16021.pdf) at UCLA investigated factors that might result in greater attention to the health and education of girls in rural India. One such factor is information about job opportunities for women. The idea is that if people know that educated women can get good jobs, they might take more care of the health and education of girls in their families, as an investment in the girls’ future potential as earners.\n",
    "\n",
    "The study focused on 160 villages outside the capital of India, all with little access to information about call centers and similar organizations that offer job opportunities to women. In 80 of the villages chosen at random, recruiters visited the village, described the opportunities, recruited women who had some English language proficiency and experience with computers, and provided women with ongoing support free of charge for three years. In the other 80 villages, no recruiters visited and no other intervention was made.\n",
    "\n",
    "At the end of the study period, the researchers recorded data about the school attendance and health of the children in the villages."
   ]
  },
  {
   "cell_type": "markdown",
   "metadata": {},
   "source": [
    "**Question 1.** Which statement best describes the *treatment* and *control* groups for this study? Assign either 1, 2, or 3 to the name `india_q1` below.\n",
    "\n",
    "1. The treatment group was the 160 villages selected, and the control group was the rest of the villages outside the capital of India.\n",
    "\n",
    "2. The treatment group was the 80 villages visited by recruiters, and the control group was the other 80 villages with no intervention.\n",
    "\n",
    "3. There is no clear notion of *treatment* and *control* group in this study."
   ]
  },
  {
   "cell_type": "code",
   "execution_count": null,
   "metadata": {},
   "outputs": [],
   "source": [
    "india_q1 = ..."
   ]
  },
  {
   "cell_type": "code",
   "execution_count": null,
   "metadata": {
    "deletable": false,
    "editable": false
   },
   "outputs": [],
   "source": [
    "grader.check(\"q51\")"
   ]
  },
  {
   "cell_type": "markdown",
   "metadata": {},
   "source": [
    "**Question 2.** Was this an observational study or a randomized controlled experiment? Set the variable `india_q2` below to the string `\"observational study\"` or the string `\"randomized controlled trial\"`, depending on your choice."
   ]
  },
  {
   "cell_type": "code",
   "execution_count": null,
   "metadata": {},
   "outputs": [],
   "source": [
    "india_q2 = ..."
   ]
  },
  {
   "cell_type": "code",
   "execution_count": null,
   "metadata": {
    "deletable": false,
    "editable": false
   },
   "outputs": [],
   "source": [
    "grader.check(\"q52\")"
   ]
  },
  {
   "cell_type": "markdown",
   "metadata": {},
   "source": [
    "**Question 3.** The study reported, “Girls aged 5-15 in villages that received the recruiting services were 3 to 5 percentage points more likely to be in school and experienced an increase in Body Mass Index, reflecting greater nutrition and/or medical care. However, there was no net gain in height. For boys, there was no change in any of these measures.” Why do you think the author points out the lack of change in the boys?  Choose the best answer and assign either 1, 2, 3, or 4 to the name `india_q3` below.\n",
    "\n",
    "1. To remind the reader that the treatment was targeted towards women and girls.\n",
    "2. To show that the observed results are due to the treatment, and not to some other factor that affected both boys and girls.\n",
    "3. To show that before the treatment, the educational status and health of girls were different than those of boys.\n",
    "4. To suggest that if the boys were to receive similar treatment, they too could improve their educational status and health."
   ]
  },
  {
   "cell_type": "code",
   "execution_count": null,
   "metadata": {},
   "outputs": [],
   "source": [
    "india_q3 = ..."
   ]
  },
  {
   "cell_type": "code",
   "execution_count": null,
   "metadata": {
    "deletable": false,
    "editable": false
   },
   "outputs": [],
   "source": [
    "grader.check(\"q53\")"
   ]
  },
  {
   "cell_type": "markdown",
   "metadata": {},
   "source": [
    "## 6. Healthy Breakfast\n"
   ]
  },
  {
   "cell_type": "markdown",
   "metadata": {},
   "source": [
    "The following is an excerpt from an article in the [SF Gate](https://healthyeating.sfgate.com/benefits-eating-breakfast-students-7697.html) about the many benefits of eating a healthy breakfast. \n",
    "\n",
    "\"*You’ve probably heard the adage “breakfast is the most important meal of the day” a million times before; but it turns out that it may be true, especially when it comes to students. Eating a healthy breakfast before starting the school day is linked to improved concentration, better test scores, increased energy, a higher intake of vitamins and minerals, and even a healthier body weight. Breakfast is especially important for young students whose brains use up about half of the body’s energy.*\"\n",
    "\n"
   ]
  },
  {
   "cell_type": "markdown",
   "metadata": {},
   "source": [
    "Notice that the author is careful to say that eating a healthy breakfast is *linked* to a variety of postive outcomes, but does not say that eating breakfast *causes* these outcomes. What are some other non-causal reasons why students who eat a healthy breakfast may benefit from the listed outcomes? Identify at least two such reasons."
   ]
  },
  {
   "cell_type": "markdown",
   "metadata": {
    "deletable": false,
    "editable": false
   },
   "source": [
    "<!-- BEGIN QUESTION -->\n",
    "\n",
    "<!--\n",
    "BEGIN QUESTION\n",
    "name: q6\n",
    "manual: true\n",
    "-->"
   ]
  },
  {
   "cell_type": "markdown",
   "metadata": {},
   "source": [
    "_Type your answer here, replacing this text._"
   ]
  },
  {
   "cell_type": "markdown",
   "metadata": {},
   "source": [
    "<!-- END QUESTION -->\n",
    "\n",
    "\n",
    "\n",
    "## 7. Comparing Vaccination Rates Between States\n"
   ]
  },
  {
   "cell_type": "markdown",
   "metadata": {},
   "source": [
    "For this problem, we'd like to quantify the similarity or dissimilarity between the COVID vaccination rates in two different US states. To do this, we will use three percentages:\n",
    "- percent of residents ages 12 to 17 who have received at least one dose of the vaccine\n",
    "- percent of residents age 18 and up who have received at least one dose of the vaccine\n",
    "- percent of residents age 18 and up who are fully vaccinated\n",
    "\n",
    "The data as of 9/25/21 for three different US states, taken from [The New York Times](https://www.nytimes.com/interactive/2020/us/covid-19-vaccine-doses.html), is shown in the table below.\n",
    "\n",
    "| Percent of Residents       | California  | South Carolina  | Nebraska |\n",
    "|-------------------------------------------|-------------|-----------|-----------|\n",
    "| First Dose, 12-17          | 68 | 41 | 50 | \n",
    "| First Dose, 18+            | 85 | 66 | 73 | \n",
    "| Fully Vaccinated, 18+      | 70 | 56 | 67 | \n",
    "\n",
    "We define the **dissimilarity** between two states as the largest of the absolute values of the 3 differences in their respective percentages. \n",
    "\n",
    "For example, if \n",
    "* state A's percentage for *First Dose, 12-17* is 3 more than state B's percentage, and \n",
    "* state A's percentage for *First Dose, 18+* is 2 less than than state B's percentage, and \n",
    "* state A's percentage for *Fully Vaccinated, 18+* is 4 less than state B's percentage,\n",
    "\n",
    "then we would say the dissimilarity between states A and B is 4, since the largest of 3, 2, and 4 is 4."
   ]
  },
  {
   "cell_type": "markdown",
   "metadata": {},
   "source": [
    "**Question 1.** \n",
    "Using this method, compute the dissimilarity between California and Nebraska.  Name the result `dissimilarity`.  Use a single expression (a single line of code) to compute the answer.  Let Python perform all the arithmetic (like subtracting) rather than simplifying the expression yourself. The built-in `abs` function takes absolute values. "
   ]
  },
  {
   "cell_type": "code",
   "execution_count": null,
   "metadata": {},
   "outputs": [],
   "source": [
    "dissimilarity = ...\n",
    "dissimilarity"
   ]
  },
  {
   "cell_type": "code",
   "execution_count": null,
   "metadata": {
    "deletable": false,
    "editable": false
   },
   "outputs": [],
   "source": [
    "grader.check(\"q71\")"
   ]
  },
  {
   "cell_type": "markdown",
   "metadata": {},
   "source": [
    "**Question 2.** Which pair of states is most dissimilar, according to this measurement? Assign either 1, 2, or 3 to the name `most_dissimilar` below.\n",
    "\n",
    "1. California and South Carolina\n",
    "2. California and Nebraska\n",
    "3. Nebraska and South Carolina"
   ]
  },
  {
   "cell_type": "code",
   "execution_count": null,
   "metadata": {},
   "outputs": [],
   "source": [
    "most_dissimilar = ..."
   ]
  },
  {
   "cell_type": "code",
   "execution_count": null,
   "metadata": {
    "deletable": false,
    "editable": false
   },
   "outputs": [],
   "source": [
    "grader.check(\"q72\")"
   ]
  },
  {
   "cell_type": "markdown",
   "metadata": {},
   "source": [
    "**Question 3.** For the states in the table (California, South Carolina, and Nebraska), if we eliminated a certain one of the three percentages in the table and recalculated dissimilarity based on two percentages only, we would find the dissimilarity between each pair of states to be unchanged, the same as if we had used all three percentages. Which percentage can be eliminated without changing the dissimilarity of any pair of states in the table? Assign either 1, 2, or 3 to the name `disposable` below.\n",
    "\n",
    "1. First Dose, 12-17\n",
    "2. First Dose, 18+\n",
    "3. Fully Vaccinated, 18+"
   ]
  },
  {
   "cell_type": "code",
   "execution_count": null,
   "metadata": {},
   "outputs": [],
   "source": [
    "disposable = ..."
   ]
  },
  {
   "cell_type": "code",
   "execution_count": null,
   "metadata": {
    "deletable": false,
    "editable": false
   },
   "outputs": [],
   "source": [
    "grader.check(\"q73\")"
   ]
  },
  {
   "cell_type": "markdown",
   "metadata": {},
   "source": [
    "## 8. Concussions in Athletes"
   ]
  },
  {
   "cell_type": "markdown",
   "metadata": {},
   "source": [
    "The following is an excerpt from a news article on the effects of recent legislation intended to prevent concussions in athletes.\n",
    "\n",
    "*“Since 2014, all 50 states and the District of Columbia have passed laws to protect young athletes against traumatic brain injury (TBI). Washington State was the first in 2009.\n",
    "<br><br>\n",
    "Most of the laws require athletes with suspected concussions to stop playing until a doctor clears them to return. Coaches, players, and parents must also receive yearly education about concussions.\n",
    "<br><br>\n",
    "Between fall 2005 and spring 2016, student athletes reported about 2.7 million concussions. Of those, 89 percent were new and 11 percent were repeat injuries.\n",
    "<br><br>\n",
    "In 2005, nearly 135,000 initial concussions were reported. The number jumped to more than 360,000 by 2016.\n",
    "<br><br>\n",
    "After concussion laws were introduced, however, repeat injuries fell dramatically, from about 14 percent of all concussions in 2005 to roughly 7 percent in 2016.\"*\n",
    "<br>\n",
    "<br>"
   ]
  },
  {
   "cell_type": "markdown",
   "metadata": {},
   "source": [
    "Which of the following is the most likely explanation for the fact that initial concussions nearly tripled from 135,000 in 2005 to 360,000 in 2016? Choose the best answer and assign either 1, 2, 3, or 4 to the name `athletes` below.\n",
    "\n",
    "1. An increase in the number of athletes.\n",
    "2. An increase in the danger of athletics.\n",
    "3. An increase in awareness about concussions.\n",
    "4. An increase in the population of the United States."
   ]
  },
  {
   "cell_type": "code",
   "execution_count": null,
   "metadata": {},
   "outputs": [],
   "source": [
    "athletes = ..."
   ]
  },
  {
   "cell_type": "code",
   "execution_count": null,
   "metadata": {
    "deletable": false,
    "editable": false
   },
   "outputs": [],
   "source": [
    "grader.check(\"q8\")"
   ]
  },
  {
   "cell_type": "markdown",
   "metadata": {},
   "source": [
    "## 9. Randomized Controlled Trials"
   ]
  },
  {
   "cell_type": "markdown",
   "metadata": {},
   "source": [
    "Which of these questions cannot be answered by running a randomized controlled trial? Choose the best answer and assign either 1, 2, 3, or 4 to the name `no_rct` below.\n",
    "\n",
    "1. Does education in how COVID is spread make people more likely to follow public health protocols, like wearing masks and practicing social distancing?\n",
    "2. Does earning a six-figure salary cause people to tip more generously at restaurants?\n",
    "3. Does spending less time on Zoom promote better sleep?\n",
    "4. Does waking up early increase one's cancer risk? "
   ]
  },
  {
   "cell_type": "code",
   "execution_count": null,
   "metadata": {},
   "outputs": [],
   "source": [
    "no_rct = ..."
   ]
  },
  {
   "cell_type": "code",
   "execution_count": null,
   "metadata": {
    "deletable": false,
    "editable": false
   },
   "outputs": [],
   "source": [
    "grader.check(\"q9\")"
   ]
  },
  {
   "cell_type": "markdown",
   "metadata": {},
   "source": [
    "# Finish Line: Almost there, but make sure to follow the steps below to submit!"
   ]
  },
  {
   "cell_type": "markdown",
   "metadata": {},
   "source": [
    "1. Make sure to comment out the code in Question 3.1 that causes an error.\n",
    "2. Select `Kernel -> Restart & Run All` to ensure that you have executed all cells, including the test cells. \n",
    "2. Read through the notebook to make sure all cells ran and all tests passed.\n",
    "3. Run the cell below to run all tests, and make sure that they all pass.\n",
    "4. Download your notebook using `File -> Download as -> Notebook (.ipynb)`, then upload your notebook to Gradescope.\n",
    "5. For a lab, the grade you see on Gradescope is your score on the assignment. For a homework or a project, the grade you see on Gradescope is **not your final score**. We will run correctness tests after the assignment's due date has passed."
   ]
  },
  {
   "cell_type": "code",
   "execution_count": null,
   "metadata": {},
   "outputs": [],
   "source": [
    "grader.check_all()"
   ]
  },
  {
   "cell_type": "code",
   "execution_count": null,
   "metadata": {},
   "outputs": [],
   "source": []
  }
 ],
 "metadata": {
  "kernelspec": {
   "display_name": "Python 3",
   "language": "python",
   "name": "python3"
  },
  "language_info": {
   "codemirror_mode": {
    "name": "ipython",
    "version": 3
   },
   "file_extension": ".py",
   "mimetype": "text/x-python",
   "name": "python",
   "nbconvert_exporter": "python",
   "pygments_lexer": "ipython3",
   "version": "3.7.4"
  }
 },
 "nbformat": 4,
 "nbformat_minor": 4
}
