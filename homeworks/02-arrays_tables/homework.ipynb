{
 "cells": [
  {
   "cell_type": "markdown",
   "metadata": {},
   "source": [
    "# Homework 2: Arrays and DataFrames\n",
    "\n",
    "## Due Saturday, October 9 at 11:59pm\n",
    "\n",
    "Welcome to Homework 2! This week's HW will cover arrays and DataFrames in Python. You can find additional help on these topics in [Chapter 02](https://eldridgejm.github.io/dive_into_data_science/02-data_sets/arrays.html), sections 1 through 5, of our textbook."
   ]
  },
  {
   "cell_type": "markdown",
   "metadata": {},
   "source": [
    "### Instructions\n",
    "\n",
    "This assignment is due Saturday, October 9 at 11:59pm. You are given six slip days throughout the quarter to extend deadlines. See the syllabus for more details. With the exception of using slip days, late work will not be accepted unless you have made special arrangements with your instructor.\n",
    "\n",
    "**Important**: For homeworks, the `otter` tests don't usually tell you that your answer is correct. More often, they help catch careless mistakes. It's up to you to ensure that your answer is correct. If you're not sure, ask someone (not for the answer, but for some guidance about your approach). These are great questions for office hours (schedule on Canvas) or your team's chatroom on Campuswire. Directly sharing answers is not okay, but discussing problems with the course staff or with other students is encouraged. \n",
    "\n",
    "**Please do not use for-loops for any questions in this homework.** If you don't know what a for-loop is, don't worry -- we haven't covered them yet. But if you do know what they are and are wondering why it's not OK to use them, it is because loops in Python are slow, and looping over arrays and tables should usually be avoided."
   ]
  },
  {
   "cell_type": "code",
   "execution_count": null,
   "metadata": {},
   "outputs": [],
   "source": [
    "# Don't change this cell; just run it. \n",
    "import numpy as np\n",
    "import babypandas as bpd\n",
    "import math\n",
    "\n",
    "import otter\n",
    "grader = otter.Notebook()"
   ]
  },
  {
   "cell_type": "markdown",
   "metadata": {},
   "source": [
    "## 1. Arrays\n"
   ]
  },
  {
   "cell_type": "markdown",
   "metadata": {},
   "source": [
    "**Question 1.1** Make an array called `weird_numbers` containing the following numbers (in the given order):\n",
    "\n",
    "1. The factorial of 10\n",
    "2. 3 radians, in degrees\n",
    "3. The mathematical constant $e$\n",
    "4. $7^4$\n",
    "5. The square root of 7\n",
    "\n",
    "*Hint:* Take a look at the functions and constants in the `math` module."
   ]
  },
  {
   "cell_type": "code",
   "execution_count": null,
   "metadata": {},
   "outputs": [],
   "source": [
    "weird_numbers = ...\n",
    "weird_numbers"
   ]
  },
  {
   "cell_type": "code",
   "execution_count": null,
   "metadata": {
    "deletable": false,
    "editable": false
   },
   "outputs": [],
   "source": [
    "grader.check(\"q1_1\")"
   ]
  },
  {
   "cell_type": "markdown",
   "metadata": {},
   "source": [
    "**Question 1.2.** Make an array called `words` containing the following three strings:\n",
    "* `A panda eats`\n",
    "* `shoots`\n",
    "* `and leaves.`\n"
   ]
  },
  {
   "cell_type": "code",
   "execution_count": null,
   "metadata": {},
   "outputs": [],
   "source": [
    "words = ...\n",
    "words"
   ]
  },
  {
   "cell_type": "code",
   "execution_count": null,
   "metadata": {
    "deletable": false,
    "editable": false
   },
   "outputs": [],
   "source": [
    "grader.check(\"q1_2\")"
   ]
  },
  {
   "cell_type": "markdown",
   "metadata": {},
   "source": [
    "<img src=\"./data/commas.png\"/>\n",
    "\n",
    "Strings have a method called `join`.  `join` takes one argument, an array of strings, and it returns a single string. Specifically, the value of `some_string.join(some_array)` is a single string that's the concatenation (\"putting together\") of all the strings in `some_array`, *except* `some_string` is inserted in between each string.\n",
    "\n",
    "Read that again if you need to!\n",
    "\n",
    "**Question 1.3.** Use the array `words` and the method `join` to make two strings:\n",
    "\n",
    "1. `A panda eats, shoots, and leaves.` (call this one `with_commas`)\n",
    "2. `A panda eats shoots and leaves.` (call this one `with_spaces`)\n",
    "\n",
    "*Hint:* If you're not quite sure what `join` does, first try calling, for example, `\"foo\".join(words)` ."
   ]
  },
  {
   "cell_type": "code",
   "execution_count": null,
   "metadata": {},
   "outputs": [],
   "source": [
    "with_commas = ...\n",
    "with_spaces = ...\n",
    "print(with_commas)\n",
    "print(with_spaces)"
   ]
  },
  {
   "cell_type": "code",
   "execution_count": null,
   "metadata": {
    "deletable": false,
    "editable": false
   },
   "outputs": [],
   "source": [
    "grader.check(\"q1_3\")"
   ]
  },
  {
   "cell_type": "markdown",
   "metadata": {},
   "source": [
    "Now let's get some practice with accessing individual elements of arrays.  In Python (and in many programming languages), elements are accessed by *integer position*, with the position of the first element being zero.  "
   ]
  },
  {
   "cell_type": "markdown",
   "metadata": {},
   "source": [
    "**Question 1.4.** The cell below creates an array of strings."
   ]
  },
  {
   "cell_type": "code",
   "execution_count": null,
   "metadata": {},
   "outputs": [],
   "source": [
    "some_strings = np.array(['first', 'second', 'third', 'fourth', 'fifth', 'sixth', 'last'])\n",
    "some_strings"
   ]
  },
  {
   "cell_type": "markdown",
   "metadata": {},
   "source": [
    "What is the integer position of `'fifth'` in the array? You can just type in the answer, which should be of type `int`. This is a conceptual question, not a coding question."
   ]
  },
  {
   "cell_type": "code",
   "execution_count": null,
   "metadata": {},
   "outputs": [],
   "source": [
    "fifth_position = ...\n",
    "fifth_position"
   ]
  },
  {
   "cell_type": "code",
   "execution_count": null,
   "metadata": {
    "deletable": false,
    "editable": false
   },
   "outputs": [],
   "source": [
    "grader.check(\"q1_4\")"
   ]
  },
  {
   "cell_type": "markdown",
   "metadata": {},
   "source": [
    "**Question 1.5.** Suppose you have an array with 100 elements. What integer position is the second-to-last element of this array? You can just type in the answer, which should be of type `int`. This is a conceptual question, not a coding question."
   ]
  },
  {
   "cell_type": "code",
   "execution_count": null,
   "metadata": {},
   "outputs": [],
   "source": [
    "second_to_last_position = ...\n",
    "second_to_last_position"
   ]
  },
  {
   "cell_type": "code",
   "execution_count": null,
   "metadata": {
    "deletable": false,
    "editable": false
   },
   "outputs": [],
   "source": [
    "grader.check(\"q1_5\")"
   ]
  },
  {
   "cell_type": "markdown",
   "metadata": {},
   "source": [
    "By the way, you can also use negative integer positions to access elements from the end of the array. Use -1 to get the last element, -2 to get the second-to-last element and so on. For example, to find the last element of `some_strings`:"
   ]
  },
  {
   "cell_type": "code",
   "execution_count": null,
   "metadata": {},
   "outputs": [],
   "source": [
    "some_strings[-1]"
   ]
  },
  {
   "cell_type": "markdown",
   "metadata": {},
   "source": [
    "**Question 1.6.** Suppose you have an array with 499 elements. What integer position is the middle element of this array? You can just type in the answer, which should be of type `int`. This is a conceptual question, not a coding question."
   ]
  },
  {
   "cell_type": "code",
   "execution_count": null,
   "metadata": {},
   "outputs": [],
   "source": [
    "mid_position = ...\n",
    "mid_position"
   ]
  },
  {
   "cell_type": "code",
   "execution_count": null,
   "metadata": {
    "deletable": false,
    "editable": false
   },
   "outputs": [],
   "source": [
    "grader.check(\"q1_6\")"
   ]
  },
  {
   "cell_type": "markdown",
   "metadata": {},
   "source": [
    "## 2. Unisex Names\n"
   ]
  },
  {
   "cell_type": "markdown",
   "metadata": {},
   "source": [
    "The table below shows data on the eight most common unisex names in America. The data originally comes from the Social Security Administration, but it was compiled and curated by FiveThirtyEight for their 2015 article [The Most Common Unisex Names In America: Is Yours One Of Them?](https://fivethirtyeight.com/features/there-are-922-unisex-names-in-america-is-yours-one-of-them/).\n",
    "\n",
    "For each name in the table below, we have the `Count` which estimates the number of living people with that name, and the `Male Share`, or the proportion of people with that name who are male. Throughout this problem, we'll use *male* to mean assigned male at birth and *female* to mean assigned female at birth. We will assume that each person fits into exactly one of these two categories. \n",
    "\n",
    "|Name|Count|Male Share|\n",
    "|---|---|---|\n",
    "|Casey|177000|0.5843|\n",
    "|Riley|155000|0.5076|\n",
    "|Jessie|136000|0.4778|\n",
    "|Jackie|133000|0.4211|\n",
    "|Avery|122000|0.3352|\n",
    "|Jaime|110000|0.5617|\n",
    "|Peyton|95000|0.4337|\n",
    "|Kerry|89000|0.4839|\n",
    "\n",
    "In this question, we'll be working with the data from the `Count` and `Male Share` columns as *arrays*. Here are those arrays:"
   ]
  },
  {
   "cell_type": "code",
   "execution_count": null,
   "metadata": {
    "scrolled": true
   },
   "outputs": [],
   "source": [
    "count = np.array([177000, 155000, 136000, 133000, 122000, 110000, 95000, 89000])\n",
    "count"
   ]
  },
  {
   "cell_type": "code",
   "execution_count": null,
   "metadata": {},
   "outputs": [],
   "source": [
    "male_share = ...\n",
    "male_share"
   ]
  },
  {
   "cell_type": "markdown",
   "metadata": {},
   "source": [
    "Remember, the `numpy` package (`np` for short) provides many handy functions for working with arrays. These are specifically designed to work with arrays and are faster than using Python's built-in functions. \n",
    "\n",
    "Some frequently used array functions are `np.min()`, `np.max()`, `np.sum()`, `np.abs()`, and `np.round()`. There are many more, which you can browse by typing `np.` into a code cell and hitting the *tab* key."
   ]
  },
  {
   "cell_type": "markdown",
   "metadata": {},
   "source": [
    "**Question 2.1.** What proportion of people with each name are female? Store the female share proportions for each name in a new array called `female_share`. "
   ]
  },
  {
   "cell_type": "code",
   "execution_count": null,
   "metadata": {},
   "outputs": [],
   "source": [
    "female_share = ...\n",
    "female_share"
   ]
  },
  {
   "cell_type": "code",
   "execution_count": null,
   "metadata": {
    "deletable": false,
    "editable": false
   },
   "outputs": [],
   "source": [
    "grader.check(\"q2_1\")"
   ]
  },
  {
   "cell_type": "markdown",
   "metadata": {},
   "source": [
    "**Question 2.2.** Now let's find the gap between the male and female shares for each name. Use `male_share` and `female_share` to create an array called `gaps` containing the absolute differences between the male share and female share for each name."
   ]
  },
  {
   "cell_type": "code",
   "execution_count": null,
   "metadata": {},
   "outputs": [],
   "source": [
    "gaps = ...\n",
    "gaps"
   ]
  },
  {
   "cell_type": "code",
   "execution_count": null,
   "metadata": {
    "deletable": false,
    "editable": false
   },
   "outputs": [],
   "source": [
    "grader.check(\"q2_2\")"
   ]
  },
  {
   "cell_type": "markdown",
   "metadata": {},
   "source": [
    "**Question 2.3.** Now, find the gap between the male and female shares for each name, but this time, you're only allowed to use the variable `male_share`. You may not use `female_share`. Create an array called `gaps_again` containing the absolute differences between the male share and female share for each name. The answer will be the same as the last question, but your method should be different."
   ]
  },
  {
   "cell_type": "code",
   "execution_count": null,
   "metadata": {},
   "outputs": [],
   "source": [
    "gaps_again = ...\n",
    "gaps_again"
   ]
  },
  {
   "cell_type": "code",
   "execution_count": null,
   "metadata": {
    "deletable": false,
    "editable": false
   },
   "outputs": [],
   "source": [
    "grader.check(\"q2_3\")"
   ]
  },
  {
   "cell_type": "markdown",
   "metadata": {},
   "source": [
    "**Question 2.4.** You might say that the most unisex name is the one with the smallest gap. Find the smallest value in the `gaps` array and save it as `smallest_gap`. Referring back to the table, try to figure out which name that is!"
   ]
  },
  {
   "cell_type": "code",
   "execution_count": null,
   "metadata": {},
   "outputs": [],
   "source": [
    "smallest_gap = ...\n",
    "smallest_gap"
   ]
  },
  {
   "cell_type": "code",
   "execution_count": null,
   "metadata": {
    "deletable": false,
    "editable": false
   },
   "outputs": [],
   "source": [
    "grader.check(\"q2_4\")"
   ]
  },
  {
   "cell_type": "markdown",
   "metadata": {},
   "source": [
    "**Question 2.5.** Create an array called `male_count` containing the estimated number of males with each name, and another called `female_count` containing the estimated number of females with each name. Make sure to round each value to the nearest whole number."
   ]
  },
  {
   "cell_type": "code",
   "execution_count": null,
   "metadata": {},
   "outputs": [],
   "source": [
    "male_count = ...\n",
    "female_count = ..."
   ]
  },
  {
   "cell_type": "code",
   "execution_count": null,
   "metadata": {
    "deletable": false,
    "editable": false
   },
   "outputs": [],
   "source": [
    "grader.check(\"q2_5\")"
   ]
  },
  {
   "cell_type": "markdown",
   "metadata": {},
   "source": [
    "**Question 2.6.** You might say that the most unisex name is the one for which the number of males with that name is closest to the number of females with that name. Assign `smallest_diff` to the smallest absolute difference between the number of males and number of females, among the given names. Referring back to the table, try to figure out which name that is!"
   ]
  },
  {
   "cell_type": "code",
   "execution_count": null,
   "metadata": {},
   "outputs": [],
   "source": [
    "smallest_diff = ...\n",
    "smallest_diff"
   ]
  },
  {
   "cell_type": "code",
   "execution_count": null,
   "metadata": {
    "deletable": false,
    "editable": false
   },
   "outputs": [],
   "source": [
    "grader.check(\"q2_6\")"
   ]
  },
  {
   "cell_type": "markdown",
   "metadata": {},
   "source": [
    "**Question 2.7.** Perhaps instead of working with proportions as we've done here, you prefer to work with percentages. Create an array called `male_percentage` that contains the percentage of people with each name who are male. Similarly, create an array `female_percentage` with the percentage of people with each name who are female. Round each percentage to two decimal places."
   ]
  },
  {
   "cell_type": "code",
   "execution_count": null,
   "metadata": {},
   "outputs": [],
   "source": [
    "male_percentage = ...\n",
    "female_percentage = ..."
   ]
  },
  {
   "cell_type": "code",
   "execution_count": null,
   "metadata": {
    "deletable": false,
    "editable": false
   },
   "outputs": [],
   "source": [
    "grader.check(\"q2_7\")"
   ]
  },
  {
   "cell_type": "markdown",
   "metadata": {},
   "source": [
    "## 3. Serializing Cereal"
   ]
  },
  {
   "cell_type": "markdown",
   "metadata": {},
   "source": [
    "<img src=\"./data/cereal.jpg\"/>\n",
    "\n",
    "The file named `cereal.csv` in the `data/` directory contains data on the production and nutritional content of various popular brand-name cereals."
   ]
  },
  {
   "cell_type": "markdown",
   "metadata": {},
   "source": [
    "**Question 3.1.** Read the CSV file into a DataFrame called `cereal_data`."
   ]
  },
  {
   "cell_type": "code",
   "execution_count": null,
   "metadata": {},
   "outputs": [],
   "source": [
    "cereal_data = ...\n",
    "cereal_data"
   ]
  },
  {
   "cell_type": "code",
   "execution_count": null,
   "metadata": {
    "deletable": false,
    "editable": false
   },
   "outputs": [],
   "source": [
    "grader.check(\"q3_1\")"
   ]
  },
  {
   "cell_type": "markdown",
   "metadata": {},
   "source": [
    "**Question 3.2.** Set the index to be the name of the cereal, so that it's easier to interpret. Save the new DataFrame in a variable called `cereals`."
   ]
  },
  {
   "cell_type": "code",
   "execution_count": null,
   "metadata": {
    "scrolled": true
   },
   "outputs": [],
   "source": [
    "cereals = ...\n",
    "cereals"
   ]
  },
  {
   "cell_type": "code",
   "execution_count": null,
   "metadata": {
    "deletable": false,
    "editable": false
   },
   "outputs": [],
   "source": [
    "grader.check(\"q3_2\")"
   ]
  },
  {
   "cell_type": "markdown",
   "metadata": {},
   "source": [
    "**Question 3.3.** Using DataFrame operations, determine how much sodium (given in milligrams) is in a serving of 'Kix'."
   ]
  },
  {
   "cell_type": "code",
   "execution_count": null,
   "metadata": {},
   "outputs": [],
   "source": [
    "kix_sodium = ...\n",
    "kix_sodium"
   ]
  },
  {
   "cell_type": "code",
   "execution_count": null,
   "metadata": {
    "deletable": false,
    "editable": false
   },
   "outputs": [],
   "source": [
    "grader.check(\"q3_3\")"
   ]
  },
  {
   "cell_type": "markdown",
   "metadata": {},
   "source": [
    "**Question 3.4.** Assign to `lowest_rated` the name of the cereal with the lowest rating. If you're surprised by the result, that's because the `rating` column contains a nutritional rating, not a flavor rating!"
   ]
  },
  {
   "cell_type": "code",
   "execution_count": null,
   "metadata": {},
   "outputs": [],
   "source": [
    "lowest_rated = ...\n",
    "lowest_rated"
   ]
  },
  {
   "cell_type": "code",
   "execution_count": null,
   "metadata": {
    "deletable": false,
    "editable": false
   },
   "outputs": [],
   "source": [
    "grader.check(\"q3_4\")"
   ]
  },
  {
   "cell_type": "markdown",
   "metadata": {},
   "source": [
    "**Question 3.5.** Manufacturers try to hide the less-than-stellar nutrition of their products by making the serving sizes small so that each serving seems to contain fewer calories, grams of fat, grams of sugar, etc. Notice that the serving size, in the `cups` column, varies from one cereal to the next. Being the savvy consumers that we are, we know that we should compare nutrition facts *per cup*. Starting with the `cereals` DataFrame, create a new DataFrame called `sugars_per_cup` which has an additional column called `spc` containing the amount of sugar in each cup of the cereal, sorted so that the cereals with the most sugars per cup appear first.\n",
    "\n",
    "*Hint*: This is a multi-step problem. Start by defining an array or Series containing sugars per cup, then add it as a column to the DataFrame. Don't forget to sort!"
   ]
  },
  {
   "cell_type": "code",
   "execution_count": null,
   "metadata": {},
   "outputs": [],
   "source": [
    "# For a multi-step problem, it's helpful to define intermediate variables. \n",
    "# Feel free to do that here, or for any problem!\n",
    "\n",
    "sugars_per_cup = ...\n",
    "sugars_per_cup"
   ]
  },
  {
   "cell_type": "code",
   "execution_count": null,
   "metadata": {
    "deletable": false,
    "editable": false
   },
   "outputs": [],
   "source": [
    "grader.check(\"q3_5\")"
   ]
  },
  {
   "cell_type": "markdown",
   "metadata": {},
   "source": [
    "Here's how you can see all the cereals, ranked from most sugary to least sugary:"
   ]
  },
  {
   "cell_type": "code",
   "execution_count": null,
   "metadata": {},
   "outputs": [],
   "source": [
    "sugars_per_cup.index"
   ]
  },
  {
   "cell_type": "markdown",
   "metadata": {},
   "source": [
    "**Question 3.6.** The column labeled `mfr` contains an abbreviation for the manufacturer that produces the cereal. One of these is General Mills, represented by G. Using the `cereals` DataFrame, create a new DataFrame called `general_mills` which contains only those cereals manufactured by General Mills (G)."
   ]
  },
  {
   "cell_type": "code",
   "execution_count": null,
   "metadata": {
    "scrolled": false
   },
   "outputs": [],
   "source": [
    "general_mills = ...\n",
    "general_mills"
   ]
  },
  {
   "cell_type": "code",
   "execution_count": null,
   "metadata": {
    "deletable": false,
    "editable": false
   },
   "outputs": [],
   "source": [
    "grader.check(\"q3_6\")"
   ]
  },
  {
   "cell_type": "markdown",
   "metadata": {},
   "source": [
    "**Question 3.7.** Among all cereals that are manufactured by General Mills, what is the median amount of sodium per serving?"
   ]
  },
  {
   "cell_type": "code",
   "execution_count": null,
   "metadata": {},
   "outputs": [],
   "source": [
    "general_mills_sodium = ...\n",
    "general_mills_sodium"
   ]
  },
  {
   "cell_type": "code",
   "execution_count": null,
   "metadata": {
    "deletable": false,
    "editable": false
   },
   "outputs": [],
   "source": [
    "grader.check(\"q3_7\")"
   ]
  },
  {
   "cell_type": "markdown",
   "metadata": {},
   "source": [
    "**Question 3.8.** The `temp` column indicates whether the cereal is meant to be eaten hot (listed as 'H') or cold (listed as 'C'). It would be interesting to see if there is a noticeable difference in the amount of protein in hot versus cold cereals. Using the `cereals` DataFrame, find the absolute value of the difference between the average amount of protein for hot cereal and the average amount of protein for cold cereal. Save the result as `protein_difference`. \n",
    "\n",
    "*Hint*: To help break this problem into multiple steps, we suggest you define two intermediate variables, `average_protein_hot` and `average_protein_cold`."
   ]
  },
  {
   "cell_type": "code",
   "execution_count": null,
   "metadata": {},
   "outputs": [],
   "source": [
    "# It may help to define these intermediate variables, but you don't need to use them.\n",
    "average_protein_hot = ...\n",
    "average_protein_cold = ...\n",
    "\n",
    "protein_difference = ...\n",
    "protein_difference"
   ]
  },
  {
   "cell_type": "code",
   "execution_count": null,
   "metadata": {
    "deletable": false,
    "editable": false
   },
   "outputs": [],
   "source": [
    "grader.check(\"q3_8\")"
   ]
  },
  {
   "cell_type": "markdown",
   "metadata": {},
   "source": [
    "**Question 3.9.** Starting with `cereals`, create a DataFrame called `high_fiber_low_calorie` containing all of the cereal brands that have at least 2 grams of fiber per serving and at most 100 calories per serving."
   ]
  },
  {
   "cell_type": "code",
   "execution_count": null,
   "metadata": {
    "scrolled": false
   },
   "outputs": [],
   "source": [
    "high_fiber_low_calorie = ...\n",
    "high_fiber_low_calorie"
   ]
  },
  {
   "cell_type": "code",
   "execution_count": null,
   "metadata": {
    "deletable": false,
    "editable": false
   },
   "outputs": [],
   "source": [
    "grader.check(\"q3_9\")"
   ]
  },
  {
   "cell_type": "markdown",
   "metadata": {},
   "source": [
    "**Question 3.10.** Set `low_calorie_mfr` to the abbreviation for the manufacturer that produces cereals with the lowest average calories per serving. If you're interested, you can look up the full name of that manufacturer in the table below.\n",
    "\n",
    "|Abbreviation|Full Name|\n",
    "|---|---|\n",
    "|A|American Home Food Products|\n",
    "|G|General Mills|\n",
    "|K|Kelloggs|\n",
    "|N|Nabisco|\n",
    "|P|Post|\n",
    "|Q|Quaker Oats|\n",
    "|R|Ralston Purina|\n",
    "\n",
    "*Hint*: Our solution for this question used only one line of code (thanks, `groupby`)!"
   ]
  },
  {
   "cell_type": "code",
   "execution_count": null,
   "metadata": {},
   "outputs": [],
   "source": [
    "low_calorie_mfr = ...\n",
    "low_calorie_mfr"
   ]
  },
  {
   "cell_type": "code",
   "execution_count": null,
   "metadata": {
    "deletable": false,
    "editable": false
   },
   "outputs": [],
   "source": [
    "grader.check(\"q3_10\")"
   ]
  },
  {
   "cell_type": "markdown",
   "metadata": {},
   "source": [
    "**Question 3.11.** Assign to `kelloggs_proportion` the proportion of cereals manufactured by Kelloggs (K) that have at least 2 grams of fat.\n",
    "\n",
    "*Hint*: Start by defining a new DataFrame, `kelloggs`, that contains only the cereals manufactured by Kelloggs."
   ]
  },
  {
   "cell_type": "code",
   "execution_count": null,
   "metadata": {},
   "outputs": [],
   "source": [
    "kelloggs = ...\n",
    "kelloggs_proportion = ...\n",
    "kelloggs_proportion"
   ]
  },
  {
   "cell_type": "code",
   "execution_count": null,
   "metadata": {
    "deletable": false,
    "editable": false
   },
   "outputs": [],
   "source": [
    "grader.check(\"q3_11\")"
   ]
  },
  {
   "cell_type": "markdown",
   "metadata": {},
   "source": [
    "## 4. COVID-19 Vaccinations in San Diego County"
   ]
  },
  {
   "cell_type": "markdown",
   "metadata": {},
   "source": [
    "The file `data/vaccines.csv` contains information about COVID-19 vaccination progress in San Diego County. The data, which comes from the [California Health and Human Services Open Data Portal](https://data.chhs.ca.gov/dataset/vaccine-progress-dashboard), includes information on vaccine doses administered each day in 2021 through September 28, 2021. "
   ]
  },
  {
   "cell_type": "code",
   "execution_count": null,
   "metadata": {},
   "outputs": [],
   "source": [
    "covid_vaccine = bpd.read_csv('data/vaccines.csv')\n",
    "covid_vaccine"
   ]
  },
  {
   "cell_type": "markdown",
   "metadata": {},
   "source": [
    "For a given day, the column `total_doses` contains the total number of vaccines administered that day. The column `cumulative_total_doses` contains the total number of vaccines administered up until and including that day. The [first COVID-19 vaccine dose in San Diego County](https://www.countynewscenter.com/county-of-san-diego-to-open-first-vaccination-super-station-in-partnership-with-uc-san-diego-health-padres-and-city-of-san-diego/) was administered on December 16, 2020. \n",
    "\n",
    "**Question 4.1.** How many COVID-19 vaccines were administered in San Diego County in December 2020? Save the result as `december_total`."
   ]
  },
  {
   "cell_type": "code",
   "execution_count": null,
   "metadata": {},
   "outputs": [],
   "source": [
    "december_total = ...\n",
    "december_total"
   ]
  },
  {
   "cell_type": "code",
   "execution_count": null,
   "metadata": {
    "deletable": false,
    "editable": false
   },
   "outputs": [],
   "source": [
    "grader.check(\"q4_1\")"
   ]
  },
  {
   "cell_type": "markdown",
   "metadata": {},
   "source": [
    "**Question 4.2.** Assuming that vaccines were given each day from December 16 through December 31, 2020, on how many days in December were vaccines administered? What was the average number of vaccines given per day during this period from December 16 to December 31? Save your answers as `december_days` and `december_average`, respectively."
   ]
  },
  {
   "cell_type": "code",
   "execution_count": null,
   "metadata": {},
   "outputs": [],
   "source": [
    "december_days = ...\n",
    "december_average = ..."
   ]
  },
  {
   "cell_type": "code",
   "execution_count": null,
   "metadata": {
    "deletable": false,
    "editable": false
   },
   "outputs": [],
   "source": [
    "grader.check(\"q4_2\")"
   ]
  },
  {
   "cell_type": "markdown",
   "metadata": {},
   "source": [
    "**Question 4.3.** Create a new table `june_vaccine` to include data (all columns) from June 2021 only. Assign to `june_total` the total number of doses administered in June.\n",
    "\n",
    "*Hint*: You may want to use `.str.contains`; the *Boolean Indexing* section of the [DSC 10 Reference Sheet](https://drive.google.com/file/d/1mQApk9Ovdi-QVqMgnNcq5dZcWucUKoG-/view) shows you how to use it."
   ]
  },
  {
   "cell_type": "code",
   "execution_count": null,
   "metadata": {},
   "outputs": [],
   "source": [
    "june_vaccine = ...\n",
    "june_total = ..."
   ]
  },
  {
   "cell_type": "code",
   "execution_count": null,
   "metadata": {
    "deletable": false,
    "editable": false
   },
   "outputs": [],
   "source": [
    "grader.check(\"q4_3\")"
   ]
  },
  {
   "cell_type": "markdown",
   "metadata": {},
   "source": [
    "**Question 4.4.** Assign `june_average` to the average number of vaccines given per day during the month of June. By what factor did the average number of daily vaccine doses increase from December 2020 to June 2021? Save your answer as `increase_factor`. For example, if the average number of doses given each day in June was double that of December, you would set `increase_factor` to 2."
   ]
  },
  {
   "cell_type": "code",
   "execution_count": null,
   "metadata": {},
   "outputs": [],
   "source": [
    "june_average = ...\n",
    "increase_factor = ..."
   ]
  },
  {
   "cell_type": "code",
   "execution_count": null,
   "metadata": {
    "deletable": false,
    "editable": false
   },
   "outputs": [],
   "source": [
    "grader.check(\"q4_4\")"
   ]
  },
  {
   "cell_type": "markdown",
   "metadata": {},
   "source": [
    "**Question 4.5.** Determine the day in 2021 on which the most doses were administered, and save the result as as `most_doses_day`."
   ]
  },
  {
   "cell_type": "code",
   "execution_count": null,
   "metadata": {},
   "outputs": [],
   "source": [
    "most_doses_day = ...\n",
    "most_doses_day"
   ]
  },
  {
   "cell_type": "code",
   "execution_count": null,
   "metadata": {
    "deletable": false,
    "editable": false
   },
   "outputs": [],
   "source": [
    "grader.check(\"q4_5\")"
   ]
  },
  {
   "cell_type": "markdown",
   "metadata": {},
   "source": [
    "**Question 4.6.** Determine the *week* in 2021 on which the most doses were administered on average, and save the result as `most_doses_week`."
   ]
  },
  {
   "cell_type": "code",
   "execution_count": null,
   "metadata": {
    "scrolled": true
   },
   "outputs": [],
   "source": [
    "most_doses_week = ...\n",
    "most_doses_week"
   ]
  },
  {
   "cell_type": "code",
   "execution_count": null,
   "metadata": {
    "deletable": false,
    "editable": false
   },
   "outputs": [],
   "source": [
    "grader.check(\"q4_6\")"
   ]
  },
  {
   "cell_type": "markdown",
   "metadata": {},
   "source": [
    "**Question 4.7.** Create an array called `ranked_days` containing the names of the seven days of the week, ordered from the least popular day of the week to get vaccinated, to the most popular day to get vaccinated. \n",
    "\n",
    "*Hint*: After doing some grouping, you'll want to grab the index of the table using `.index`, then convert it to an array by feeding it in as an input to `np.array`.\n",
    "\n",
    "*Magic trick suggestion*: Guess what day of the week your friend got vaccinated!"
   ]
  },
  {
   "cell_type": "code",
   "execution_count": null,
   "metadata": {},
   "outputs": [],
   "source": [
    "ranked_days = ...\n",
    "ranked_days"
   ]
  },
  {
   "cell_type": "code",
   "execution_count": null,
   "metadata": {
    "deletable": false,
    "editable": false
   },
   "outputs": [],
   "source": [
    "grader.check(\"q4_7\")"
   ]
  },
  {
   "cell_type": "markdown",
   "metadata": {},
   "source": [
    "**Question 4.8.** Make a line graph of the total number administered vaccine doses per week so far in 2021. Check that the peak matches to your answer `most_doses_week` above!\n",
    "\n",
    "*Hint*: Look at [Chapter 3.1 of the textbook](https://eldridgejm.github.io/dive_into_data_science/03-visualization/line.html) for instructions on how to create a line graph. You'll have to do some DataFrame manipulation before you can plot the graph."
   ]
  },
  {
   "cell_type": "markdown",
   "metadata": {
    "deletable": false,
    "editable": false
   },
   "source": [
    "<!-- BEGIN QUESTION -->\n",
    "\n",
    "<!--\n",
    "BEGIN QUESTION\n",
    "name: q4_8\n",
    "manual: true\n",
    "-->"
   ]
  },
  {
   "cell_type": "code",
   "execution_count": null,
   "metadata": {},
   "outputs": [],
   "source": [
    "..."
   ]
  },
  {
   "cell_type": "markdown",
   "metadata": {},
   "source": [
    "<!-- END QUESTION -->\n",
    "\n",
    "\n",
    "\n",
    "# Finish Line\n",
    "\n",
    "Congratulations! You are done with Homework 02.\n",
    "\n",
    "To submit your assignment:\n",
    "\n",
    "1. Select `Kernel -> Restart & Run All` to ensure that you have executed all cells, including the test cells.\n",
    "2. Read through the notebook to make sure everything is fine and all tests passed.\n",
    "3. Run the cell below to run all tests, and make sure that they all pass.\n",
    "4. Download your notebook using `File -> Download as -> Notebook (.ipynb)`, then upload your notebook to Gradescope."
   ]
  },
  {
   "cell_type": "code",
   "execution_count": null,
   "metadata": {},
   "outputs": [],
   "source": [
    "# For your convenience, you can run this cell to run all the tests at once!\n",
    "grader.check_all()"
   ]
  },
  {
   "cell_type": "code",
   "execution_count": null,
   "metadata": {},
   "outputs": [],
   "source": []
  },
  {
   "cell_type": "code",
   "execution_count": null,
   "metadata": {},
   "outputs": [],
   "source": []
  },
  {
   "cell_type": "code",
   "execution_count": null,
   "metadata": {},
   "outputs": [],
   "source": []
  }
 ],
 "metadata": {
  "kernelspec": {
   "display_name": "Python 3",
   "language": "python",
   "name": "python3"
  },
  "language_info": {
   "codemirror_mode": {
    "name": "ipython",
    "version": 3
   },
   "file_extension": ".py",
   "mimetype": "text/x-python",
   "name": "python",
   "nbconvert_exporter": "python",
   "pygments_lexer": "ipython3",
   "version": "3.7.4"
  },
  "toc": {
   "base_numbering": 1,
   "nav_menu": {},
   "number_sections": true,
   "sideBar": true,
   "skip_h1_title": false,
   "title_cell": "Table of Contents",
   "title_sidebar": "Contents",
   "toc_cell": false,
   "toc_position": {},
   "toc_section_display": true,
   "toc_window_display": false
  }
 },
 "nbformat": 4,
 "nbformat_minor": 4
}
