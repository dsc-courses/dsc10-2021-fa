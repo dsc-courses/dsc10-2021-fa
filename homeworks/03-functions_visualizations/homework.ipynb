{
 "cells": [
  {
   "cell_type": "markdown",
   "metadata": {},
   "source": [
    "# Homework 3: Data Visualization and Python Functions\n",
    "\n",
    "## Due Saturday, October 16th at 11:59pm PST\n",
    "\n",
    "Welcome to Homework 3! This week, we will cover DataFrame manipulations, making visualizations, and defining functions. You can find additional help on functions in [Chapter 2.6](https://eldridgejm.github.io/dive_into_data_science/02-data_sets/apply.html?highlight=function) and resources for creating visualizations in [Chapter 3](https://eldridgejm.github.io/dive_into_data_science/03-visualization/intro.html) of Dive into Data Science."
   ]
  },
  {
   "cell_type": "markdown",
   "metadata": {},
   "source": [
    "### Instructions\n",
    "\n",
    "This assignment is due Saturday, October 16 at 11:59pm. You are given six slip days throughout the quarter to extend deadlines. See the syllabus for more details. With the exception of using slip days, late work will not be accepted unless you have made special arrangements with your instructor.\n",
    "\n",
    "**Important**: For homeworks, the `otter` tests don't usually tell you that your answer is correct. More often, they help catch careless mistakes. It's up to you to ensure that your answer is correct. If you're not sure, ask someone (not for the answer, but for some guidance about your approach). These are great questions for office hours (schedule on Canvas) or your team's chatroom on Campuswire. Directly sharing answers is not okay, but discussing problems with the course staff or with other students is encouraged. \n",
    "\n",
    "**Please do not use for-loops for any questions in this homework.** If you don't know what a for-loop is, don't worry -- we haven't covered them yet. But if you do know what they are and are wondering why it's not OK to use them, it is because loops in Python are slow, and looping over arrays and tables should usually be avoided."
   ]
  },
  {
   "cell_type": "code",
   "execution_count": null,
   "metadata": {},
   "outputs": [],
   "source": [
    "# Please don't change this cell, but do make sure to run it\n",
    "import babypandas as bpd\n",
    "import matplotlib.pyplot as plt\n",
    "import numpy as np\n",
    "import otter\n",
    "grader = otter.Notebook()"
   ]
  },
  {
   "cell_type": "markdown",
   "metadata": {},
   "source": [
    "## 1. Gotta Catch 'Em All!"
   ]
  },
  {
   "cell_type": "markdown",
   "metadata": {},
   "source": [
    "<img src=\"./images/pokemon.png\" width=400/>\n",
    "\n",
    "Pokémon is an immensely popular video game and animation franchise that originated from Japan in 1996. Pokémon, short for Pocket Monsters, come in a variety of unique types and have several kinds of stats.  In this problem, we will investigate how attack and defense stats vary among these types up to the seventh generation.\n",
    "\n",
    "The file named `pokedex.csv` in the `data/` directory has a row for each Pokémon, and the following columns.\n",
    "\n",
    "|Column|Description|\n",
    "|------|-----------|\n",
    "|pokedex_number|The Pokémon's identification number in an encyclopedia of all Pokémon.|\n",
    "|name|The name of the Pokémon.|\n",
    "|type|The categorical type of the Pokémon, for example, \"normal\", \"fire\", \"water\". Each Pokémon is limited to one type for simplicity.|\n",
    "|attack|The Pokémon's power for physical moves.|\n",
    "|defense|The Pokémon's ability to prevent damage from attacks.|\n",
    "|hp| Hit Points. Indicates how much damage a Pokémon can tolerate.|\n",
    "|sp_attack|Special Attack. The Pokémon's power for special moves.|\n",
    "|sp_defense|Special Defense. The Pokémon's ability to prevent damage from special attacks.|\n",
    "|generation|A group of Pokémon that are compatible for Pokémon games.|\n",
    "|is_legendary|Indicates whether the Pokémon is legendary. Legendary Pokémon are rare and powerful. 1 means legendary, 0 means not.|"
   ]
  },
  {
   "cell_type": "markdown",
   "metadata": {},
   "source": [
    "First, we read the data in as a DataFrame."
   ]
  },
  {
   "cell_type": "code",
   "execution_count": null,
   "metadata": {},
   "outputs": [],
   "source": [
    "pokedex = bpd.read_csv('data/pokedex.csv')\n",
    "pokedex"
   ]
  },
  {
   "cell_type": "markdown",
   "metadata": {},
   "source": [
    "Let's explore particular columns to get to know the data a little better. The `.describe()` method gives us some useful information about a column. Try it out on the `name` column."
   ]
  },
  {
   "cell_type": "code",
   "execution_count": null,
   "metadata": {
    "scrolled": true
   },
   "outputs": [],
   "source": [
    "pokedex.get('name').describe()"
   ]
  },
  {
   "cell_type": "markdown",
   "metadata": {},
   "source": [
    "We learn that this column has 801 values, all of which are unique, and as a result the most frequent name appears only once.\n",
    "\n",
    "If we try this same command on the `type` column, we'll see that although there are 801 entries, only 18 of them are unique. There are many Pokémon with the same `type`. The most common `type` is \"water\"; there are 114 such Pokémon. "
   ]
  },
  {
   "cell_type": "code",
   "execution_count": null,
   "metadata": {
    "scrolled": true
   },
   "outputs": [],
   "source": [
    "pokedex.get('type').describe()"
   ]
  },
  {
   "cell_type": "markdown",
   "metadata": {},
   "source": [
    "**Question 1.1.** Which would be a better choice of index for this dataset, `name` or `type`? Set the index of `pokedex` to whichever of these two attributes makes more sense."
   ]
  },
  {
   "cell_type": "code",
   "execution_count": null,
   "metadata": {
    "scrolled": true
   },
   "outputs": [],
   "source": [
    "pokedex = ...\n",
    "pokedex"
   ]
  },
  {
   "cell_type": "code",
   "execution_count": null,
   "metadata": {
    "deletable": false,
    "editable": false
   },
   "outputs": [],
   "source": [
    "grader.check(\"q1_1\")"
   ]
  },
  {
   "cell_type": "markdown",
   "metadata": {},
   "source": [
    "**Question 1.2.** Assign `weakest_attack` and `weakest_defense` to the names of the weakest Pokémon in terms of attack and defense respectively.\n",
    "\n",
    "Similarly, assign `strongest_attack` and `strongest_defense` to the names of the strongest Pokémon in terms of attack and defense respectively.\n",
    "\n",
    "In the case of a tie, choose any one of the equally weakest or equally strongest Pokémon."
   ]
  },
  {
   "cell_type": "code",
   "execution_count": null,
   "metadata": {},
   "outputs": [],
   "source": [
    "weakest_attack = ...\n",
    "print(\"Weakest attack:\", weakest_attack)\n",
    "\n",
    "strongest_attack = ...\n",
    "print(\"Strongest attack:\", strongest_attack)\n",
    "\n",
    "weakest_defense = ...\n",
    "print(\"Weakest defense:\", weakest_defense)\n",
    "\n",
    "strongest_defense = ...\n",
    "print(\"Strongest defense:\", strongest_defense)"
   ]
  },
  {
   "cell_type": "code",
   "execution_count": null,
   "metadata": {
    "deletable": false,
    "editable": false
   },
   "outputs": [],
   "source": [
    "grader.check(\"q1_2\")"
   ]
  },
  {
   "cell_type": "markdown",
   "metadata": {},
   "source": [
    "**Question 1.3.** Typically at the beginning of a game, the Pokémon trainer (the player) has to make a choice between Pokémon of `type` \"water\", \"grass\", and \"fire\". Make a DataFrame named `water_grass_fire` containing only the the \"water\", \"grass\", and \"fire\" Pokémon. All columns of `pokedex` should be included."
   ]
  },
  {
   "cell_type": "code",
   "execution_count": null,
   "metadata": {},
   "outputs": [],
   "source": [
    "water_grass_fire = ...\n",
    "water_grass_fire"
   ]
  },
  {
   "cell_type": "code",
   "execution_count": null,
   "metadata": {
    "deletable": false,
    "editable": false
   },
   "outputs": [],
   "source": [
    "grader.check(\"q1_3\")"
   ]
  },
  {
   "cell_type": "markdown",
   "metadata": {},
   "source": [
    "**Question 1.4.** Create a DataFrame named `legendary_pokemon`, indexed by `type` and having one column, called `num_legendary`, that contains the number of legendary Pokémon of each type.\n",
    "\n",
    "*Hint:* You will need to drop and rename columns. Instead of using `.drop`, you may want to use `.get` with a list containing the name of a single column."
   ]
  },
  {
   "cell_type": "code",
   "execution_count": null,
   "metadata": {},
   "outputs": [],
   "source": [
    "legendary_pokemon = ...\n",
    "legendary_pokemon"
   ]
  },
  {
   "cell_type": "code",
   "execution_count": null,
   "metadata": {
    "deletable": false,
    "editable": false
   },
   "outputs": [],
   "source": [
    "grader.check(\"q1_4\")"
   ]
  },
  {
   "cell_type": "markdown",
   "metadata": {},
   "source": [
    "**Question 1.5.** Notice how the `legendary_pokemon` DataFrame has fewer than 18 rows and there were 18 unique `type`s; this means that there are certain `type`s that don't have any legendary Pokémon. Determine which `type`s don't have any legendary Pokémon, and assign `non_legendary` to an array of these `type`s. "
   ]
  },
  {
   "cell_type": "code",
   "execution_count": null,
   "metadata": {},
   "outputs": [],
   "source": [
    "non_legendary = ...\n",
    "non_legendary"
   ]
  },
  {
   "cell_type": "code",
   "execution_count": null,
   "metadata": {
    "deletable": false,
    "editable": false
   },
   "outputs": [],
   "source": [
    "grader.check(\"q1_5\")"
   ]
  },
  {
   "cell_type": "markdown",
   "metadata": {},
   "source": [
    "**Question 1.6.** Suppose that as a Pokémon trainer, you want to assemble a strong team of Pokémon of various `type`s. Create a DataFrame called `mean_stats`, indexed by `type`, that contains the average statistics for Pokémon of each type. `mean_stats` should have five columns: `attack`, `defense`, `hp`, `sp_attack`, and `sp_defense`."
   ]
  },
  {
   "cell_type": "code",
   "execution_count": null,
   "metadata": {},
   "outputs": [],
   "source": [
    "mean_stats = ...\n",
    "mean_stats"
   ]
  },
  {
   "cell_type": "code",
   "execution_count": null,
   "metadata": {
    "deletable": false,
    "editable": false
   },
   "outputs": [],
   "source": [
    "grader.check(\"q1_6\")"
   ]
  },
  {
   "cell_type": "markdown",
   "metadata": {},
   "source": [
    "**Question 1.7.** A strong Pokémon is one that has high values for `attack`, `defense`, `hp`, `sp_attack`, and `sp_defense`. Suppose that you develop a formula to summarize all of these stats into a single number called strength. The strength of a Pokémon is a weighted average of these five stats, where each stat is weighted as follows:\n",
    "\n",
    "- `attack`: 20%\n",
    "- `defense`: 20%\n",
    "- `hp`: 30%\n",
    "- `sp_attack`: 15%\n",
    "- `sp_defense`: 15%\n",
    "\n",
    "Define a function called `calculate_strength` that takes as input the `pokedex_number` of a Pokémon and returns its strength, as defined above."
   ]
  },
  {
   "cell_type": "code",
   "execution_count": null,
   "metadata": {},
   "outputs": [],
   "source": [
    "def calculate_strength(number):\n",
    "    ..."
   ]
  },
  {
   "cell_type": "code",
   "execution_count": null,
   "metadata": {
    "deletable": false,
    "editable": false
   },
   "outputs": [],
   "source": [
    "grader.check(\"q1_7\")"
   ]
  },
  {
   "cell_type": "markdown",
   "metadata": {},
   "source": [
    "**Question 1.8.** Create a DataFrame called `with_strength` that contains all the columns of `pokedex` plus one more called `strength`, containing the strength of each Pokémon as defined in the previous question. Order the rows in descending order of `strength`.\n",
    "\n",
    "*Hint*: Use the `calculate_strength` function you've already written."
   ]
  },
  {
   "cell_type": "code",
   "execution_count": null,
   "metadata": {},
   "outputs": [],
   "source": [
    "with_strength = ...\n",
    "with_strength"
   ]
  },
  {
   "cell_type": "markdown",
   "metadata": {},
   "source": [
    "**Question 1.9.** Make a plot that will help you answer the question, \"*Among water Pokémon, do those with stronger attack power also have stronger defense power?*\" Consider only regular `attack` and `defense`, **not** special (`sp_attack`, and `sp_defense`)."
   ]
  },
  {
   "cell_type": "markdown",
   "metadata": {
    "deletable": false,
    "editable": false
   },
   "source": [
    "<!-- BEGIN QUESTION -->\n",
    "\n",
    "<!--\n",
    "BEGIN QUESTION\n",
    "name: q1_9\n",
    "manual: true\n",
    "-->"
   ]
  },
  {
   "cell_type": "code",
   "execution_count": null,
   "metadata": {},
   "outputs": [],
   "source": [
    "# Create your plot here\n",
    "..."
   ]
  },
  {
   "cell_type": "markdown",
   "metadata": {},
   "source": [
    "<!-- END QUESTION -->\n",
    "\n",
    "\n",
    "\n",
    "**Question 1.10.** Considering that Pokémon `generation`s were developed in order, we might wonder how Pokémon have evolved over time. Draw a line plot that shows the trend, across generations, the proportion of legendary Pokémon in each generation. This kind of plot might help you answer the question \"*Are later-generation Pokémon more likely to be legendary?*\"\n",
    "\n",
    "*Hint*: You'll have to do some DataFrame manipulation before you can create the line plot."
   ]
  },
  {
   "cell_type": "markdown",
   "metadata": {
    "deletable": false,
    "editable": false
   },
   "source": [
    "<!-- BEGIN QUESTION -->\n",
    "\n",
    "<!--\n",
    "BEGIN QUESTION\n",
    "name: q1_10\n",
    "manual: true\n",
    "-->"
   ]
  },
  {
   "cell_type": "code",
   "execution_count": null,
   "metadata": {},
   "outputs": [],
   "source": [
    "# create your plot here\n",
    "..."
   ]
  },
  {
   "cell_type": "markdown",
   "metadata": {},
   "source": [
    "<!-- END QUESTION -->\n",
    "\n",
    "\n",
    "\n",
    "## 2. Power Outages\n"
   ]
  },
  {
   "cell_type": "markdown",
   "metadata": {},
   "source": [
    "The dataset below contains information about power outages that occurred in North America between 2000 to 2014. The data is a subset of the data available [here](https://urldefense.com/v3/__https://www.kaggle.com/autunno/15-years-of-power-outages__;!!Mih3wA!UQwVlo9PvACY7t4CCustkKZq0RfPE-hGk1xDpoo20dpsixLTa8OgXRoiwcEkHHY$ ). Run the next cell to load in the data. Take some time to look at a few rows of the DataFrame to see what information is recorded."
   ]
  },
  {
   "cell_type": "code",
   "execution_count": null,
   "metadata": {},
   "outputs": [],
   "source": [
    "# Run this cell.\n",
    "power = bpd.read_csv(\"data/powerdata.csv\")\n",
    "power"
   ]
  },
  {
   "cell_type": "markdown",
   "metadata": {},
   "source": [
    "**Question 2.1.** Find the year in which the most power outages occurred. Save your answer in the variable `greatest_outage_year`. Find the proportion of all outages that occurred in this year, and save that result in the variable `greatest_outage_prop`. Note that the year should be an integer while the greatest proportion should be a float."
   ]
  },
  {
   "cell_type": "code",
   "execution_count": null,
   "metadata": {},
   "outputs": [],
   "source": [
    "greatest_outage_year = ...\n",
    "greatest_outage_prop = ...\n",
    "print(\"The proportion of outages that occurred in\", greatest_outage_year, \"is\", greatest_outage_prop)"
   ]
  },
  {
   "cell_type": "code",
   "execution_count": null,
   "metadata": {
    "deletable": false,
    "editable": false
   },
   "outputs": [],
   "source": [
    "grader.check(\"q2_1\")"
   ]
  },
  {
   "cell_type": "markdown",
   "metadata": {},
   "source": [
    "**Question 2.2.** Now, let's create a visualization of the information we touched on above! Create a histogram showing the distribution of power outages by year. Your histogram should have one bar for each year included in the dataset (2000 to 2014).\n",
    "\n",
    "*Note:* As done in Lecture 8, make sure to set `density=True` to create a density histogram, and set `ec='w'` to make the separation of bars more clear."
   ]
  },
  {
   "cell_type": "markdown",
   "metadata": {
    "deletable": false,
    "editable": false
   },
   "source": [
    "<!-- BEGIN QUESTION -->\n",
    "\n",
    "<!--\n",
    "BEGIN QUESTION\n",
    "name: q2_2\n",
    "manual: true\n",
    "-->"
   ]
  },
  {
   "cell_type": "code",
   "execution_count": null,
   "metadata": {
    "scrolled": true
   },
   "outputs": [],
   "source": [
    "# Create your plot here\n",
    "..."
   ]
  },
  {
   "cell_type": "markdown",
   "metadata": {},
   "source": [
    "<!-- END QUESTION -->\n",
    "\n",
    "\n",
    "\n",
    "One of the columns in our dataset is `NERC Region`, which refers to a geographic region in North America. This map from [Wikipedia](https://en.wikipedia.org/wiki/North_American_Electric_Reliability_Corporation) shows many of the NERC Regions in our dataset. \n",
    "\n",
    "<img src=\"./images/nerc.png\" width=600/>\n",
    "\n",
    "**Question 2.3.** Make a horizontal bar chart showing the number of outages per `NERC Region`. Make sure that the bars are sorted from longest at the top to shortest at the bottom. "
   ]
  },
  {
   "cell_type": "markdown",
   "metadata": {
    "deletable": false,
    "editable": false
   },
   "source": [
    "<!-- BEGIN QUESTION -->\n",
    "\n",
    "<!--\n",
    "BEGIN QUESTION\n",
    "name: q2_3\n",
    "manual: true\n",
    "-->"
   ]
  },
  {
   "cell_type": "code",
   "execution_count": null,
   "metadata": {
    "scrolled": true
   },
   "outputs": [],
   "source": [
    "# create your plot here\n",
    "..."
   ]
  },
  {
   "cell_type": "markdown",
   "metadata": {},
   "source": [
    "<!-- END QUESTION -->\n",
    "\n",
    "\n",
    "\n",
    "**Question 2.4.** We notice that the \"RFC\" NERC Region had the greatest number of power outages. Let's explore those outages in particular. Create a DataFrame named `rfc_tags`, indexed by `Tags`, with one column \"Count\", containing the number of outages in the \"RFC\" NERF Region associated with each of the `Tags`. \n",
    "\n",
    "*Note*: Two outages should only appear in the same row of the output if they have the exact same set of `Tags`. For example, an outage tagged \"vandalism\" will count separately from an outage tagged \"vandalism, cyber\". "
   ]
  },
  {
   "cell_type": "code",
   "execution_count": null,
   "metadata": {},
   "outputs": [],
   "source": [
    "rfc_tags = ...\n",
    "rfc_tags"
   ]
  },
  {
   "cell_type": "code",
   "execution_count": null,
   "metadata": {
    "deletable": false,
    "editable": false
   },
   "outputs": [],
   "source": [
    "grader.check(\"q2_4\")"
   ]
  },
  {
   "cell_type": "markdown",
   "metadata": {},
   "source": [
    "**Question 2.5.** How many outages were there in California in 2013 that were caused by vandalism? Save your answer as `ca_vandalism`.\n",
    " \n",
    "*Hint*: There are many geographic areas in California. For instance, \"Central California\" is one, \"Northern California\" is another, but there are more.\n",
    "\n",
    "*Hint*: There are many types of vandalism. For instance, \"Physical Attack\" in `Event Description` is one type of vandalism, and \"Vandalism\" itself in `Event Description` is also considered a type of vandalism. There is easy way to get all related records."
   ]
  },
  {
   "cell_type": "code",
   "execution_count": null,
   "metadata": {},
   "outputs": [],
   "source": [
    "ca_vandalism = ...\n",
    "ca_vandalism"
   ]
  },
  {
   "cell_type": "code",
   "execution_count": null,
   "metadata": {
    "deletable": false,
    "editable": false
   },
   "outputs": [],
   "source": [
    "grader.check(\"q2_5\")"
   ]
  },
  {
   "cell_type": "markdown",
   "metadata": {},
   "source": [
    "## 3. Olympics"
   ]
  },
  {
   "cell_type": "markdown",
   "metadata": {},
   "source": [
    "This summer, Tokyo held the highly-anticipated Summer Olympics. At the Olympics, 206 nations participated, and 339 medals were awarded in 33 distinct sports. In February 2022, Beijing will host the Winter Olympic Games.\n",
    "\n",
    "In light of the upcoming Winter Olympic Games, we will analyze historical data on Olympic athletes who won medals in the Winter Olympic Games from 1896-2014. We will be using a subset of data [here](https://www.kaggle.com/the-guardian/olympic-games#dictionary.csv)."
   ]
  },
  {
   "cell_type": "markdown",
   "metadata": {},
   "source": [
    "First, we'll read in the data from a CSV. There is no good index, so we will leave it unset."
   ]
  },
  {
   "cell_type": "code",
   "execution_count": null,
   "metadata": {},
   "outputs": [],
   "source": [
    "winter_data = bpd.read_csv('data/winter.csv')\n",
    "winter_data"
   ]
  },
  {
   "cell_type": "markdown",
   "metadata": {},
   "source": [
    "The `Country` column contains International Olympic Committee (IOC) [country codes](https://olympics.fandom.com/wiki/List_of_IOC_country_codes). We want to convert these country codes into actual country names that everyone can understand.\n",
    "\n",
    "We'll use a Python [dictionary](https://www.tutorialspoint.com/python/python_dictionary.htm) to help us with this conversion. A dictionary is a simple way to map a unique key to a value. For example, the below dictionary maps course codes to course names."
   ]
  },
  {
   "cell_type": "code",
   "execution_count": null,
   "metadata": {},
   "outputs": [],
   "source": [
    "dsc_courses = {\n",
    "    'DSC 10': 'Principles of Data Science',\n",
    "    'DSC 20': 'Programming and Basic Data Structures for Data Science',\n",
    "    'DSC 30': 'Data Structures and Algorithms for Data Science',\n",
    "    'DSC 40A': 'Theoretical Foundations of Data Science I',\n",
    "    'DSC 40B': 'Theoretical Foundations of Data Science II',\n",
    "    'DSC 80': 'The Practice and Application of Data Science'\n",
    "}"
   ]
  },
  {
   "cell_type": "markdown",
   "metadata": {},
   "source": [
    "We can access the value corresponding to each key using bracket notation."
   ]
  },
  {
   "cell_type": "code",
   "execution_count": null,
   "metadata": {},
   "outputs": [],
   "source": [
    "dsc30_name = dsc_courses['DSC 30']\n",
    "dsc30_name"
   ]
  },
  {
   "cell_type": "markdown",
   "metadata": {},
   "source": [
    "Here, `DSC 30` is the key and `Data Structures and Algorithms for Data Science` is the value.\n",
    "\n",
    "Let's use a dictionary to help us with our country code to country name conversion. Below is a dictionary containing country codes as keys and country names as values for each of the countries in our dataset of Winter Olympic medal winners."
   ]
  },
  {
   "cell_type": "code",
   "execution_count": null,
   "metadata": {},
   "outputs": [],
   "source": [
    "# Run this cell, DO NOT change it.\n",
    "country_codes = {\n",
    " 'USA': 'United States',\n",
    " 'AFG': 'Afghanistan',\n",
    " 'AHO': 'Netherlands Antilles',\n",
    " 'ALG': 'Algeria',\n",
    " 'ANZ': 'Australasia',\n",
    " 'ARG': 'Argentina',\n",
    " 'ARM': 'Armenia',\n",
    " 'AZE': 'Azerbaijan',\n",
    " 'CAN': 'Canada',\n",
    " 'IRI': 'Iran',\n",
    " 'GHA': 'Ghana',\n",
    " 'NOR': 'Norway',\n",
    " 'ERI': 'Eritrea',\n",
    " 'IRL': 'Ireland',\n",
    " 'URS': 'Soviet Union',\n",
    " 'FIN': 'Finland',\n",
    " 'IRQ': 'Iraq',\n",
    " 'NAM': 'Namibia',\n",
    " 'VIE': 'Vietnam',\n",
    " 'SYR': 'Syria',\n",
    " 'TAN': 'Tanzania',\n",
    " 'SWE': 'Sweden',\n",
    " 'IND': 'India',\n",
    " 'ETH': 'Ethiopia',\n",
    " 'IOP': 'Independent Olympic Participants',\n",
    " 'RSA': 'South Africa',\n",
    " 'RU1': 'Russian Empire',\n",
    " 'PER': 'Peru',\n",
    " 'PHI': 'Philippines',\n",
    " 'SUR': 'Suriname',\n",
    " 'PAR': 'Paraguay',\n",
    " 'PAK': 'Pakistan',\n",
    " 'GER': 'Germany',\n",
    " 'SUI': 'Switzerland',\n",
    " 'BAH': 'Bahamas',\n",
    " 'PAN': 'Panama',\n",
    " 'MAS': 'Malaysia',\n",
    " 'AUT': 'Austria',\n",
    " 'TRI': 'Trinidad and Tobago',\n",
    " 'TTO': 'Trinidad and Tobago',\n",
    " 'INA': 'Indonesia',\n",
    " 'HKG': 'Hong Kong',\n",
    " 'SUD': 'Sudan',\n",
    " 'HAI': 'Haiti',\n",
    " 'MGL': 'Mongolia',\n",
    " 'BAR': 'Barbados',\n",
    " 'MDA': 'Moldova',\n",
    " 'MKD': 'Macedonia',\n",
    " 'GRE': 'Greece',\n",
    " 'MNE': 'Montenegro',\n",
    " 'GRN': 'Grenada',\n",
    " 'EGY': 'Egypt',\n",
    " 'BDI': 'Burundi',\n",
    " 'DOM': 'Dominican Republic',\n",
    " 'GUA': 'Guatemala',\n",
    " 'GUY': 'Guyana',\n",
    " 'URU': 'Uruguay',\n",
    " 'PUR': 'Puerto Rico',\n",
    " 'BER': 'Bermuda',\n",
    " 'ECU': 'Ecuador',\n",
    " 'BOH': 'Bohemia',\n",
    " 'BOT': 'Botswana',\n",
    " 'KGZ': 'Kyrgyzstan',\n",
    " 'ZIM': 'Zimbabwe',\n",
    " 'ZZX': 'Mixed Team',\n",
    " 'BRA': 'Brazil',\n",
    " 'BRN': 'Bahrain',\n",
    " 'GEO': 'Georgia',\n",
    " 'BWI': 'West Indies Federation',\n",
    " 'KEN': 'Kenya',\n",
    " 'KUW': 'Kuwait',\n",
    " 'KSA': 'Saudi Arabia',\n",
    " 'RUS': 'Russia',\n",
    " 'ITA': 'Italy',\n",
    " 'GDR': 'East Germany',\n",
    " 'TJK': 'Tajikistan',\n",
    " 'THA': 'Thailand',\n",
    " 'TCH': 'Czechoslovakia',\n",
    " 'FRA': 'France',\n",
    " 'TGA': 'Tonga',\n",
    " 'TOG': 'Togo',\n",
    " 'NIG': 'Niger',\n",
    " 'NGR': 'Nigeria',\n",
    " 'TPE': 'Taipei',\n",
    " 'NED': 'Netherlands',\n",
    " 'FRG': 'West Germany',\n",
    " 'KOR': 'Korea, South',\n",
    " 'CHI': 'Chile',\n",
    " 'CHN': 'China',\n",
    " 'GBR': 'United Kingdom',\n",
    " 'CZE': 'Czech Republic',\n",
    " 'JPN': 'Japan',\n",
    " 'EUN': 'Unified Team',\n",
    " 'CYP': 'Cyprus',\n",
    " 'POL': 'Poland',\n",
    " 'EUA': 'United Team of Germany',\n",
    " 'CMR': 'Cameroon',\n",
    " 'TUR': 'Turkey',\n",
    " 'TUN': 'Tunisia',\n",
    " 'POR': 'Portugal',\n",
    " 'VEN': 'Venezuela',\n",
    " 'SLO': 'Slovenia',\n",
    " 'UGA': 'Uganda',\n",
    " 'UAE': 'United Arab Emirates',\n",
    " 'AUS': 'Australia',\n",
    " 'ISV': 'US Virgin Islands',\n",
    " 'JAM': 'Jamaica',\n",
    " 'MEX': 'Mexico',\n",
    " 'CUB': 'Cuba',\n",
    " 'SGP': 'Singapore',\n",
    " 'SIN': 'Singapore',\n",
    " 'SEN': 'Senegal',\n",
    " 'BLR': 'Belarus',\n",
    " 'QAT': 'Qatar',\n",
    " 'LTU': 'Lithuania',\n",
    " 'DJI': 'Djibouti',\n",
    " 'LAT': 'Latvia',\n",
    " 'BEL': 'Belgium',\n",
    " 'LIB': 'Lebanon',\n",
    " 'SCG': 'Serbia and Montenegro',\n",
    " 'MOZ': 'Mozambique',\n",
    " 'CRC': 'Costa Rica',\n",
    " 'COL': 'Colombia',\n",
    " 'ZAM': 'Zambia',\n",
    " 'HUN': 'Hungary',\n",
    " 'UKR': 'Ukraine',\n",
    " 'MAR': 'Morocco',\n",
    " 'ISL': 'Iceland',\n",
    " 'CRO': 'Croatia',\n",
    " 'GAB': 'Gabon',\n",
    " 'MRI': 'Mauritius',\n",
    " 'CIV': 'Ivory Coast',\n",
    " 'LIE': 'Liechtenstein',\n",
    " 'SRB': 'Serbia',\n",
    " 'SRI': 'Sri Lanka',\n",
    " 'YUG': 'Yugoslavia',\n",
    " 'EST': 'Estonia',\n",
    " 'KAZ': 'Kazakhstan',\n",
    " 'BUL': 'Bulgaria',\n",
    " 'ISR': 'Israel',\n",
    " 'DEN': 'Denmark',\n",
    " 'SVK': 'Slovakia',\n",
    " 'ROU': 'Romania',\n",
    " 'ESP': 'Spain',\n",
    " 'PRK': 'Korea, North',\n",
    " 'LUX': 'Luxembourg',\n",
    " 'NZL': 'New Zealand',\n",
    " 'UZB': 'Uzbekistan'}"
   ]
  },
  {
   "cell_type": "markdown",
   "metadata": {},
   "source": [
    "**Question 3.1.** Using `country_codes`, define a function named `code_to_country` that takes as input a country code and returns the corresponding country's name. This should only take one line of code."
   ]
  },
  {
   "cell_type": "code",
   "execution_count": null,
   "metadata": {},
   "outputs": [],
   "source": [
    "def code_to_country(code):\n",
    "    ..."
   ]
  },
  {
   "cell_type": "code",
   "execution_count": null,
   "metadata": {
    "deletable": false,
    "editable": false
   },
   "outputs": [],
   "source": [
    "grader.check(\"q3_1\")"
   ]
  },
  {
   "cell_type": "markdown",
   "metadata": {},
   "source": [
    "**Question 3.2.** Using your `code_to_country` function, use `apply` to convert all of the country codes into country names in the `Country` column. Do this without creating an additional column. Assign the resulting DataFrame to the variable name `winter`.\n",
    "\n",
    "*Hint*: Is there a way to use the `.assign` method to *replace* values in this column without creating an additional column?\n",
    "\n",
    "**Important**: For the rest of the questions in this section, use the DataFrame `winter` instead of `winter_data`."
   ]
  },
  {
   "cell_type": "code",
   "execution_count": null,
   "metadata": {},
   "outputs": [],
   "source": [
    "winter = ...\n",
    "winter"
   ]
  },
  {
   "cell_type": "code",
   "execution_count": null,
   "metadata": {
    "deletable": false,
    "editable": false
   },
   "outputs": [],
   "source": [
    "grader.check(\"q3_2\")"
   ]
  },
  {
   "cell_type": "markdown",
   "metadata": {},
   "source": [
    "**Question 3.3.** \n",
    "Define a function named `avg_name_length` that returns the average length of an individual's first and last name. It should take as an input the name of an individual, as a string in the format `'lastname, firstname'`. Because we assume that the input is in this format, people with middle names or multiple first or last names will have all such names counted as part of `lastname` or `firstname`. \n",
    "\n",
    "For example, `avg_name_length('Rampure, Suraj')` should return 6.5, the average of 7 and 6. `avg_name_length('Tiefenbruck, Janine LoBue')` should return 11.5, the average of 11 and 12. Notice that `'Janine LoBue'` is being counted as the `firstname` and its length is 12, which includes the space.\n",
    "\n",
    "*Hint:* The string function [`.split()`](https://docs.python.org/3/library/stdtypes.html#str.split) will be useful in splitting the name into `lastname` and `firstname`.\n",
    "\n",
    "*Hint:* Notice that there is a space after the comma, which we are not counting as part of either name's length."
   ]
  },
  {
   "cell_type": "code",
   "execution_count": null,
   "metadata": {},
   "outputs": [],
   "source": [
    "def avg_name_length(full_name):\n",
    "    ...\n",
    "    \n",
    "# Test cases for your own reference. Feel free to test out more!\n",
    "print(avg_name_length('Skywalker, Leia'))  # Should print 6.5\n",
    "print(avg_name_length('Schmidt, John Jacob Jingleheimer')) # Should print 15.0"
   ]
  },
  {
   "cell_type": "code",
   "execution_count": null,
   "metadata": {
    "deletable": false,
    "editable": false
   },
   "outputs": [],
   "source": [
    "grader.check(\"q3_3\")"
   ]
  },
  {
   "cell_type": "markdown",
   "metadata": {},
   "source": [
    "**Question 3.4.** \n",
    "Create a DataFrame called `avg_names` with columns `Year`, `Sport`, `Athlete` and `Country` and new column `Avg_Name_Length` that has the average first and last name length for each athlete, sorted with the longest average name length at the top and shortest at the bottom.\n",
    "\n",
    "*Note*: The `Country` column should have full country names, not IOC codes."
   ]
  },
  {
   "cell_type": "code",
   "execution_count": null,
   "metadata": {},
   "outputs": [],
   "source": [
    "avg_names = ...\n",
    "avg_names"
   ]
  },
  {
   "cell_type": "code",
   "execution_count": null,
   "metadata": {
    "deletable": false,
    "editable": false
   },
   "outputs": [],
   "source": [
    "grader.check(\"q3_4\")"
   ]
  },
  {
   "cell_type": "markdown",
   "metadata": {},
   "source": [
    "**Question 3.5.** What is the length of the longest average name? Assign this number to `longest_avg_name_length`. What is the length of the shortest average name? Assign this number to `shortest_avg_name_length`. What is the absolute difference between the longest and shortest average names? Assign this number to `range_avg_name_length`."
   ]
  },
  {
   "cell_type": "code",
   "execution_count": null,
   "metadata": {},
   "outputs": [],
   "source": [
    "longest_avg_name_length = ...\n",
    "shortest_avg_name_length = ...\n",
    "range_avg_name_length = ...\n",
    "range_avg_name_length"
   ]
  },
  {
   "cell_type": "code",
   "execution_count": null,
   "metadata": {
    "deletable": false,
    "editable": false
   },
   "outputs": [],
   "source": [
    "grader.check(\"q3_5\")"
   ]
  },
  {
   "cell_type": "markdown",
   "metadata": {},
   "source": [
    "**Question 3.6.** Create a function named `mean_values` that takes as an input the name of a country and returns the mean of the average first and last name length for all Olympians from that country. \n",
    "\n",
    "*Hint:* Use a function you've already written."
   ]
  },
  {
   "cell_type": "code",
   "execution_count": null,
   "metadata": {},
   "outputs": [],
   "source": [
    "def mean_values(country):\n",
    "    ..."
   ]
  },
  {
   "cell_type": "code",
   "execution_count": null,
   "metadata": {
    "deletable": false,
    "editable": false
   },
   "outputs": [],
   "source": [
    "grader.check(\"q3_6\")"
   ]
  },
  {
   "cell_type": "markdown",
   "metadata": {},
   "source": [
    "**Question 3.7.** Create a horizontal bar chart of the mean of the average first and last name length of all Olympians from each country. Use your chart to answer the question: **which country has the longest average name in general?** Write your answer by hand by assigning the full name of this country to `country_longest_avg_name`. Similarly, assign `country_shortest_avg_name` to the full name of the country with the shortest average name."
   ]
  },
  {
   "cell_type": "code",
   "execution_count": null,
   "metadata": {},
   "outputs": [],
   "source": [
    "# Create your plot here\n",
    "...\n",
    "country_longest_avg_name = ...\n",
    "country_shortest_avg_name = ..."
   ]
  },
  {
   "cell_type": "code",
   "execution_count": null,
   "metadata": {
    "deletable": false,
    "editable": false
   },
   "outputs": [],
   "source": [
    "grader.check(\"q3_7\")"
   ]
  },
  {
   "cell_type": "markdown",
   "metadata": {},
   "source": [
    "**Question 3.8.** Define a function named `point_total` that takes in a full country name (not IOC code) and returns the total number of points that country has earned at the Olympics. In the Olympics, countries get 1 point for every bronze, 3 points for every silver, and 5 points for every gold medal."
   ]
  },
  {
   "cell_type": "code",
   "execution_count": null,
   "metadata": {},
   "outputs": [],
   "source": [
    "def point_total(country):\n",
    "    ..."
   ]
  },
  {
   "cell_type": "code",
   "execution_count": null,
   "metadata": {
    "deletable": false,
    "editable": false
   },
   "outputs": [],
   "source": [
    "grader.check(\"q3_8\")"
   ]
  },
  {
   "cell_type": "markdown",
   "metadata": {},
   "source": [
    "**Question 3.9.** Among the five countries listed below, which has the **third** highest point total?\n",
    "\n",
    "-  United States\n",
    "-  Russia\n",
    "-  Italy\n",
    "-  China\n",
    "-  France\n",
    "\n",
    "Save the name (not IOC code) of the country as `country` and the country's number of points as `points`. You can set the value of `country` and `points` by hand.\n",
    "\n",
    "*Hint*: Use a previously defined function to help!"
   ]
  },
  {
   "cell_type": "code",
   "execution_count": null,
   "metadata": {},
   "outputs": [],
   "source": [
    "country = ...\n",
    "points = ..."
   ]
  },
  {
   "cell_type": "code",
   "execution_count": null,
   "metadata": {
    "deletable": false,
    "editable": false
   },
   "outputs": [],
   "source": [
    "grader.check(\"q3_9\")"
   ]
  },
  {
   "cell_type": "markdown",
   "metadata": {},
   "source": [
    "## 4. Histograms"
   ]
  },
  {
   "cell_type": "markdown",
   "metadata": {},
   "source": [
    "Suppose we have a DataFrame called `data` with two numerical columns, `x` and `y`. Consider the following scatter plot, which was generated by calling `data.plot(kind='scatter', x='x', y='y')`:\n",
    "\n",
    "<img src=\"./images/scatter.png\" width=600/>\n",
    "\n",
    "Now consider these two histograms:\n",
    "\n",
    "**Histogram A**:\n",
    "\n",
    "<img src=\"./images/hist_one.png\" width=600/>\n",
    "\n",
    "**Histogram B**:\n",
    "\n",
    "<img src=\"./images/hist_two.png\" width=600/>"
   ]
  },
  {
   "cell_type": "markdown",
   "metadata": {},
   "source": [
    "**Question 4.1.** Which of these two lines of code generated Histogram B? Assign either `1` or `2` to `which_code`.\n",
    " 1. `data.plot(kind='hist', density=True, y='x')`\n",
    " 2. `data.plot(kind='hist', density=True, y='y')`  "
   ]
  },
  {
   "cell_type": "code",
   "execution_count": null,
   "metadata": {},
   "outputs": [],
   "source": [
    "which_code = ..."
   ]
  },
  {
   "cell_type": "code",
   "execution_count": null,
   "metadata": {
    "deletable": false,
    "editable": false
   },
   "outputs": [],
   "source": [
    "grader.check(\"q4_1\")"
   ]
  },
  {
   "cell_type": "markdown",
   "metadata": {},
   "source": [
    "**Question 4.2.** Suppose we run this block of code:\n",
    "\n",
    "    new_data = bpd.DataFrame().assign(\n",
    "        x = data.get('x') * 3,\n",
    "        y = data.get('y')\n",
    "    )\n",
    "    \n",
    "We then run `new_data.plot(kind='hist', density=True, y='x')`. Describe how the new histogram looks compared to `data.plot(kind='hist', density=True, y='x')`, assuming both histograms are drawn on the same scale, with fixed axes. Comment on the height and width of the new histogram as compared to the old."
   ]
  },
  {
   "cell_type": "markdown",
   "metadata": {
    "deletable": false,
    "editable": false
   },
   "source": [
    "<!-- BEGIN QUESTION -->\n",
    "\n",
    "<!--\n",
    "BEGIN QUESTION\n",
    "name: q4_2\n",
    "manual: true\n",
    "-->"
   ]
  },
  {
   "cell_type": "markdown",
   "metadata": {},
   "source": [
    "_Type your answer here, replacing this text._"
   ]
  },
  {
   "cell_type": "markdown",
   "metadata": {},
   "source": [
    "<!-- END QUESTION -->\n",
    "\n",
    "\n",
    "\n",
    "**Question 4.3.** According to Histogram B above, approximately what **percent** of points in the scatterplot have an `x` value between -5 (inclusive) and -3 (exclusive)? Assign the variable `x_between` to a number 1 through 4, corresponding to your choice.\n",
    "\n",
    "1. 10% \n",
    "2. 15% \n",
    "3. 25% \n",
    "4. 40% "
   ]
  },
  {
   "cell_type": "code",
   "execution_count": null,
   "metadata": {},
   "outputs": [],
   "source": [
    "x_between = ..."
   ]
  },
  {
   "cell_type": "code",
   "execution_count": null,
   "metadata": {
    "deletable": false,
    "editable": false
   },
   "outputs": [],
   "source": [
    "grader.check(\"q4_3\")"
   ]
  },
  {
   "cell_type": "markdown",
   "metadata": {},
   "source": [
    "# Finish Line"
   ]
  },
  {
   "cell_type": "markdown",
   "metadata": {},
   "source": [
    "To submit your assignment:\n",
    "\n",
    "1. Select `Kernel -> Restart & Run All` to ensure that you have executed all cells, including the test cells.\n",
    "2. Read through the notebook to make sure everything is fine and all tests passed.\n",
    "3. Run the cell below to run all tests, and make sure that they all pass.\n",
    "4. Download your notebook using `File -> Download as -> Notebook (.ipynb)`, then upload your notebook to Gradescope."
   ]
  },
  {
   "cell_type": "code",
   "execution_count": null,
   "metadata": {},
   "outputs": [],
   "source": [
    "grader.check_all()"
   ]
  }
 ],
 "metadata": {
  "kernelspec": {
   "display_name": "Python 3",
   "language": "python",
   "name": "python3"
  },
  "language_info": {
   "codemirror_mode": {
    "name": "ipython",
    "version": 3
   },
   "file_extension": ".py",
   "mimetype": "text/x-python",
   "name": "python",
   "nbconvert_exporter": "python",
   "pygments_lexer": "ipython3",
   "version": "3.7.4"
  },
  "toc": {
   "base_numbering": 1,
   "nav_menu": {},
   "number_sections": true,
   "sideBar": true,
   "skip_h1_title": false,
   "title_cell": "Table of Contents",
   "title_sidebar": "Contents",
   "toc_cell": false,
   "toc_position": {},
   "toc_section_display": true,
   "toc_window_display": false
  }
 },
 "nbformat": 4,
 "nbformat_minor": 4
}
