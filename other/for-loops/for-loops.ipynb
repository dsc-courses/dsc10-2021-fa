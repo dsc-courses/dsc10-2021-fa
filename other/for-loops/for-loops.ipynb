{
 "cells": [
  {
   "cell_type": "code",
   "execution_count": null,
   "id": "92b15346",
   "metadata": {
    "slideshow": {
     "slide_type": "skip"
    }
   },
   "outputs": [],
   "source": [
    "import babypandas as bpd\n",
    "import numpy as np\n",
    "nba = bpd.read_csv('data/nba_salaries.csv')\n",
    "nba = nba.assign(SALARY=nba.get(\"'15-'16 SALARY\")).drop(columns=[\"'15-'16 SALARY\"])"
   ]
  },
  {
   "cell_type": "markdown",
   "id": "f6eca44a",
   "metadata": {
    "slideshow": {
     "slide_type": "slide"
    }
   },
   "source": [
    "## When NOT to use `for`-loops ❌"
   ]
  },
  {
   "cell_type": "markdown",
   "id": "8f13f5b4",
   "metadata": {
    "slideshow": {
     "slide_type": "slide"
    }
   },
   "source": [
    "### To create ranges\n",
    "\n",
    "Instead, use `np.arange`."
   ]
  },
  {
   "cell_type": "code",
   "execution_count": null,
   "id": "12e716d2",
   "metadata": {
    "slideshow": {
     "slide_type": "-"
    }
   },
   "outputs": [],
   "source": [
    "np.arange(1, 21)"
   ]
  },
  {
   "cell_type": "markdown",
   "id": "dba91611",
   "metadata": {
    "slideshow": {
     "slide_type": "fragment"
    }
   },
   "source": [
    "There are ways to create such arrays using `for`-loops, but they're almost always more complicated than this.\n",
    "\n",
    "Here's an example of what **not ❌** to do:"
   ]
  },
  {
   "cell_type": "code",
   "execution_count": null,
   "id": "d22a6c9e",
   "metadata": {
    "slideshow": {
     "slide_type": "-"
    }
   },
   "outputs": [],
   "source": [
    "# BAD! ❌\n",
    "numbers = np.array([])\n",
    "for i in np.arange(1, 21):\n",
    "    numbers = np.append(numbers, i)\n",
    "numbers"
   ]
  },
  {
   "cell_type": "markdown",
   "id": "a51222a4",
   "metadata": {
    "slideshow": {
     "slide_type": "slide"
    }
   },
   "source": [
    "### To perform some operation for every element of an array/Series\n",
    "\n",
    "Instead, use array/DataFrame methods from earlier in the quarter."
   ]
  },
  {
   "cell_type": "code",
   "execution_count": null,
   "id": "0ab877ac",
   "metadata": {},
   "outputs": [],
   "source": [
    "nba"
   ]
  },
  {
   "cell_type": "markdown",
   "id": "47d2ac3e",
   "metadata": {
    "slideshow": {
     "slide_type": "fragment"
    }
   },
   "source": [
    "Suppose I want to determine the number of players whose `'SALARY'` was above 11 million.\n",
    "\n",
    "We learned how to do this in the second week of the class, well before we knew about `for`-loops:"
   ]
  },
  {
   "cell_type": "code",
   "execution_count": null,
   "id": "b302a6a9",
   "metadata": {
    "slideshow": {
     "slide_type": "-"
    }
   },
   "outputs": [],
   "source": [
    "nba[nba.get('SALARY') > 11].shape[0]"
   ]
  },
  {
   "cell_type": "markdown",
   "id": "10fa3c52",
   "metadata": {
    "slideshow": {
     "slide_type": "slide"
    }
   },
   "source": [
    "I _could_ do this with a `for`-loop:"
   ]
  },
  {
   "cell_type": "code",
   "execution_count": null,
   "id": "f25c8297",
   "metadata": {
    "slideshow": {
     "slide_type": "-"
    }
   },
   "outputs": [],
   "source": [
    "# BAD! ❌\n",
    "num_players = 0\n",
    "for salary in np.array(nba.get('SALARY')):\n",
    "    if salary > 11:\n",
    "        num_players = num_players + 1\n",
    "num_players"
   ]
  },
  {
   "cell_type": "markdown",
   "id": "f3b38791",
   "metadata": {
    "slideshow": {
     "slide_type": "-"
    }
   },
   "source": [
    "But again, using a `for`-loop here is a **bad** idea; the first way is much quicker to execute under the hood."
   ]
  },
  {
   "cell_type": "markdown",
   "id": "bf040374",
   "metadata": {
    "slideshow": {
     "slide_type": "slide"
    }
   },
   "source": [
    "### To sample repeatedly from an array\n",
    "\n",
    "Instead, provide a second argument to `np.random.choice`."
   ]
  },
  {
   "cell_type": "code",
   "execution_count": null,
   "id": "0acfbf4c",
   "metadata": {
    "slideshow": {
     "slide_type": "-"
    }
   },
   "outputs": [],
   "source": [
    "moves = np.array(['Rock', 'Paper', 'Scissors'])"
   ]
  },
  {
   "cell_type": "markdown",
   "id": "38e2cbdf",
   "metadata": {
    "slideshow": {
     "slide_type": "fragment"
    }
   },
   "source": [
    "Suppose we want to randomly pick a move from `moves` 50 times."
   ]
  },
  {
   "cell_type": "code",
   "execution_count": null,
   "id": "d5b597a7",
   "metadata": {
    "slideshow": {
     "slide_type": "-"
    }
   },
   "outputs": [],
   "source": [
    "np.random.choice(moves)"
   ]
  },
  {
   "cell_type": "code",
   "execution_count": null,
   "id": "7a1e886c",
   "metadata": {
    "slideshow": {
     "slide_type": "-"
    }
   },
   "outputs": [],
   "source": [
    "np.random.choice(moves, 50)"
   ]
  },
  {
   "cell_type": "code",
   "execution_count": null,
   "id": "0944bbf6",
   "metadata": {
    "slideshow": {
     "slide_type": "-"
    }
   },
   "outputs": [],
   "source": [
    "# What proportion of these moves were 'Paper'?\n",
    "np.count_nonzero(np.random.choice(moves, 50) == 'Paper') / 50"
   ]
  },
  {
   "cell_type": "markdown",
   "id": "3dde5b48",
   "metadata": {
    "slideshow": {
     "slide_type": "fragment"
    }
   },
   "source": [
    "This could be done with a `for`-loop, but again this is much simpler and more efficient."
   ]
  },
  {
   "cell_type": "markdown",
   "id": "229413aa",
   "metadata": {
    "slideshow": {
     "slide_type": "slide"
    }
   },
   "source": [
    "#### Aside: `np.random.multinomial`"
   ]
  },
  {
   "cell_type": "markdown",
   "id": "e3194da4",
   "metadata": {
    "slideshow": {
     "slide_type": "fragment"
    }
   },
   "source": [
    "- `np.random.choice` samples from an array of pre-determined options, whereas `np.random.multinomial` samples from a categorical distribution.\n",
    "- To randomly choose between `'Rock'`, `'Paper'`, and `'Scissors'` 50 times, we can also use `np.random.multinomial`."
   ]
  },
  {
   "cell_type": "code",
   "execution_count": null,
   "id": "bae084ba",
   "metadata": {},
   "outputs": [],
   "source": [
    "np.random.multinomial(50, [1/3, 1/3, 1/3])"
   ]
  },
  {
   "cell_type": "markdown",
   "id": "61a64817",
   "metadata": {
    "slideshow": {
     "slide_type": "slide"
    }
   },
   "source": [
    "## So when do we need `for`-loops? 🤔"
   ]
  },
  {
   "cell_type": "markdown",
   "id": "5b80c409",
   "metadata": {
    "slideshow": {
     "slide_type": "slide"
    }
   },
   "source": [
    "### To perform an experiment multiple times"
   ]
  },
  {
   "cell_type": "markdown",
   "id": "68bce66d",
   "metadata": {
    "slideshow": {
     "slide_type": "fragment"
    }
   },
   "source": [
    "- Suppose one \"experiment\" entails flipping a coin 50 times and determining the number of heads.\n",
    "- We don't need a `for`-loop to run one experiment.\n",
    "- If we want to run 100,000 experiments (i.e. 100,000 repetitions), we'd need a `for`-loop.\n",
    "    - **The majority of `for`-loops you will write in DSC 10 will be for this reason and this reason only.**"
   ]
  },
  {
   "cell_type": "code",
   "execution_count": null,
   "id": "478e7950",
   "metadata": {
    "slideshow": {
     "slide_type": "fragment"
    }
   },
   "outputs": [],
   "source": [
    "def one_simulation():\n",
    "    flips = np.random.choice(['Heads', 'Tails'], 50)\n",
    "    return np.count_nonzero(flips == 'Heads')"
   ]
  },
  {
   "cell_type": "code",
   "execution_count": null,
   "id": "d9167feb",
   "metadata": {},
   "outputs": [],
   "source": [
    "one_simulation()"
   ]
  },
  {
   "cell_type": "code",
   "execution_count": null,
   "id": "3f89428b",
   "metadata": {
    "slideshow": {
     "slide_type": "fragment"
    }
   },
   "outputs": [],
   "source": [
    "# GOOD! ✅\n",
    "results = np.array([])\n",
    "for i in np.arange(100000):\n",
    "    result = one_simulation() # A number of heads in 50 coin flips\n",
    "    results = np.append(results, result)"
   ]
  },
  {
   "cell_type": "code",
   "execution_count": null,
   "id": "711b4bf7",
   "metadata": {},
   "outputs": [],
   "source": [
    "results"
   ]
  },
  {
   "cell_type": "code",
   "execution_count": null,
   "id": "1c49a7f5",
   "metadata": {
    "scrolled": true,
    "slideshow": {
     "slide_type": "slide"
    }
   },
   "outputs": [],
   "source": [
    "bpd.DataFrame().assign(results=results).plot(kind='hist', density=True, ec='w');"
   ]
  },
  {
   "cell_type": "markdown",
   "id": "a1c6fc63",
   "metadata": {
    "slideshow": {
     "slide_type": "slide"
    }
   },
   "source": [
    "Note that we **could have** done this with a \"nested\" `for`-loop. With that said, you will almost never need to write one in this class."
   ]
  },
  {
   "cell_type": "code",
   "execution_count": null,
   "id": "0d7714c2",
   "metadata": {
    "slideshow": {
     "slide_type": "fragment"
    }
   },
   "outputs": [],
   "source": [
    "for i in np.arange(1, 6):\n",
    "    for j in np.arange(1, 6):\n",
    "        print(i, 'x', j, '=', i * j)"
   ]
  },
  {
   "cell_type": "code",
   "execution_count": null,
   "id": "e461e0e6",
   "metadata": {
    "slideshow": {
     "slide_type": "slide"
    }
   },
   "outputs": [],
   "source": [
    "# BAD! ❌\n",
    "results = np.array([])\n",
    "for n in np.arange(100000):\n",
    "    number_heads = 0\n",
    "    for j in np.arange(50):\n",
    "        flip = np.random.choice(['Heads', 'Tails']) # Flip a coin just once\n",
    "        if flip == 'Heads':\n",
    "            number_heads = number_heads + 1\n",
    "    results = np.append(results, number_heads)"
   ]
  }
 ],
 "metadata": {
  "celltoolbar": "Slideshow",
  "kernelspec": {
   "display_name": "Python 3",
   "language": "python",
   "name": "python3"
  },
  "language_info": {
   "codemirror_mode": {
    "name": "ipython",
    "version": 3
   },
   "file_extension": ".py",
   "mimetype": "text/x-python",
   "name": "python",
   "nbconvert_exporter": "python",
   "pygments_lexer": "ipython3",
   "version": "3.8.8"
  }
 },
 "nbformat": 4,
 "nbformat_minor": 5
}
