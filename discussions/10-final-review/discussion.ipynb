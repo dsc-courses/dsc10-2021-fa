{
 "cells": [
  {
   "cell_type": "code",
   "execution_count": 1,
   "metadata": {},
   "outputs": [],
   "source": [
    "import babypandas as bpd\n",
    "import matplotlib.pyplot as plt\n",
    "import numpy as np\n",
    "plt.style.use('fivethirtyeight')"
   ]
  },
  {
   "cell_type": "markdown",
   "metadata": {
    "slideshow": {
     "slide_type": "slide"
    }
   },
   "source": [
    "# DSC 10 - Final Exam Review\n",
    "\n",
    "<img src=\"data/panda.jpg\" width=\"800\">"
   ]
  },
  {
   "cell_type": "markdown",
   "metadata": {
    "slideshow": {
     "slide_type": "slide"
    }
   },
   "source": [
    "## The Final Exam\n",
    "\n",
    "### Saturday, Dec 4th 11:30AM-2:30PM\n",
    "\n",
    "- administered remotely through gradescope (like the midterm)\n",
    "- 2/3 of the exam will consist of topics covered after the midterm exam\n",
    "- combination of multiple choice, true/false, filling in a numerical answer, and other short answer questions"
   ]
  },
  {
   "cell_type": "markdown",
   "metadata": {
    "slideshow": {
     "slide_type": "slide"
    }
   },
   "source": [
    "### Don't forget: The Final Project due tomorrow\n"
   ]
  },
  {
   "cell_type": "markdown",
   "metadata": {
    "slideshow": {
     "slide_type": "slide"
    }
   },
   "source": [
    "## The Final Discussion\n",
    "\n",
    "- The stuff from the second part of the quarter was more *conceptual*.\n",
    "- Here, we'll review the main concepts from second part of the quarter."
   ]
  },
  {
   "cell_type": "markdown",
   "metadata": {
    "slideshow": {
     "slide_type": "slide"
    }
   },
   "source": [
    "# Concept 1: Distributions"
   ]
  },
  {
   "cell_type": "markdown",
   "metadata": {
    "slideshow": {
     "slide_type": "slide"
    }
   },
   "source": [
    "## Distributions\n",
    "\n",
    "- A *ditribution* tells us the probability of each possible outcome.\n",
    "- Often visualized with a *histogram*."
   ]
  },
  {
   "cell_type": "markdown",
   "metadata": {
    "slideshow": {
     "slide_type": "slide"
    }
   },
   "source": [
    "## Example"
   ]
  },
  {
   "cell_type": "code",
   "execution_count": 2,
   "metadata": {},
   "outputs": [
    {
     "data": {
      "image/png": "[encoded data removed]",
      "text/plain": [
       "<Figure size 432x288 with 1 Axes>"
      ]
     },
     "metadata": {},
     "output_type": "display_data"
    }
   ],
   "source": [
    "flights = bpd.read_csv('data/united_summer2015.csv')\n",
    "flights.plot(kind='hist', y='Delay', bins=20, density=True)\n",
    "plt.show()"
   ]
  },
  {
   "cell_type": "markdown",
   "metadata": {
    "slideshow": {
     "slide_type": "slide"
    }
   },
   "source": [
    "# Concept 2: Sampling"
   ]
  },
  {
   "cell_type": "markdown",
   "metadata": {
    "slideshow": {
     "slide_type": "slide"
    }
   },
   "source": [
    "## Populations and Samples"
   ]
  },
  {
   "cell_type": "markdown",
   "metadata": {},
   "source": [
    "- The *population* is the \"entire\" data set. We don't usually see it.\n",
    "- Instead, we see a *sample* whose size is smaller than the population.\n",
    "- We usually obtain the sample *randomly*."
   ]
  },
  {
   "cell_type": "code",
   "execution_count": 3,
   "metadata": {},
   "outputs": [],
   "source": [
    "population = flights"
   ]
  },
  {
   "cell_type": "markdown",
   "metadata": {
    "slideshow": {
     "slide_type": "slide"
    }
   },
   "source": [
    "## With/Without Replacement\n",
    "\n",
    "- We have the option to randomly sample with/without replacement."
   ]
  },
  {
   "cell_type": "code",
   "execution_count": 4,
   "metadata": {},
   "outputs": [
    {
     "data": {
      "text/html": [
       "<div>\n",
       "<style scoped>\n",
       "    .dataframe tbody tr th:only-of-type {\n",
       "        vertical-align: middle;\n",
       "    }\n",
       "\n",
       "    .dataframe tbody tr th {\n",
       "        vertical-align: top;\n",
       "    }\n",
       "\n",
       "    .dataframe thead th {\n",
       "        text-align: right;\n",
       "    }\n",
       "</style>\n",
       "<table border=\"1\" class=\"dataframe\">\n",
       "  <thead>\n",
       "    <tr style=\"text-align: right;\">\n",
       "      <th></th>\n",
       "      <th>Date</th>\n",
       "      <th>Flight Number</th>\n",
       "      <th>Destination</th>\n",
       "      <th>Delay</th>\n",
       "    </tr>\n",
       "  </thead>\n",
       "  <tbody>\n",
       "    <tr>\n",
       "      <th>8541</th>\n",
       "      <td>7/27/15</td>\n",
       "      <td>1960</td>\n",
       "      <td>LAX</td>\n",
       "      <td>21</td>\n",
       "    </tr>\n",
       "    <tr>\n",
       "      <th>5914</th>\n",
       "      <td>7/10/15</td>\n",
       "      <td>1499</td>\n",
       "      <td>IAD</td>\n",
       "      <td>23</td>\n",
       "    </tr>\n",
       "    <tr>\n",
       "      <th>3506</th>\n",
       "      <td>6/24/15</td>\n",
       "      <td>734</td>\n",
       "      <td>ORD</td>\n",
       "      <td>-3</td>\n",
       "    </tr>\n",
       "    <tr>\n",
       "      <th>6278</th>\n",
       "      <td>7/13/15</td>\n",
       "      <td>522</td>\n",
       "      <td>PDX</td>\n",
       "      <td>7</td>\n",
       "    </tr>\n",
       "    <tr>\n",
       "      <th>4293</th>\n",
       "      <td>6/29/15</td>\n",
       "      <td>1401</td>\n",
       "      <td>SAN</td>\n",
       "      <td>-1</td>\n",
       "    </tr>\n",
       "    <tr>\n",
       "      <th>...</th>\n",
       "      <td>...</td>\n",
       "      <td>...</td>\n",
       "      <td>...</td>\n",
       "      <td>...</td>\n",
       "    </tr>\n",
       "    <tr>\n",
       "      <th>870</th>\n",
       "      <td>6/6/15</td>\n",
       "      <td>1922</td>\n",
       "      <td>EWR</td>\n",
       "      <td>-1</td>\n",
       "    </tr>\n",
       "    <tr>\n",
       "      <th>10228</th>\n",
       "      <td>8/7/15</td>\n",
       "      <td>1531</td>\n",
       "      <td>RDU</td>\n",
       "      <td>1</td>\n",
       "    </tr>\n",
       "    <tr>\n",
       "      <th>8329</th>\n",
       "      <td>7/26/15</td>\n",
       "      <td>1257</td>\n",
       "      <td>ANC</td>\n",
       "      <td>46</td>\n",
       "    </tr>\n",
       "    <tr>\n",
       "      <th>563</th>\n",
       "      <td>6/4/15</td>\n",
       "      <td>1668</td>\n",
       "      <td>ORD</td>\n",
       "      <td>4</td>\n",
       "    </tr>\n",
       "    <tr>\n",
       "      <th>9248</th>\n",
       "      <td>8/1/15</td>\n",
       "      <td>1072</td>\n",
       "      <td>IAD</td>\n",
       "      <td>12</td>\n",
       "    </tr>\n",
       "  </tbody>\n",
       "</table>\n",
       "<p>2000 rows × 4 columns</p>\n",
       "</div>"
      ],
      "text/plain": [
       "          Date  Flight Number Destination  Delay\n",
       "8541   7/27/15           1960         LAX     21\n",
       "5914   7/10/15           1499         IAD     23\n",
       "3506   6/24/15            734         ORD     -3\n",
       "6278   7/13/15            522         PDX      7\n",
       "4293   6/29/15           1401         SAN     -1\n",
       "...        ...            ...         ...    ...\n",
       "870     6/6/15           1922         EWR     -1\n",
       "10228   8/7/15           1531         RDU      1\n",
       "8329   7/26/15           1257         ANC     46\n",
       "563     6/4/15           1668         ORD      4\n",
       "9248    8/1/15           1072         IAD     12\n",
       "\n",
       "[2000 rows x 4 columns]"
      ]
     },
     "execution_count": 4,
     "metadata": {},
     "output_type": "execute_result"
    }
   ],
   "source": [
    "population.sample(2000, replace=True)"
   ]
  },
  {
   "cell_type": "markdown",
   "metadata": {
    "slideshow": {
     "slide_type": "slide"
    }
   },
   "source": [
    "## Examples\n",
    "\n",
    "In each of the following experiments, 1) what is the population? 2) should we sample with or without replacement?\n",
    "\n",
    "- Picking a team of 5 from a class of 100 people.\n",
    "- Rolling a 6-sided die, 20 times.\n",
    "- Randomly generating names for 100 babies born."
   ]
  },
  {
   "cell_type": "markdown",
   "metadata": {
    "slideshow": {
     "slide_type": "slide"
    }
   },
   "source": [
    "# Concept 3: Estimation"
   ]
  },
  {
   "cell_type": "markdown",
   "metadata": {
    "slideshow": {
     "slide_type": "slide"
    }
   },
   "source": [
    "- We want to know some aspect (parameter) of the *population*.\n",
    "    - Example: the average flight delay, or total number of planes produced\n",
    "- We don't have the population, only a sample.\n",
    "- So we try to *estimate* the parameter using the sample."
   ]
  },
  {
   "cell_type": "markdown",
   "metadata": {
    "slideshow": {
     "slide_type": "slide"
    }
   },
   "source": [
    "## Statistics\n",
    "\n",
    "- A statistic is any number computed from a sample.\n",
    "- We compute a *statistic* to *estimate* a population *parameter*.\n",
    "- Example: sample mean flight delay."
   ]
  },
  {
   "cell_type": "markdown",
   "metadata": {
    "slideshow": {
     "slide_type": "slide"
    }
   },
   "source": [
    "## The Problem\n",
    "\n",
    "- You randomly select a sample and compute your statistic.\n",
    "    - Example: the sample mean flight delay is 14 minutes.\n",
    "- Your hope: it is close to the \"right answer\" (the pop. mean).\n",
    "- You can never know *exactly* how close it is without having the population.\n",
    "- The power of statistics: you can say how *confident* you are that the population paramter lies within a certain distance."
   ]
  },
  {
   "cell_type": "markdown",
   "metadata": {
    "slideshow": {
     "slide_type": "slide"
    }
   },
   "source": [
    "## Sampling Distribution\n",
    "\n",
    "- The sample is random; so your sample statistic is, too.\n",
    "- I.e., it could have been different.\n",
    "- The *sampling distribution* tells us the probability of those different outcomes.\n",
    "- I.e., it tells us how different sample mean *could have been*."
   ]
  },
  {
   "cell_type": "code",
   "execution_count": 5,
   "metadata": {},
   "outputs": [
    {
     "data": {
      "text/plain": [
       "16.9905"
      ]
     },
     "execution_count": 5,
     "metadata": {},
     "output_type": "execute_result"
    }
   ],
   "source": [
    "observed_mean = population.sample(2000).get('Delay').mean()\n",
    "observed_mean"
   ]
  },
  {
   "cell_type": "markdown",
   "metadata": {
    "slideshow": {
     "slide_type": "slide"
    }
   },
   "source": [
    "## Simulating the Sampling Distribution\n",
    "\n",
    "- Let's get more samples from the population, compute mean of each.\n",
    "- **Problem**: In the real world we (usually) can't do this."
   ]
  },
  {
   "cell_type": "code",
   "execution_count": 6,
   "metadata": {},
   "outputs": [],
   "source": [
    "sample_means = np.array([])\n",
    "for i in np.arange(1000):\n",
    "    mean = population.get('Delay').sample(2000).mean()\n",
    "    sample_means = np.append(sample_means, mean)"
   ]
  },
  {
   "cell_type": "code",
   "execution_count": 7,
   "metadata": {},
   "outputs": [
    {
     "data": {
      "text/plain": [
       "<matplotlib.collections.PathCollection at 0x7fe66df77df0>"
      ]
     },
     "execution_count": 7,
     "metadata": {},
     "output_type": "execute_result"
    },
    {
     "data": {
      "image/png": "[encoded data removed]",
      "text/plain": [
       "<Figure size 432x288 with 1 Axes>"
      ]
     },
     "metadata": {},
     "output_type": "display_data"
    }
   ],
   "source": [
    "plt.hist(sample_means)\n",
    "plt.scatter(observed_mean, 0, color='red', zorder=10)"
   ]
  },
  {
   "cell_type": "markdown",
   "metadata": {
    "slideshow": {
     "slide_type": "slide"
    }
   },
   "source": [
    "## Sampling Distribution\n",
    "\n",
    "- We'd love to know the sampling distribution.\n",
    "- But we just have one sample.\n",
    "- How do we approximate the sampling distribution with just one sample?\n",
    "- Answers: the Bootstrap and the Central Limit Theorem"
   ]
  },
  {
   "cell_type": "markdown",
   "metadata": {
    "slideshow": {
     "slide_type": "slide"
    }
   },
   "source": [
    "# Concept 4: The Bootstrap"
   ]
  },
  {
   "cell_type": "markdown",
   "metadata": {
    "slideshow": {
     "slide_type": "slide"
    }
   },
   "source": [
    "## The Boostrap\n",
    "\n",
    "- Problem: we want to know the sample distribution of our statistic, but we just have one sample."
   ]
  },
  {
   "cell_type": "code",
   "execution_count": 8,
   "metadata": {},
   "outputs": [
    {
     "data": {
      "text/plain": [
       "<matplotlib.collections.PathCollection at 0x7fe66e1bbfd0>"
      ]
     },
     "execution_count": 8,
     "metadata": {},
     "output_type": "execute_result"
    },
    {
     "data": {
      "image/png": "[encoded data removed]",
      "text/plain": [
       "<Figure size 432x288 with 1 Axes>"
      ]
     },
     "metadata": {},
     "output_type": "display_data"
    }
   ],
   "source": [
    "original_sample = population.sample(2000)\n",
    "plt.hist(sample_means, alpha=.3, color='black')\n",
    "plt.scatter(original_sample.get('Delay').mean(), 0, color='red', zorder=10)"
   ]
  },
  {
   "cell_type": "markdown",
   "metadata": {
    "slideshow": {
     "slide_type": "slide"
    }
   },
   "source": [
    "## Idea beind bootstrapping\n",
    "\n",
    "- I wish I had the population; then I could get more samples:"
   ]
  },
  {
   "cell_type": "code",
   "execution_count": 9,
   "metadata": {},
   "outputs": [],
   "source": [
    "another_sample = population.sample(2000)"
   ]
  },
  {
   "cell_type": "markdown",
   "metadata": {},
   "source": [
    "- I don't have the population.\n",
    "- But, the original sample probably looks like the population. Let's sample from it."
   ]
  },
  {
   "cell_type": "code",
   "execution_count": 10,
   "metadata": {},
   "outputs": [],
   "source": [
    "bootstrap_sample = original_sample.sample(2000, replace=True)"
   ]
  },
  {
   "cell_type": "markdown",
   "metadata": {
    "slideshow": {
     "slide_type": "slide"
    }
   },
   "source": [
    "## Boostrapping and Replacement\n",
    "\n",
    "- **Important**: when we get a boostrap sample, we sample *with* replacement. Why?\n",
    "- If we didn't we'd just get the same data set back:"
   ]
  },
  {
   "cell_type": "code",
   "execution_count": 11,
   "metadata": {},
   "outputs": [
    {
     "data": {
      "text/plain": [
       "16.4615"
      ]
     },
     "execution_count": 11,
     "metadata": {},
     "output_type": "execute_result"
    }
   ],
   "source": [
    "original_sample.sample(2000, replace=True).get('Delay').mean()"
   ]
  },
  {
   "cell_type": "markdown",
   "metadata": {
    "slideshow": {
     "slide_type": "slide"
    }
   },
   "source": [
    "## Bootstrapping and Duplicates\n",
    "\n",
    "- If we sample with replacement, we'll get duplicates.\n",
    "- This is OK! In fact, it is necessary - otherwise we would get the same sample mean every single time"
   ]
  },
  {
   "cell_type": "code",
   "execution_count": 12,
   "metadata": {},
   "outputs": [
    {
     "data": {
      "image/png": "[encoded data removed]",
      "text/plain": [
       "<Figure size 432x288 with 1 Axes>"
      ]
     },
     "metadata": {},
     "output_type": "display_data"
    },
    {
     "data": {
      "image/png": "[encoded data removed]",
      "text/plain": [
       "<Figure size 432x288 with 1 Axes>"
      ]
     },
     "metadata": {},
     "output_type": "display_data"
    },
    {
     "data": {
      "image/png": "[encoded data removed]",
      "text/plain": [
       "<Figure size 432x288 with 1 Axes>"
      ]
     },
     "metadata": {},
     "output_type": "display_data"
    },
    {
     "data": {
      "image/png": "[encoded data removed]",
      "text/plain": [
       "<Figure size 432x288 with 1 Axes>"
      ]
     },
     "metadata": {},
     "output_type": "display_data"
    },
    {
     "data": {
      "image/png": "[encoded data removed]",
      "text/plain": [
       "<Figure size 432x288 with 1 Axes>"
      ]
     },
     "metadata": {},
     "output_type": "display_data"
    }
   ],
   "source": [
    "for i in range(5):\n",
    "    original_sample.sample(1000, replace=True).plot(kind='hist', y='Delay')"
   ]
  },
  {
   "cell_type": "markdown",
   "metadata": {
    "slideshow": {
     "slide_type": "slide"
    }
   },
   "source": [
    "## Example"
   ]
  },
  {
   "cell_type": "code",
   "execution_count": 13,
   "metadata": {},
   "outputs": [],
   "source": [
    "bootstrap_sample_means = np.array([])\n",
    "for i in np.arange(5000):\n",
    "    bootstrap_sample_mean = original_sample.get('Delay').sample(original_sample.shape[0], replace=True).mean()\n",
    "    bootstrap_sample_means = np.append(bootstrap_sample_means, bootstrap_sample_mean)"
   ]
  },
  {
   "cell_type": "code",
   "execution_count": 14,
   "metadata": {},
   "outputs": [
    {
     "data": {
      "image/png": "[encoded data removed]",
      "text/plain": [
       "<Figure size 432x288 with 1 Axes>"
      ]
     },
     "metadata": {},
     "output_type": "display_data"
    }
   ],
   "source": [
    "plt.hist(bootstrap_sample_means, density=True)\n",
    "plt.hist(sample_means, density=True, alpha=.85)\n",
    "plt.show()"
   ]
  },
  {
   "cell_type": "markdown",
   "metadata": {},
   "source": [
    "Remember: `sample_means` contains means from sampling from the population, rather than bootstrapping"
   ]
  },
  {
   "cell_type": "markdown",
   "metadata": {
    "slideshow": {
     "slide_type": "slide"
    }
   },
   "source": [
    "# Concept 5: The Central Limit Theorem"
   ]
  },
  {
   "cell_type": "markdown",
   "metadata": {
    "slideshow": {
     "slide_type": "slide"
    }
   },
   "source": [
    "## The CLT\n",
    "\n",
    "- Problem: we want to know the sample distribution of our statistic, but we just have one sample."
   ]
  },
  {
   "cell_type": "code",
   "execution_count": 15,
   "metadata": {},
   "outputs": [
    {
     "data": {
      "text/plain": [
       "<matplotlib.collections.PathCollection at 0x7fe66e977550>"
      ]
     },
     "execution_count": 15,
     "metadata": {},
     "output_type": "execute_result"
    },
    {
     "data": {
      "image/png": "[encoded data removed]",
      "text/plain": [
       "<Figure size 432x288 with 1 Axes>"
      ]
     },
     "metadata": {},
     "output_type": "display_data"
    }
   ],
   "source": [
    "original_sample = population.sample(2000)\n",
    "plt.hist(sample_means, alpha=.3, color='black')\n",
    "plt.scatter(original_sample.get('Delay').mean(), 0, color='red', zorder=10)"
   ]
  },
  {
   "cell_type": "markdown",
   "metadata": {
    "slideshow": {
     "slide_type": "slide"
    }
   },
   "source": [
    "## Idea\n",
    "\n",
    "- The distribution of the *sample mean* will be (approximately) normal if the sample size is large enough.\n",
    "- This is the **Central Limit Theorem**:\n",
    "\n",
    "> The sampling distribution of the sample mean is approximately a normal curve, centered at the population mean ($\\mu$), and with standard deviation equal to the population standard deviation over the square root of the sample size ($\\frac{\\sigma}{\\sqrt{n}}$)."
   ]
  },
  {
   "cell_type": "markdown",
   "metadata": {
    "slideshow": {
     "slide_type": "slide"
    }
   },
   "source": [
    "## CLT\n",
    "\n",
    "- The CLT let's us approximate the sample distribution of the mean without getting more samples or running the bootstrap.\n",
    "- Small problem: we don't have the population mean/SD. That's OK, just use the sample mean and SD."
   ]
  },
  {
   "cell_type": "code",
   "execution_count": 16,
   "metadata": {},
   "outputs": [],
   "source": [
    "mu = original_sample.get('Delay').mean()\n",
    "sigma = np.std(original_sample.get('Delay')) / (original_sample.shape[0])**(1/2)"
   ]
  },
  {
   "cell_type": "markdown",
   "metadata": {
    "slideshow": {
     "slide_type": "slide"
    }
   },
   "source": [
    "## Careful!\n",
    "\n",
    "- There are lots of distributions here. The population distribution, the sample distribution, and the distribution of the sample mean, each with their own mean / SD."
   ]
  },
  {
   "cell_type": "code",
   "execution_count": 17,
   "metadata": {},
   "outputs": [
    {
     "data": {
      "text/plain": [
       "<AxesSubplot:ylabel='Frequency'>"
      ]
     },
     "execution_count": 17,
     "metadata": {},
     "output_type": "execute_result"
    },
    {
     "data": {
      "image/png": "[encoded data removed]",
      "text/plain": [
       "<Figure size 432x288 with 1 Axes>"
      ]
     },
     "metadata": {},
     "output_type": "display_data"
    }
   ],
   "source": [
    "population.plot(kind='hist', y='Delay')"
   ]
  },
  {
   "cell_type": "code",
   "execution_count": 18,
   "metadata": {},
   "outputs": [
    {
     "data": {
      "text/plain": [
       "<AxesSubplot:ylabel='Frequency'>"
      ]
     },
     "execution_count": 18,
     "metadata": {},
     "output_type": "execute_result"
    },
    {
     "data": {
      "image/png": "[encoded data removed]",
      "text/plain": [
       "<Figure size 432x288 with 1 Axes>"
      ]
     },
     "metadata": {},
     "output_type": "display_data"
    }
   ],
   "source": [
    "original_sample.plot(kind='hist', y='Delay')"
   ]
  },
  {
   "cell_type": "code",
   "execution_count": 19,
   "metadata": {},
   "outputs": [
    {
     "data": {
      "text/plain": [
       "(array([  2.,   6.,  47., 115., 202., 262., 211., 101.,  39.,  15.]),\n",
       " array([13.6655 , 14.21145, 14.7574 , 15.30335, 15.8493 , 16.39525,\n",
       "        16.9412 , 17.48715, 18.0331 , 18.57905, 19.125  ]),\n",
       " <BarContainer object of 10 artists>)"
      ]
     },
     "execution_count": 19,
     "metadata": {},
     "output_type": "execute_result"
    },
    {
     "data": {
      "image/png": "[encoded data removed]",
      "text/plain": [
       "<Figure size 432x288 with 1 Axes>"
      ]
     },
     "metadata": {},
     "output_type": "display_data"
    }
   ],
   "source": [
    "plt.hist(sample_means)"
   ]
  },
  {
   "cell_type": "markdown",
   "metadata": {
    "slideshow": {
     "slide_type": "slide"
    }
   },
   "source": [
    "## CLT vs Boostrapping\n",
    "\n",
    "- The CLT and Boostrapping are two ways of approximating a sampling distribution.\n",
    "    - How different could our estimate have been?\n",
    "- However, the CLT is **only** useful when talking about the sample mean (or sample sum).\n",
    "- The boostrap is more generally useful. Example: the sample median."
   ]
  },
  {
   "cell_type": "markdown",
   "metadata": {
    "slideshow": {
     "slide_type": "slide"
    }
   },
   "source": [
    "## When to use the CLT vs the Boostrap\n",
    "\n",
    "- If we're talking about the sample mean, use the CLT.\n",
    "- *Could* use the boostrap, but it's less accurate/slower.\n",
    "- If we're talking about another statistic (e.g., median), use the bootstrap."
   ]
  },
  {
   "cell_type": "markdown",
   "metadata": {
    "slideshow": {
     "slide_type": "slide"
    }
   },
   "source": [
    "# Concept 6: Confidence Intervals"
   ]
  },
  {
   "cell_type": "markdown",
   "metadata": {
    "slideshow": {
     "slide_type": "slide"
    }
   },
   "source": [
    "## Confidence Intervals\n",
    "\n",
    "- How different could our estimate have been?\n",
    "- Instead of giving a single estimate, give an interval and a \"confidence level\".\n",
    "- E.g., \"I'm 95% sure that the population mean flight delay is between 14 and 17\"."
   ]
  },
  {
   "cell_type": "markdown",
   "metadata": {
    "slideshow": {
     "slide_type": "slide"
    }
   },
   "source": [
    "## CIs and the Sampling Distribution"
   ]
  },
  {
   "cell_type": "markdown",
   "metadata": {},
   "source": [
    "- If we have a sampling distribution, we can construct a CI (no matter how we got the sampling distribution)."
   ]
  },
  {
   "cell_type": "code",
   "execution_count": 20,
   "metadata": {},
   "outputs": [],
   "source": [
    "import scipy.stats"
   ]
  },
  {
   "cell_type": "code",
   "execution_count": 21,
   "metadata": {},
   "outputs": [
    {
     "data": {
      "image/png": "[encoded data removed]",
      "text/plain": [
       "<Figure size 432x288 with 1 Axes>"
      ]
     },
     "metadata": {},
     "output_type": "display_data"
    }
   ],
   "source": [
    "# true sample means\n",
    "plt.hist(sample_means, density=True)\n",
    "\n",
    "# central limit theorem\n",
    "x = np.linspace(mu - 3*sigma, mu + 3*sigma, 100)\n",
    "plt.plot(x, scipy.stats.norm.pdf(x, mu, sigma))\n",
    "\n",
    "# bootstrapped sample means\n",
    "plt.hist(bootstrap_sample_means, density=True, alpha=0.85)\n",
    "\n",
    "plt.show()"
   ]
  },
  {
   "cell_type": "markdown",
   "metadata": {
    "slideshow": {
     "slide_type": "slide"
    }
   },
   "source": [
    "## Constructing CIs"
   ]
  },
  {
   "cell_type": "markdown",
   "metadata": {},
   "source": [
    "- An $x$% CI contains the middle $x$% of the sampling distribution.\n",
    "- Two ways:\n",
    "    1. If we have a bunch of sample statistics (like from the boostrap), we can use `np.percentile`.\n",
    "    2. If we're using the CLT, we can use the rule of thumb: 95% of normal curve is within 2 SDs of mean."
   ]
  },
  {
   "cell_type": "markdown",
   "metadata": {
    "slideshow": {
     "slide_type": "slide"
    }
   },
   "source": [
    "## Example: Directly from the Sampling Distribution"
   ]
  },
  {
   "cell_type": "code",
   "execution_count": 22,
   "metadata": {},
   "outputs": [
    {
     "data": {
      "text/plain": [
       "[15.127975000000001, 18.283775]"
      ]
     },
     "execution_count": 22,
     "metadata": {},
     "output_type": "execute_result"
    }
   ],
   "source": [
    "[left_sms, right_sms] = np.percentile(sample_means, 2.5), np.percentile(sample_means, 97.5)\n",
    "[left_sms, right_sms]"
   ]
  },
  {
   "cell_type": "code",
   "execution_count": 23,
   "metadata": {},
   "outputs": [
    {
     "data": {
      "text/plain": [
       "[<matplotlib.lines.Line2D at 0x7fe66f82dfa0>]"
      ]
     },
     "execution_count": 23,
     "metadata": {},
     "output_type": "execute_result"
    },
    {
     "data": {
      "image/png": "[encoded data removed]",
      "text/plain": [
       "<Figure size 432x288 with 1 Axes>"
      ]
     },
     "metadata": {},
     "output_type": "display_data"
    }
   ],
   "source": [
    "plt.hist(sample_means)\n",
    "plt.plot([left_sms, right_sms], [0,0], color='lime', linewidth=10, zorder=10)"
   ]
  },
  {
   "cell_type": "markdown",
   "metadata": {
    "slideshow": {
     "slide_type": "slide"
    }
   },
   "source": [
    "## Example: From the Boostrap Sampling Distribution"
   ]
  },
  {
   "cell_type": "code",
   "execution_count": 24,
   "metadata": {},
   "outputs": [
    {
     "data": {
      "text/plain": [
       "[14.601424999999999, 18.070649999999997]"
      ]
     },
     "execution_count": 24,
     "metadata": {},
     "output_type": "execute_result"
    }
   ],
   "source": [
    "[left_boot, right_boot] = np.percentile(bootstrap_sample_means, 2.5), np.percentile(bootstrap_sample_means, 97.5)\n",
    "[left_boot, right_boot]"
   ]
  },
  {
   "cell_type": "code",
   "execution_count": 25,
   "metadata": {},
   "outputs": [
    {
     "data": {
      "text/plain": [
       "[<matplotlib.lines.Line2D at 0x7fe66fad48e0>]"
      ]
     },
     "execution_count": 25,
     "metadata": {},
     "output_type": "execute_result"
    },
    {
     "data": {
      "image/png": "[encoded data removed]",
      "text/plain": [
       "<Figure size 432x288 with 1 Axes>"
      ]
     },
     "metadata": {},
     "output_type": "display_data"
    }
   ],
   "source": [
    "plt.hist(bootstrap_sample_means, color='C2')\n",
    "plt.plot([left_boot, right_boot], [0,0], color='lime', linewidth=10, zorder=10)"
   ]
  },
  {
   "cell_type": "markdown",
   "metadata": {
    "slideshow": {
     "slide_type": "slide"
    }
   },
   "source": [
    "## Example: From the CLT"
   ]
  },
  {
   "cell_type": "code",
   "execution_count": 26,
   "metadata": {},
   "outputs": [],
   "source": [
    "import scipy.stats"
   ]
  },
  {
   "cell_type": "code",
   "execution_count": 27,
   "metadata": {},
   "outputs": [],
   "source": [
    "[left_clt, right_clt] = [\n",
    "    original_sample.get('Delay').mean() - 2 * np.std(original_sample.get('Delay')) / np.sqrt(2000),\n",
    "    original_sample.get('Delay').mean() + 2 * np.std(original_sample.get('Delay')) / np.sqrt(2000),\n",
    "]"
   ]
  },
  {
   "cell_type": "code",
   "execution_count": 28,
   "metadata": {},
   "outputs": [
    {
     "data": {
      "text/plain": [
       "[<matplotlib.lines.Line2D at 0x7fe66fc1fd60>]"
      ]
     },
     "execution_count": 28,
     "metadata": {},
     "output_type": "execute_result"
    },
    {
     "data": {
      "image/png": "[encoded data removed]",
      "text/plain": [
       "<Figure size 432x288 with 1 Axes>"
      ]
     },
     "metadata": {},
     "output_type": "display_data"
    }
   ],
   "source": [
    "x = np.linspace(mu - 3*sigma, mu + 3*sigma, 100)\n",
    "plt.plot(x, scipy.stats.norm.pdf(x, mu, sigma))\n",
    "plt.plot([left_clt, right_clt], [0,0], color='lime', linewidth=10, zorder=10)"
   ]
  },
  {
   "cell_type": "markdown",
   "metadata": {
    "slideshow": {
     "slide_type": "slide"
    }
   },
   "source": [
    "## Comparison"
   ]
  },
  {
   "cell_type": "code",
   "execution_count": 29,
   "metadata": {},
   "outputs": [
    {
     "data": {
      "text/plain": [
       "<matplotlib.collections.PathCollection at 0x7fe66f875df0>"
      ]
     },
     "execution_count": 29,
     "metadata": {},
     "output_type": "execute_result"
    },
    {
     "data": {
      "image/png": "[encoded data removed]",
      "text/plain": [
       "<Figure size 432x288 with 1 Axes>"
      ]
     },
     "metadata": {},
     "output_type": "display_data"
    }
   ],
   "source": [
    "plt.plot([left_clt, right_clt], [.2, .2], color='C1', linewidth=10, zorder=10)\n",
    "plt.plot([left_boot, right_boot], [.1,.1], color='C2', linewidth=10, zorder=10)\n",
    "plt.plot([left_sms, right_sms], [0,0], color='C0', linewidth=10, zorder=10)\n",
    "plt.scatter(population.get('Delay').mean(), -.1, color='black', s=200)"
   ]
  },
  {
   "cell_type": "markdown",
   "metadata": {
    "slideshow": {
     "slide_type": "slide"
    }
   },
   "source": [
    "# Accuracy\n",
    "\n",
    "- The Boostrap and CLT are *approximations*.\n",
    "- As the sample size increases, their estimates improve."
   ]
  },
  {
   "cell_type": "markdown",
   "metadata": {
    "slideshow": {
     "slide_type": "slide"
    }
   },
   "source": [
    "# Concept 7: Hypothesis Testing"
   ]
  },
  {
   "cell_type": "markdown",
   "metadata": {
    "slideshow": {
     "slide_type": "slide"
    }
   },
   "source": [
    "## Assessing Models\n",
    "\n",
    "- We have a *model* of reality (a set of assumptions)\n",
    "    - Example: jury panels are selected at random from eligible population\n",
    "- Is the model plausible or unlikely?\n",
    "- We can use probability and simulation to assess its likelihood."
   ]
  },
  {
   "cell_type": "markdown",
   "metadata": {
    "slideshow": {
     "slide_type": "slide"
    }
   },
   "source": [
    "## Null and Alternative Hypotheses\n",
    "\n",
    "- The **null** hypothesis states that a population parameter (such as the mean, the standard deviation, and so on) is equal to a hypothesized value. The null hypothesis is often an initial claim that is based on previous analyses or specialized knowledge.\n",
    "- The **alternative** hypothesis states that a population parameter is smaller, greater, or different than the hypothesized value in the null hypothesis. The alternative hypothesis is what you might believe to be true or hope to prove true. \n",
    "- The null hypothesis is (usually) precise and specific enough that it allows us to simulate."
   ]
  },
  {
   "cell_type": "markdown",
   "metadata": {
    "slideshow": {
     "slide_type": "slide"
    }
   },
   "source": [
    "## Example\n",
    "\n",
    "I think a coin is unfair. To test it, I make the following hypotheses:\n",
    "\n",
    "- Null: the coin is fair \n",
    "    - (P(heads) = .5)\n",
    "- Alternative: the coin is not fair \n",
    "    - (P(heads $\\neq$ .5)"
   ]
  },
  {
   "cell_type": "markdown",
   "metadata": {
    "slideshow": {
     "slide_type": "slide"
    }
   },
   "source": [
    "## Example\n",
    "\n",
    "I think a coin is *biased towards heads*. I make the following hypotheses:\n",
    "    \n",
    "- Null: the coin is fair\n",
    "    - (P(heads) = .5)\n",
    "- Alternative: the coin is unfair and biased towards heads\n",
    "    - (P(heads) > .5)"
   ]
  },
  {
   "cell_type": "markdown",
   "metadata": {
    "slideshow": {
     "slide_type": "slide"
    }
   },
   "source": [
    "## Workflow\n",
    "\n",
    "- Flip the coin a bunch of times, count *observed* numbers of heads.\n",
    "- Is what we observed consistent with the null model, or very unlikely?\n",
    "- We need probability of seeing what we observed under the null hypothesis."
   ]
  },
  {
   "cell_type": "markdown",
   "metadata": {
    "slideshow": {
     "slide_type": "slide"
    }
   },
   "source": [
    "## Test Statistics\n",
    "\n",
    "- We must have a way of measuring how far we are from what is expected under the null.\n",
    "- We need to choose a *test statistic*.\n",
    "- The larger (in magnitude) the test statistic, the more extreme.\n",
    "- Choice depends on the *alternative* hypothesis."
   ]
  },
  {
   "cell_type": "markdown",
   "metadata": {
    "slideshow": {
     "slide_type": "slide"
    }
   },
   "source": [
    "## Example\n",
    "\n",
    "- Alternative: the coin is not fair\n",
    "- Possible test statistics:\n",
    "    - the absolute difference between proportion of heads and 50%\n",
    "    - the absolute difference between number of heads and 50\n",
    "    - the TVD between sample distribution of heads/tails and the uniform distribution\n",
    "    - ..."
   ]
  },
  {
   "cell_type": "markdown",
   "metadata": {
    "slideshow": {
     "slide_type": "slide"
    }
   },
   "source": [
    "## Example\n",
    "\n",
    "- Alternative: the coin is not fair, and *biased towards heads*.\n",
    "- The statistic should be larger the more extreme the outcome.\n",
    "- Possible test statistics:\n",
    "    - the number of heads\n",
    "    - the signed difference between the number of heads and 50\n",
    "    - the signed difference between the proportion of heads and 50%"
   ]
  },
  {
   "cell_type": "markdown",
   "metadata": {
    "slideshow": {
     "slide_type": "slide"
    }
   },
   "source": [
    "## Example\n",
    "\n",
    "- You flip a coin 100 times and see 57 heads.\n",
    "- Test alternative hypothesis: coin is biased towards heads.\n",
    "- I.e., what is the probability of seeing 57 heads if coin is indeed fair?\n",
    "- This is the *p-value*."
   ]
  },
  {
   "cell_type": "code",
   "execution_count": 30,
   "metadata": {
    "slideshow": {
     "slide_type": "slide"
    }
   },
   "outputs": [],
   "source": [
    "counts = np.array([])\n",
    "for i in np.arange(1000):\n",
    "    # flip fair coin 100 times\n",
    "    flips = np.random.choice(['H', 'T'], 100)\n",
    "    \n",
    "    count = np.count_nonzero(flips == 'H')\n",
    "    counts = np.append(counts, count)"
   ]
  },
  {
   "cell_type": "code",
   "execution_count": 31,
   "metadata": {
    "scrolled": true
   },
   "outputs": [
    {
     "data": {
      "text/plain": [
       "array([50., 48., 53., 37., 55., 53., 54., 52., 54., 58., 45., 45., 59.,\n",
       "       42., 57., 50., 56., 56., 48., 54., 51., 56., 45., 45., 53., 54.,\n",
       "       45., 50., 49., 61., 44., 53., 44., 45., 51., 54., 50., 58., 44.,\n",
       "       54., 53., 51., 50., 58., 46., 44., 51., 49., 51., 54., 52., 51.,\n",
       "       45., 45., 52., 47., 56., 44., 50., 51., 54., 51., 46., 50., 55.,\n",
       "       52., 59., 42., 55., 54., 52., 48., 49., 45., 53., 44., 57., 51.,\n",
       "       48., 48., 46., 50., 51., 51., 49., 44., 55., 53., 56., 56., 51.,\n",
       "       39., 50., 59., 56., 48., 47., 52., 49., 51., 44., 50., 48., 45.,\n",
       "       50., 48., 55., 48., 46., 58., 52., 52., 48., 51., 51., 53., 56.,\n",
       "       51., 47., 52., 52., 46., 41., 53., 52., 52., 54., 53., 49., 50.,\n",
       "       52., 50., 51., 56., 53., 54., 42., 44., 55., 51., 51., 46., 48.,\n",
       "       49., 52., 54., 49., 54., 41., 52., 52., 52., 56., 47., 52., 54.,\n",
       "       41., 49., 45., 50., 58., 49., 53., 51., 46., 49., 48., 49., 58.,\n",
       "       49., 46., 46., 51., 47., 45., 59., 45., 54., 55., 50., 44., 57.,\n",
       "       50., 47., 49., 55., 52., 54., 57., 59., 58., 46., 53., 55., 52.,\n",
       "       53., 45., 46., 53., 50., 51., 52., 45., 49., 55., 54., 50., 48.,\n",
       "       45., 50., 50., 51., 42., 56., 46., 48., 46., 56., 54., 55., 56.,\n",
       "       49., 46., 48., 49., 44., 56., 48., 50., 56., 45., 50., 49., 49.,\n",
       "       54., 44., 38., 50., 55., 40., 51., 52., 49., 53., 52., 54., 42.,\n",
       "       43., 45., 48., 46., 51., 57., 48., 50., 52., 45., 50., 51., 48.,\n",
       "       44., 53., 61., 48., 56., 55., 51., 52., 55., 46., 48., 43., 59.,\n",
       "       50., 58., 49., 46., 41., 54., 44., 45., 50., 51., 53., 55., 54.,\n",
       "       45., 57., 52., 53., 56., 47., 50., 49., 42., 51., 49., 41., 55.,\n",
       "       51., 52., 47., 50., 57., 59., 50., 46., 50., 48., 49., 47., 48.,\n",
       "       54., 45., 47., 49., 57., 51., 53., 52., 40., 50., 46., 54., 48.,\n",
       "       39., 52., 56., 45., 53., 40., 46., 49., 54., 53., 50., 44., 52.,\n",
       "       52., 50., 42., 47., 49., 48., 50., 42., 49., 52., 54., 54., 44.,\n",
       "       47., 49., 53., 53., 50., 54., 49., 48., 49., 49., 52., 55., 53.,\n",
       "       54., 51., 55., 40., 47., 49., 52., 46., 48., 52., 52., 45., 52.,\n",
       "       45., 51., 61., 46., 52., 48., 46., 46., 49., 49., 47., 50., 52.,\n",
       "       47., 47., 47., 47., 50., 54., 48., 44., 51., 46., 54., 58., 43.,\n",
       "       52., 45., 49., 50., 47., 50., 46., 51., 50., 50., 55., 47., 45.,\n",
       "       46., 54., 59., 42., 53., 60., 50., 52., 53., 44., 46., 49., 44.,\n",
       "       37., 52., 51., 50., 49., 50., 48., 56., 59., 44., 52., 49., 51.,\n",
       "       50., 47., 46., 51., 46., 49., 52., 51., 51., 48., 49., 51., 56.,\n",
       "       50., 49., 42., 52., 46., 46., 52., 48., 54., 53., 56., 56., 60.,\n",
       "       47., 52., 48., 47., 58., 53., 50., 51., 49., 51., 45., 51., 48.,\n",
       "       51., 44., 50., 54., 49., 51., 47., 44., 53., 60., 57., 55., 47.,\n",
       "       41., 43., 55., 51., 50., 42., 45., 52., 56., 50., 51., 55., 55.,\n",
       "       61., 58., 51., 45., 53., 58., 59., 50., 48., 42., 43., 49., 51.,\n",
       "       55., 43., 49., 48., 42., 41., 50., 45., 49., 57., 49., 51., 39.,\n",
       "       51., 55., 52., 47., 59., 50., 47., 56., 55., 55., 47., 51., 43.,\n",
       "       43., 52., 50., 56., 47., 48., 45., 51., 58., 55., 52., 48., 52.,\n",
       "       40., 43., 51., 46., 56., 52., 45., 50., 52., 38., 43., 59., 50.,\n",
       "       48., 53., 47., 50., 53., 54., 50., 46., 53., 54., 53., 47., 44.,\n",
       "       48., 54., 46., 43., 52., 54., 44., 47., 49., 51., 48., 48., 49.,\n",
       "       55., 53., 51., 51., 52., 56., 57., 50., 48., 43., 54., 54., 46.,\n",
       "       57., 46., 43., 60., 58., 47., 50., 51., 52., 49., 57., 57., 47.,\n",
       "       47., 37., 61., 49., 58., 54., 51., 47., 56., 45., 52., 53., 41.,\n",
       "       45., 51., 58., 51., 52., 47., 48., 48., 54., 51., 50., 45., 45.,\n",
       "       52., 58., 46., 55., 49., 45., 50., 40., 46., 49., 45., 62., 55.,\n",
       "       54., 53., 44., 45., 47., 50., 51., 48., 43., 53., 47., 47., 49.,\n",
       "       50., 49., 52., 59., 53., 42., 48., 48., 50., 51., 45., 53., 45.,\n",
       "       46., 52., 40., 55., 54., 43., 53., 50., 47., 55., 51., 47., 53.,\n",
       "       50., 57., 42., 46., 49., 47., 47., 51., 48., 54., 53., 50., 56.,\n",
       "       49., 47., 54., 48., 52., 41., 46., 58., 50., 52., 46., 58., 51.,\n",
       "       52., 43., 47., 49., 48., 51., 48., 59., 45., 46., 52., 41., 46.,\n",
       "       41., 53., 46., 57., 42., 50., 55., 53., 47., 59., 52., 49., 50.,\n",
       "       48., 51., 40., 45., 47., 51., 42., 45., 52., 48., 50., 56., 50.,\n",
       "       43., 47., 46., 49., 53., 37., 50., 50., 50., 56., 44., 53., 44.,\n",
       "       45., 43., 55., 56., 59., 54., 53., 49., 45., 45., 47., 43., 59.,\n",
       "       58., 58., 53., 52., 53., 51., 50., 49., 48., 55., 53., 56., 55.,\n",
       "       57., 55., 56., 53., 42., 56., 54., 45., 52., 44., 48., 42., 45.,\n",
       "       48., 59., 44., 54., 46., 41., 48., 62., 52., 49., 52., 41., 51.,\n",
       "       53., 52., 44., 54., 54., 48., 47., 46., 45., 46., 64., 48., 43.,\n",
       "       45., 54., 45., 49., 55., 56., 49., 52., 41., 53., 57., 46., 49.,\n",
       "       55., 49., 45., 46., 48., 47., 54., 45., 52., 61., 44., 55., 48.,\n",
       "       57., 57., 48., 51., 52., 52., 48., 50., 47., 49., 55., 41., 50.,\n",
       "       51., 50., 52., 66., 56., 41., 52., 53., 50., 51., 44., 46., 52.,\n",
       "       50., 57., 45., 52., 47., 52., 46., 43., 57., 46., 50., 56., 49.,\n",
       "       48., 51., 55., 47., 40., 52., 45., 51., 52., 53., 51., 62., 44.,\n",
       "       47., 43., 49., 49., 49., 36., 41., 49., 51., 57., 51., 51., 49.,\n",
       "       53., 49., 57., 52., 53., 48., 46., 59., 56., 49., 53., 48., 47.,\n",
       "       48., 51., 36., 49., 61., 51., 53., 59., 56., 47., 42., 47., 35.,\n",
       "       56., 45., 53., 50., 49., 50., 55., 52., 52., 55., 45., 50., 48.,\n",
       "       46., 49., 50., 49., 42., 53., 49., 52., 53., 53., 50., 47., 52.,\n",
       "       53., 46., 47., 48., 47., 45., 51., 54., 51., 47., 48., 51.])"
      ]
     },
     "execution_count": 31,
     "metadata": {},
     "output_type": "execute_result"
    }
   ],
   "source": [
    "counts"
   ]
  },
  {
   "cell_type": "code",
   "execution_count": 32,
   "metadata": {},
   "outputs": [
    {
     "data": {
      "text/plain": [
       "0.081"
      ]
     },
     "execution_count": 32,
     "metadata": {},
     "output_type": "execute_result"
    }
   ],
   "source": [
    "np.count_nonzero(counts >= 57) / 1000"
   ]
  },
  {
   "cell_type": "markdown",
   "metadata": {
    "slideshow": {
     "slide_type": "slide"
    }
   },
   "source": [
    "## Rejecting and Failing to Reject"
   ]
  },
  {
   "cell_type": "markdown",
   "metadata": {},
   "source": [
    "- The p-value tells us the probability of seeing the observed outcome if the null is true.\n",
    "- If we had set a \"confidence threshold\" before the experiment, we can reject at that confidence level.\n",
    "- E.g., if we had set a 5% threshold (95% confidence) we would fail to reject.\n",
    "- Still, a p-value of $\\approx$ 10% means that we were getting close to rejecting."
   ]
  },
  {
   "cell_type": "markdown",
   "metadata": {
    "slideshow": {
     "slide_type": "slide"
    }
   },
   "source": [
    "## Accepting a null hypothesis?\n",
    "\n",
    "- We never \"accept\" a null hypothesis, we only \"fail to reject\". Why?\n",
    "- If we see 50 heads and 50 tails, this isn't evidence that the coin is fair; only that it is close to fair.\n",
    "- It would be wrong to say that we are \"95% sure that the coin is fair\"."
   ]
  },
  {
   "cell_type": "markdown",
   "metadata": {
    "slideshow": {
     "slide_type": "slide"
    }
   },
   "source": [
    "# Concept 8: A/B Testing"
   ]
  },
  {
   "cell_type": "markdown",
   "metadata": {
    "slideshow": {
     "slide_type": "slide"
    }
   },
   "source": [
    "## A/B Testing\n",
    "\n",
    "- A type of hypothesis test.\n",
    "- We have two groups. Do they come from the same distribution?\n",
    "- Example: baby weights for mothers who smoked / didn't smoke."
   ]
  },
  {
   "cell_type": "markdown",
   "metadata": {
    "slideshow": {
     "slide_type": "slide"
    }
   },
   "source": [
    "## Idea\n",
    "\n",
    "- The null hypothesis: they come from the same distribution.\n",
    "- We can't directly simulate using the null.\n",
    "- Permuting group labels is like sampling more data."
   ]
  },
  {
   "cell_type": "markdown",
   "metadata": {
    "slideshow": {
     "slide_type": "slide"
    }
   },
   "source": [
    "## Permutation Tests\n",
    "\n",
    "- Given a table, one column with group labels, another with quantity of interest.\n",
    "- Repeatedly:\n",
    "    - Shuffle the group labels.\n",
    "    - Compute a test statistic measuring difference between groups.\n",
    "- Plot the distribution of differences, use to calculate p-value."
   ]
  },
  {
   "cell_type": "markdown",
   "metadata": {
    "slideshow": {
     "slide_type": "slide"
    }
   },
   "source": [
    "# Concept 9: Linear Regression"
   ]
  },
  {
   "cell_type": "markdown",
   "metadata": {},
   "source": [
    "## Lets make a scatter plot:\n",
    " - Below is some randomlly generated data, normally you would use real world data"
   ]
  },
  {
   "cell_type": "code",
   "execution_count": 33,
   "metadata": {},
   "outputs": [
    {
     "data": {
      "text/plain": [
       "<AxesSubplot:xlabel='Data_A', ylabel='Data_B'>"
      ]
     },
     "execution_count": 33,
     "metadata": {},
     "output_type": "execute_result"
    },
    {
     "data": {
      "image/png": "[encoded data removed]",
      "text/plain": [
       "<Figure size 432x288 with 1 Axes>"
      ]
     },
     "metadata": {},
     "output_type": "display_data"
    }
   ],
   "source": [
    "# lets create some random data\n",
    "randomData = bpd.DataFrame(data = {\n",
    "    \"Data_A\" : (np.random.randint(0,100,size=(200)))\n",
    "}, index=np.arange(200))\n",
    "\n",
    "# create a random set of data that is +/-20 from generated Data A  \n",
    "randomCol = randomData.get('Data_A')\n",
    "newCol = np.array([])\n",
    "\n",
    "for i in range(randomCol.shape[0]):\n",
    "    newCol = np.append(newCol, int(randomCol.iloc[i] + np.random.randint(-40,40)))\n",
    "    #check within 0 and 100\n",
    "    if newCol[i] > 100:\n",
    "        newCol[i] = 100\n",
    "    if newCol[i] < 0:\n",
    "        newCol[i] = 0\n",
    "\n",
    "randomData=randomData.assign(Data_B = newCol)\n",
    "\n",
    "\n",
    "#plot the data\n",
    "randomData.plot(kind='scatter', x='Data_A', y='Data_B')"
   ]
  },
  {
   "cell_type": "markdown",
   "metadata": {},
   "source": [
    "### Converting columns to standard units\n",
    "* makes different scatterplots comparable\n",
    "* allows x and y axis to be \"similarly scaled\"\n",
    "    - both axes measure standard deviations from their means\n",
    "* doesn't change shape of the scatterplot (conversion is linear)"
   ]
  },
  {
   "cell_type": "code",
   "execution_count": 34,
   "metadata": {},
   "outputs": [],
   "source": [
    "# a simple function to help up standardize the units\n",
    "def standard_units(any_numbers):\n",
    "    \"Convert any array of numbers to standard units.\"\n",
    "    any_numbers = np.array(any_numbers)\n",
    "    return (any_numbers - np.mean(any_numbers))/np.std(any_numbers)"
   ]
  },
  {
   "cell_type": "code",
   "execution_count": 35,
   "metadata": {},
   "outputs": [
    {
     "data": {
      "text/plain": [
       "<AxesSubplot:xlabel='Data_A_su', ylabel='Data_B_su'>"
      ]
     },
     "execution_count": 35,
     "metadata": {},
     "output_type": "execute_result"
    },
    {
     "data": {
      "image/png": "[encoded data removed]",
      "text/plain": [
       "<Figure size 432x288 with 1 Axes>"
      ]
     },
     "metadata": {},
     "output_type": "display_data"
    }
   ],
   "source": [
    "# Lets standardize the original (randomlly generated) Data\n",
    "Data_A_su = standard_units(randomData.get('Data_A'))\n",
    "Data_B_su = standard_units(randomData.get('Data_B'))\n",
    "\n",
    "#make a new data frame\n",
    "randomData_su = bpd.DataFrame()\n",
    "randomData_su = randomData_su.assign(Data_A_su = Data_A_su)\n",
    "randomData_su = randomData_su.assign(Data_B_su = Data_B_su)\n",
    "\n",
    "randomData_su\n",
    "\n",
    "#plot the data\n",
    "randomData_su.plot(kind='scatter', x='Data_A_su', y='Data_B_su')"
   ]
  },
  {
   "cell_type": "markdown",
   "metadata": {},
   "source": [
    "## Definition: Correlation Coefficient\n",
    "\n",
    "**Definition**: The correlation coefficient $r$ of two attributes $x$ and $y$ is the average value of the product of $x$ and $y$ when measured in standard units.\n",
    "\n",
    "* If `x` and `y` are arrays (i.e. columns in a table): \n",
    "```\n",
    "r = np.mean(x_su * y_su)\n",
    "```\n",
    "where `x_su` and `y_su` are `x` and `y` converted to standard units.\n",
    "\n",
    "\n",
    "* Measures how clustered points are around a straight line (linear association)\n",
    "* Based on standard units\n",
    "* $-1 \\leq r \\leq 1$\n",
    "    - $r = 1$: scatterplot is a line of slope 1.\n",
    "    - $r = -1$: scatterplot is a line of slope -1.\n",
    "* $r = 0$: no linear association; *uncorrelated*."
   ]
  },
  {
   "cell_type": "code",
   "execution_count": 36,
   "metadata": {},
   "outputs": [
    {
     "data": {
      "text/plain": [
       "0.7579505885799074"
      ]
     },
     "execution_count": 36,
     "metadata": {},
     "output_type": "execute_result"
    }
   ],
   "source": [
    "r = (randomData_su.get('Data_A_su') * randomData_su.get('Data_B_su')).mean()\n",
    "r"
   ]
  },
  {
   "cell_type": "markdown",
   "metadata": {},
   "source": [
    "## Using the correlation coefficient for prediction\n",
    "In standard units:\n",
    "* The line through $(0,0)$ with slope $r$ is called the regression line.\n",
    "* If the association between attributes is linear, the graph of averages is approximately the regression line.\n",
    "* If the line is given by $f(x) = mx + b$, then the prediction for $x$ is given by $f(x)$."
   ]
  },
  {
   "cell_type": "markdown",
   "metadata": {},
   "source": [
    "## Regression line equation:\n",
    "\n",
    "* In standard units:\n",
    "$$ y = r \\times x $$\n",
    "* In original units, \n",
    "    - where $m_x$, $m_y$ are the averages of $x$ and $y$\n",
    "    - where $s_x$, $s_y$ are the standard deviations of $x$ and $y$,\n",
    "$$\\frac{(y - m_y)}{s_y} = r \\times \\frac{(x - m_x)}{s_x}$$\n",
    "* This equation reworked into the point-slope form of a line:\n",
    "$$(y - m_y) = \\left(\\frac{r\\cdot s_y}{s_x}\\right)(x - m_x)$$\n",
    "\n",
    "* Or in the slope-intercept form:\n",
    "\n",
    "$$y = \\left(\\frac{r\\cdot s_y}{s_x}\\right)x + \\left(m_y - \\frac{r\\cdot s_y\\cdot m_x}{s_x}\\right)$$"
   ]
  },
  {
   "cell_type": "markdown",
   "metadata": {},
   "source": [
    "## Slope and intercept\n",
    "\n",
    "* The regression line is given by $y = mx + b$, where:\n",
    "    - the slope $m$ is: $$m = r\\cdot\\frac{SD\\ of\\ x}{SD\\ of\\ y}$$\n",
    "    - the y-intercept $b$ is: $$b = (avg\\ of\\ y) - m\\cdot(avg\\ of\\ x)$$\n"
   ]
  },
  {
   "cell_type": "code",
   "execution_count": 37,
   "metadata": {},
   "outputs": [],
   "source": [
    "#define the correlation, slop and intercept function\n",
    "def correlation(t, x, y):\n",
    "    return np.mean(standard_units(t.get(x))*standard_units(t.get(y)))\n",
    "\n",
    "def slope(t, x, y):\n",
    "    \"\"\"The slope of the regression line (original units)\"\"\"\n",
    "    r = correlation(t, x, y)\n",
    "    return r * np.std(t.get(y)) / np.std(t.get(x))\n",
    "\n",
    "def intercept(t, x, y):\n",
    "    \"\"\"The intercept of the regression line (original units)\"\"\"\n",
    "    return t.get(y).mean() - slope(t, x, y) * t.get(x).mean()\n"
   ]
  },
  {
   "cell_type": "code",
   "execution_count": 38,
   "metadata": {},
   "outputs": [
    {
     "name": "stdout",
     "output_type": "stream",
     "text": [
      "Slope: 0.8116935061676374  y-intercept: 8.862296274557536\n"
     ]
    },
    {
     "data": {
      "image/png": "[encoded data removed]",
      "text/plain": [
       "<Figure size 432x288 with 1 Axes>"
      ]
     },
     "metadata": {},
     "output_type": "display_data"
    }
   ],
   "source": [
    "#use our defined functions to find slope and intercept\n",
    "m = slope(randomData, 'Data_A', 'Data_B')\n",
    "b = intercept(randomData, 'Data_A', 'Data_B')\n",
    "\n",
    "print('Slope: ' + str(m) + '  y-intercept: ' + str(b))\n",
    "\n",
    "#polt with our dataFrame:\n",
    "randomData.plot(kind='scatter', x='Data_A', y='Data_B')\n",
    "x = np.arange(0,100)\n",
    "plt.plot(x, m * x + b, color='C1');\n"
   ]
  },
  {
   "cell_type": "markdown",
   "metadata": {},
   "source": [
    "## Good luck on the final & thanks for a great quarter! "
   ]
  },
  {
   "cell_type": "code",
   "execution_count": null,
   "metadata": {},
   "outputs": [],
   "source": []
  }
 ],
 "metadata": {
  "kernelspec": {
   "display_name": "Python 3",
   "language": "python",
   "name": "python3"
  },
  "language_info": {
   "codemirror_mode": {
    "name": "ipython",
    "version": 3
   },
   "file_extension": ".py",
   "mimetype": "text/x-python",
   "name": "python",
   "nbconvert_exporter": "python",
   "pygments_lexer": "ipython3",
   "version": "3.8.5"
  }
 },
 "nbformat": 4,
 "nbformat_minor": 4
}
