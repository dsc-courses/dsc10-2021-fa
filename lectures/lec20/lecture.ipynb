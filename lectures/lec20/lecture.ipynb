{
 "cells": [
  {
   "cell_type": "code",
   "execution_count": null,
   "metadata": {
    "slideshow": {
     "slide_type": "skip"
    }
   },
   "outputs": [],
   "source": [
    "# Imports\n",
    "import babypandas as bpd\n",
    "import numpy as np\n",
    "import math\n",
    "\n",
    "import matplotlib.pyplot as plt\n",
    "import warnings; warnings.simplefilter('ignore')\n",
    "\n",
    "plt.style.use('fivethirtyeight')\n",
    "\n",
    "# Animations\n",
    "from IPython.display import display, IFrame\n",
    "\n",
    "def show_bootstrapping_slides():\n",
    "    src = \"https://docs.google.com/presentation/d/e/2PACX-1vS_iYHJYXSVMMZ-YQVFwMEFR6EFN3FDSAvaMyUm-YJfLQgRMTHm3vI-wWJJ5999eFJq70nWp2hyItZg/embed?start=false&loop=false&delayms=3000\"\n",
    "    width = 960\n",
    "    height = 509\n",
    "    display(IFrame(src, width, height))\n",
    "    \n",
    "def show_confidence_interval_slides():\n",
    "    src=\"https://docs.google.com/presentation/d/e/2PACX-1vTaPZsueXI6fey_5cj2Y1TevkR1joBvpwaWVsZNvgBlnJSrw1EiBLHJywkFH_QNLU5Tdr6JZgDrhFxG/embed?start=false&loop=false&delayms=3000\"\n",
    "    width = 960\n",
    "    height = 989\n",
    "    display(IFrame(src, width, height))"
   ]
  },
  {
   "cell_type": "markdown",
   "metadata": {
    "slideshow": {
     "slide_type": "slide"
    }
   },
   "source": [
    "# Lecture 20 – Percentiles and Confidence Intervals\n",
    "\n",
    "## DSC 10, Fall 2021"
   ]
  },
  {
   "cell_type": "markdown",
   "metadata": {
    "slideshow": {
     "slide_type": "slide"
    }
   },
   "source": [
    "### Announcements\n",
    "\n",
    "- Lab 6 due **Saturday 11/13 at 11:59pm**.\n",
    "- Homework 6 will be released later today and will be due **Tuesday 11/16 at 11:59pm**.\n",
    "- Tutor applications for next quarter are due on Friday! [Apply here](https://academicaffairs.ucsd.edu/Modules/ASES/Apply.aspx?cid=4371).\n",
    "    - You can't tutor before your third quarter at UCSD (if you're not eligible now, apply in the winter for the spring)!"
   ]
  },
  {
   "cell_type": "markdown",
   "metadata": {
    "slideshow": {
     "slide_type": "slide"
    }
   },
   "source": [
    "### Agenda\n",
    "\n",
    "- Review: bootstrapping.\n",
    "- Percentiles.\n",
    "- Confidence intervals.\n",
    "- Confidence intervals for hypothesis testing."
   ]
  },
  {
   "cell_type": "markdown",
   "metadata": {
    "slideshow": {
     "slide_type": "slide"
    }
   },
   "source": [
    "## Review: bootstrapping"
   ]
  },
  {
   "cell_type": "markdown",
   "metadata": {
    "slideshow": {
     "slide_type": "slide"
    }
   },
   "source": [
    "**Goal:** Estimate the distribution of a sample statistic, given just a single sample."
   ]
  },
  {
   "cell_type": "code",
   "execution_count": null,
   "metadata": {
    "slideshow": {
     "slide_type": "slide"
    }
   },
   "outputs": [],
   "source": [
    "show_bootstrapping_slides()"
   ]
  },
  {
   "cell_type": "markdown",
   "metadata": {
    "slideshow": {
     "slide_type": "slide"
    }
   },
   "source": [
    "### Recall: City of San Diego salary data\n",
    "\n",
    "- We're interested in the median of all salaries (this is our population parameter).\n",
    "- In this case we know it, but in reality we will not."
   ]
  },
  {
   "cell_type": "code",
   "execution_count": null,
   "metadata": {},
   "outputs": [],
   "source": [
    "population = bpd.read_csv('data/2020_salaries.csv')\n",
    "population_median = population.get('TotalWages').median()\n",
    "population_median"
   ]
  },
  {
   "cell_type": "markdown",
   "metadata": {
    "slideshow": {
     "slide_type": "slide"
    }
   },
   "source": [
    "### Taking a single (large) random sample"
   ]
  },
  {
   "cell_type": "code",
   "execution_count": null,
   "metadata": {},
   "outputs": [],
   "source": [
    "np.random.seed(23) # Ignore this\n",
    "my_sample = population.sample(500, replace=False)\n",
    "my_sample"
   ]
  },
  {
   "cell_type": "markdown",
   "metadata": {
    "slideshow": {
     "slide_type": "slide"
    }
   },
   "source": [
    "### Bootstrapping\n",
    "\n",
    "- Step 0: Collect a sample of the population – done.\n",
    "- Step 1: Resample from the sample, **with replacement**, to create a new bootstrapped resample of the same size.\n",
    "- Step 2: Compute the statistic on this resample and store it in an array.\n",
    "- Step 3: Repeat Steps 1 and 2 many, many times."
   ]
  },
  {
   "cell_type": "code",
   "execution_count": null,
   "metadata": {},
   "outputs": [],
   "source": [
    "# Note that the population DataFrame doesn't appear anywhere here!\n",
    "\n",
    "n_resamples = 500\n",
    "boot_medians = np.array([])\n",
    "\n",
    "for i in range(n_resamples):\n",
    "    \n",
    "    # Resample from my_sample\n",
    "    resample = my_sample.sample(500, replace=True)\n",
    "    \n",
    "    # Compute the median\n",
    "    median = resample.get('TotalWages').median()\n",
    "    \n",
    "    # Store it in our array of medians\n",
    "    boot_medians = np.append(boot_medians, median)"
   ]
  },
  {
   "cell_type": "code",
   "execution_count": null,
   "metadata": {},
   "outputs": [],
   "source": [
    "boot_medians"
   ]
  },
  {
   "cell_type": "markdown",
   "metadata": {
    "slideshow": {
     "slide_type": "slide"
    }
   },
   "source": [
    "Now that we have this array of bootstrapped sample medians, we can visualize it."
   ]
  },
  {
   "cell_type": "code",
   "execution_count": null,
   "metadata": {},
   "outputs": [],
   "source": [
    "bpd.DataFrame().assign(BootstrapMedians=boot_medians).plot(kind='hist', density=True, bins=np.arange(60000, 85000, 1000), ec='w', figsize=(10, 5))\n",
    "plt.scatter(population_median, 0.000004, color='orange', s=100, label='population median').set_zorder(2)\n",
    "plt.legend();"
   ]
  },
  {
   "cell_type": "markdown",
   "metadata": {},
   "source": [
    "- Again, we can only plot the orange dot because we happen to know the population parameter in this case (for teaching purposes).\n",
    "    - In reality, you will not know the population parameter!"
   ]
  },
  {
   "cell_type": "markdown",
   "metadata": {
    "slideshow": {
     "slide_type": "slide"
    }
   },
   "source": [
    "## Percentiles"
   ]
  },
  {
   "cell_type": "markdown",
   "metadata": {
    "slideshow": {
     "slide_type": "slide"
    }
   },
   "source": [
    "### What's the point?\n",
    "\n",
    "- We just learned how to approximate the distribution of a sample statistic.\n",
    "- This means that we now have a sense of how much our estimates can vary.\n",
    "- If someone asks, \"what's your best guess of the population parameter?\"\n",
    "    - We're not just going to give them a single sample statistic.\n",
    "    - We're not going to give them our entire bootstrapped distribution, either.\n",
    "    - Instead, we may want to give them a range, or **interval**, of likely values for the population parameter.\n",
    "- In order to talk about intervals, we need to talk about percentiles."
   ]
  },
  {
   "cell_type": "markdown",
   "metadata": {
    "slideshow": {
     "slide_type": "slide"
    }
   },
   "source": [
    "### Mathematical Definition\n",
    "\n",
    "> Let $p$ be a number between 0 and 100. The $p$th percentile of a collection is the smallest value in the collection that is *at least as large* as $p$% of all the values. \n",
    "\n",
    "By this definition, any percentile between 0 and 100 can be computed for any collection of values and is always an element of the collection. "
   ]
  },
  {
   "cell_type": "markdown",
   "metadata": {
    "slideshow": {
     "slide_type": "slide"
    }
   },
   "source": [
    "### How to calculate percentiles using mathematical definition\n",
    "\n",
    "Suppose there are $n$ elements in the collection. To find the $p$th percentile:\n",
    "\n",
    "1. Sort the collection in increasing order.\n",
    "2. Define $h$ to be $p\\%$ of $n$: \n",
    "\n",
    "$$h = \\frac p{100} \\cdot n$$\n",
    "\n",
    "3. If $h$ is an integer, define $k = h$. Otherwise, let $k$ be the smallest integer greater than $h$.\n",
    "\n",
    "4. Take the $k$th element of the sorted collection\n",
    "    - Start counting from 1, not 0."
   ]
  },
  {
   "cell_type": "markdown",
   "metadata": {
    "slideshow": {
     "slide_type": "slide"
    }
   },
   "source": [
    "### Example\n",
    "\n",
    "What is the 25th percentile of the array `np.array([1, 2, 3, 4, 5, 6, 7, 8, 9, 10])`?"
   ]
  },
  {
   "cell_type": "markdown",
   "metadata": {
    "slideshow": {
     "slide_type": "slide"
    }
   },
   "source": [
    "### Discussion Question\n",
    "\n",
    "What is the 60th percentile of this sorted array?\n",
    "\n",
    "`np.array([10, 18, 35, 45, 55, 56, 70, 89])`\n",
    "\n",
    "- A. 45\n",
    "- B. 53\n",
    "- C. 55\n",
    "- D. 60\n",
    "- E. 70\n",
    "\n",
    "### To answer, go to [menti.com](https://menti.com) and enter the code 9590 5895."
   ]
  },
  {
   "cell_type": "markdown",
   "metadata": {
    "slideshow": {
     "slide_type": "slide"
    }
   },
   "source": [
    "### Calculating the percentile using our mathematical definition"
   ]
  },
  {
   "cell_type": "code",
   "execution_count": null,
   "metadata": {},
   "outputs": [],
   "source": [
    "def our_percentile(data, p):\n",
    "    n = len(data)\n",
    "    h = (p / 100) * n\n",
    "    k = int(np.ceil(h)) # If h is an integer, this is h. Otherwise, rounds up.\n",
    "    return data[k - 1] # -1 because Python is 0-indexed, but regular math is 1-indexed."
   ]
  },
  {
   "cell_type": "code",
   "execution_count": null,
   "metadata": {},
   "outputs": [],
   "source": [
    "our_percentile(np.arange(1, 11), 25)"
   ]
  },
  {
   "cell_type": "markdown",
   "metadata": {
    "slideshow": {
     "slide_type": "slide"
    }
   },
   "source": [
    "### Another definition of percentile\n",
    "\n",
    "- The `numpy` package provides a function to calculate percentiles, `np.percentile(array, p)`, which returns the `p`th percentile of `array`.\n",
    "- The `numpy` method of calculating percentile is slightly different than ours.\n",
    "    - The result need not be an element of the array. \n",
    "    - Details are unimportant, just know that our mathematical definition does not always match `np.percentile`!"
   ]
  },
  {
   "cell_type": "code",
   "execution_count": null,
   "metadata": {},
   "outputs": [],
   "source": [
    "np.percentile(np.arange(1, 11), 25)"
   ]
  },
  {
   "cell_type": "markdown",
   "metadata": {
    "slideshow": {
     "slide_type": "slide"
    }
   },
   "source": [
    "## Confidence intervals"
   ]
  },
  {
   "cell_type": "markdown",
   "metadata": {
    "slideshow": {
     "slide_type": "slide"
    }
   },
   "source": [
    "### Confidence intervals\n",
    "\n",
    "\n",
    "- Goal: estimate an unknown population parameter.\n",
    "- We have been saying \n",
    ">\"My guess for the population parameter is my sample statistic, $x$.\"\n",
    "- We want to say \n",
    ">\"My guess is that the population parameter is between $a$ and $b$.\"\n",
    "- Let's use the bootstrapped distribution of an estimate to compute an **interval** that contains \"the bulk\" of the estimates."
   ]
  },
  {
   "cell_type": "markdown",
   "metadata": {
    "slideshow": {
     "slide_type": "slide"
    }
   },
   "source": [
    "### A 95% confidence interval for median salary\n",
    "\n",
    "- Recall our bootstrapped distribution of the sample median.\n",
    "- Suppose by \"bulk\", we mean containing the middle 95% of the area."
   ]
  },
  {
   "cell_type": "code",
   "execution_count": null,
   "metadata": {},
   "outputs": [],
   "source": [
    "bpd.DataFrame().assign(BootstrapMedians=boot_medians).plot(kind='hist', density=True, bins=np.arange(60000, 85000, 1000), ec='w', figsize=(10, 5))\n",
    "plt.scatter(population_median, 0.000004, color='orange', s=100, label='population median').set_zorder(2)\n",
    "plt.legend();"
   ]
  },
  {
   "cell_type": "markdown",
   "metadata": {
    "slideshow": {
     "slide_type": "slide"
    }
   },
   "source": [
    "### Finding endpoints\n",
    "\n",
    "- We want to find two points, $x$ and $y$, such that the area:\n",
    "    - to the left of $x$ is about 2.5%.\n",
    "    - to the right of $y$ is about 2.5%.\n",
    "- The interval $[x,y]$ will contain about 95% of the total area, i.e. **95% of the total values**.\n",
    "- $x$ and $y$ are the 2.5th percentile and 97.5th percentile, respectively."
   ]
  },
  {
   "cell_type": "code",
   "execution_count": null,
   "metadata": {},
   "outputs": [],
   "source": [
    "# Left endpoint\n",
    "left = np.percentile(boot_medians, 2.5)\n",
    "left"
   ]
  },
  {
   "cell_type": "code",
   "execution_count": null,
   "metadata": {},
   "outputs": [],
   "source": [
    "# Right endpoint\n",
    "right = np.percentile(boot_medians, 97.5)\n",
    "right"
   ]
  },
  {
   "cell_type": "code",
   "execution_count": null,
   "metadata": {},
   "outputs": [],
   "source": [
    "# Therefore, our interval is\n",
    "[left, right]"
   ]
  },
  {
   "cell_type": "markdown",
   "metadata": {},
   "source": [
    "You will use the code above **very** frequently moving forward!"
   ]
  },
  {
   "cell_type": "markdown",
   "metadata": {
    "slideshow": {
     "slide_type": "slide"
    }
   },
   "source": [
    "### Visualizing our 95% confidence interval\n",
    "\n",
    "- Let's draw the interval we just computed on the histogram.\n",
    "- 95% of the bootstrap medians fell into this interval."
   ]
  },
  {
   "cell_type": "code",
   "execution_count": null,
   "metadata": {
    "scrolled": true
   },
   "outputs": [],
   "source": [
    "bpd.DataFrame().assign(BootstrapMedians=boot_medians).plot(kind='hist', density=True, bins=np.arange(60000, 85000, 1000), ec='w', figsize=(10, 5))\n",
    "plt.plot([left, right], [0, 0], color='lime', linewidth=12, label='95% confidence interval');\n",
    "plt.scatter(population_median, 0.000004, color='orange', s=100, label='population median').set_zorder(3)\n",
    "plt.legend();"
   ]
  },
  {
   "cell_type": "markdown",
   "metadata": {},
   "source": [
    "- In this case, our 95% confidence interval (lime green) contains the true population parameter (orange dot).\n",
    "    - It won't always, because you might have a bad original sample!\n",
    "    - In reality, you won't know where the population parameter is, and so you won't know if your confidence interval contains it."
   ]
  },
  {
   "cell_type": "markdown",
   "metadata": {
    "slideshow": {
     "slide_type": "slide"
    }
   },
   "source": [
    "### Discussion Question\n",
    "\n",
    "Would an 80% confidence interval be wider, narrower, or the same size as our 95% confidence interval?\n",
    "\n",
    "- A. Wider\n",
    "- B. Narrower\n",
    "- C. The same size\n",
    "\n",
    "### To answer, go to [menti.com](https://menti.com) and enter the code 9590 5895."
   ]
  },
  {
   "cell_type": "markdown",
   "metadata": {
    "slideshow": {
     "slide_type": "slide"
    }
   },
   "source": [
    "## Interpreting confidence intervals"
   ]
  },
  {
   "cell_type": "markdown",
   "metadata": {
    "slideshow": {
     "slide_type": "slide"
    }
   },
   "source": [
    "### Interpreting confidence intervals\n",
    "\n",
    "- 95% of our bootstrap medians fell within this interval.\n",
    "- We're pretty confident that the true median does, too.\n",
    "- How confident should we be about this? **What does a 95% confidence interval mean?**"
   ]
  },
  {
   "cell_type": "markdown",
   "metadata": {
    "slideshow": {
     "slide_type": "slide"
    }
   },
   "source": [
    "### Capturing the true value\n",
    "\n",
    "- Consider the process of:\n",
    "    - Collecting a **new original sample** from the population,\n",
    "    - Bootstrap resampling from it many times, computing the statistic (e.g. median) in each resample, and\n",
    "    - Constructing a new 95% confidence interval.\n",
    "- What a 95% confidence level states is that **approximately 95% of the time, the intervals you create through this process will contain the true population parameter**.\n",
    "- The confidence is in **the process** that generates the interval."
   ]
  },
  {
   "attachments": {
    "Bootstrap200.png": {
     "image/png": "[encoded data removed]"
    }
   },
   "cell_type": "markdown",
   "metadata": {
    "slideshow": {
     "slide_type": "slide"
    }
   },
   "source": [
    "### Many confidence intervals\n",
    "\n",
    "![Bootstrap200.png](attachment:Bootstrap200.png)\n",
    "\n",
    "- The blue line represents the population parameter (it is slightly off, since it uses old data).\n",
    "- The green lines represent **200** confidence intervals that result from repeating this process several times: \n",
    "    - new original sample  \n",
    "    - new distribution of bootstrapped medians  \n",
    "    - new confidence interval\n",
    "- Most of them contain the true parameter – but not all!"
   ]
  },
  {
   "attachments": {
    "BoostrapsOutside.png": {
     "image/png": "[encoded data removed]"
    }
   },
   "cell_type": "markdown",
   "metadata": {
    "slideshow": {
     "slide_type": "slide"
    }
   },
   "source": [
    "### Which confidence intervals don't contain the true parameter?\n",
    "\n",
    "\n",
    "![BoostrapsOutside.png](attachment:BoostrapsOutside.png)\n",
    "\n",
    "- 7 of my 200 confidence intervals didn't contain the true parameter.\n",
    "- That means 193/200, or 96.5% of them, did.\n",
    "    - Pretty close to 95%!\n",
    "- In reality, you will have **no way of knowing if your confidence interval contains the true parameter**, since you never know if your original sample is good."
   ]
  },
  {
   "cell_type": "markdown",
   "metadata": {
    "slideshow": {
     "slide_type": "slide"
    }
   },
   "source": [
    "### Misinterpreting confidence intervals"
   ]
  },
  {
   "cell_type": "code",
   "execution_count": null,
   "metadata": {},
   "outputs": [],
   "source": [
    "# Our interval\n",
    "[left, right]"
   ]
  },
  {
   "cell_type": "markdown",
   "metadata": {},
   "source": [
    "- It is **not true** that this interval contains 95% of all salaries.\n",
    "- Instead, it is true that this interval contains 95% of all bootstrapped **median** salaries."
   ]
  },
  {
   "cell_type": "code",
   "execution_count": null,
   "metadata": {},
   "outputs": [],
   "source": [
    "population.plot(kind='hist', y='TotalWages', density=True, ec='w', figsize=(10, 5))\n",
    "plt.plot([left, right], [0, 0], color='lime', linewidth=10, label='95% confidence interval');\n",
    "plt.legend();"
   ]
  },
  {
   "cell_type": "markdown",
   "metadata": {
    "slideshow": {
     "slide_type": "slide"
    }
   },
   "source": [
    "### Misinterpreting confidence intervals"
   ]
  },
  {
   "cell_type": "code",
   "execution_count": null,
   "metadata": {},
   "outputs": [],
   "source": [
    "# Our interval\n",
    "[left, right]"
   ]
  },
  {
   "cell_type": "markdown",
   "metadata": {},
   "source": [
    "- It is **not true** that there is a 95% chance that this interval contains the population parameter.\n",
    "    - The population parameter is fixed. In reality, we might not know it, but it is **not random**.\n",
    "    - The interval above is not random, either.\n",
    "    - Either the population parameter is in the interval, or it is not. There is no randomness involved.\n",
    "- Remember that the 95% confidence is in the process that created an interval.\n",
    "    - This process (sampling, then bootstrapping, then creating an interval) creates a good interval roughly 95% of the time."
   ]
  },
  {
   "cell_type": "code",
   "execution_count": null,
   "metadata": {
    "slideshow": {
     "slide_type": "slide"
    }
   },
   "outputs": [],
   "source": [
    "show_confidence_interval_slides()"
   ]
  },
  {
   "cell_type": "markdown",
   "metadata": {
    "slideshow": {
     "slide_type": "slide"
    }
   },
   "source": [
    "## Confidence intervals and hypothesis testing"
   ]
  },
  {
   "cell_type": "markdown",
   "metadata": {
    "slideshow": {
     "slide_type": "slide"
    }
   },
   "source": [
    "### Using a confidence interval for hypothesis testing\n",
    "\n",
    "- **Null hypothesis**: The population parameter is equal to some value, $x$.\n",
    "- **Alternative hypothesis**: The population parameter isn't equal to $x$.\n",
    "- Cutoff for p-value: p%.\n",
    "- Strategy:\n",
    "    - Construct a (100-p)% confidence interval for the population parameter.\n",
    "    - If $x$ is not in the interval, reject the null hypothesis.\n",
    "    - If $x$ is in the interval, our results are consistent with the null (can't reject it)."
   ]
  },
  {
   "cell_type": "markdown",
   "metadata": {
    "slideshow": {
     "slide_type": "slide"
    }
   },
   "source": [
    "### Example: Fire-Rescue Department 🚒"
   ]
  },
  {
   "cell_type": "code",
   "execution_count": null,
   "metadata": {
    "scrolled": true
   },
   "outputs": [],
   "source": [
    "fire_rescue_population = population[population.get('DepartmentOrSubdivision') == \"Fire-Rescue\"]\n",
    "fire_rescue_population"
   ]
  },
  {
   "cell_type": "markdown",
   "metadata": {
    "slideshow": {
     "slide_type": "slide"
    }
   },
   "source": [
    "### Just a sample\n",
    "- Suppose we only have access to a sample of 300 Fire-Rescue Department workers.\n",
    "- We want to understand the median salary of *all* Fire-Rescue Department workers.\n",
    "- **Null hypothesis**: The median salary of Fire-Rescue Department workers is the same as the median of all San Diego city employee salaries, \\$71,354.50.\n",
    "- **Alternative hypothesis**: The median salary of Fire-Rescue Department workers is not the same as the median of all San Diego city employee salaries.\n",
    "- We'll use a significance level (i.e. p-value cutoff) of 0.01, to be *really* sure."
   ]
  },
  {
   "cell_type": "code",
   "execution_count": null,
   "metadata": {},
   "outputs": [],
   "source": [
    "# The median salary of all City of SD employees, in all departments\n",
    "population_median"
   ]
  },
  {
   "cell_type": "code",
   "execution_count": null,
   "metadata": {
    "scrolled": true
   },
   "outputs": [],
   "source": [
    "fire_rescue_sample = fire_rescue_population.sample(300, replace=False)\n",
    "fire_rescue_sample"
   ]
  },
  {
   "cell_type": "markdown",
   "metadata": {
    "slideshow": {
     "slide_type": "slide"
    }
   },
   "source": [
    "### Testing the hypotheses\n",
    "- Since we're using a significance level of 0.01 = 1%, we need a 99% confidence interval for the median salary of Fire-Rescue Department workers.\n",
    "- To construct a confidence interval, bootstrap and find middle 99% of distribution using `np.percentile`."
   ]
  },
  {
   "cell_type": "code",
   "execution_count": null,
   "metadata": {},
   "outputs": [],
   "source": [
    "n_resamples = 500\n",
    "\n",
    "fire_rescue_medians = np.array([])\n",
    "for i in range(n_resamples):\n",
    "    \n",
    "    # Resample from fire_rescue_sample\n",
    "    resample = fire_rescue_sample.sample(300, replace=True)\n",
    "    \n",
    "    # Compute the median\n",
    "    median = resample.get('TotalWages').median()\n",
    "    \n",
    "    # Add it to our array of bootstrapped medians\n",
    "    fire_rescue_medians = np.append(fire_rescue_medians, median)"
   ]
  },
  {
   "cell_type": "code",
   "execution_count": null,
   "metadata": {},
   "outputs": [],
   "source": [
    "fire_rescue_medians"
   ]
  },
  {
   "cell_type": "markdown",
   "metadata": {
    "slideshow": {
     "slide_type": "slide"
    }
   },
   "source": [
    "### Finding the interval"
   ]
  },
  {
   "cell_type": "code",
   "execution_count": null,
   "metadata": {},
   "outputs": [],
   "source": [
    "fire_left = np.percentile(fire_rescue_medians, 0.5)\n",
    "fire_left"
   ]
  },
  {
   "cell_type": "code",
   "execution_count": null,
   "metadata": {},
   "outputs": [],
   "source": [
    "fire_right = np.percentile(fire_rescue_medians, 99.5)\n",
    "fire_right"
   ]
  },
  {
   "cell_type": "code",
   "execution_count": null,
   "metadata": {},
   "outputs": [],
   "source": [
    "# Resulting interval\n",
    "[fire_left, fire_right]"
   ]
  },
  {
   "cell_type": "markdown",
   "metadata": {
    "slideshow": {
     "slide_type": "fragment"
    }
   },
   "source": [
    "Is \\$71,354.50 in this interval? 🤔"
   ]
  },
  {
   "cell_type": "markdown",
   "metadata": {
    "slideshow": {
     "slide_type": "slide"
    }
   },
   "source": [
    "### Conclusion of the hypothesis test\n",
    "- Since our 99% confidence interval did not contain the median of all San Diego city employee salaries, \\$71,354.50, we reject the null.\n",
    "- Fire-Rescue Department workers do not have the same median salary as other city employees.\n",
    "- Can't say why."
   ]
  },
  {
   "cell_type": "code",
   "execution_count": null,
   "metadata": {},
   "outputs": [],
   "source": [
    "bpd.DataFrame().assign(FireRescueBootstrapMedians=fire_rescue_medians).plot(kind='hist', density=True, bins=np.arange(75000, 125000, 1000), ec='w', figsize=(10, 5))\n",
    "plt.plot([fire_left, fire_right], [0, 0], color='lime', linewidth=12, label='95% confidence interval');\n",
    "plt.legend();"
   ]
  },
  {
   "cell_type": "code",
   "execution_count": null,
   "metadata": {},
   "outputs": [],
   "source": [
    "# Actual population median of Fire-Rescue Department salaries\n",
    "fire_rescue_population.get('TotalWages').median()"
   ]
  },
  {
   "cell_type": "markdown",
   "metadata": {
    "slideshow": {
     "slide_type": "slide"
    }
   },
   "source": [
    "## Summary"
   ]
  },
  {
   "cell_type": "markdown",
   "metadata": {
    "slideshow": {
     "slide_type": "slide"
    }
   },
   "source": [
    "### Summary\n",
    "\n",
    "- The $p$th percentile of a collection is the smallest value in the collection that is *at least as large* as $p$% of all the values. \n",
    "- After creating a bootstrapped distribution of a statistic, we can create a $c$% confidence interval by taking the middle $c$% of values of the bootstrapped distribution.\n",
    "    - Interpretation: if you create many different c% confidence intervals, roughly c% of them will contain the true population parameter.\n",
    "    - This method of creating confidence intervals is known as the **bootstrap percentile method**.\n",
    "- We can use confidence intervals for hypothesis tests where the null hypothesis is that the population parameter is equal to some value.\n",
    "- **Next time:** discussing center and spread (mean, median, and variance)."
   ]
  }
 ],
 "metadata": {
  "celltoolbar": "Slideshow",
  "kernelspec": {
   "display_name": "Python 3",
   "language": "python",
   "name": "python3"
  },
  "language_info": {
   "codemirror_mode": {
    "name": "ipython",
    "version": 3
   },
   "file_extension": ".py",
   "mimetype": "text/x-python",
   "name": "python",
   "nbconvert_exporter": "python",
   "pygments_lexer": "ipython3",
   "version": "3.8.8"
  },
  "livereveal": {
   "scroll": true,
   "transition": "none"
  }
 },
 "nbformat": 4,
 "nbformat_minor": 2
}
