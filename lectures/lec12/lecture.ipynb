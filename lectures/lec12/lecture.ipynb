{
 "cells": [
  {
   "cell_type": "code",
   "execution_count": null,
   "metadata": {
    "slideshow": {
     "slide_type": "skip"
    }
   },
   "outputs": [],
   "source": [
    "# Imports\n",
    "import numpy as np"
   ]
  },
  {
   "cell_type": "markdown",
   "metadata": {
    "slideshow": {
     "slide_type": "slide"
    }
   },
   "source": [
    "# Lecture 12 – Probability\n",
    "\n",
    "## DSC 10, Fall 2021"
   ]
  },
  {
   "cell_type": "markdown",
   "metadata": {
    "slideshow": {
     "slide_type": "slide"
    }
   },
   "source": [
    "### Announcements\n",
    "\n",
    "- Lab 4 due **tomorrow at 11:59pm**.\n",
    "- Homework 4 due **Saturday 10/23 at 11:59pm**.\n",
    "- Project 1 due **Tuesday 11/2 at 11:59pm**.\n",
    "    - Pushed back!\n",
    "- Midterm Exam **next Wednesday 10/27 during lecture**.\n",
    "- Remote discussion next week is converted to a Midterm Review Session; remote discussion after that is cancelled."
   ]
  },
  {
   "cell_type": "markdown",
   "metadata": {
    "slideshow": {
     "slide_type": "slide"
    }
   },
   "source": [
    "### Midterm Exam details\n",
    "\n",
    "- Midterm Exam **next Wednesday 10/27 during lecture**.\n",
    "    - You **must** take it during your assigned lecture slot.\n",
    "- It will be a 50 minute exam, administered through Gradescope.\n",
    "    - e.g. If you are in Lecture C00, it will appear on Gradescope at exactly 9:00AM and you will have to submit it at exactly 9:50AM.\n",
    "    - **DO NOT OPEN THE EXAMS FOR OTHER SECTIONS**! If you do so, you will get a 0.\n",
    "- Format: mix of multiple choice and short answer.\n",
    "    - You will write all of your code directly on Gradescope, **not** in a Jupyter Notebook.\n",
    "- Rules: Open notes, open internet, must work alone.\n",
    "    - You're not allowed to talk to **anyone** during the exam, in-person or online, even if they have nothing to do with DSC 10.\n",
    "    - You also should not discuss the exam with anyone after you take it until we make a Campuswire post saying all exams are over.\n",
    "    - No posting on Campuswire, unless it is to ask us a question via private post.\n",
    "- More details to come."
   ]
  },
  {
   "cell_type": "markdown",
   "metadata": {
    "slideshow": {
     "slide_type": "slide"
    }
   },
   "source": [
    "### Agenda\n",
    "\n",
    "- Review and finish iteration from last lecture.\n",
    "- Introduction to probability."
   ]
  },
  {
   "cell_type": "markdown",
   "metadata": {
    "slideshow": {
     "slide_type": "slide"
    }
   },
   "source": [
    "## Iteration"
   ]
  },
  {
   "cell_type": "code",
   "execution_count": null,
   "metadata": {
    "slideshow": {
     "slide_type": "slide"
    }
   },
   "outputs": [],
   "source": [
    "teams = [\"bunnies\", \"colts\", \"ducklings\", \"fawns\", \"joeys\", \n",
    "         \"lambs\", \"piglets\", \"porcupettes\", \"puppies\", \"tadpoles\"]\n",
    "\n",
    "for team in teams:\n",
    "    print('Go ' + team + '!!!')"
   ]
  },
  {
   "cell_type": "markdown",
   "metadata": {
    "slideshow": {
     "slide_type": "slide"
    }
   },
   "source": [
    "### Building an array by iterating\n",
    "\n",
    "- **Question: How many letters are in each team's name?**\n",
    "- We can figure it out one team at a time, but we want to save our results!\n",
    "- To do this, we use `np.append`, which appends (adds) an element to the end of an array.\n",
    "- We will follow this pattern **very often** when generating data and running experiments or simulations."
   ]
  },
  {
   "cell_type": "code",
   "execution_count": null,
   "metadata": {
    "slideshow": {
     "slide_type": "slide"
    }
   },
   "outputs": [],
   "source": [
    "teams"
   ]
  },
  {
   "cell_type": "code",
   "execution_count": null,
   "metadata": {},
   "outputs": [],
   "source": [
    "# Creating an empty array to store our results\n",
    "lengths = np.array([])\n",
    "\n",
    "for team in teams:\n",
    "    lengths = np.append(lengths, len(team))\n",
    "    \n",
    "lengths"
   ]
  },
  {
   "cell_type": "markdown",
   "metadata": {
    "slideshow": {
     "slide_type": "slide"
    }
   },
   "source": [
    "### Working with strings\n",
    "- String are sequences, so we can iterate over them, too!"
   ]
  },
  {
   "cell_type": "code",
   "execution_count": null,
   "metadata": {},
   "outputs": [],
   "source": [
    "for letter in 'uc san diego':\n",
    "    print(letter.upper())"
   ]
  },
  {
   "cell_type": "code",
   "execution_count": null,
   "metadata": {},
   "outputs": [],
   "source": [
    "'california'.count('a')"
   ]
  },
  {
   "cell_type": "markdown",
   "metadata": {
    "slideshow": {
     "slide_type": "slide"
    }
   },
   "source": [
    "### Discussion Question\n",
    "\n",
    "Fill in the two blanks so that `vowel_count` returns the number of vowels in the input string `s`.\n",
    "\n",
    "```py\n",
    "def vowel_count(s):\n",
    "    number = 0\n",
    "    for vowel in _______:\n",
    "        number = number + _______\n",
    "    return number\n",
    "```\n",
    "\n",
    "\n",
    "A. `s`;&nbsp;&nbsp;  `'aeiou'.count(vowel)`\n",
    "\n",
    "B. `vowels`;&nbsp;&nbsp; `s.count(vowel)`\n",
    "\n",
    "C. `'aeiou'`;&nbsp;&nbsp;  `s[vowel]`\n",
    "\n",
    "D. `'aeiou'`;&nbsp;&nbsp;  `s.count(vowel)`\n",
    "\n",
    "E. `np.arange(len(vowels))`;&nbsp;&nbsp; `vowel`\n",
    "\n",
    "\n",
    "### To answer, go to [menti.com](https://menti.com) and enter the code 5779 8128."
   ]
  },
  {
   "cell_type": "markdown",
   "metadata": {
    "slideshow": {
     "slide_type": "slide"
    }
   },
   "source": [
    "## Motivation for probability"
   ]
  },
  {
   "cell_type": "markdown",
   "metadata": {
    "slideshow": {
     "slide_type": "slide"
    }
   },
   "source": [
    "### Swain vs. Alabama, 1965\n",
    "- Robert Swain was a black man convicted of crime in Talladega County, Alabama.\n",
    "- He appealed the jury's decision all the way to the Supreme Court, on the grounds that Talladega County systematically excluded Black people from juries.\n",
    "- At the time, only men 21 years or older were allowed to serve on juries. 26% of this population was Black.\n",
    "- But of the 100 men on Robert Swain's jury panel, only 8 were Black."
   ]
  },
  {
   "cell_type": "markdown",
   "metadata": {
    "slideshow": {
     "slide_type": "slide"
    }
   },
   "source": [
    "### Supreme Court Ruling\n",
    "\n",
    "- About disparities between the percentages in the eligible population and the jury panel, the Supreme Court wrote:\n",
    "\n",
    "> \"... the overall percentage disparity has been small...”\n",
    "\n",
    "- The Supreme Court denied Robert Swain’s appeal and he was sentenced.\n",
    "- The fact that the jury panel had far fewer Black men proportionally than Talladega County is an example of racial bias.\n",
    "- Over the next few weeks, we will give you tools to quantitatively highlight this bias.\n",
    "    - We will try to answer the question, \"what are the chances that this disparity was due to random chance?\"\n",
    "    - If this chance is small, we know something is wrong.\n",
    "    - But first: we need to formalize what **probability** is."
   ]
  },
  {
   "cell_type": "markdown",
   "metadata": {
    "slideshow": {
     "slide_type": "slide"
    }
   },
   "source": [
    "## Probability theory"
   ]
  },
  {
   "cell_type": "markdown",
   "metadata": {
    "slideshow": {
     "slide_type": "slide"
    }
   },
   "source": [
    "### Probability theory\n",
    "\n",
    "- Some things in life *seem* random.\n",
    "    - e.g. flipping a coin 🪙 or rolling a die 🎲.\n",
    "- The **probability** of seeing \"heads\" is 50%.\n",
    "- One interpretation of probability says that if we flipped a coin infinitely many times, then 50% of outcomes would be heads."
   ]
  },
  {
   "cell_type": "markdown",
   "metadata": {
    "slideshow": {
     "slide_type": "slide"
    }
   },
   "source": [
    "### Terminology\n",
    "\n",
    "- **Experiment**: A process or action whose result is random.\n",
    "    - e.g., rolling a die.\n",
    "    - e.g., flipping a coin twice.\n",
    "- **Outcome**: The result of an experiment.\n",
    "    - e.g., the possible outcomes of rolling a six-sided die are 1, 2, 3, 4, 5, 6.\n",
    "    - e.g., the possible outcomes of flipping a coin twice are HH, HT, TH, TT.\n",
    "- **Event**: A set of outcomes.\n",
    "    - e.g., the event that the die lands on a even number is the collection of outcomes {2, 4, 6}.\n",
    "    - e.g., the event that the die lands on a 5 is the collection of outcomes {5}.\n",
    "    - e.g., the event that there was at least one head in two flips is the collection of outcomes {HH, HT, TH}."
   ]
  },
  {
   "cell_type": "markdown",
   "metadata": {
    "slideshow": {
     "slide_type": "slide"
    }
   },
   "source": [
    "### Terminology\n",
    "\n",
    "- **Probability**: A number between 0 and 1 which describes the likelihood of an event.\n",
    "    - 0: the event never happens.\n",
    "    - 1: the event always happens.\n",
    "- Notation: if $A$ is an event, $P(A)$ is the probability of that event."
   ]
  },
  {
   "cell_type": "markdown",
   "metadata": {
    "slideshow": {
     "slide_type": "slide"
    }
   },
   "source": [
    "### Equally-likely outcomes\n",
    "\n",
    "- If all outcomes in event $A$ are equally likely, then the probability of $A$ is computed as follows:\n",
    "\n",
    "$$\n",
    "P(A) = \\frac{\n",
    "    \\text{# of outcomes that make $A$ happen}\n",
    "}{\n",
    "    \\text{total # of outcomes}\n",
    "}\n",
    "$$"
   ]
  },
  {
   "cell_type": "markdown",
   "metadata": {
    "slideshow": {
     "slide_type": "slide"
    }
   },
   "source": [
    "### Discussion Question\n",
    "\n",
    "I have three cards: red, blue, and green. What is the chance that I choose a card at random, and it is green, then – **without putting it back** – I choose another card at random and it is red?\n",
    "\n",
    "- A) 1/9\n",
    "- B) 1/6\n",
    "- C) 1/3\n",
    "- D) 2/3\n",
    "- E) None of the above.\n",
    "\n",
    "### To answer, go to [menti.com](https://menti.com) and enter the code 5779 8128."
   ]
  },
  {
   "cell_type": "markdown",
   "metadata": {
    "slideshow": {
     "slide_type": "slide"
    }
   },
   "source": [
    "### Discussion Question solved\n",
    "\n",
    "- The possible outcomes are: RG, RB, GR, GB, BR, BG.\n",
    "- These outcomes are equally-likely.\n",
    "- There is only one outcome which makes the event happen: GR.\n",
    "- Hence the probability is $1/6$."
   ]
  },
  {
   "cell_type": "markdown",
   "metadata": {
    "slideshow": {
     "slide_type": "slide"
    }
   },
   "source": [
    "### Conditional probabilities\n",
    "\n",
    "- Two events $A$ and $B$ can both happen.\n",
    "    - e.g. $A$ is the event \"roll is 3 or less\", $B$ is the event \"roll is even\".\n",
    "- Suppose that we know $A$ has happened, but we don't know if $B$ has.\n",
    "- The conditional probability of $B$ given $A$ is:\n",
    "\n",
    "$$\n",
    "P(B \\text{ given } A)\n",
    "= \\frac{\n",
    "    \\text{# of outcomes satisfying both $A$ and $B$}\n",
    "}{\n",
    "    \\text{# of outcomes satisfying $A$}\n",
    "}\n",
    "$$"
   ]
  },
  {
   "cell_type": "markdown",
   "metadata": {
    "slideshow": {
     "slide_type": "slide"
    }
   },
   "source": [
    "### Discussion Question\n",
    "\n",
    "$$\n",
    "P(B \\text{ given } A)\n",
    "= \\frac{\n",
    "    \\text{# of outcomes satisfying both $A$ and $B$}\n",
    "}{\n",
    "    \\text{# of outcomes satisfying $A$}\n",
    "}\n",
    "$$\n",
    "\n",
    "I roll a six-sided die and don't tell you what the result is, but I tell you that it is 3 or less. What is the probability that the result is even?\n",
    "\n",
    "- A) 1/2\n",
    "- B) 1/3\n",
    "- C) 1/4\n",
    "- D) None of the above.\n",
    "\n",
    "### To answer, go to [menti.com](https://menti.com) and enter the code 5779 8128."
   ]
  },
  {
   "cell_type": "markdown",
   "metadata": {
    "slideshow": {
     "slide_type": "slide"
    }
   },
   "source": [
    "### Discussion Question solved\n",
    "\n",
    "$$\n",
    "P(B \\text{ given } A)\n",
    "= \\frac{\n",
    "    \\text{# of outcomes satisfying both $A$ and $B$}\n",
    "}{\n",
    "    \\text{# of outcomes satisfying $A$}\n",
    "}\n",
    "$$\n",
    "\n",
    "I roll a six-sided die and don't tell you what the result is, but I tell you that it is 3 or less. What is the probability that the result is even?\n",
    "\n",
    "- There are three outcomes where the roll is 3 or less: 1, 2, 3.\n",
    "- There is only one outcome where both $A$ and $B$ happen: 2.\n",
    "- So $P(B \\text{ given } A) = 1/3$."
   ]
  },
  {
   "cell_type": "markdown",
   "metadata": {
    "slideshow": {
     "slide_type": "slide"
    }
   },
   "source": [
    "### Probability that two events both happen\n",
    "\n",
    "$$\n",
    "P(A \\text{ and } B) = \\frac{\n",
    "    \\text{# of outcomes satisfying both $A$ and $B$}\n",
    "}{\n",
    "    \\text{total # of outcomes}\n",
    "}\n",
    "$$\n",
    "\n",
    "What is the probability that the roll 3 or less and even?\n",
    "\n",
    "- Only 1 outcome satisfies both: rolling a 2.\n",
    "- There are 6 total outcomes.\n",
    "- Thus, $P(A \\text{ and } B) = 1/6$."
   ]
  },
  {
   "cell_type": "markdown",
   "metadata": {
    "slideshow": {
     "slide_type": "slide"
    }
   },
   "source": [
    "### Another way to compute the probability that two events both happen\n",
    "\n",
    "$$\n",
    "    P(A \\text{ and } B)\n",
    "    =\n",
    "    P(B \\text{ given } A) \\cdot P(A)\n",
    "$$\n",
    "\n",
    "What is the probability that the roll 3 or less and even?\n",
    "\n",
    "- We saw probability of the roll being even given that the roll is 3 or less is 1/3.\n",
    "- The probability that the roll is 3 or less is 1/2.\n",
    "- Thus, the probability the roll is both even and 3 or less is $1/3 \\cdot 1/2 = 1/6$.\n",
    "- Note that an equivalent formula is $P(A \\text{ and } B) = P (A \\text{ given } B) \\cdot P(B)$."
   ]
  },
  {
   "cell_type": "markdown",
   "metadata": {
    "slideshow": {
     "slide_type": "slide"
    }
   },
   "source": [
    "### What if $A$ isn't affected by $B$? 🤔\n",
    "\n",
    "- We have found that $P(A \\text{ and } B) = P(B \\text{ given } A)\\cdot P(A)$.\n",
    "- Sometimes $P(B \\text{ given } A) = P(B)$. Then $P(A \\text{ and } B) = P(A) \\cdot P(B)$.\n",
    "- Example: Suppose we flip a fair coin three times.\n",
    "    - The probability that the second flip is heads doesn't depend on the result of the first flip.\n",
    "- What is the probability of getting tails three times in a row?\n",
    "    - $1/2 \\cdot 1/2 \\cdot 1/2 = 1/8$."
   ]
  },
  {
   "cell_type": "markdown",
   "metadata": {
    "slideshow": {
     "slide_type": "slide"
    }
   },
   "source": [
    "### Probability of either of two events happening\n",
    "\n",
    "$$\n",
    "P(A \\text{ or } B) = \\frac{\n",
    "    \\text{# of outcomes satisfying either $A$ or $B$}\n",
    "    }{\n",
    "    \\text{total # of outcomes}\n",
    "    }\n",
    "$$"
   ]
  },
  {
   "cell_type": "markdown",
   "metadata": {
    "slideshow": {
     "slide_type": "slide"
    }
   },
   "source": [
    "### Mutual exclusivity\n",
    "\n",
    "- Suppose that if $A$ happens, then $B$ doesn't, and if $B$ happens then $A$ doesn't.\n",
    "- Then the # of outcomes satisfying either $A$ or $B$ is just:\n",
    "$$\n",
    "    (\\text{# of outcomes satisfying $A$})\n",
    "    +\n",
    "    (\\text{# of outcomes satisfying $B$})\n",
    "$$\n",
    "- So **if** $A$ and $B$ are mutually exclusive:\n",
    "\n",
    "$$\n",
    "\\begin{align*}\n",
    "    P(A \\text{ or } B) \n",
    "    &= \\frac{\n",
    "        \\text{# of outcomes satisfying either $A$ or $B$}\n",
    "        }{\n",
    "        \\text{total # of outcomes}\n",
    "        }\n",
    "        \\\\[1em]\n",
    "    &= \\frac{\n",
    "            (\\text{# of outcomes satisfying $A$})\n",
    "            +\n",
    "            (\\text{# of outcomes satisfying $B$})\n",
    "        }{\n",
    "        \\text{total # of outcomes}\n",
    "        }\n",
    "        \\\\[1em]\n",
    "    &= \\frac{\n",
    "            (\\text{# of outcomes satisfying $A$})\n",
    "        }{\n",
    "        \\text{total # of outcomes}\n",
    "        }\n",
    "        +\n",
    "        \\frac{\n",
    "            (\\text{# of outcomes satisfying $B$})\n",
    "        }{\n",
    "        \\text{total # of outcomes}\n",
    "        }\n",
    "    \\\\[1em]\n",
    "    &= P(A) + P(B)\n",
    "\\end{align*}\n",
    "$$"
   ]
  },
  {
   "cell_type": "markdown",
   "metadata": {
    "slideshow": {
     "slide_type": "slide"
    }
   },
   "source": [
    "### Probability that an event *doesn't* happen\n",
    "\n",
    "- The probability that $A$ doesn't happen is just $1 - P(A)$.\n",
    "- Example: If the probability it is sunny tomorrow is 0.85, then the probability it is not sunny tomorrow is 0.15."
   ]
  },
  {
   "cell_type": "markdown",
   "metadata": {
    "slideshow": {
     "slide_type": "slide"
    }
   },
   "source": [
    "### Discussion Question\n",
    "\n",
    "Every time I call my grandma 👵, the probability that she answers her phone is 1/3. If I call my grandma three times today, what is the chance that I will talk to her at least once?\n",
    "\n",
    "- A) 1/3\n",
    "- B) 2/3\n",
    "- C) 1/2\n",
    "- D) 1\n",
    "- E) None of the above.\n",
    "\n",
    "### To answer, go to [menti.com](https://menti.com) and enter the code 5779 8128."
   ]
  },
  {
   "cell_type": "markdown",
   "metadata": {
    "slideshow": {
     "slide_type": "slide"
    }
   },
   "source": [
    "### Discussion Question solved\n",
    "\n",
    "- Let's first calculate the probability that she doesn't answer her phone in three tries.\n",
    "    - The probability she doesn't answer her phone on any one attempt is 2/3.\n",
    "    - So the probability she doesn't answer her phone in three tries is $2/3 \\cdot 2/3 \\cdot 2/3 = 8/27$.\n",
    "- But we want the probability of her answering **at least** once. So we subtract the above result from 1.\n",
    "    - $1 - 8/27 = 19/27$; none of the above!"
   ]
  },
  {
   "cell_type": "markdown",
   "metadata": {
    "slideshow": {
     "slide_type": "slide"
    }
   },
   "source": [
    "## Summary"
   ]
  },
  {
   "cell_type": "markdown",
   "metadata": {
    "slideshow": {
     "slide_type": "slide"
    }
   },
   "source": [
    "### Summary\n",
    "\n",
    "- Probabilities describe the likelihood of an event occurring.\n",
    "- There are several rules for computing probabilities. We looked at a few special cases:\n",
    "    - When all outcomes are equally likely.\n",
    "    - When we know that event $A$ has occurred and want the probability that event $B$ will occur.\n",
    "    - When we want the probability that both events $A$ and $B$ occur.\n",
    "    - When we want the probability that event $A$ or event $B$ occurs.\n",
    "        - When two events are mutually exclusive, they have no shared outcomes.\n",
    "    - When we want the probability that event $A$ doesn't occur.\n",
    "- **Next time:** simulations."
   ]
  }
 ],
 "metadata": {
  "celltoolbar": "Slideshow",
  "kernelspec": {
   "display_name": "Python 3",
   "language": "python",
   "name": "python3"
  },
  "language_info": {
   "codemirror_mode": {
    "name": "ipython",
    "version": 3
   },
   "file_extension": ".py",
   "mimetype": "text/x-python",
   "name": "python",
   "nbconvert_exporter": "python",
   "pygments_lexer": "ipython3",
   "version": "3.8.5"
  },
  "livereveal": {
   "scroll": true,
   "transition": "none"
  }
 },
 "nbformat": 4,
 "nbformat_minor": 2
}
