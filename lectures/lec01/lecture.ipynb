{
 "cells": [
  {
   "cell_type": "markdown",
   "metadata": {
    "slideshow": {
     "slide_type": "slide"
    }
   },
   "source": [
    "# Lecture 1 – Introduction\n",
    "\n",
    "## DSC 10, Fall 2021"
   ]
  },
  {
   "cell_type": "markdown",
   "metadata": {
    "slideshow": {
     "slide_type": "slide"
    }
   },
   "source": [
    "### Welcome to DSC 10! 🎉\n",
    "- A guided tour of data science\n",
    "- A course developed by UC Berkeley in 2015 and adapted by UC San Diego in 2017\n",
    "- Learn just enough programming and statistics to do data science\n",
    "    - Statistics without too much math, mostly simulation\n",
    "    - Lays the foundation for all other courses in the DSC major"
   ]
  },
  {
   "cell_type": "markdown",
   "metadata": {
    "slideshow": {
     "slide_type": "slide"
    }
   },
   "source": [
    "### Agenda\n",
    "\n",
    "- Who are we?\n",
    "- What is data science?\n",
    "- How will this course run?\n",
    "- Literature demo"
   ]
  },
  {
   "cell_type": "markdown",
   "metadata": {
    "slideshow": {
     "slide_type": "slide"
    }
   },
   "source": [
    "### About the Instructors\n",
    "\n",
    "#### Dr. Janine Tiefenbruck (call me Janine) – A00, B00\n",
    "- BS in Math and Computer Science at Loyola MD, PhD in Math (Combinatorics) at UCSD\n",
    "- Teaching at UCSD: Math, CSE, now DSC; sixth time teaching DSC 10\n",
    "- Outside interests: crafting, playing board games, hiking, baking 🎂"
   ]
  },
  {
   "cell_type": "markdown",
   "metadata": {
    "slideshow": {
     "slide_type": "fragment"
    }
   },
   "source": [
    "#### Suraj Rampure (call me Suraj) – C00\n",
    "- BS and MS in EECS at UC Berkeley\n",
    "- First quarter at UCSD; created and taught DS courses at Berkeley\n",
    "- Outside interests: basketball, travel, TikTok, FaceTiming my dog 🐶"
   ]
  },
  {
   "cell_type": "markdown",
   "metadata": {
    "slideshow": {
     "slide_type": "slide"
    }
   },
   "source": [
    "### Course Staff\n",
    "\n",
    "In addition to the instructors, we have several other course staff members who are here to support you in discussion, office hours, and Campuswire.\n",
    "\n",
    "- 1 graduate TA: Natalie Keelan\n",
    "- 10 undergraduate tutors: Harry Cheon, Betty Gong, Aven Huang, Yi Li,  Dylan Lee, Henry Luu, Karthikeya Manchala, Natalie Wu, Du Xiang, Alina Zhi\n",
    "\n",
    "Learn more about them (and us!) at [dsc10.com/staff](https://dsc10.com/staff)."
   ]
  },
  {
   "cell_type": "markdown",
   "metadata": {
    "slideshow": {
     "slide_type": "slide"
    }
   },
   "source": [
    "### About You\n",
    "\n",
    "Do you have any programming experience?\n",
    "\n",
    "<div align=center>\n",
    "<img src=\"https://i.imgur.com/Bv3DBGa.gif\" width=500>\n",
    "</div>\n",
    "\n",
    "A. Yes, I'm a pro!\n",
    "\n",
    "B. I have some experience.\n",
    "\n",
    "C. I know a few basic concepts.\n",
    "\n",
    "D. No experience whatsoever!\n",
    "\n",
    "### To answer, go to **[menti.com](https://menti.com)** and enter the code **8405 2415**."
   ]
  },
  {
   "cell_type": "markdown",
   "metadata": {
    "slideshow": {
     "slide_type": "slide"
    }
   },
   "source": [
    "## What is Data Science?"
   ]
  },
  {
   "cell_type": "markdown",
   "metadata": {
    "slideshow": {
     "slide_type": "slide"
    }
   },
   "source": [
    "### What is Data Science?\n",
    "\n",
    "Drawing useful conclusions from data using computation.\n",
    "\n",
    "- **Exploration**\n",
    "    - Identifying patterns in information\n",
    "    - Uses visualizations\n",
    "- **Prediction**\n",
    "    - Making informed guesses\n",
    "    - Uses machine learning and optimization\n",
    "- **Inference**\n",
    "    - Quantifying whether those predictions are reliable\n",
    "    - Uses randomization\n",
    "    \n",
    "In this class, we'll focus on the first and third, with a touch of the second."
   ]
  },
  {
   "cell_type": "markdown",
   "metadata": {
    "slideshow": {
     "slide_type": "slide"
    }
   },
   "source": [
    "### Data science is more relevant than ever\n",
    "\n",
    "<img src='images/covid.png'>"
   ]
  },
  {
   "cell_type": "markdown",
   "metadata": {
    "slideshow": {
     "slide_type": "slide"
    }
   },
   "source": [
    "### Social implications\n",
    "\n",
    "A [\"Face Depixelizer\"](https://github.com/tg-bomze/Face-Depixelizer) released last year takes pixelated images and generates images that are perceptually realistic and downscale correctly.\n",
    "\n",
    "<center>\n",
    "<img src='images/depixel.png' width=200>\n",
    "</center>\n",
    "    \n",
    "What happened here? Why do you think this happened?\n",
    "\n",
    "<center>\n",
    "<img src='images/depixel2.png' width=600>\n",
    "</center>"
   ]
  },
  {
   "cell_type": "markdown",
   "metadata": {
    "slideshow": {
     "slide_type": "slide"
    }
   },
   "source": [
    "## Course Logistics"
   ]
  },
  {
   "cell_type": "markdown",
   "metadata": {
    "slideshow": {
     "slide_type": "slide"
    }
   },
   "source": [
    "### Course Website\n",
    "\n",
    "The course website is your one-stop-shop for all things related to the course.\n",
    "\n",
    "### [dsc10.com](https://dsc10.com)\n",
    "\n",
    "This is where lectures, homeworks, labs, discussions, and all other content will be posted. Check it often!"
   ]
  },
  {
   "cell_type": "markdown",
   "metadata": {
    "slideshow": {
     "slide_type": "slide"
    }
   },
   "source": [
    "### Getting Set Up\n",
    "\n",
    "- **Campuswire**: Q&A forum and team chatrooms. Must be active here, since this is where all announcements will be made. Should have gotten email invitation; if not, [join here](https://campuswire.com/p/G9636FFCF).\n",
    "- **Gradescope**: Where you will submit all assignments for autograding. Should have been automatically added; contact us if not.\n",
    "- **DataHub**: Where you will access and run all code in this class. Access at https://datahub.ucsd.edu.\n",
    "- **Canvas**: Where Zoom links for remote OH and discussion, and the OH calendar live.\n",
    "\n",
    "In addition, you must also fill out our [Integrity of Scholarship Agreement](https://docs.google.com/forms/d/e/1FAIpQLScsVcHW4AhwmQ9_veAfTVtDMOjZPYR-X90Dd8YS9N_33joO7Q/viewform) form."
   ]
  },
  {
   "cell_type": "markdown",
   "metadata": {
    "slideshow": {
     "slide_type": "slide"
    }
   },
   "source": [
    "### Lecture\n",
    "\n",
    "- There are 3 lecture sections (A00, B00, C00). Due to space constraints, you **must** attend the lecture section you're assigned to.\n",
    "- Attendance is not required, and recordings will be posted to [podcast.ucsd.edu](https://podcast.ucsd.edu) a few hours after lecture.\n",
    "- Slides/code from lecture will be linked on the course website.\n",
    "- We will draw readings from two sources:\n",
    "    - [Dive Into Data Science (DDS)](https://eldridgejm.github.io/dive_into_data_science/front.html), an in-progress textbook being written specifically for DSC 10.\n",
    "    - [Computational and Inferential Thinking (CIT)](https://inferentialthinking.com), a textbook for the Berkeley course that DSC 10 was adopted from."
   ]
  },
  {
   "cell_type": "markdown",
   "metadata": {
    "slideshow": {
     "slide_type": "slide"
    }
   },
   "source": [
    "### Discussion\n",
    "\n",
    "- Discussion section focuses on solving concrete problems using the techniques introduced in lecture.\n",
    "- Great prep for assignments and exams, especially if you have no prior programming experience.\n",
    "- Attendance in discussion is highly recommended but not required.\n",
    "- There are three discussion sections; you can attend any one, regardless of which one you're officially enrolled in.\n",
    "    - Mondays 3-4PM in Ridge Walk Academic Complex 0121\n",
    "    - Mondays 4-5PM in Ridge Walk Academic Complex 0121\n",
    "    - Tuesdays 5-6PM, remotely via Zoom\n",
    "- Recordings will be posted at either [podcast.ucsd.edu](https://podcast.ucsd.edu) (in-person sections) or Canvas (remote section)."
   ]
  },
  {
   "cell_type": "markdown",
   "metadata": {
    "slideshow": {
     "slide_type": "slide"
    }
   },
   "source": [
    "### Labs\n",
    "- Lab assignments are a required part of the course and help you develop fluency in Python and working with data.\n",
    "- While working on the lab, you'll be able to run **autograder tests** which tell you if your answers are correct.\n",
    "    - For labs, if you pass all autograder tests, you will get 100\\%!\n",
    "- Submit lab assignments individually, but you can work with others (no sharing code).\n",
    "- Labs are usually due **Tuesdays at 11:59pm** to Gradescope. The first lab will have submission instructions.\n",
    "    - At least one exception: Lab 1 is due **on Saturday, 10/2 at 11:59pm**."
   ]
  },
  {
   "cell_type": "markdown",
   "metadata": {
    "slideshow": {
     "slide_type": "slide"
    }
   },
   "source": [
    "### Homeworks and Projects\n",
    "\n",
    "- Weekly homework assignments build off of skills you develop in labs.\n",
    "- Key difference between homeworks and labs: passing autograder tests does not guarantee a perfect score!\n",
    "    - In homeworks, we have \"hidden tests\" that are only run after you submit the assignment.\n",
    "    - The tests that are available to you within the assignment itself only verify that your answer is reasonable/on the right track.\n",
    "- Again, you must work on homeworks yourself, but you can discuss them with other students (no sharing code).\n",
    "- Homeworks are usually due **Saturdays at 11:59pm** to Gradescope.\n",
    "- **Midterm Project and Final Project**: Deep dive into a data set! Longer than homeworks. Can work with a partner."
   ]
  },
  {
   "cell_type": "markdown",
   "metadata": {
    "slideshow": {
     "slide_type": "slide"
    }
   },
   "source": [
    "### Exams\n",
    "\n",
    "We will have two exams this quarter.\n",
    "- Midterm Exam: Wednesday, October 27th, during your scheduled lecture time.\n",
    "- Final Exam: Saturday, December 4th, 11:30AM-2:30PM.\n",
    "- Both exams will be held **remotely but synchronously**. Let us know right away if you have a conflict."
   ]
  },
  {
   "cell_type": "markdown",
   "metadata": {
    "slideshow": {
     "slide_type": "slide"
    }
   },
   "source": [
    "### Office Hours and Support\n",
    "\n",
    "This is a tough, fast-paced course. Here's where to get help:\n",
    "\n",
    "- **Office Hours**\n",
    "    - Some are held remotely via Zoom (links on Canvas). Others are held in person in the basement of the CSE building.\n",
    "    - The schedule for office hours will be visible on Canvas, and linked from the course homepage.\n",
    "- **Campuswire**\n",
    "    - You're all assigned to a [**team**](https://dsc10.com/resources/teams.pdf) of ~25 other students. Each team has a chatroom and a dedicated tutor. Ask questions there first.\n",
    "    - If you don't get the help you need there, make a general post."
   ]
  },
  {
   "cell_type": "markdown",
   "metadata": {
    "slideshow": {
     "slide_type": "slide"
    }
   },
   "source": [
    "### A Typical Week in DSC 10\n",
    "\n",
    "| Sunday | Monday | Tuesday | Wednesday | Thursday | Friday | Saturday |\n",
    "|: -- :|: -- :|: -- :|: -- :|: -- :|: -- :|: -- :|\n",
    "| Nothing! 😎 | Lecture | | Lecture | | Lecture | |\n",
    "| | Discussion | Discussion | | | | |\n",
    "| | | **Lab due** | | | | **Homework due** |\n",
    "\n",
    "See https://dsc10.com/syllabus for more details."
   ]
  },
  {
   "cell_type": "markdown",
   "metadata": {
    "slideshow": {
     "slide_type": "slide"
    }
   },
   "source": [
    "### First Assignments\n",
    "- Lab 1, due Saturday 10/2 at 11:59PM\n",
    "    - Coming out **today** after lecture. Don't worry if it looks intimidating; we'll cover the content next week (but feel free to get started).\n",
    "    - Do the lab before you do the homework!\n",
    "- Homework 1, due Saturday 10/2 at 11:59PM\n",
    "- <p style='color:red'><b>Start early and submit often</b>.</p>"
   ]
  },
  {
   "cell_type": "markdown",
   "metadata": {
    "slideshow": {
     "slide_type": "slide"
    }
   },
   "source": [
    "### Collaboration\n",
    "\n",
    "#### Asking questions is highly encouraged!\n",
    "- Discuss all questions with each other (except exams).\n",
    "- Submit lab assignments individually, but you can work with others (no sharing code).\n",
    "- Submit homeworks individually, but you can discuss problem-solving strategies with others (no sharing code).\n",
    "- Submit projects individually or in pairs (from same team) using pair programming."
   ]
  },
  {
   "cell_type": "markdown",
   "metadata": {
    "slideshow": {
     "slide_type": "fragment"
    }
   },
   "source": [
    "#### The limits of collaboration\n",
    "- Don't share solutions with each other or look at someone’s code.\n",
    "- Partners should work together and be physically in the same place.\n",
    "- Academic integrity violations usually result in failing the course. "
   ]
  },
  {
   "cell_type": "markdown",
   "metadata": {
    "slideshow": {
     "slide_type": "slide"
    }
   },
   "source": [
    "### Words of Encouragement\n",
    "\n",
    "Regardless of your background, you can succeed in this course. **No prior programming or statistics experience will be assumed!**\n",
    "\n",
    "Watch on YouTube: [We’re All Data Scientists | Rebecca Nugent | TEDxCMU](https://www.youtube.com/watch?v=YMnqPTLoj7o)\n",
    "\n",
    "We’re here for you!"
   ]
  },
  {
   "cell_type": "markdown",
   "metadata": {
    "slideshow": {
     "slide_type": "slide"
    }
   },
   "source": [
    "### Campus Resources\n",
    "\n",
    "Counseling and Psychological Services (CAPS) is a campus unit that offers “short term counseling for academic, career, and personal issues and also offers psychiatry services for circumstances when medication can help with counseling.”\n",
    "If you or anyone you know is ever in need of mental health care, you should contact CAPS.\n",
    "\n",
    "https://caps.ucsd.edu/"
   ]
  },
  {
   "cell_type": "markdown",
   "metadata": {
    "slideshow": {
     "slide_type": "slide"
    }
   },
   "source": [
    "## Literature Demo"
   ]
  },
  {
   "cell_type": "code",
   "execution_count": null,
   "metadata": {},
   "outputs": [],
   "source": [
    "import babypandas as bpd\n",
    "import numpy as np\n",
    "import matplotlib.pyplot as plt\n",
    "\n",
    "plt.style.use('fivethirtyeight')"
   ]
  },
  {
   "cell_type": "code",
   "execution_count": null,
   "metadata": {},
   "outputs": [],
   "source": [
    "# read in 'lw.txt' to a variable called \"little_women_text\"\n",
    "little_women_text = open('data/lw.txt').read()"
   ]
  },
  {
   "cell_type": "code",
   "execution_count": null,
   "metadata": {},
   "outputs": [],
   "source": [
    "# see the first three thousand characters\n",
    "little_women_text[:3000]"
   ]
  },
  {
   "cell_type": "code",
   "execution_count": null,
   "metadata": {},
   "outputs": [],
   "source": [
    "# print the first three thousand characters\n",
    "print(little_women_text[:3000])"
   ]
  },
  {
   "cell_type": "code",
   "execution_count": null,
   "metadata": {},
   "outputs": [],
   "source": [
    "# create a variable \"chapters\" by splitting the text on 'CHAPTER '\n",
    "chapters = little_women_text.split('CHAPTER ') \n",
    "chapters"
   ]
  },
  {
   "cell_type": "code",
   "execution_count": null,
   "metadata": {},
   "outputs": [],
   "source": [
    "# create a DataFrame with one column -- the chapters\n",
    "bpd.DataFrame().assign(chapters=chapters)"
   ]
  },
  {
   "cell_type": "code",
   "execution_count": null,
   "metadata": {
    "scrolled": false
   },
   "outputs": [],
   "source": [
    "# Counts of names in the chapters of Little Women\n",
    "\n",
    "counts = bpd.DataFrame().assign(\n",
    "    Amy=np.char.count(chapters, 'Amy'),\n",
    "    Beth=np.char.count(chapters, 'Beth'),\n",
    "    Jo=np.char.count(chapters, 'Jo'),\n",
    "    Meg=np.char.count(chapters, 'Meg'),\n",
    "    Laurie=np.char.count(chapters, 'Laurie'),\n",
    ")\n",
    "counts"
   ]
  },
  {
   "cell_type": "code",
   "execution_count": null,
   "metadata": {
    "scrolled": true,
    "slideshow": {
     "slide_type": "slide"
    }
   },
   "outputs": [],
   "source": [
    "# cumulative number of times each name appears\n",
    "\n",
    "bpd.DataFrame().assign(\n",
    "    Amy=np.cumsum(counts.get('Amy')),\n",
    "    Beth=np.cumsum(counts.get('Beth')),\n",
    "    Jo=np.cumsum(counts.get('Jo')),\n",
    "    Meg=np.cumsum(counts.get('Meg')),\n",
    "    Laurie=np.cumsum(counts.get('Laurie')),\n",
    "    Chapter=np.arange(1, 49, 1)\n",
    ").plot(x='Chapter')\n",
    "\n",
    "plt.title('Cumulative Number of Times Each Name Appears', y=1.08);"
   ]
  },
  {
   "cell_type": "markdown",
   "metadata": {
    "slideshow": {
     "slide_type": "slide"
    }
   },
   "source": [
    "### Question 1\n",
    "\n",
    "In Chapter 27, Jo moves to New York alone. Her relationship with which sister suffers the most from this faraway move?\n",
    "\n",
    "A. Amy\n",
    "\n",
    "B. Beth\n",
    "\n",
    "C. Meg\n",
    "\n",
    "### To answer, go to **[menti.com](https://menti.com)** and enter the code **8405 2415**."
   ]
  },
  {
   "cell_type": "markdown",
   "metadata": {
    "slideshow": {
     "slide_type": "slide"
    }
   },
   "source": [
    "### Question 2\n",
    "\n",
    "Laurie is a man who marries one of the sisters at the end. Which one?\n",
    "\n",
    "\n",
    "A. Amy\n",
    "\n",
    "B. Beth\n",
    "\n",
    "C. Jo\n",
    "\n",
    "D. Meg\n",
    "\n",
    "### To answer, go to **[menti.com](https://menti.com)** and enter the code **8405 2415**."
   ]
  },
  {
   "cell_type": "markdown",
   "metadata": {},
   "source": [
    "Who would you say is the main character?"
   ]
  },
  {
   "cell_type": "markdown",
   "metadata": {
    "slideshow": {
     "slide_type": "slide"
    }
   },
   "source": [
    "## Parting Thoughts"
   ]
  },
  {
   "cell_type": "markdown",
   "metadata": {
    "slideshow": {
     "slide_type": "slide"
    }
   },
   "source": [
    "### Preparedness\n",
    "\n",
    "We want to gauge your preparedness for the course by asking you a few questions. This survey is anonymous!\n",
    "\n",
    "### To answer, go to **[menti.com](https://menti.com)** and enter the code **8405 2415**."
   ]
  }
 ],
 "metadata": {
  "celltoolbar": "Slideshow",
  "kernelspec": {
   "display_name": "Python 3 (ipykernel)",
   "language": "python",
   "name": "python3"
  },
  "language_info": {
   "codemirror_mode": {
    "name": "ipython",
    "version": 3
   },
   "file_extension": ".py",
   "mimetype": "text/x-python",
   "name": "python",
   "nbconvert_exporter": "python",
   "pygments_lexer": "ipython3",
   "version": "3.9.5"
  }
 },
 "nbformat": 4,
 "nbformat_minor": 4
}
