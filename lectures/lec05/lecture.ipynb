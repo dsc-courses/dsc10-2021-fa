{
 "cells": [
  {
   "cell_type": "markdown",
   "metadata": {
    "slideshow": {
     "slide_type": "slide"
    }
   },
   "source": [
    "# Lecture 5 –  Accessing, Sorting, and Querying\n",
    "## DSC 10, Fall 2021"
   ]
  },
  {
   "cell_type": "markdown",
   "metadata": {
    "slideshow": {
     "slide_type": "slide"
    }
   },
   "source": [
    "### Announcements\n",
    "\n",
    "- Lab 2 is due on **Tuesday 10/5 at 11:59pm**.\n",
    "- Homework 2 is due on **Saturday 10/10 at 11:59pm**.\n",
    "- If attending in-person office hours, make sure to hit the `#` key on the keypad after typing in the SDSC building access code (491720#).\n",
    "    - The code and instructions can be found embedded within each relevant calendar event on Canvas.\n",
    "- Attend discussion today or tomorrow!"
   ]
  },
  {
   "cell_type": "markdown",
   "metadata": {
    "slideshow": {
     "slide_type": "slide"
    }
   },
   "source": [
    "### Agenda\n",
    "\n",
    "- Using a single dataset to illustrate key DataFrame manipulation techniques.\n",
    "    - Will use lots of motivating questions.\n",
    "\n",
    "#### Note:\n",
    "\n",
    "- Remember to check the [Resources tab of the course website](https://dsc10.com/resources/) for programming resources.\n",
    "- Some key links moving forward:\n",
    "    - [DSC 10 Reference Sheet](https://drive.google.com/file/d/1mQApk9Ovdi-QVqMgnNcq5dZcWucUKoG-/view).\n",
    "    - [BabyPandas Documentation](https://babypandas.readthedocs.io/en/latest/index.html)."
   ]
  },
  {
   "cell_type": "markdown",
   "metadata": {
    "slideshow": {
     "slide_type": "slide"
    }
   },
   "source": [
    "## Case study: NBA salaries 🏀"
   ]
  },
  {
   "cell_type": "code",
   "execution_count": null,
   "metadata": {},
   "outputs": [],
   "source": [
    "import babypandas as bpd\n",
    "import numpy as np"
   ]
  },
  {
   "cell_type": "markdown",
   "metadata": {
    "slideshow": {
     "slide_type": "slide"
    }
   },
   "source": [
    "### Reading data from a file\n",
    "\n",
    "- The file `nba_salaries.csv` contains all salaries from the 2015-2016 NBA (National Basketball Association) season.\n",
    "    - CSV: *comma-separated values*.\n",
    "- We can read a CSV using `bpd.read_csv()`. Give it the name of the file, if in the same directory as your notebook, or a path to the file otherwise."
   ]
  },
  {
   "cell_type": "code",
   "execution_count": null,
   "metadata": {
    "scrolled": false
   },
   "outputs": [],
   "source": [
    "salaries = bpd.read_csv('data/nba_salaries.csv')\n",
    "salaries"
   ]
  },
  {
   "cell_type": "markdown",
   "metadata": {
    "slideshow": {
     "slide_type": "slide"
    }
   },
   "source": [
    "### Discussion Question\n",
    "\n",
    "Which would be a good column to use as the index?\n",
    "\n",
    "A. `PLAYER`\n",
    "\n",
    "B. `POSITION`\n",
    "\n",
    "C. `TEAM`\n",
    "\n",
    "D. `2015_SALARY`\n",
    "\n",
    "### To answer, go to **[menti.com](https://menti.com)** and enter the code **4991 2163**.\n",
    "\n",
    "Is there something we should be worried about?"
   ]
  },
  {
   "cell_type": "markdown",
   "metadata": {
    "slideshow": {
     "slide_type": "slide"
    }
   },
   "source": [
    "### Setting the index"
   ]
  },
  {
   "cell_type": "code",
   "execution_count": null,
   "metadata": {},
   "outputs": [],
   "source": [
    "salaries_by_player = salaries.set_index('PLAYER')\n",
    "salaries_by_player"
   ]
  },
  {
   "cell_type": "markdown",
   "metadata": {
    "slideshow": {
     "slide_type": "slide"
    }
   },
   "source": [
    "### Shape of a table\n",
    "\n",
    "- `.shape` returns the number of rows and number of columns.\n",
    "- Access each with `[]`:"
   ]
  },
  {
   "cell_type": "code",
   "execution_count": null,
   "metadata": {},
   "outputs": [],
   "source": [
    "salaries_by_player.shape"
   ]
  },
  {
   "cell_type": "code",
   "execution_count": null,
   "metadata": {},
   "outputs": [],
   "source": [
    "# Number of rows\n",
    "salaries_by_player.shape[0]"
   ]
  },
  {
   "cell_type": "code",
   "execution_count": null,
   "metadata": {},
   "outputs": [],
   "source": [
    "# Number of columns\n",
    "salaries_by_player.shape[1]"
   ]
  },
  {
   "cell_type": "markdown",
   "metadata": {
    "slideshow": {
     "slide_type": "slide"
    }
   },
   "source": [
    "## Example 1: Adjusting for inflation\n",
    "\n",
    "**Key concept:** How do we access columns, perform operations on them, and add new columns?"
   ]
  },
  {
   "cell_type": "markdown",
   "metadata": {
    "slideshow": {
     "slide_type": "slide"
    }
   },
   "source": [
    "### Adjusting for inflation\n",
    "\n",
    "- These salaries are old. We should adjust for inflation.\n",
    "- $\\$1.00$ in 2015 = $\\$1.09$ in 2021.\n",
    "- Workflow:\n",
    "    - Get the column of salaries.\n",
    "    - Multiply every element by 1.09.\n",
    "    - Add new column to table."
   ]
  },
  {
   "cell_type": "markdown",
   "metadata": {
    "slideshow": {
     "slide_type": "slide"
    }
   },
   "source": [
    "#### Step 1 – Getting a column\n",
    "\n",
    "- We can get a column from a dataframe using `.get(column_name)`.\n",
    "- Warning: case sensitive!\n",
    "- The result looks like a 1-column DataFrame, but is actually a *Series*."
   ]
  },
  {
   "cell_type": "code",
   "execution_count": null,
   "metadata": {},
   "outputs": [],
   "source": [
    "salaries_by_player"
   ]
  },
  {
   "cell_type": "code",
   "execution_count": null,
   "metadata": {},
   "outputs": [],
   "source": [
    "salaries_by_player.get(\"2015_SALARY\")"
   ]
  },
  {
   "cell_type": "markdown",
   "metadata": {
    "slideshow": {
     "slide_type": "slide"
    }
   },
   "source": [
    "### Digression: Series\n",
    "\n",
    "- A *Series* is like an array, but with an index.\n",
    "- In particular, `Series`' support arithmetic."
   ]
  },
  {
   "cell_type": "code",
   "execution_count": null,
   "metadata": {},
   "outputs": [],
   "source": [
    "salaries_by_player.get(\"2015_SALARY\")"
   ]
  },
  {
   "cell_type": "markdown",
   "metadata": {
    "slideshow": {
     "slide_type": "slide"
    }
   },
   "source": [
    "#### Step 2 – Adjust the salaries for inflation\n",
    "\n",
    "- Just like with arrays, we can perform arithmetic operations on every element of a `Series` quite efficiently."
   ]
  },
  {
   "cell_type": "code",
   "execution_count": null,
   "metadata": {},
   "outputs": [],
   "source": [
    "salaries_by_player.get(\"2015_SALARY\") * 1.09"
   ]
  },
  {
   "cell_type": "markdown",
   "metadata": {
    "slideshow": {
     "slide_type": "slide"
    }
   },
   "source": [
    "#### Step 3 – Add the adjusted salaries to the table\n",
    "\n",
    "- Use `.assign(Name_of_column=data_in_array)` to assign an array (or series, or list) to a table.\n",
    "- **Warning!** No quotes around `Name_of_column`.\n",
    "- Creates a new DataFrame! Must save to variable."
   ]
  },
  {
   "cell_type": "code",
   "execution_count": null,
   "metadata": {},
   "outputs": [],
   "source": [
    "salaries_by_player.assign(\n",
    "    ADJUSTED_SALARY=salaries_by_player.get(\"2015_SALARY\") * 1.09\n",
    ")"
   ]
  },
  {
   "cell_type": "code",
   "execution_count": null,
   "metadata": {},
   "outputs": [],
   "source": [
    "salaries_by_player"
   ]
  },
  {
   "cell_type": "code",
   "execution_count": null,
   "metadata": {},
   "outputs": [],
   "source": [
    "adjusted_salaries = salaries_by_player.assign(\n",
    "    ADJUSTED_SALARY=salaries_by_player.get(\"2015_SALARY\") * 1.09\n",
    ")\n",
    "adjusted_salaries"
   ]
  },
  {
   "cell_type": "markdown",
   "metadata": {
    "slideshow": {
     "slide_type": "slide"
    }
   },
   "source": [
    "## Example 2: Getting a particular player's salary\n",
    "\n",
    "**Key concept**: How do we access specific values using an index?"
   ]
  },
  {
   "cell_type": "markdown",
   "metadata": {
    "slideshow": {
     "slide_type": "slide"
    }
   },
   "source": [
    "### How much did LeBron James 🐐 make in 2015 (adjusted for inflation)?"
   ]
  },
  {
   "cell_type": "code",
   "execution_count": null,
   "metadata": {},
   "outputs": [],
   "source": [
    "# This is a Series!\n",
    "adjusted_salaries.get('ADJUSTED_SALARY')"
   ]
  },
  {
   "cell_type": "markdown",
   "metadata": {
    "slideshow": {
     "slide_type": "slide"
    }
   },
   "source": [
    "### Accessing a Series by row label: `.loc`\n",
    "\n",
    "- Use `.loc[]` to *access* the element of a Series with a particular row label."
   ]
  },
  {
   "cell_type": "code",
   "execution_count": null,
   "metadata": {},
   "outputs": [],
   "source": [
    "adjusted_salaries.get('ADJUSTED_SALARY').loc['LeBron James']"
   ]
  },
  {
   "cell_type": "markdown",
   "metadata": {
    "slideshow": {
     "slide_type": "slide"
    }
   },
   "source": [
    "### How to get a particular element from a table\n",
    "\n",
    "1. `.get()` the column label.\n",
    "2. `.loc[]` the row label.\n",
    "\n",
    "In this class, we'll always get column, then row (but row, then column is also possible).\n",
    "\n",
    " Example: What position does LeBron play?"
   ]
  },
  {
   "cell_type": "code",
   "execution_count": null,
   "metadata": {},
   "outputs": [],
   "source": [
    "adjusted_salaries.get('POSITION').loc['LeBron James']"
   ]
  },
  {
   "cell_type": "markdown",
   "metadata": {
    "slideshow": {
     "slide_type": "slide"
    }
   },
   "source": [
    "## Example 3: Salary analysis\n",
    "\n",
    "**Key concept**: How do we compute statistics of columns?"
   ]
  },
  {
   "cell_type": "markdown",
   "metadata": {
    "slideshow": {
     "slide_type": "slide"
    }
   },
   "source": [
    "### Questions about salary\n",
    "\n",
    "- What was the highest/lowest salary? What was the average salary?\n",
    "- `Series`' have helpful methods, like `.min()`, `.max()`, `.mean()`, etc."
   ]
  },
  {
   "cell_type": "code",
   "execution_count": null,
   "metadata": {},
   "outputs": [],
   "source": [
    "adjusted_salaries.get('ADJUSTED_SALARY').min()"
   ]
  },
  {
   "cell_type": "code",
   "execution_count": null,
   "metadata": {},
   "outputs": [],
   "source": [
    "adjusted_salaries.get('ADJUSTED_SALARY').max()"
   ]
  },
  {
   "cell_type": "code",
   "execution_count": null,
   "metadata": {},
   "outputs": [],
   "source": [
    "adjusted_salaries.get('ADJUSTED_SALARY').mean()"
   ]
  },
  {
   "cell_type": "code",
   "execution_count": null,
   "metadata": {},
   "outputs": [],
   "source": [
    "adjusted_salaries.get('ADJUSTED_SALARY').median()"
   ]
  },
  {
   "cell_type": "markdown",
   "metadata": {
    "slideshow": {
     "slide_type": "slide"
    }
   },
   "source": [
    "## Example 4: *Who* had the highest salary?\n",
    "\n",
    "**Key concept**: Sorting."
   ]
  },
  {
   "cell_type": "markdown",
   "metadata": {
    "slideshow": {
     "slide_type": "slide"
    }
   },
   "source": [
    "#### Step 1 – sort the table\n",
    "\n",
    "- Use the `.sort_values(by=column_name)` method to sort.\n",
    "    - **Notice:** Like most DataFrame methods, this returns a new DataFrame.\n",
    "- Everything works as expected, but we wanted *descending* order."
   ]
  },
  {
   "cell_type": "code",
   "execution_count": null,
   "metadata": {
    "scrolled": false
   },
   "outputs": [],
   "source": [
    "adjusted_salaries.sort_values(by='ADJUSTED_SALARY')"
   ]
  },
  {
   "cell_type": "markdown",
   "metadata": {
    "slideshow": {
     "slide_type": "slide"
    }
   },
   "source": [
    "#### Step 1 – sort the table in *descending* order\n",
    "\n",
    "- Use `.sort_values(by=column_name, ascending=False)` to sort in *descending* order."
   ]
  },
  {
   "cell_type": "code",
   "execution_count": null,
   "metadata": {},
   "outputs": [],
   "source": [
    "highest_salaries = adjusted_salaries.sort_values(by='ADJUSTED_SALARY', ascending=False)\n",
    "highest_salaries"
   ]
  },
  {
   "cell_type": "markdown",
   "metadata": {
    "slideshow": {
     "slide_type": "slide"
    }
   },
   "source": [
    "#### Step 2 – get the *name* of the person with the highest salary\n",
    "\n",
    "- We saw that it was Kobe Bryant, but how do we get the name using code?\n",
    "- Remember, the index is like an array."
   ]
  },
  {
   "cell_type": "code",
   "execution_count": null,
   "metadata": {},
   "outputs": [],
   "source": [
    "highest_salaries.index[0]"
   ]
  },
  {
   "cell_type": "markdown",
   "metadata": {
    "slideshow": {
     "slide_type": "slide"
    }
   },
   "source": [
    "## Example 5: What team did the person with the third-lowest salary play for?\n",
    "\n",
    "**Key concept**: Using integer positions."
   ]
  },
  {
   "cell_type": "markdown",
   "metadata": {
    "slideshow": {
     "slide_type": "slide"
    }
   },
   "source": [
    "#### Strategy 1\n",
    "\n",
    "Using what we already know, we could...\n",
    "\n",
    "1. Sort the table in ascending order using `.sort_values(by='ADJUSTED_SALARY')`.\n",
    "2. Get the name of the person using `.index[2]` (remember, positions start at 0).\n",
    "3. Use `.get('TEAM').loc[their_name]` to get their team name.\n",
    "\n"
   ]
  },
  {
   "cell_type": "code",
   "execution_count": null,
   "metadata": {},
   "outputs": [],
   "source": [
    "lowest_salaries = adjusted_salaries.sort_values(by='ADJUSTED_SALARY')\n",
    "lowest_salaries"
   ]
  },
  {
   "cell_type": "code",
   "execution_count": null,
   "metadata": {},
   "outputs": [],
   "source": [
    "name = lowest_salaries.index[2]\n",
    "name"
   ]
  },
  {
   "cell_type": "code",
   "execution_count": null,
   "metadata": {},
   "outputs": [],
   "source": [
    "lowest_salaries.get('TEAM').loc[name]"
   ]
  },
  {
   "cell_type": "markdown",
   "metadata": {
    "slideshow": {
     "slide_type": "slide"
    }
   },
   "source": [
    "#### Another approach?\n",
    "\n",
    "- To get the third element using `.loc[]`, we first had to find its label.\n",
    "- Can we just get the 3rd element without knowing its label?\n",
    "- Yes, with `.iloc[]`:"
   ]
  },
  {
   "cell_type": "code",
   "execution_count": null,
   "metadata": {},
   "outputs": [],
   "source": [
    "lowest_salaries.get('TEAM')"
   ]
  },
  {
   "cell_type": "code",
   "execution_count": null,
   "metadata": {},
   "outputs": [],
   "source": [
    "lowest_salaries.get('TEAM').loc['Jordan McRae']"
   ]
  },
  {
   "cell_type": "code",
   "execution_count": null,
   "metadata": {},
   "outputs": [],
   "source": [
    "lowest_salaries.get('TEAM').iloc[2]"
   ]
  },
  {
   "cell_type": "markdown",
   "metadata": {
    "slideshow": {
     "slide_type": "slide"
    }
   },
   "source": [
    "#### Strategy 2\n",
    "\n",
    "1. Sort the table in ascending order using `.sort_values(by='ADJUSTED_SALARY')`, as before.\n",
    "2. Use `.get('TEAM').iloc[2]` to get the team name."
   ]
  },
  {
   "cell_type": "code",
   "execution_count": null,
   "metadata": {},
   "outputs": [],
   "source": [
    "adjusted_salaries.sort_values(by='ADJUSTED_SALARY').get('TEAM').iloc[2]"
   ]
  },
  {
   "cell_type": "markdown",
   "metadata": {
    "slideshow": {
     "slide_type": "slide"
    }
   },
   "source": [
    "### Summary of accessing a Series\n",
    "\n",
    "- There are two ways to get an element of a series:\n",
    "    - `.loc[]` uses the row label.\n",
    "    - `.iloc[]` uses the integer position.\n",
    "- Usually `.loc` is more convenient."
   ]
  },
  {
   "cell_type": "markdown",
   "metadata": {
    "slideshow": {
     "slide_type": "slide"
    }
   },
   "source": [
    "### Note\n",
    "\n",
    "- Sometimes the integer position and row label are the same.\n",
    "- This happens by default with `bpd.read_csv`:"
   ]
  },
  {
   "cell_type": "code",
   "execution_count": null,
   "metadata": {},
   "outputs": [],
   "source": [
    "bpd.read_csv('data/nba_salaries.csv')"
   ]
  },
  {
   "cell_type": "code",
   "execution_count": null,
   "metadata": {},
   "outputs": [],
   "source": [
    "bpd.read_csv('data/nba_salaries.csv').get('PLAYER').loc[3]"
   ]
  },
  {
   "cell_type": "code",
   "execution_count": null,
   "metadata": {},
   "outputs": [],
   "source": [
    "bpd.read_csv('data/nba_salaries.csv').get('PLAYER').iloc[3]"
   ]
  },
  {
   "cell_type": "markdown",
   "metadata": {
    "slideshow": {
     "slide_type": "slide"
    }
   },
   "source": [
    "## Reflection"
   ]
  },
  {
   "cell_type": "markdown",
   "metadata": {
    "slideshow": {
     "slide_type": "slide"
    }
   },
   "source": [
    "### Questions we can answer right now:\n",
    "- What was the highest salary?\n",
    "    - `adjusted_salaries.get('ADJUSTED_SALARY').max()`\n",
    "- How many players were there?\n",
    "    - `adjusted_salaries.shape[0]`\n",
    "- What was LeBron James' salary?\n",
    "    - `adjusted_salaries.get('ADJUSTED_SALARY').loc['LeBron James']`\n",
    "- _Who_ had the highest salary?\n",
    "    - `adjusted_salaries.sort_values(by='ADJUSTED_SALARY', ascending=False).index[0]`"
   ]
  },
  {
   "cell_type": "markdown",
   "metadata": {
    "slideshow": {
     "slide_type": "slide"
    }
   },
   "source": [
    "### Questions we can't yet answer:\n",
    "- What is the total payroll of the Cleveland Cavaliers?\n",
    "- How many players make over 10 million?\n",
    "- Who is the highest paid center (C)?\n",
    "\n",
    "The common thread between these questions is that they all involve only a **subset** of the rows in our table."
   ]
  },
  {
   "cell_type": "markdown",
   "metadata": {
    "slideshow": {
     "slide_type": "slide"
    }
   },
   "source": [
    "## Example 6: Who was the highest paid center (C)?\n",
    "\n",
    "**Key concept**: Selecting rows (via Boolean indexing)."
   ]
  },
  {
   "cell_type": "markdown",
   "metadata": {
    "slideshow": {
     "slide_type": "slide"
    }
   },
   "source": [
    "### Selecting rows\n",
    "\n",
    "- We could determine who was the highest paid center (C) if we had a table consisting of only centers.\n",
    "- How do we get that table?"
   ]
  },
  {
   "cell_type": "markdown",
   "metadata": {
    "slideshow": {
     "slide_type": "slide"
    }
   },
   "source": [
    "### The solution"
   ]
  },
  {
   "cell_type": "code",
   "execution_count": null,
   "metadata": {},
   "outputs": [],
   "source": [
    "adjusted_salaries[adjusted_salaries.get('POSITION') == 'C']"
   ]
  },
  {
   "cell_type": "code",
   "execution_count": null,
   "metadata": {},
   "outputs": [],
   "source": [
    "'PG' == 'C'"
   ]
  },
  {
   "cell_type": "code",
   "execution_count": null,
   "metadata": {},
   "outputs": [],
   "source": [
    "'C' == 'C'"
   ]
  },
  {
   "cell_type": "code",
   "execution_count": null,
   "metadata": {},
   "outputs": [],
   "source": [
    "adjusted_salaries.get('POSITION') == 'C'"
   ]
  },
  {
   "cell_type": "markdown",
   "metadata": {
    "slideshow": {
     "slide_type": "slide"
    }
   },
   "source": [
    "### Boolean indexing\n",
    "\n",
    "To select only some rows of `adjusted_salaries`:\n",
    "\n",
    "1. Make a list/array/Series of `True`s (keep) and `False`s (toss)\n",
    "2. Then pass it into `adjusted_salaries[]`.\n",
    "\n",
    "Rather than making the list by hand, we usually generate it by making a comparison."
   ]
  },
  {
   "cell_type": "markdown",
   "metadata": {
    "slideshow": {
     "slide_type": "slide"
    }
   },
   "source": [
    "### Elementwise comparisions work as expected"
   ]
  },
  {
   "cell_type": "code",
   "execution_count": null,
   "metadata": {},
   "outputs": [],
   "source": [
    "adjusted_salaries.get('2015_SALARY') > 5"
   ]
  },
  {
   "cell_type": "markdown",
   "metadata": {
    "slideshow": {
     "slide_type": "slide"
    }
   },
   "source": [
    "### How do we make a table with only the players who made over 5 million?"
   ]
  },
  {
   "cell_type": "code",
   "execution_count": null,
   "metadata": {},
   "outputs": [],
   "source": []
  },
  {
   "cell_type": "markdown",
   "metadata": {
    "slideshow": {
     "slide_type": "slide"
    }
   },
   "source": [
    "### How do we make a table with only the players on the Cleveland Cavaliers?"
   ]
  },
  {
   "cell_type": "code",
   "execution_count": null,
   "metadata": {},
   "outputs": [],
   "source": []
  },
  {
   "cell_type": "markdown",
   "metadata": {
    "slideshow": {
     "slide_type": "slide"
    }
   },
   "source": [
    "### Original Question: How do we determine who was the highest paid center?\n",
    "\n",
    "Strategy:\n",
    "1. Extract a table of just the centers.\n",
    "2. Sort by salary.\n",
    "3. Return the first element in the index."
   ]
  },
  {
   "cell_type": "code",
   "execution_count": null,
   "metadata": {},
   "outputs": [],
   "source": []
  },
  {
   "cell_type": "markdown",
   "metadata": {
    "slideshow": {
     "slide_type": "slide"
    }
   },
   "source": [
    "### What if the condition isn't satisfied?"
   ]
  },
  {
   "cell_type": "code",
   "execution_count": null,
   "metadata": {},
   "outputs": [],
   "source": [
    "adjusted_salaries[adjusted_salaries.get('TEAM') == 'UC San Diego Tritons']"
   ]
  },
  {
   "cell_type": "markdown",
   "metadata": {
    "slideshow": {
     "slide_type": "slide"
    }
   },
   "source": [
    "### Discussion Question\n",
    "\n",
    "Which of these three queries determines the total payroll of the Los Angeles Lakers?\n",
    "\n",
    "A. `adjusted_salaries[adjusted_salaries.get('TEAM') == 'Los Angeles Lakers'].get('ADJUSTED_SALARY').sum()`\n",
    "\n",
    "B. `adjusted_salaries.get('ADJUSTED_SALARY').sum()[adjusted_salaries.get('TEAM') == 'Los Angeles Lakers']`\n",
    "\n",
    "C. `adjusted_salaries['Los Angeles Lakers'].get('ADJUSTED_SALARY').sum()`\n",
    "\n",
    "### To answer, go to **[menti.com](https://menti.com)** and enter the code **4991 2163**."
   ]
  },
  {
   "cell_type": "code",
   "execution_count": null,
   "metadata": {},
   "outputs": [],
   "source": []
  },
  {
   "cell_type": "code",
   "execution_count": null,
   "metadata": {},
   "outputs": [],
   "source": []
  },
  {
   "cell_type": "markdown",
   "metadata": {
    "slideshow": {
     "slide_type": "slide"
    }
   },
   "source": [
    "## Summary"
   ]
  },
  {
   "cell_type": "markdown",
   "metadata": {
    "slideshow": {
     "slide_type": "slide"
    }
   },
   "source": [
    "### Summary\n",
    "\n",
    "- We learned many DataFrame methods and techniques.\n",
    "- Don't feel the need to memorize them all right away.\n",
    "- Instead, use this lecture and the aforementioned readings as references when working on the labs and homeworks.\n",
    "- Over time, these techniques will become more and more familiar.\n",
    "- **Practice!** Frame your own questions using this dataset and try and answer them."
   ]
  },
  {
   "cell_type": "markdown",
   "metadata": {
    "slideshow": {
     "slide_type": "slide"
    }
   },
   "source": [
    "### Next time\n",
    "\n",
    "- On Wednesday, we'll try and answer more involved questions involving our data, which will lead us to a new core DataFrame method – `groupby`."
   ]
  }
 ],
 "metadata": {
  "celltoolbar": "Slideshow",
  "kernelspec": {
   "display_name": "Python 3",
   "language": "python",
   "name": "python3"
  },
  "language_info": {
   "codemirror_mode": {
    "name": "ipython",
    "version": 3
   },
   "file_extension": ".py",
   "mimetype": "text/x-python",
   "name": "python",
   "nbconvert_exporter": "python",
   "pygments_lexer": "ipython3",
   "version": "3.8.5"
  }
 },
 "nbformat": 4,
 "nbformat_minor": 2
}
