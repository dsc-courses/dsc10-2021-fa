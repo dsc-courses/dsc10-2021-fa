{
 "cells": [
  {
   "cell_type": "code",
   "execution_count": null,
   "metadata": {},
   "outputs": [],
   "source": [
    "import babypandas as bpd\n",
    "import numpy as np"
   ]
  },
  {
   "cell_type": "markdown",
   "metadata": {
    "slideshow": {
     "slide_type": "slide"
    }
   },
   "source": [
    "# Lecture 6 –  More Querying and GroupBy\n",
    "## DSC 10, Fall 2021"
   ]
  },
  {
   "cell_type": "markdown",
   "metadata": {
    "slideshow": {
     "slide_type": "slide"
    }
   },
   "source": [
    "### Announcements\n",
    "\n",
    "- Homework 2 is due on **Saturday 10/9 at 11:59pm**.\n",
    "- Lab 3 is due on **Thursday 10/14 at 11:59pm**.\n",
    "- If you've been attending the 3-4PM discussion section, consider attending the 4-5PM one instead – it's far emptier, meaning you'll get more support!"
   ]
  },
  {
   "cell_type": "markdown",
   "metadata": {
    "slideshow": {
     "slide_type": "slide"
    }
   },
   "source": [
    "### Agenda\n",
    "\n",
    "- Writing queries with multiple conditions.\n",
    "- GroupBy.\n",
    "- Challenge problems.\n",
    "\n",
    "**Resources**: \n",
    "- [Resources tab of the course website](https://dsc10.com/resources/)\n",
    "- [DSC 10 Reference Sheet](https://drive.google.com/file/d/1mQApk9Ovdi-QVqMgnNcq5dZcWucUKoG-/view)\n",
    "- [BabyPandas Documentation](https://babypandas.readthedocs.io/en/latest/index.html)"
   ]
  },
  {
   "cell_type": "markdown",
   "metadata": {
    "slideshow": {
     "slide_type": "slide"
    }
   },
   "source": [
    "## Queries with multiple conditions"
   ]
  },
  {
   "cell_type": "markdown",
   "metadata": {
    "slideshow": {
     "slide_type": "slide"
    }
   },
   "source": [
    "### Recap: queries\n",
    "\n",
    "- A \"query\" is code that extracts rows from a table for which certain condition(s) are true.\n",
    "- Below we load in our NBA salaries 🏀 dataset from last time."
   ]
  },
  {
   "cell_type": "code",
   "execution_count": null,
   "metadata": {
    "scrolled": false
   },
   "outputs": [],
   "source": [
    "salaries = bpd.read_csv('data/nba_salaries.csv').set_index('PLAYER')\n",
    "salaries"
   ]
  },
  {
   "cell_type": "markdown",
   "metadata": {
    "slideshow": {
     "slide_type": "slide"
    }
   },
   "source": [
    "### Question: Who was the highest paid center (C)?"
   ]
  },
  {
   "cell_type": "code",
   "execution_count": null,
   "metadata": {},
   "outputs": [],
   "source": [
    "salaries.get('POSITION') == 'C'"
   ]
  },
  {
   "cell_type": "code",
   "execution_count": null,
   "metadata": {},
   "outputs": [],
   "source": [
    "centers_only = salaries[salaries.get('POSITION') == 'C']\n",
    "centers_only"
   ]
  },
  {
   "cell_type": "code",
   "execution_count": null,
   "metadata": {},
   "outputs": [],
   "source": [
    "centers_only.sort_values(by='2015_SALARY', ascending=False).index[0]"
   ]
  },
  {
   "cell_type": "markdown",
   "metadata": {
    "slideshow": {
     "slide_type": "slide"
    }
   },
   "source": [
    "### Boolean indexing\n",
    "\n",
    "To select only some rows of `salaries`:\n",
    "\n",
    "1. Make a list/array/Series of `True`s (keep) and `Falses` (toss).\n",
    "2. Then pass it into `salaries[]`.\n",
    "\n",
    "Rather than making the list by hand, we usually generate it by making a comparison."
   ]
  },
  {
   "cell_type": "markdown",
   "metadata": {
    "slideshow": {
     "slide_type": "slide"
    }
   },
   "source": [
    "### Elementwise comparisons\n",
    "\n",
    "There are several types of comparisons we can make.\n",
    "\n",
    "|symbol|meaning|\n",
    "|--------|--------|\n",
    "|`==` |equal to |\n",
    "|`!=` |not equal to |\n",
    "|`<`|less than|\n",
    "|`<=`|less than or equal to|\n",
    "|`>`|greater than|\n",
    "|`>=`|greater than or equal to|"
   ]
  },
  {
   "cell_type": "code",
   "execution_count": null,
   "metadata": {},
   "outputs": [],
   "source": [
    "# Find all players whose salary is less than or equal to 10 million\n",
    "salaries[salaries.get('2015_SALARY') <= 10]"
   ]
  },
  {
   "cell_type": "markdown",
   "metadata": {
    "slideshow": {
     "slide_type": "slide"
    }
   },
   "source": [
    "### Multiple conditions\n",
    "\n",
    "- To do a query with multiple conditions, use `&` for \"and\" and `|` for \"or\".\n",
    "- **Must use parentheses around each query.**\n",
    "- Note: Don't use the Python keywords `and` and `or` here! They do not behave as you'd want.\n",
    "    - Read the textbook for an explanation."
   ]
  },
  {
   "cell_type": "code",
   "execution_count": null,
   "metadata": {
    "scrolled": false
   },
   "outputs": [],
   "source": [
    "# Find all the players who are guards (shooting guards or point guards)\n",
    "salaries[(salaries.get('POSITION') == \"PG\") | (salaries.get('POSITION') == \"SG\")]"
   ]
  },
  {
   "cell_type": "markdown",
   "metadata": {
    "slideshow": {
     "slide_type": "slide"
    }
   },
   "source": [
    "### The `&` and `|` operators work element-wise"
   ]
  },
  {
   "cell_type": "code",
   "execution_count": null,
   "metadata": {},
   "outputs": [],
   "source": [
    "(salaries.get('POSITION') == \"PG\")"
   ]
  },
  {
   "cell_type": "code",
   "execution_count": null,
   "metadata": {},
   "outputs": [],
   "source": [
    "(salaries.get('POSITION') == \"SG\")"
   ]
  },
  {
   "cell_type": "code",
   "execution_count": null,
   "metadata": {},
   "outputs": [],
   "source": [
    "(salaries.get('POSITION') == \"PG\") | (salaries.get('POSITION') == \"SG\")"
   ]
  },
  {
   "cell_type": "markdown",
   "metadata": {
    "slideshow": {
     "slide_type": "slide"
    }
   },
   "source": [
    "### More examples"
   ]
  },
  {
   "cell_type": "code",
   "execution_count": null,
   "metadata": {},
   "outputs": [],
   "source": [
    "# Find all players on the Sacramento Kings who have a salary of over 8 million\n",
    "salaries[(salaries.get('TEAM') == 'Sacramento Kings') & (salaries.get('2015_SALARY') > 8)]"
   ]
  },
  {
   "cell_type": "markdown",
   "metadata": {
    "slideshow": {
     "slide_type": "slide"
    }
   },
   "source": [
    "### Discussion Question\n",
    "\n",
    "Which of these queries evaluates to the number of centers **not** named Dwight Howard?\n",
    "\n",
    "A. `salaries[(salaries.get('POSITION') == 'C') & (salaries.get('PLAYER') != 'Dwight Howard')].shape[0]`\n",
    "\n",
    "B. `salaries[(salaries.get('POSITION') == 'C') and (salaries.index != 'Dwight Howard')].shape[0]`\n",
    "\n",
    "C. `salaries[(salaries.get('POSITION') == 'C') & (salaries.index != 'Dwight Howard')].shape[0]`\n",
    "\n",
    "D. `salaries[(salaries.get('POSITION') == 'C') & (salaries.index != 'Dwight Howard')].shape[1]`\n",
    "\n",
    "### To answer, go to **[menti.com](https://menti.com)** and enter the code **1217 9449**."
   ]
  },
  {
   "cell_type": "code",
   "execution_count": null,
   "metadata": {},
   "outputs": [],
   "source": []
  },
  {
   "cell_type": "markdown",
   "metadata": {
    "slideshow": {
     "slide_type": "slide"
    }
   },
   "source": [
    "## GroupBy: Split, Aggregate, Combine"
   ]
  },
  {
   "cell_type": "markdown",
   "metadata": {
    "slideshow": {
     "slide_type": "slide"
    }
   },
   "source": [
    "### Motivating Question: Which team had the highest payroll?\n",
    "\n",
    "- We can find the payroll for any one team.\n",
    "    - For the Warriors, `salaries[salaries.get('TEAM') == 'Golden State Warriors'].get('2015_SALARY').sum()`.\n",
    "- But how can we find the payroll for **all** teams at once?"
   ]
  },
  {
   "cell_type": "code",
   "execution_count": null,
   "metadata": {
    "scrolled": true,
    "slideshow": {
     "slide_type": "slide"
    }
   },
   "outputs": [],
   "source": [
    "salaries"
   ]
  },
  {
   "cell_type": "code",
   "execution_count": null,
   "metadata": {
    "slideshow": {
     "slide_type": "slide"
    }
   },
   "outputs": [],
   "source": [
    "salaries[salaries.get('TEAM') == 'Golden State Warriors'].get('2015_SALARY').sum()"
   ]
  },
  {
   "cell_type": "code",
   "execution_count": null,
   "metadata": {
    "slideshow": {
     "slide_type": "-"
    }
   },
   "outputs": [],
   "source": [
    "salaries[salaries.get('TEAM') == 'Los Angeles Lakers'].get('2015_SALARY').sum()"
   ]
  },
  {
   "cell_type": "code",
   "execution_count": null,
   "metadata": {
    "slideshow": {
     "slide_type": "-"
    }
   },
   "outputs": [],
   "source": [
    "salaries[salaries.get('TEAM') == 'Brooklyn Nets'].get('2015_SALARY').sum()"
   ]
  },
  {
   "cell_type": "markdown",
   "metadata": {
    "slideshow": {
     "slide_type": "fragment"
    }
   },
   "source": [
    "It seems like there has to be a better way. And there is!"
   ]
  },
  {
   "cell_type": "markdown",
   "metadata": {
    "slideshow": {
     "slide_type": "slide"
    }
   },
   "source": [
    "### `.groupby`\n",
    "\n",
    "Observe what happens when we use the `.groupby` method on `salaries`:"
   ]
  },
  {
   "cell_type": "code",
   "execution_count": null,
   "metadata": {
    "slideshow": {
     "slide_type": "-"
    }
   },
   "outputs": [],
   "source": [
    "salaries.groupby('TEAM').sum()"
   ]
  },
  {
   "cell_type": "markdown",
   "metadata": {
    "slideshow": {
     "slide_type": "slide"
    }
   },
   "source": [
    "### An illustrative example\n",
    "\n",
    "Consider the DataFrame `pets` containing pet species, colors, and weights.\n",
    "\n",
    "| | **Species** | **Color** | **Weight** |\n",
    "| --- | --- | --- | --- |\n",
    "| **0** | dog | black | 40 |\n",
    "| **1** | cat | golden | 15 |\n",
    "| **2** | cat | black | 20 |\n",
    "| **3** | dog | white | 80 |\n",
    "| **4** | dog | golden | 25 |\n",
    "| **5** | hamster | golden | 1 |"
   ]
  },
  {
   "cell_type": "markdown",
   "metadata": {
    "slideshow": {
     "slide_type": "slide"
    }
   },
   "source": [
    "When we run `pets.groupby('Species').mean()`, `babypandas` internally creates three mini-DataFrames, one for each unique value of `'Species'`.\n",
    "\n",
    "| | **Species** | **Color** | **Weight** |\n",
    "| --- | --- | --- | --- |\n",
    "| **0** | dog | black | 40 |\n",
    "| **3** | dog | white | 80 |\n",
    "| **4** | dog | golden | 25 |\n",
    "\n",
    "---\n",
    "\n",
    "| | **Species** | **Color** | **Weight** |\n",
    "| --- | --- | --- | --- |\n",
    "| **1** | cat | golden | 15 |\n",
    "| **2** | cat | black | 20 |\n",
    "\n",
    "---\n",
    "\n",
    "| | **Species** | **Color** | **Weight** |\n",
    "| --- | --- | --- | --- |\n",
    "| **5** | hamster | golden | 1 |"
   ]
  },
  {
   "cell_type": "markdown",
   "metadata": {
    "slideshow": {
     "slide_type": "slide"
    }
   },
   "source": [
    "It then takes the `mean` of every column (other than `Species` itself) that it can:\n",
    "\n",
    "| | **Species** | **Color** | **Weight** |\n",
    "| --- | --- | --- | --- |\n",
    "| **0** | dog | black | 40 |\n",
    "| **3** | dog | white | 80 |\n",
    "| **4** | dog | golden | 25 |\n",
    "\n",
    "<center>Mean Weight: (40 + 80 + 25) / 3 = 48.333</center>\n",
    "\n",
    "---\n",
    "\n",
    "| | **Species** | **Color** | **Weight** |\n",
    "| --- | --- | --- | --- |\n",
    "| **1** | cat | golden | 15 |\n",
    "| **2** | cat | black | 20 |\n",
    "\n",
    "<center>Mean Weight: (15 + 20) / 2 = 17.5</center>\n",
    "\n",
    "---\n",
    "\n",
    "| | **Species** | **Color** | **Weight** |\n",
    "| --- | --- | --- | --- |\n",
    "| **5** | hamster | golden | 1 |\n",
    "\n",
    "<center>Mean Weight: (1) / 1 = 1</center>"
   ]
  },
  {
   "cell_type": "markdown",
   "metadata": {
    "slideshow": {
     "slide_type": "slide"
    }
   },
   "source": [
    "Finally, it combines these means back into a single table, whose labels are equal to the unique values from the `Species` column, listed in alphabetical order.\n",
    "\n",
    "| **Species** | **Weight** <br><br><br><br> |\n",
    "| --- | --- |\n",
    "| **cat** | 17.5 |\n",
    "| **dog** | 48.33 |\n",
    "| **hamster** | 1 |\n",
    "\n",
    "These steps are: Split, Aggregate, Combine."
   ]
  },
  {
   "cell_type": "markdown",
   "metadata": {
    "slideshow": {
     "slide_type": "slide"
    }
   },
   "source": [
    "### Let's try it out!"
   ]
  },
  {
   "cell_type": "code",
   "execution_count": null,
   "metadata": {},
   "outputs": [],
   "source": [
    "pets = bpd.DataFrame().assign(\n",
    "    Species=['dog', 'cat', 'cat', 'dog', 'dog', 'hamster'],\n",
    "    Color=['black', 'golden', 'black', 'white', 'golden', 'golden'],\n",
    "    Weight=[40, 15, 20, 80, 25, 1]\n",
    ")\n",
    "\n",
    "pets"
   ]
  },
  {
   "cell_type": "code",
   "execution_count": null,
   "metadata": {},
   "outputs": [],
   "source": [
    "pets.groupby('Species').mean()"
   ]
  },
  {
   "cell_type": "markdown",
   "metadata": {
    "slideshow": {
     "slide_type": "slide"
    }
   },
   "source": [
    "### Back to the NBA..."
   ]
  },
  {
   "cell_type": "code",
   "execution_count": null,
   "metadata": {},
   "outputs": [],
   "source": [
    "salaries"
   ]
  },
  {
   "cell_type": "code",
   "execution_count": null,
   "metadata": {},
   "outputs": [],
   "source": [
    "salaries.groupby('TEAM').sum()"
   ]
  },
  {
   "cell_type": "markdown",
   "metadata": {
    "slideshow": {
     "slide_type": "slide"
    }
   },
   "source": [
    "### `.groupby` in general\n",
    "\n",
    "1. Use `.groupby(column_name)` to gather rows which have the same value in the specified column (`column_name`).\n",
    "    - In the previous example, we grouped by `TEAM`.\n",
    "    - In the resulting DataFrame, there will be one row for every unique value of `TEAM`.\n",
    "2. Apply an **aggregation** function **within** each group.\n",
    "    - In the previous example, we applied the `sum` method to every `TEAM`.\n",
    "    - The aggregation is applied individually to each column.\n",
    "\n",
    "Some aggregation functions: `.count()`, `.sum()`, `.mean()`, `.median()`, `.max()`, `.min()`."
   ]
  },
  {
   "cell_type": "markdown",
   "metadata": {
    "slideshow": {
     "slide_type": "slide"
    }
   },
   "source": [
    "### Observation #1\n",
    "\n",
    "- The index has changed to team names.\n",
    "- In general, the new row labels are the *group labels* (the thing that is used to determine if two rows were in same group)."
   ]
  },
  {
   "cell_type": "code",
   "execution_count": null,
   "metadata": {},
   "outputs": [],
   "source": [
    "salaries"
   ]
  },
  {
   "cell_type": "code",
   "execution_count": null,
   "metadata": {},
   "outputs": [],
   "source": [
    "salaries.groupby('TEAM').sum()"
   ]
  },
  {
   "cell_type": "markdown",
   "metadata": {
    "slideshow": {
     "slide_type": "slide"
    }
   },
   "source": [
    "### Observation #2\n",
    "\n",
    "- The `POSITION` and `TEAM` columns have disappeared. Why?"
   ]
  },
  {
   "cell_type": "code",
   "execution_count": null,
   "metadata": {},
   "outputs": [],
   "source": [
    "salaries.groupby('TEAM').sum()"
   ]
  },
  {
   "cell_type": "markdown",
   "metadata": {
    "slideshow": {
     "slide_type": "slide"
    }
   },
   "source": [
    "### Disappearing columns\n",
    "\n",
    "- The aggregation function is applied to each column.\n",
    "- If it doesn't make sense to apply it to a particular column, that column will disappear.\n",
    "- Example: We can't sum strings, like in the `'POSITION'` column.\n",
    "- Surprising example: *can* `max()` strings. How?"
   ]
  },
  {
   "cell_type": "code",
   "execution_count": null,
   "metadata": {},
   "outputs": [],
   "source": [
    "salaries.groupby('TEAM').max() # Can you guess how the max position is determined?"
   ]
  },
  {
   "cell_type": "markdown",
   "metadata": {
    "slideshow": {
     "slide_type": "slide"
    }
   },
   "source": [
    "### Other aggregation functions\n",
    "\n",
    "- Aggregation functions work on arrays/lists/Series and return a single number.\n",
    "- The most common ones are `.count()`, `.sum()`, `.mean()`, `.median()`, `.max()`, and `.min()`.\n"
   ]
  },
  {
   "cell_type": "code",
   "execution_count": null,
   "metadata": {},
   "outputs": [],
   "source": [
    "salaries.groupby('TEAM').count()"
   ]
  },
  {
   "cell_type": "code",
   "execution_count": null,
   "metadata": {},
   "outputs": [],
   "source": [
    "salaries.groupby('TEAM').mean()"
   ]
  },
  {
   "cell_type": "code",
   "execution_count": null,
   "metadata": {},
   "outputs": [],
   "source": [
    "salaries.groupby('TEAM').max()"
   ]
  },
  {
   "cell_type": "markdown",
   "metadata": {
    "slideshow": {
     "slide_type": "slide"
    }
   },
   "source": [
    "### Question: Which team had the highest payroll?\n",
    "\n",
    "Strategy:\n",
    "1. Group by `TEAM`.\n",
    "2. Within each group, compute the total salary.\n",
    "3. Sort by salary in descending order.\n",
    "4. Take the name of the first team."
   ]
  },
  {
   "cell_type": "code",
   "execution_count": null,
   "metadata": {},
   "outputs": [],
   "source": []
  },
  {
   "cell_type": "markdown",
   "metadata": {
    "slideshow": {
     "slide_type": "slide"
    }
   },
   "source": [
    "### Question: How many players play each position?"
   ]
  },
  {
   "cell_type": "code",
   "execution_count": null,
   "metadata": {},
   "outputs": [],
   "source": []
  },
  {
   "cell_type": "markdown",
   "metadata": {
    "slideshow": {
     "slide_type": "slide"
    }
   },
   "source": [
    "### Aside: Better column names?\n",
    "\n",
    "To rename a column:\n",
    "\n",
    "1. Add a new column with `.assign` containing the same values as the old column(s).\n",
    "2. Drop the old column(s) with `.drop(columns=list_of_column_labels)`."
   ]
  },
  {
   "cell_type": "code",
   "execution_count": null,
   "metadata": {},
   "outputs": [],
   "source": []
  },
  {
   "cell_type": "code",
   "execution_count": null,
   "metadata": {},
   "outputs": [],
   "source": []
  },
  {
   "cell_type": "markdown",
   "metadata": {
    "slideshow": {
     "slide_type": "slide"
    }
   },
   "source": [
    "## Example: IMDB Dataset"
   ]
  },
  {
   "cell_type": "code",
   "execution_count": null,
   "metadata": {
    "slideshow": {
     "slide_type": "slide"
    }
   },
   "outputs": [],
   "source": [
    "imdb = bpd.read_csv('data/imdb.csv').set_index('Title')\n",
    "imdb"
   ]
  },
  {
   "cell_type": "markdown",
   "metadata": {
    "slideshow": {
     "slide_type": "slide"
    }
   },
   "source": [
    "### Question: How many movies appear from each decade?"
   ]
  },
  {
   "cell_type": "code",
   "execution_count": null,
   "metadata": {},
   "outputs": [],
   "source": [
    "imdb.groupby('Decade').count()"
   ]
  },
  {
   "cell_type": "code",
   "execution_count": null,
   "metadata": {
    "scrolled": true
   },
   "outputs": [],
   "source": [
    "imdb.groupby('Decade').count().plot(y='Year');"
   ]
  },
  {
   "cell_type": "markdown",
   "metadata": {
    "slideshow": {
     "slide_type": "slide"
    }
   },
   "source": [
    "### Question: What was the highest rated movie of the 1990's?\n",
    "\n",
    "Let's try and do this two different ways."
   ]
  },
  {
   "cell_type": "markdown",
   "metadata": {
    "slideshow": {
     "slide_type": "slide"
    }
   },
   "source": [
    "#### Without grouping"
   ]
  },
  {
   "cell_type": "code",
   "execution_count": null,
   "metadata": {},
   "outputs": [],
   "source": [
    "imdb[imdb.get('Decade') == 1990].sort_values('Rating', ascending=False).index[0]"
   ]
  },
  {
   "cell_type": "markdown",
   "metadata": {
    "slideshow": {
     "slide_type": "slide"
    }
   },
   "source": [
    "#### With grouping"
   ]
  },
  {
   "cell_type": "code",
   "execution_count": null,
   "metadata": {},
   "outputs": [],
   "source": [
    "imdb.reset_index().groupby('Decade').max()"
   ]
  },
  {
   "cell_type": "markdown",
   "metadata": {},
   "source": [
    "- It turns out that this method **does not** yield the correct answer. \n",
    "- When we use an aggregation function (e.g. `.max`), aggregation is done to each column individually. \n",
    "- While it's true that the highest rated movie from the 1990s has a rating of 9.2, that movie is **not** Unforgiven – instead, Unforgiven is the movie that's the latest in the alphabet among all movies from the 1990s.\n",
    "- Grouping is not helpful here."
   ]
  },
  {
   "cell_type": "markdown",
   "metadata": {
    "slideshow": {
     "slide_type": "slide"
    }
   },
   "source": [
    "## Combining queries and groupby\n",
    "\n",
    "### In other words, more challenging problems!\n",
    "\n",
    "We'll try to cover these problems in class, but if we don't get to them all, we'll post their solutions [in this post on Campuswire](https://campuswire.com/c/G9636FFCF/feed/70) a few days after lecture."
   ]
  },
  {
   "cell_type": "markdown",
   "metadata": {
    "slideshow": {
     "slide_type": "slide"
    }
   },
   "source": [
    "### Question: How many years have more than 3 movies rated above 8.5?"
   ]
  },
  {
   "cell_type": "code",
   "execution_count": null,
   "metadata": {},
   "outputs": [],
   "source": [
    "..."
   ]
  },
  {
   "cell_type": "markdown",
   "metadata": {
    "slideshow": {
     "slide_type": "slide"
    }
   },
   "source": [
    "#### Aside: Using `.sum()` on a boolean array"
   ]
  },
  {
   "cell_type": "code",
   "execution_count": null,
   "metadata": {
    "slideshow": {
     "slide_type": "-"
    }
   },
   "outputs": [],
   "source": [
    "..."
   ]
  },
  {
   "cell_type": "markdown",
   "metadata": {
    "slideshow": {
     "slide_type": "slide"
    }
   },
   "source": [
    "### Question: Out of the years with more than 3 movies, which had the highest average rating?"
   ]
  },
  {
   "cell_type": "code",
   "execution_count": null,
   "metadata": {},
   "outputs": [],
   "source": [
    "..."
   ]
  },
  {
   "cell_type": "markdown",
   "metadata": {
    "slideshow": {
     "slide_type": "slide"
    }
   },
   "source": [
    "### Question: Which year had the longest movie titles, on average?\n",
    "\n",
    "**Hint:** Use `.str.len()` on the column or index that contains the names of the movies."
   ]
  },
  {
   "cell_type": "code",
   "execution_count": null,
   "metadata": {},
   "outputs": [],
   "source": [
    "..."
   ]
  },
  {
   "cell_type": "markdown",
   "metadata": {
    "slideshow": {
     "slide_type": "slide"
    }
   },
   "source": [
    "### Question: What is the average rating of movies from years that had at least 3 movies in the list?"
   ]
  },
  {
   "cell_type": "code",
   "execution_count": null,
   "metadata": {},
   "outputs": [],
   "source": [
    "..."
   ]
  },
  {
   "cell_type": "markdown",
   "metadata": {
    "slideshow": {
     "slide_type": "slide"
    }
   },
   "source": [
    "## Summary"
   ]
  },
  {
   "cell_type": "markdown",
   "metadata": {
    "slideshow": {
     "slide_type": "slide"
    }
   },
   "source": [
    "### Summary\n",
    "\n",
    "- We can write queries that involve multiple conditions, as long as we:\n",
    "    - Put parentheses around both conditions.\n",
    "    - Separate conditions using `&` if you require both to be true, or `|` if you require at least one to be true.\n",
    "- The method call `df.groupby(column_name).name_of_function()` **aggregates** all rows with the same value for `column_name` into a single row in the resulting table, according to the aggregation function `name_of_function`.\n",
    "    - Aggregation functions we've seen include `.count()`, `.sum()`, `.mean()`, `.median()`, `.max()`, and `.min()`.\n",
    "- **Next time:** A picture is worth a 1000 words – it's time to visualize!"
   ]
  }
 ],
 "metadata": {
  "celltoolbar": "Slideshow",
  "kernelspec": {
   "display_name": "Python 3",
   "language": "python",
   "name": "python3"
  },
  "language_info": {
   "codemirror_mode": {
    "name": "ipython",
    "version": 3
   },
   "file_extension": ".py",
   "mimetype": "text/x-python",
   "name": "python",
   "nbconvert_exporter": "python",
   "pygments_lexer": "ipython3",
   "version": "3.8.5"
  }
 },
 "nbformat": 4,
 "nbformat_minor": 2
}
