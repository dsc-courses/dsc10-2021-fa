{
 "cells": [
  {
   "cell_type": "markdown",
   "metadata": {
    "slideshow": {
     "slide_type": "slide"
    }
   },
   "source": [
    "# Lecture 4 – Arrays and DataFrames\n",
    "## DSC 40A, Fall 2021"
   ]
  },
  {
   "cell_type": "markdown",
   "metadata": {
    "slideshow": {
     "slide_type": "slide"
    }
   },
   "source": [
    "### Announcements\n",
    "\n",
    "- Starting Monday, Janine's lectures (A00 and B00) will be held in RWAC 0121 (near Blue Bowl).\n",
    "    - Same room as in-person discussion.\n",
    "- Lab 1 and Homework 1 are due **tomorrow at 11:59pm**.\n",
    "- Lab 2 is due on **Tuesday at 11:59pm**.\n",
    "- Click the \"[Zoom Links and Office Hours Schedule](https://canvas.ucsd.edu/calendar?include_contexts=course_29590#view_name=month)\" to see the OH schedule.\n",
    "    - Instructions on how to access in-person OH are embedded within each calendar event.\n",
    "    - Suraj's OH schedule is now Monday 2-3pm and Wednesday 10:30-11:30am, both in person."
   ]
  },
  {
   "cell_type": "markdown",
   "metadata": {
    "slideshow": {
     "slide_type": "slide"
    }
   },
   "source": [
    "### Agenda\n",
    "\n",
    "- Review: strings and text.\n",
    "- Lists.\n",
    "- Arrays.\n",
    "- Ranges.\n",
    "- DataFrames."
   ]
  },
  {
   "cell_type": "markdown",
   "metadata": {
    "slideshow": {
     "slide_type": "slide"
    }
   },
   "source": [
    "### Resources\n",
    "\n",
    "- We're covering **a lot** of content very quickly. If you're overwhelmed, just know that we're here to support you! \n",
    "    - Office Hours and Campuswire are your friends.\n",
    "- Remember to check the [Resources tab of the course website](https://dsc10.com/resources/) for programming resources.\n",
    "- Some key links moving forward:\n",
    "    - [DSC 10 Reference Sheet](https://drive.google.com/file/d/1mQApk9Ovdi-QVqMgnNcq5dZcWucUKoG-/view).\n",
    "    - [BabyPandas Documentation](https://babypandas.readthedocs.io/en/latest/index.html)."
   ]
  },
  {
   "cell_type": "markdown",
   "metadata": {
    "slideshow": {
     "slide_type": "slide"
    }
   },
   "source": [
    "## Review: strings and text"
   ]
  },
  {
   "cell_type": "markdown",
   "metadata": {
    "slideshow": {
     "slide_type": "slide"
    }
   },
   "source": [
    "### Strings\n",
    "\n",
    "- A string is a snippet of text of any length.\n",
    "- Enclose a string in either single or double quotes."
   ]
  },
  {
   "cell_type": "code",
   "execution_count": null,
   "metadata": {},
   "outputs": [],
   "source": [
    "'oink'"
   ]
  },
  {
   "cell_type": "code",
   "execution_count": null,
   "metadata": {},
   "outputs": [],
   "source": [
    "\"oink\""
   ]
  },
  {
   "cell_type": "code",
   "execution_count": null,
   "metadata": {},
   "outputs": [],
   "source": [
    "# A string,  not a float!\n",
    "\"12.0\""
   ]
  },
  {
   "cell_type": "markdown",
   "metadata": {
    "slideshow": {
     "slide_type": "slide"
    }
   },
   "source": [
    "### String arithmetic\n",
    "\n",
    "- When using the `+` symbol between two strings, the operation is called \"concatenation\"."
   ]
  },
  {
   "cell_type": "code",
   "execution_count": null,
   "metadata": {},
   "outputs": [],
   "source": [
    "s1 = 'baby'\n",
    "s2 = 'porcupine'"
   ]
  },
  {
   "cell_type": "code",
   "execution_count": null,
   "metadata": {},
   "outputs": [],
   "source": [
    "s1 + s2"
   ]
  },
  {
   "cell_type": "code",
   "execution_count": null,
   "metadata": {},
   "outputs": [],
   "source": [
    "s1 + ' ' + s2"
   ]
  },
  {
   "cell_type": "code",
   "execution_count": null,
   "metadata": {},
   "outputs": [],
   "source": [
    "s1 * 3"
   ]
  },
  {
   "cell_type": "markdown",
   "metadata": {
    "slideshow": {
     "slide_type": "slide"
    }
   },
   "source": [
    "### String methods\n",
    "* Strings are associated with certain functions called **string methods**.\n",
    "* Access string methods with a `.` after the string (dot notation).\n",
    "* e.g. `.upper()`, `.replace()`,..."
   ]
  },
  {
   "cell_type": "code",
   "execution_count": null,
   "metadata": {},
   "outputs": [],
   "source": [
    "my_cool_string = 'data science is super cool!'"
   ]
  },
  {
   "cell_type": "code",
   "execution_count": null,
   "metadata": {},
   "outputs": [],
   "source": [
    "my_cool_string.upper()"
   ]
  },
  {
   "cell_type": "code",
   "execution_count": null,
   "metadata": {},
   "outputs": [],
   "source": [
    "my_cool_string.replace('super', 'super-duper')"
   ]
  },
  {
   "cell_type": "code",
   "execution_count": null,
   "metadata": {},
   "outputs": [],
   "source": [
    "# len is not a method, since it doesn't use dot notation\n",
    "len(my_cool_string)"
   ]
  },
  {
   "cell_type": "markdown",
   "metadata": {
    "slideshow": {
     "slide_type": "slide"
    }
   },
   "source": [
    "### Special characters in strings\n",
    "* apostrophes, quotes, new-lines, etc..."
   ]
  },
  {
   "cell_type": "code",
   "execution_count": null,
   "metadata": {},
   "outputs": [],
   "source": [
    "'my string's full of apostrophes!'"
   ]
  },
  {
   "cell_type": "code",
   "execution_count": null,
   "metadata": {},
   "outputs": [],
   "source": [
    "\"my string's full of apostrophes!\""
   ]
  },
  {
   "cell_type": "code",
   "execution_count": null,
   "metadata": {},
   "outputs": [],
   "source": [
    "# escape the apostrophe with a backslash!\n",
    "'my string\\'s \"full\" of apostrophes!'"
   ]
  },
  {
   "cell_type": "code",
   "execution_count": null,
   "metadata": {},
   "outputs": [],
   "source": [
    "print('my string\\'s \"full\" of apostrophes!')"
   ]
  },
  {
   "cell_type": "markdown",
   "metadata": {
    "slideshow": {
     "slide_type": "slide"
    }
   },
   "source": [
    "### Digression: ```print()```\n",
    "* By default Jupyter notebooks displays the \"raw\" value of the expression of the last line in a cell.\n",
    "* The function ```print```, displays the value in human readable text when it's evaluated."
   ]
  },
  {
   "cell_type": "code",
   "execution_count": null,
   "metadata": {},
   "outputs": [],
   "source": [
    "12 # 12 won't be displayed, since Python only shows the value of the last expression\n",
    "23"
   ]
  },
  {
   "cell_type": "code",
   "execution_count": null,
   "metadata": {},
   "outputs": [],
   "source": [
    "# Note, there is no Out[number] to the left! That only appears when displaying a non-printed value.\n",
    "# But both 12 and 23 are displayed.\n",
    "print(12)\n",
    "print(23)"
   ]
  },
  {
   "cell_type": "code",
   "execution_count": null,
   "metadata": {},
   "outputs": [],
   "source": [
    "# '\\n' inserts a new line\n",
    "my_newline_str = 'here is a string with two lines.\\nhere is the second line'  \n",
    "my_newline_str"
   ]
  },
  {
   "cell_type": "code",
   "execution_count": null,
   "metadata": {},
   "outputs": [],
   "source": [
    "# Notice the quotes disappear!\n",
    "print(my_newline_str)  "
   ]
  },
  {
   "cell_type": "markdown",
   "metadata": {
    "slideshow": {
     "slide_type": "slide"
    }
   },
   "source": [
    "### Type conversion to and from strings\n",
    "* Any value can be converted to a string using ```str```.\n",
    "* Some strings can be converted to ```int``` and ```float```."
   ]
  },
  {
   "cell_type": "code",
   "execution_count": null,
   "metadata": {},
   "outputs": [],
   "source": [
    "str(3)"
   ]
  },
  {
   "cell_type": "code",
   "execution_count": null,
   "metadata": {},
   "outputs": [],
   "source": [
    "float('3')"
   ]
  },
  {
   "cell_type": "code",
   "execution_count": null,
   "metadata": {},
   "outputs": [],
   "source": [
    "int('4')"
   ]
  },
  {
   "cell_type": "code",
   "execution_count": null,
   "metadata": {
    "scrolled": false
   },
   "outputs": [],
   "source": [
    "int('bunnies')"
   ]
  },
  {
   "cell_type": "markdown",
   "metadata": {
    "slideshow": {
     "slide_type": "slide"
    }
   },
   "source": [
    "### Discussion Question\n",
    "\n",
    "Assume you have run the following statements:\n",
    "\n",
    "```py\n",
    "x = 3\n",
    "y = '4'\n",
    "z = '5.6'\n",
    "```\n",
    "\n",
    "Choose the expression that will be evaluated **without** an error.\n",
    "\n",
    "A. `x + y`\n",
    "\n",
    "B. `x + int(y + z)`\n",
    "\n",
    "C. `str(x) + int(y)`\n",
    "\n",
    "D. `str(x) + z`\n",
    "\n",
    "E. All of them have errors\n",
    "\n",
    "### To answer, go to **[menti.com](https://menti.com)** and enter the code **2309 7224**."
   ]
  },
  {
   "cell_type": "code",
   "execution_count": null,
   "metadata": {
    "slideshow": {
     "slide_type": "slide"
    }
   },
   "outputs": [],
   "source": [
    "x = 3\n",
    "y = '4'\n",
    "z = '5.6'"
   ]
  },
  {
   "cell_type": "code",
   "execution_count": null,
   "metadata": {},
   "outputs": [],
   "source": [
    "x + y # Like 3 + \"bunnies\", this doesn't make sense"
   ]
  },
  {
   "cell_type": "code",
   "execution_count": null,
   "metadata": {},
   "outputs": [],
   "source": [
    "x + int(y + z)"
   ]
  },
  {
   "cell_type": "code",
   "execution_count": null,
   "metadata": {},
   "outputs": [],
   "source": [
    "str(x) + int(y)"
   ]
  },
  {
   "cell_type": "code",
   "execution_count": null,
   "metadata": {
    "slideshow": {
     "slide_type": "-"
    }
   },
   "outputs": [],
   "source": [
    "str(x) + z"
   ]
  },
  {
   "cell_type": "markdown",
   "metadata": {
    "slideshow": {
     "slide_type": "slide"
    }
   },
   "source": [
    "## Lists"
   ]
  },
  {
   "cell_type": "markdown",
   "metadata": {
    "slideshow": {
     "slide_type": "slide"
    }
   },
   "source": [
    "### How do we store *sequences*?\n",
    "\n",
    "For instance:\n",
    "- All temperatures in the month of October.\n",
    "- The age of every user on Facebook.\n",
    "- The salary of every NBA player."
   ]
  },
  {
   "cell_type": "markdown",
   "metadata": {
    "slideshow": {
     "slide_type": "slide"
    }
   },
   "source": [
    "### Each as its own variable?"
   ]
  },
  {
   "cell_type": "code",
   "execution_count": null,
   "metadata": {
    "slideshow": {
     "slide_type": "-"
    }
   },
   "outputs": [],
   "source": [
    "temperature_on_oct_01 = 68\n",
    "temperature_on_oct_02 = 72\n",
    "temperature_on_oct_03 = 65\n",
    "temperature_on_oct_04 = 64\n",
    "temperature_on_oct_05 = 62\n",
    "temperature_on_oct_06 = 61\n",
    "temperature_on_oct_07 = 59\n",
    "temperature_on_oct_08 = 64\n",
    "temperature_on_oct_09 = 64\n",
    "temperature_on_oct_10 = 63\n",
    "temperature_on_oct_11 = 65\n",
    "temperature_on_oct_12 = 62"
   ]
  },
  {
   "cell_type": "markdown",
   "metadata": {
    "slideshow": {
     "slide_type": "-"
    }
   },
   "source": [
    "```\n",
    "avg_temperature = 1/12 * (\n",
    "    temperature_on_oct_01\n",
    "    + temperature_on_oct_02\n",
    "    + temperature_on_oct_03\n",
    "    + ...)\n",
    "```"
   ]
  },
  {
   "cell_type": "markdown",
   "metadata": {
    "slideshow": {
     "slide_type": "fragment"
    }
   },
   "source": [
    "- It seems like we need a better solution."
   ]
  },
  {
   "cell_type": "markdown",
   "metadata": {
    "slideshow": {
     "slide_type": "slide"
    }
   },
   "source": [
    "## Python's `list`s\n",
    "\n",
    "- To create a `list`, place commas between things and surround with square brackets:"
   ]
  },
  {
   "cell_type": "code",
   "execution_count": null,
   "metadata": {},
   "outputs": [],
   "source": [
    "temperature_list = [68, 72, 65, 64, 62, 61, 59, 64, 64, 63, 65, 62]\n",
    "temperature_list"
   ]
  },
  {
   "cell_type": "code",
   "execution_count": null,
   "metadata": {},
   "outputs": [],
   "source": [
    "type(temperature_list)"
   ]
  },
  {
   "cell_type": "markdown",
   "metadata": {
    "slideshow": {
     "slide_type": "slide"
    }
   },
   "source": [
    "## `list`s make working with sequences easy"
   ]
  },
  {
   "cell_type": "code",
   "execution_count": null,
   "metadata": {},
   "outputs": [],
   "source": [
    "# compute the average temperature using `sum`\n",
    "sum(temperature_list) / len(temperature_list)"
   ]
  },
  {
   "cell_type": "markdown",
   "metadata": {
    "slideshow": {
     "slide_type": "slide"
    }
   },
   "source": [
    "### There's a problem...\n",
    "\n",
    "- Lists are **very slow**.\n",
    "- This is not a big deal when there aren't many entries, but it's a big problem when there are millions/billions of entries."
   ]
  },
  {
   "cell_type": "markdown",
   "metadata": {
    "slideshow": {
     "slide_type": "slide"
    }
   },
   "source": [
    "## Arrays"
   ]
  },
  {
   "cell_type": "markdown",
   "metadata": {
    "slideshow": {
     "slide_type": "slide"
    }
   },
   "source": [
    "### Arrays\n",
    "\n",
    "* Arrays are like lists, but faster.\n",
    "* Provided by a package called `numpy` (pronounced \"num-pie\").\n",
    "    - Core package for data science and scientific computing.\n",
    "\n",
    "<center>\n",
    "<img src='images/numpy.png' width=300>\n",
    "</center>"
   ]
  },
  {
   "cell_type": "code",
   "execution_count": null,
   "metadata": {},
   "outputs": [],
   "source": [
    "import numpy as np"
   ]
  },
  {
   "cell_type": "markdown",
   "metadata": {
    "slideshow": {
     "slide_type": "slide"
    }
   },
   "source": [
    "### Creating arrays\n",
    "\n",
    "- To create an array, pass a list as input to the `np.array` function.\n",
    "- Remember the square brackets!\n",
    "\n",
    "<center>\n",
    "<img src='images/brackets.png' width=500>\n",
    "</center>"
   ]
  },
  {
   "cell_type": "code",
   "execution_count": null,
   "metadata": {},
   "outputs": [],
   "source": [
    "temperature_array = np.array([68, 72, 65, 64, 62, 61, 59, 64, 64, 63, 65, 62])\n",
    "temperature_array"
   ]
  },
  {
   "cell_type": "code",
   "execution_count": null,
   "metadata": {},
   "outputs": [],
   "source": [
    "temperature_list"
   ]
  },
  {
   "cell_type": "code",
   "execution_count": null,
   "metadata": {},
   "outputs": [],
   "source": [
    "np.array(temperature_list)"
   ]
  },
  {
   "cell_type": "markdown",
   "metadata": {
    "slideshow": {
     "slide_type": "slide"
    }
   },
   "source": [
    "### Accessing elements in an array\n",
    "\n",
    "- The things inside of an array are called its *elements*.\n",
    "- Every element in an array has a position.\n",
    "- Python, like most programming languages, is 0-indexed. **This means that the position of the first element in an array is 0, not 1.**\n",
    "- To access the element at position `i` in an array, add `[i]` after the name of the array.\n",
    "- Everything above applies to lists, too."
   ]
  },
  {
   "cell_type": "code",
   "execution_count": null,
   "metadata": {},
   "outputs": [],
   "source": [
    "temperature_array"
   ]
  },
  {
   "cell_type": "code",
   "execution_count": null,
   "metadata": {},
   "outputs": [],
   "source": [
    "temperature_array[0]"
   ]
  },
  {
   "cell_type": "code",
   "execution_count": null,
   "metadata": {},
   "outputs": [],
   "source": [
    "temperature_array[1]"
   ]
  },
  {
   "cell_type": "code",
   "execution_count": null,
   "metadata": {},
   "outputs": [],
   "source": [
    "temperature_array[3]"
   ]
  },
  {
   "cell_type": "code",
   "execution_count": null,
   "metadata": {},
   "outputs": [],
   "source": [
    "# get the last element of the array?\n",
    "temperature_array[12]"
   ]
  },
  {
   "cell_type": "code",
   "execution_count": null,
   "metadata": {},
   "outputs": [],
   "source": [
    "temperature_array[42]"
   ]
  },
  {
   "cell_type": "markdown",
   "metadata": {
    "slideshow": {
     "slide_type": "slide"
    }
   },
   "source": [
    "### Array-Number arithmetic\n",
    "\n",
    "- `numpy` arrays make it easy to perform the same operation to every element."
   ]
  },
  {
   "cell_type": "code",
   "execution_count": null,
   "metadata": {},
   "outputs": [],
   "source": [
    "temperature_array"
   ]
  },
  {
   "cell_type": "code",
   "execution_count": null,
   "metadata": {},
   "outputs": [],
   "source": [
    "# increase all temperatures by 3 degrees\n",
    "temperature_array = temperature_array + 3"
   ]
  },
  {
   "cell_type": "code",
   "execution_count": null,
   "metadata": {},
   "outputs": [],
   "source": [
    "temperature_array"
   ]
  },
  {
   "cell_type": "code",
   "execution_count": null,
   "metadata": {},
   "outputs": [],
   "source": [
    "# halve all temperatures\n",
    "temperature_array / 2"
   ]
  },
  {
   "cell_type": "code",
   "execution_count": null,
   "metadata": {},
   "outputs": [],
   "source": [
    "# convert all temperatures to Celsius\n",
    "(5/9) * (temperature_array - 32)"
   ]
  },
  {
   "cell_type": "markdown",
   "metadata": {
    "slideshow": {
     "slide_type": "slide"
    }
   },
   "source": [
    "### Array-Array arithmetic\n",
    "\n",
    "- Two arrays of the same size can be added, subtracted, multiplied, etc.\n",
    "- The arithmetic happens *elementwise*."
   ]
  },
  {
   "cell_type": "code",
   "execution_count": null,
   "metadata": {},
   "outputs": [],
   "source": [
    "a1 = np.array([1, 2, 3])\n",
    "a2 = np.array([4, 5, 6])"
   ]
  },
  {
   "cell_type": "code",
   "execution_count": null,
   "metadata": {},
   "outputs": [],
   "source": [
    "a1 + a2"
   ]
  },
  {
   "cell_type": "code",
   "execution_count": null,
   "metadata": {},
   "outputs": [],
   "source": [
    "a1 - a2"
   ]
  },
  {
   "cell_type": "code",
   "execution_count": null,
   "metadata": {},
   "outputs": [],
   "source": [
    "a1 * a2"
   ]
  },
  {
   "cell_type": "markdown",
   "metadata": {
    "slideshow": {
     "slide_type": "slide"
    }
   },
   "source": [
    "### Example: newborn birth weights"
   ]
  },
  {
   "cell_type": "code",
   "execution_count": null,
   "metadata": {},
   "outputs": [],
   "source": [
    "#: four baby girls with weight in kg: g1 = 3.405, g2 = 3.207, g3 = 2.42, g4 = 3.984\n",
    "\n",
    "g1 = 3.405 \n",
    "g2 = 3.207\n",
    "g3 = 2.42\n",
    "g4 = 3.984\n",
    "\n",
    "# average weight of a newborn girl (in kg): 3.3\n",
    "girl_av_weight = 3.3"
   ]
  },
  {
   "cell_type": "markdown",
   "metadata": {
    "slideshow": {
     "slide_type": "slide"
    }
   },
   "source": [
    "#### Load the weights into an array of floats"
   ]
  },
  {
   "cell_type": "code",
   "execution_count": null,
   "metadata": {},
   "outputs": [],
   "source": [
    "weights_kg_g = np.array([g1, g2, g3, g4]) \n",
    "\n",
    "weights_kg_g"
   ]
  },
  {
   "cell_type": "markdown",
   "metadata": {
    "slideshow": {
     "slide_type": "slide"
    }
   },
   "source": [
    "#### Calculate the deviation of weights from the average weight\n",
    "* Subtracting a number from an array subtracts the number from each element."
   ]
  },
  {
   "cell_type": "code",
   "execution_count": null,
   "metadata": {
    "scrolled": true
   },
   "outputs": [],
   "source": [
    "weights_kg_g - girl_av_weight"
   ]
  },
  {
   "cell_type": "markdown",
   "metadata": {
    "slideshow": {
     "slide_type": "slide"
    }
   },
   "source": [
    "#### Convert the weights to pounds (2.2 lb/kg)"
   ]
  },
  {
   "cell_type": "code",
   "execution_count": null,
   "metadata": {},
   "outputs": [],
   "source": [
    "weights_lbs_g = weights_kg_g * 2.2\n",
    "weights_lbs_g"
   ]
  },
  {
   "cell_type": "markdown",
   "metadata": {
    "slideshow": {
     "slide_type": "slide"
    }
   },
   "source": [
    "#### How many babies are recorded in the array?\n",
    "\n",
    "- The function `len()` returns the length of an array (or list)."
   ]
  },
  {
   "cell_type": "code",
   "execution_count": null,
   "metadata": {},
   "outputs": [],
   "source": [
    "len(weights_lbs_g)"
   ]
  },
  {
   "cell_type": "markdown",
   "metadata": {
    "slideshow": {
     "slide_type": "slide"
    }
   },
   "source": [
    "### Example: daily temperatures\n",
    "\n",
    "Below is an array of daily high temperatures in San Diego from August 2018."
   ]
  },
  {
   "cell_type": "code",
   "execution_count": null,
   "metadata": {},
   "outputs": [],
   "source": [
    "temps = np.array([86, 85, 85, 84, 85, 86, 91, 89, 90, 88, 88, 85, 83, 82, 79, 81, 82,\n",
    "                   83, 82, 79, 81, 83, 83, 79, 80, 80, 79, 80, 82, 82, 80])"
   ]
  },
  {
   "cell_type": "markdown",
   "metadata": {},
   "source": [
    "Numbers of days temperatures are collected in August:"
   ]
  },
  {
   "cell_type": "code",
   "execution_count": null,
   "metadata": {},
   "outputs": [],
   "source": [
    "len(temps)"
   ]
  },
  {
   "cell_type": "markdown",
   "metadata": {
    "slideshow": {
     "slide_type": "slide"
    }
   },
   "source": [
    "#### Temperature statistics (mean, min, max)\n",
    "\n",
    "- Arrays have handy methods for common tasks.\n",
    "- Methods are like functions but they use dot notation (e.g. `temps.max()`)."
   ]
  },
  {
   "cell_type": "code",
   "execution_count": null,
   "metadata": {},
   "outputs": [],
   "source": [
    "sum(temps) / len(temps)"
   ]
  },
  {
   "cell_type": "code",
   "execution_count": null,
   "metadata": {},
   "outputs": [],
   "source": [
    "temps.sum() / len(temps)  "
   ]
  },
  {
   "cell_type": "code",
   "execution_count": null,
   "metadata": {},
   "outputs": [],
   "source": [
    "temps.mean() # the mean method for arrays"
   ]
  },
  {
   "cell_type": "code",
   "execution_count": null,
   "metadata": {},
   "outputs": [],
   "source": [
    "max(temps) # built-in functions work on arrays"
   ]
  },
  {
   "cell_type": "code",
   "execution_count": null,
   "metadata": {},
   "outputs": [],
   "source": [
    "temps.max() # arrays have their own min/max method (faster)"
   ]
  },
  {
   "cell_type": "markdown",
   "metadata": {
    "slideshow": {
     "slide_type": "slide"
    }
   },
   "source": [
    "## Ranges"
   ]
  },
  {
   "cell_type": "markdown",
   "metadata": {
    "slideshow": {
     "slide_type": "slide"
    }
   },
   "source": [
    "### Motivation\n",
    "\n",
    "- We often find ourselves needing to make arrays like this:"
   ]
  },
  {
   "cell_type": "code",
   "execution_count": null,
   "metadata": {},
   "outputs": [],
   "source": [
    "days_in_october = np.array([\n",
    "    1, 2, 3, 4, 5, 6, 7, 8, 9, 10, 11, 12, \n",
    "    13, 14, 15, 16, 17, 18, 19, 20, 21, 22, \n",
    "    23, 24, 25, 26, 27, 28, 29, 30, 31\n",
    "])"
   ]
  },
  {
   "cell_type": "markdown",
   "metadata": {
    "slideshow": {
     "slide_type": "slide"
    }
   },
   "source": [
    "### Ranges\n",
    "* A range is an array of consecutive numbers (or evenly spaced numbers).\n",
    "* ```np.arange(end)```: An array of increasing integers from 0 up to (and excluding!) end.\n",
    "* ```np.arange(start, end)```: An array of increasing integers from start up to (excluding!) end.\n",
    "* ```np.arange(start, end, step)```: A range with step between consecutive values.\n",
    "* The range always includes the start but excludes the end (i.e. a half-open interval): $[~,~)$."
   ]
  },
  {
   "cell_type": "code",
   "execution_count": null,
   "metadata": {},
   "outputs": [],
   "source": [
    "np.arange(8)"
   ]
  },
  {
   "cell_type": "code",
   "execution_count": null,
   "metadata": {},
   "outputs": [],
   "source": [
    "np.arange(3, 9, 1)"
   ]
  },
  {
   "cell_type": "code",
   "execution_count": null,
   "metadata": {},
   "outputs": [],
   "source": [
    "np.arange(3, 31, 5)"
   ]
  },
  {
   "cell_type": "code",
   "execution_count": null,
   "metadata": {},
   "outputs": [],
   "source": [
    "np.arange(-3, 2, 0.5)"
   ]
  },
  {
   "cell_type": "code",
   "execution_count": null,
   "metadata": {},
   "outputs": [],
   "source": [
    "np.arange(8, 5, -1)"
   ]
  },
  {
   "cell_type": "code",
   "execution_count": null,
   "metadata": {},
   "outputs": [],
   "source": [
    "np.arange(1, -10, -3)"
   ]
  },
  {
   "cell_type": "markdown",
   "metadata": {
    "slideshow": {
     "slide_type": "slide"
    }
   },
   "source": [
    "### Discussion Question\n",
    "\n",
    "On the first day of October, you are paid 1 cent. Every day thereafter, your pay doubles: on the 2nd day it is 2 cents, on the 3rd it is 4 cents, on the 4th it is 8 cents, and so on.\n",
    "\n",
    "October has 31 days.\n",
    "\n",
    "Which of these expressions calculates the total amount of money you'll make in October (in dollars)?\n",
    "\n",
    "A. `(2**(np.arange(31) * .01)).sum()`\n",
    "\n",
    "B. `(2**(np.arange(32) * .01)).sum()`\n",
    "\n",
    "C. `((2**np.arange(31)) * .01).sum()`\n",
    "\n",
    "D. `((2**np.arange(32)) * .01).sum()`\n",
    "\n",
    "### To answer, go to **[menti.com](https://menti.com)** and enter the code **2309 7224**."
   ]
  },
  {
   "cell_type": "code",
   "execution_count": null,
   "metadata": {
    "slideshow": {
     "slide_type": "-"
    }
   },
   "outputs": [],
   "source": [
    "np.arange(31)"
   ]
  },
  {
   "cell_type": "code",
   "execution_count": null,
   "metadata": {},
   "outputs": [],
   "source": [
    "2**np.arange(31) #number-array arithmetic"
   ]
  },
  {
   "cell_type": "code",
   "execution_count": null,
   "metadata": {},
   "outputs": [],
   "source": [
    "2**np.arange(31) * .01 "
   ]
  },
  {
   "cell_type": "code",
   "execution_count": null,
   "metadata": {},
   "outputs": [],
   "source": [
    "(2**np.arange(31) * .01).sum()"
   ]
  },
  {
   "cell_type": "markdown",
   "metadata": {
    "slideshow": {
     "slide_type": "slide"
    }
   },
   "source": [
    "## DataFrames (i.e. Tables)\n",
    "\n",
    "<center>\n",
    "<img width=50% src=\"images/imdb.png\"/>\n",
    "</center>"
   ]
  },
  {
   "cell_type": "markdown",
   "metadata": {
    "slideshow": {
     "slide_type": "slide"
    }
   },
   "source": [
    "### How do we store *tabular data*?\n",
    "\n",
    "- Could have an array for title, another for rating, another for year, etc.\n",
    "- But this is not convenient.\n",
    "- Instead, we use something called a *DataFrame*."
   ]
  },
  {
   "cell_type": "markdown",
   "metadata": {
    "slideshow": {
     "slide_type": "slide"
    }
   },
   "source": [
    "### `pandas`\n",
    "\n",
    "- DataFrames are provided by a package called `pandas`.\n",
    "- `pandas` is **the** tool for doing data science in Python.\n",
    "\n",
    "<center>\n",
    "<img src='images/pandas.png' width=500>\n",
    "</center>"
   ]
  },
  {
   "cell_type": "markdown",
   "metadata": {
    "slideshow": {
     "slide_type": "slide"
    }
   },
   "source": [
    "### But `pandas` is not so cute...\n",
    "\n",
    "<center>\n",
    "<img height=100% src=\"images/angrypanda.jpg\"/>\n",
    "</center>"
   ]
  },
  {
   "cell_type": "markdown",
   "metadata": {
    "slideshow": {
     "slide_type": "slide"
    }
   },
   "source": [
    "### Instead!\n",
    "\n",
    "- We at UCSD have created a smaller, nicer version of `pandas`.\n",
    "- Keeps important stuff, throws out the rest.\n",
    "- Easier to learn, but is still valid `pandas` code."
   ]
  },
  {
   "cell_type": "markdown",
   "metadata": {
    "slideshow": {
     "slide_type": "slide"
    }
   },
   "source": [
    "### We call it `babypandas` 🐼\n",
    "\n",
    "<center>\n",
    "<img height=75% src=\"images/babypanda.jpg\"/ width=500>\n",
    "</center>"
   ]
  },
  {
   "cell_type": "markdown",
   "metadata": {
    "slideshow": {
     "slide_type": "slide"
    }
   },
   "source": [
    "### Importing `babypandas`"
   ]
  },
  {
   "cell_type": "code",
   "execution_count": null,
   "metadata": {},
   "outputs": [],
   "source": [
    "import babypandas as bpd"
   ]
  },
  {
   "cell_type": "markdown",
   "metadata": {
    "slideshow": {
     "slide_type": "slide"
    }
   },
   "source": [
    "### Table structure\n",
    "\n",
    "- Tables (called DataFrames in `pandas` and `babypandas`) have *columns* and *rows*.\n",
    "    - Can think of each column as an array.\n",
    "- Every column has a label: `\"Votes\"`, `\"Rating\"`, etc.\n",
    "    - This is its name.\n",
    "    - Labels are stored as strings.\n",
    "- Every row does too: 0, 1, 2, 3."
   ]
  },
  {
   "cell_type": "code",
   "execution_count": null,
   "metadata": {},
   "outputs": [],
   "source": [
    "movies = bpd.read_csv('data/imdb.csv').take(np.arange(4))\n",
    "movies"
   ]
  },
  {
   "cell_type": "markdown",
   "metadata": {
    "slideshow": {
     "slide_type": "slide"
    }
   },
   "source": [
    "### The index\n",
    "\n",
    "- Together, the row labels are called the *index*.\n",
    "- **The index is not a separate column**!"
   ]
  },
  {
   "cell_type": "code",
   "execution_count": null,
   "metadata": {},
   "outputs": [],
   "source": [
    "movies"
   ]
  },
  {
   "cell_type": "markdown",
   "metadata": {
    "slideshow": {
     "slide_type": "slide"
    }
   },
   "source": [
    "### Setting a new index\n",
    "\n",
    "- We can set a better index using `.set_index(column_name)`.\n",
    "- Row labels should (ideally) be unique identifiers.\n",
    "- Returns a copy!\n",
    "- Looks nicer, but also really useful."
   ]
  },
  {
   "cell_type": "code",
   "execution_count": null,
   "metadata": {},
   "outputs": [],
   "source": [
    "movies"
   ]
  },
  {
   "cell_type": "code",
   "execution_count": null,
   "metadata": {},
   "outputs": [],
   "source": [
    "movies.set_index('Title')"
   ]
  },
  {
   "cell_type": "code",
   "execution_count": null,
   "metadata": {},
   "outputs": [],
   "source": [
    "movies"
   ]
  },
  {
   "cell_type": "code",
   "execution_count": null,
   "metadata": {},
   "outputs": [],
   "source": [
    "movies_by_name = movies.set_index('Title')\n",
    "movies_by_name"
   ]
  },
  {
   "cell_type": "markdown",
   "metadata": {
    "slideshow": {
     "slide_type": "slide"
    }
   },
   "source": [
    "### The index is like an array"
   ]
  },
  {
   "cell_type": "code",
   "execution_count": null,
   "metadata": {
    "scrolled": true
   },
   "outputs": [],
   "source": [
    "movies_by_name.index"
   ]
  },
  {
   "cell_type": "markdown",
   "metadata": {
    "slideshow": {
     "slide_type": "slide"
    }
   },
   "source": [
    "### Discussion Question\n",
    "\n",
    "Which of these will return `Léon`?\n",
    "\n",
    "A. `movies_by_name['Title'][3]`\n",
    "\n",
    "B. `movies_by_name['Title'][4]`\n",
    "\n",
    "C. `movies_by_name.index[3]`\n",
    "\n",
    "D. `movies_by_name.index[4]`\n",
    "\n",
    "### To answer, go to **[menti.com](https://menti.com)** and enter the code **2309 7224**."
   ]
  },
  {
   "cell_type": "markdown",
   "metadata": {
    "slideshow": {
     "slide_type": "slide"
    }
   },
   "source": [
    "## Summary"
   ]
  },
  {
   "cell_type": "markdown",
   "metadata": {
    "slideshow": {
     "slide_type": "slide"
    }
   },
   "source": [
    "### Summary\n",
    "\n",
    "- Strings are used to store text.\n",
    "- Lists and arrays are used to store sequences.\n",
    "    - Arrays are faster and more convenient for numerical operations\n",
    "- We will be using the `babypandas` module for working with data.\n",
    "- Tables in `babypandas` are called DataFrames.\n",
    "- **Next time:** We will do a deep dive on a single dataset and introduce DataFrame manipulation techniques as necessary.\n",
    "    - Remember to refer to the resources from the start of lecture!"
   ]
  }
 ],
 "metadata": {
  "celltoolbar": "Slideshow",
  "kernelspec": {
   "display_name": "Python 3",
   "language": "python",
   "name": "python3"
  },
  "language_info": {
   "codemirror_mode": {
    "name": "ipython",
    "version": 3
   },
   "file_extension": ".py",
   "mimetype": "text/x-python",
   "name": "python",
   "nbconvert_exporter": "python",
   "pygments_lexer": "ipython3",
   "version": "3.8.5"
  }
 },
 "nbformat": 4,
 "nbformat_minor": 2
}
