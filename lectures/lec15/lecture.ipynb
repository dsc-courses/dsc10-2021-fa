{
 "cells": [
  {
   "cell_type": "code",
   "execution_count": null,
   "metadata": {
    "slideshow": {
     "slide_type": "slide"
    }
   },
   "outputs": [],
   "source": [
    "# Imports\n",
    "import babypandas as bpd\n",
    "import numpy as np\n",
    "\n",
    "import matplotlib.pyplot as plt\n",
    "import warnings; warnings.simplefilter('ignore')\n",
    "\n",
    "plt.style.use('fivethirtyeight')"
   ]
  },
  {
   "cell_type": "markdown",
   "metadata": {
    "slideshow": {
     "slide_type": "slide"
    }
   },
   "source": [
    "# Lecture 15 – Parameters and Statistics\n",
    "\n",
    "## DSC 10, Fall 2021"
   ]
  },
  {
   "cell_type": "markdown",
   "metadata": {
    "slideshow": {
     "slide_type": "slide"
    }
   },
   "source": [
    "### Announcements\n",
    "\n",
    "- The Midterm Exam was graded, see Gradescope for your grade. Submit regrade requests by **Wednesday 11/3 at 11:59pm**.\n",
    "    - Let us know if you want to talk about your performance!\n",
    "- The Midterm Project is due on **Tuesday 11/2 at 11:59pm**.\n",
    "- Lab 5 will be due on **Saturday, 11/6 at 11:59pm**.\n",
    "- Homework 5 will be released soon and will be due on **Tuesday, 11/9 at 11:59pm**.\n",
    "    - Moving forward: homeworks due Tuesdays, labs due Saturdays.\n",
    "- Lots of office hours changes. Check the Canvas calendar."
   ]
  },
  {
   "cell_type": "markdown",
   "metadata": {
    "slideshow": {
     "slide_type": "slide"
    }
   },
   "source": [
    "### Agenda\n",
    "\n",
    "- Statistical inference.\n",
    "- Empirical distributions of statistics.\n",
    "- Bias and variance.\n",
    "- Statistical models."
   ]
  },
  {
   "cell_type": "markdown",
   "metadata": {
    "slideshow": {
     "slide_type": "slide"
    }
   },
   "source": [
    "### How much progress have you made on the Midterm Project?\n",
    "\n",
    "### To answer, go to [menti.com](https://menti.com) and enter the code 1959 5357."
   ]
  },
  {
   "cell_type": "markdown",
   "metadata": {
    "slideshow": {
     "slide_type": "slide"
    }
   },
   "source": [
    "## Statistical inference"
   ]
  },
  {
   "cell_type": "markdown",
   "metadata": {
    "slideshow": {
     "slide_type": "slide"
    }
   },
   "source": [
    "### Statistical inference\n",
    "\n",
    "**Statistical inference** draws conclusions using data from random samples.\n",
    "\n",
    "Terminology:\n",
    "- **Parameter**: A number associated with the population.\n",
    "    - Example: the population mean.\n",
    "- **Statistic**: A number calculated from the sample.\n",
    "    - Example: the sample mean.\n",
    "- A statistic can be used as an **estimate** for a parameter.\n",
    "\n",
    "_To remember: **p**arameter and **p**opulation both start with p, **s**tatistic and **s**ample both start with s._"
   ]
  },
  {
   "cell_type": "markdown",
   "metadata": {
    "slideshow": {
     "slide_type": "slide"
    }
   },
   "source": [
    "### Example: estimating the number of German tanks in WWII\n",
    "\n",
    "<center><img src='data/tank.jpg' width=500></center>\n",
    "\n",
    "What we're about to study is known as the [German Tank Problem](https://en.wikipedia.org/wiki/German_tank_problem)."
   ]
  },
  {
   "cell_type": "markdown",
   "metadata": {
    "slideshow": {
     "slide_type": "slide"
    }
   },
   "source": [
    "### Population and sample\n",
    "\n",
    "- **Population:** all German tanks (unknown).\n",
    "- **Sample:** the tanks we've seen (captured or destroyed)."
   ]
  },
  {
   "cell_type": "markdown",
   "metadata": {
    "slideshow": {
     "slide_type": "slide"
    }
   },
   "source": [
    "### Setup\n",
    "\n",
    "* There are N tanks, each with a serial number 1, 2, 3, ..., N.\n",
    "* We don’t know N.\n",
    "* We would like to estimate N based on the serial numbers of the tanks that we see."
   ]
  },
  {
   "cell_type": "markdown",
   "metadata": {
    "slideshow": {
     "slide_type": "slide"
    }
   },
   "source": [
    "### Discussion Question\n",
    "\n",
    "If you saw these serial numbers, what would be your estimate (best guess) of N?\n",
    "```\n",
    "170\t 271\t285\t 290\t 48\n",
    "235\t 24\t 90 \t 291 \t19\n",
    "```\n",
    "\n",
    "A. 291\n",
    "\n",
    "B. 353\n",
    "\n",
    "C. 438\n",
    "\n",
    "D. 487\n",
    "\n",
    "### To answer, go to [menti.com](https://menti.com) and enter the code 1959 5357."
   ]
  },
  {
   "cell_type": "markdown",
   "metadata": {
    "slideshow": {
     "slide_type": "slide"
    }
   },
   "source": [
    "### Approach #1: The largest number observed\n",
    "\n",
    "* Is it likely to be close to the total number of tanks, N?\n",
    "    - How likely?\n",
    "    - How close?"
   ]
  },
  {
   "cell_type": "markdown",
   "metadata": {
    "slideshow": {
     "slide_type": "slide"
    }
   },
   "source": [
    "### Creating some data\n",
    "\n",
    "* We'll manufacture an unknown number of tanks (between 200 and 400).\n",
    "* We'll see a random sample of the tanks (and their serial numbers).\n",
    "* From the sample, we'll try to guess how many tanks were manufactured.\n",
    "* Then we'll see if our guesses were any good."
   ]
  },
  {
   "cell_type": "markdown",
   "metadata": {
    "slideshow": {
     "slide_type": "slide"
    }
   },
   "source": [
    "### The main assumption\n",
    "We're assuming that the serial numbers of the tanks that we see are a uniform random sample drawn without replacement from 1, 2, 3, …, N."
   ]
  },
  {
   "cell_type": "code",
   "execution_count": null,
   "metadata": {
    "slideshow": {
     "slide_type": "-"
    }
   },
   "outputs": [],
   "source": [
    "# Manufacture tanks\n",
    "N = np.random.randint(200, 400)\n",
    "serial_nos = bpd.DataFrame().assign(SerialNumber=np.arange(1, N+1))"
   ]
  },
  {
   "cell_type": "markdown",
   "metadata": {
    "slideshow": {
     "slide_type": "slide"
    }
   },
   "source": [
    "### Estimate: approach #1\n",
    "\n",
    "- Our sample: 30 tanks.\n",
    "- Our statistic: the biggest serial number in our sample.\n",
    "- Our sample is random, so the biggest seen serial number is also random."
   ]
  },
  {
   "cell_type": "code",
   "execution_count": null,
   "metadata": {},
   "outputs": [],
   "source": [
    "# The biggest serial number\n",
    "serial_nos.sample(30, replace=False).get('SerialNumber').max()"
   ]
  },
  {
   "cell_type": "code",
   "execution_count": null,
   "metadata": {},
   "outputs": [],
   "source": [
    "# what was N?\n",
    "N"
   ]
  },
  {
   "cell_type": "markdown",
   "metadata": {
    "slideshow": {
     "slide_type": "slide"
    }
   },
   "source": [
    "If we instead acquired a different random sample, the value of our statistic (the max of the serial numbers in our sample) might also be different.\n",
    "\n",
    "How can we understand the **empirical distribution of the statistic**?"
   ]
  },
  {
   "cell_type": "markdown",
   "metadata": {
    "slideshow": {
     "slide_type": "slide"
    }
   },
   "source": [
    "## Empirical distribution of a statistic"
   ]
  },
  {
   "cell_type": "markdown",
   "metadata": {
    "slideshow": {
     "slide_type": "slide"
    }
   },
   "source": [
    "**Plan:** Repeatedly collect samples of size 30, determine the max serial number in each sample, and look at the resulting distribution of maxes."
   ]
  },
  {
   "cell_type": "code",
   "execution_count": null,
   "metadata": {
    "scrolled": true
   },
   "outputs": [],
   "source": [
    "repetitions = 1000 # Start small!\n",
    "sample_size = 30\n",
    "maxes = np.array([])\n",
    "for i in np.arange(repetitions):\n",
    "    one_max = serial_nos.sample(30, replace=False).get('SerialNumber').max()\n",
    "    maxes = np.append(maxes, one_max)\n",
    "\n",
    "maxes"
   ]
  },
  {
   "cell_type": "code",
   "execution_count": null,
   "metadata": {
    "scrolled": false
   },
   "outputs": [],
   "source": [
    "# Plot the distribution\n",
    "bpd.DataFrame().assign(maxes=maxes) \\\n",
    "               .plot(kind='hist', bins=np.arange(N-50, N+5, 5), density=True, ec='w', figsize=(10, 5));\n",
    "plt.axvline(N, color='C2');"
   ]
  },
  {
   "cell_type": "markdown",
   "metadata": {
    "slideshow": {
     "slide_type": "slide"
    }
   },
   "source": [
    "### Discussion Question\n",
    "\n",
    "How often is our guess within 5 of the actual number of tanks, N?\n",
    "\n",
    "A. 30% of the time  \n",
    "B. 40% of the time  \n",
    "C. 50% of the time  \n",
    "D. 60% of the time\n",
    "\n",
    "### To answer, go to [menti.com](https://menti.com) and enter the code 1959 5357."
   ]
  },
  {
   "cell_type": "markdown",
   "metadata": {
    "slideshow": {
     "slide_type": "slide"
    }
   },
   "source": [
    "### Verdict on the estimate\n",
    "\n",
    "* The largest serial number observed is likely to be close to N.\n",
    "* But it is also likely to underestimate N."
   ]
  },
  {
   "cell_type": "markdown",
   "metadata": {
    "slideshow": {
     "slide_type": "slide"
    }
   },
   "source": [
    "### Approach #2: double the mean\n",
    "* Idea: the mean of the observed serial numbers should be close to $\\frac{N}{2}$.\n",
    "* Let's try to estimate the number of tanks, N, using twice the sample mean."
   ]
  },
  {
   "cell_type": "code",
   "execution_count": null,
   "metadata": {},
   "outputs": [],
   "source": [
    "# The sample mean, times 2\n",
    "serial_nos.sample(30, replace=False).get('SerialNumber').mean() * 2"
   ]
  },
  {
   "cell_type": "code",
   "execution_count": null,
   "metadata": {},
   "outputs": [],
   "source": [
    "# remember what the right answer was?\n",
    "N"
   ]
  },
  {
   "cell_type": "markdown",
   "metadata": {
    "slideshow": {
     "slide_type": "slide"
    }
   },
   "source": [
    "### Empirical distribution of approach #2's statistic"
   ]
  },
  {
   "cell_type": "code",
   "execution_count": null,
   "metadata": {},
   "outputs": [],
   "source": [
    "repetitions = 1000\n",
    "sample_size = 30\n",
    "twice_means = np.array([])\n",
    "for i in np.arange(repetitions):\n",
    "    m = serial_nos.sample(sample_size, replace=False).get('SerialNumber').mean() * 2 \n",
    "    twice_means = np.append(twice_means, m)"
   ]
  },
  {
   "cell_type": "code",
   "execution_count": null,
   "metadata": {
    "scrolled": true
   },
   "outputs": [],
   "source": [
    "bpd.DataFrame().assign(twice_means=twice_means) \\\n",
    "               .plot(kind='hist', bins=np.arange(N-100, N+100, 5), density=True, ec='w', figsize=(10, 5));\n",
    "plt.axvline(N, color='C2');"
   ]
  },
  {
   "cell_type": "markdown",
   "metadata": {
    "slideshow": {
     "slide_type": "slide"
    }
   },
   "source": [
    "Which of these two estimation strategies seems \"better\" to you? Hold on to that thought."
   ]
  },
  {
   "cell_type": "markdown",
   "metadata": {
    "slideshow": {
     "slide_type": "slide"
    }
   },
   "source": [
    "## More on statistics"
   ]
  },
  {
   "cell_type": "markdown",
   "metadata": {
    "slideshow": {
     "slide_type": "slide"
    }
   },
   "source": [
    "### Probability distribution of a statistic\n",
    "\n",
    "- The value of a statistic, e.g. the sample mean, is random, because it depends on a random sample.\n",
    "- Like other random quantities, we can study the \"probability distribution\" of the statistic (also known as its \"sampling distribution\").\n",
    "    - This describes all possible values of the statistic and all the corresponding probabilities.\n",
    "- Unfortunately, this can be hard to calculate exactly.\n",
    "    - Option 1: do the math by hand.\n",
    "    - Option 2: generate **all** possible samples and calculate the statistic on each sample.\n",
    "    - Both approaches are hard."
   ]
  },
  {
   "cell_type": "markdown",
   "metadata": {
    "slideshow": {
     "slide_type": "slide"
    }
   },
   "source": [
    "### Empirical distribution of a statistic\n",
    "- The empirical distribution of a statistic is based on simulated values of the statistic. It describes\n",
    "    - all the observed values of the statistic, and\n",
    "    - the proportion of times each value appeared.\n",
    "- The empirical distribution of a statistic can be a good approximation to the probability distribution of the statistic, **if the number of repetitions in the simulation is large**."
   ]
  },
  {
   "cell_type": "markdown",
   "metadata": {
    "slideshow": {
     "slide_type": "slide"
    }
   },
   "source": [
    "### Estimating the number of tanks\n",
    "- We've used two statistics so far: `max` and `2 * mean`.\n",
    "- A probability distribution for `max`, for example, would allow us to calculate the probability that the `max` of a sample of 30 tanks out of 300 is equal to $X$, for any value of $X$.\n",
    "- An empirical distribution for `max` can be seen in the histograms we drew."
   ]
  },
  {
   "cell_type": "markdown",
   "metadata": {
    "slideshow": {
     "slide_type": "slide"
    }
   },
   "source": [
    "## Bias and variance"
   ]
  },
  {
   "cell_type": "markdown",
   "metadata": {
    "slideshow": {
     "slide_type": "slide"
    }
   },
   "source": [
    "**Which statistic was \"better\"?**"
   ]
  },
  {
   "cell_type": "markdown",
   "metadata": {
    "slideshow": {
     "slide_type": "slide"
    }
   },
   "source": [
    "### Bias\n",
    "- Bias is **systematic error in one direction**.\n",
    "- A biased estimate is one where, on average across all possible samples, the estimate is either too high or too low.\n",
    "- Good estimates typically have low bias."
   ]
  },
  {
   "cell_type": "markdown",
   "metadata": {
    "slideshow": {
     "slide_type": "slide"
    }
   },
   "source": [
    "### Variability\n",
    "\n",
    "- Variability measures the degree to which the value of an estimate varies from one sample to another.\n",
    "- High variability makes it hard to estimate accurately.\n",
    "- Good estimates typically have low variability."
   ]
  },
  {
   "cell_type": "markdown",
   "metadata": {
    "slideshow": {
     "slide_type": "slide"
    }
   },
   "source": [
    "### The \"bias-variance trade-off\"\n",
    "\n",
    "- The `max` has low variability, but it is biased, because on average it is an underestimate.\n",
    "- `2 * mean` has little bias, as it is correct on average, but it is highly variable.\n",
    "- Achieving low bias and low variance rarely happens in practice."
   ]
  },
  {
   "cell_type": "code",
   "execution_count": null,
   "metadata": {},
   "outputs": [],
   "source": [
    "bpd.DataFrame().assign(maxes=maxes, twice_means=twice_means) \\\n",
    "               .plot(kind='hist', bins=np.arange(N-99, N+100, 5), density=True, alpha=0.65, ec='w', figsize=(10, 5));\n",
    "plt.axvline(N, color='C2');"
   ]
  },
  {
   "cell_type": "markdown",
   "metadata": {
    "slideshow": {
     "slide_type": "fragment"
    }
   },
   "source": [
    "Any **ideas** to help us achieve the best of both worlds?"
   ]
  },
  {
   "cell_type": "markdown",
   "metadata": {
    "slideshow": {
     "slide_type": "slide"
    }
   },
   "source": [
    "### Approach #3: max + min"
   ]
  },
  {
   "cell_type": "code",
   "execution_count": null,
   "metadata": {},
   "outputs": [],
   "source": [
    "repetitions = 1000\n",
    "sample_size = 30\n",
    "maxes_plus_mins = np.array([])\n",
    "for i in np.arange(repetitions):\n",
    "    serials = serial_nos.sample(sample_size, replace=False).get('SerialNumber')\n",
    "    m = serials.max()+serials.min()\n",
    "    maxes_plus_mins = np.append(maxes_plus_mins, m)"
   ]
  },
  {
   "cell_type": "code",
   "execution_count": null,
   "metadata": {
    "scrolled": true
   },
   "outputs": [],
   "source": [
    "bpd.DataFrame().assign(maxes_plus_mins= maxes_plus_mins) \\\n",
    "               .plot(kind='hist', bins=np.arange(N-99, N+100, 5), density=True, ec='w', figsize=(10, 5));\n",
    "plt.axvline(N, color='C2');"
   ]
  },
  {
   "cell_type": "code",
   "execution_count": null,
   "metadata": {
    "scrolled": true
   },
   "outputs": [],
   "source": [
    "bpd.DataFrame().assign(maxes=maxes, twice_means=twice_means, maxes_plus_mins=maxes_plus_mins) \\\n",
    "               .plot(kind='hist', bins=np.arange(N-99, N+100, 5), density=True, alpha=0.65, ec='w', figsize=(10, 5));\n",
    "plt.axvline(N, color='C2');"
   ]
  },
  {
   "cell_type": "markdown",
   "metadata": {
    "slideshow": {
     "slide_type": "slide"
    }
   },
   "source": [
    "## Statistical models"
   ]
  },
  {
   "cell_type": "markdown",
   "metadata": {
    "slideshow": {
     "slide_type": "slide"
    }
   },
   "source": [
    "### Models\n",
    "\n",
    "- A model is a set of assumptions about how data was generated.\n",
    "\n",
    "    <center><img src='data/box.jpg' width=500></center>\n",
    "\n",
    "- We want a way to assess the quality of a given model."
   ]
  },
  {
   "cell_type": "markdown",
   "metadata": {
    "slideshow": {
     "slide_type": "slide"
    }
   },
   "source": [
    "### Example\n",
    "\n",
    "<center><img src=\"https://upload.wikimedia.org/wikipedia/commons/e/e5/Pisa_experiment.png\" width=500></center>\n",
    "\n",
    "[Galileo's Leaning Tower of Pisa Experiment](https://en.wikipedia.org/wiki/Galileo%27s_Leaning_Tower_of_Pisa_experiment)"
   ]
  },
  {
   "cell_type": "markdown",
   "metadata": {
    "slideshow": {
     "slide_type": "slide"
    }
   },
   "source": [
    "### Recall: Swain vs. Alabama, 1965\n",
    "- Robert Swain was a Black man convicted of crime in Talladega County, Alabama.\n",
    "- He appealed the jury's decision all the way to the Supreme Court, on the grounds that Talladega County systematically excluded Black people from juries.\n",
    "- At the time, only men 21 years or older were allowed to serve on juries. 26% of this population was Black.\n",
    "- But of the 100 men on Robert Swain's jury panel, only 8 were Black."
   ]
  },
  {
   "cell_type": "markdown",
   "metadata": {
    "slideshow": {
     "slide_type": "slide"
    }
   },
   "source": [
    "### Assessing a model\n",
    "\n",
    "- One **model** is that members of the jury panel were selected uniformly at random from the eligible population, and it is just pure chance that only 8 of the 100 members of that sample were Black.\n",
    "- We now have the tools necessary to determine whether or not this is a reasonable model.\n",
    "    - Spoiler alert: it's not."
   ]
  },
  {
   "cell_type": "markdown",
   "metadata": {
    "slideshow": {
     "slide_type": "slide"
    }
   },
   "source": [
    "## Summary, next time"
   ]
  },
  {
   "cell_type": "markdown",
   "metadata": {
    "slideshow": {
     "slide_type": "slide"
    }
   },
   "source": [
    "### Summary\n",
    "\n",
    "- A parameter is a number associated with a population, and a statistic is a number associated with a sample.\n",
    "- We can use statistics calculated on a random samples to estimate population parameters.\n",
    "    - For example, to estimate the max of a population, we can compute the max of a sample, or twice the mean of the sample, or the sum of the max and min of the sample, and so on.\n",
    "- Estimates have bias and variance, both of which are some measure of how \"wrong\" an estimate is.\n",
    "    - Bias is systematic error in one direction. If an estimate has bias, it is wrong on average.\n",
    "    - Variability measures how much an estimate changes between samples.\n",
    "    - Ideally, we'd like our estimates to have low bias and low variance, but in practice this is hard to accomplish.\n",
    "- A model is a set of assumptions about how data were generated.\n",
    "- **Next time**: more on models and how to assess them (hypothesis testing!)."
   ]
  }
 ],
 "metadata": {
  "celltoolbar": "Slideshow",
  "kernelspec": {
   "display_name": "Python 3",
   "language": "python",
   "name": "python3"
  },
  "language_info": {
   "codemirror_mode": {
    "name": "ipython",
    "version": 3
   },
   "file_extension": ".py",
   "mimetype": "text/x-python",
   "name": "python",
   "nbconvert_exporter": "python",
   "pygments_lexer": "ipython3",
   "version": "3.8.5"
  },
  "livereveal": {
   "scroll": true,
   "transition": "none"
  }
 },
 "nbformat": 4,
 "nbformat_minor": 2
}
