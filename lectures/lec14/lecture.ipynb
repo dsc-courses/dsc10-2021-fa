{
 "cells": [
  {
   "cell_type": "code",
   "execution_count": null,
   "metadata": {
    "slideshow": {
     "slide_type": "skip"
    }
   },
   "outputs": [],
   "source": [
    "# Imports\n",
    "import babypandas as bpd\n",
    "import numpy as np\n",
    "\n",
    "import matplotlib.pyplot as plt\n",
    "import warnings; warnings.simplefilter('ignore')\n",
    "plt.style.use('fivethirtyeight')"
   ]
  },
  {
   "cell_type": "markdown",
   "metadata": {
    "slideshow": {
     "slide_type": "slide"
    }
   },
   "source": [
    "# Lecture 14 – Distributions and Sampling\n",
    "\n",
    "## DSC 10, Fall 2021"
   ]
  },
  {
   "cell_type": "markdown",
   "metadata": {
    "slideshow": {
     "slide_type": "slide"
    }
   },
   "source": [
    "### Announcements\n",
    "\n",
    "- Midterm **this Wednesday 10/27 during lecture**.\n",
    "    - Remote, open-notes, must work alone.\n",
    "    - See logistics [here](https://campuswire.com/c/G9636FFCF/feed/259) and practice exams [here](https://dsc10.com/resources/#practice-exams).\n",
    "    - Have handy: [DSC 10 Reference Sheet](https://drive.google.com/file/d/1mQApk9Ovdi-QVqMgnNcq5dZcWucUKoG-/view), calculator/computer for calculations.\n",
    "- Midterm Review Session **tomorrow 5-6PM on Zoom**.\n",
    "    - See Canvas Calendar for the link.\n",
    "    - Will be recorded.\n",
    "- Project 1 due **Tuesday 11/2 at 11:59pm**.\n",
    "- Janine and Suraj will both be at the **DSC Student-Faculty Mixer at 1pm tomorrow**. Come say hi 👋!\n",
    "    - Zoom link: https://ucsd.zoom.us/j/98335299546."
   ]
  },
  {
   "cell_type": "markdown",
   "metadata": {
    "slideshow": {
     "slide_type": "slide"
    }
   },
   "source": [
    "### Agenda\n",
    "\n",
    "- Probability distributions and empirical distributions.\n",
    "- Sampling: populations and samples.\n",
    "- Sample means.\n",
    "- **Remember:** today's lecture is **not** in scope for the midterm."
   ]
  },
  {
   "cell_type": "markdown",
   "metadata": {
    "slideshow": {
     "slide_type": "slide"
    }
   },
   "source": [
    "### How confident are you regarding the upcoming midterm?\n",
    "\n",
    "A. Not confident at all\n",
    "\n",
    "B. Not really confident\n",
    "\n",
    "C. Meh\n",
    "\n",
    "D. Confident\n",
    "\n",
    "E. Very confident\n",
    "\n",
    "### To answer, go to [menti.com](https://menti.com) and enter the code 8197 3501."
   ]
  },
  {
   "cell_type": "markdown",
   "metadata": {
    "slideshow": {
     "slide_type": "slide"
    }
   },
   "source": [
    "## Distributions"
   ]
  },
  {
   "cell_type": "markdown",
   "metadata": {
    "slideshow": {
     "slide_type": "slide"
    }
   },
   "source": [
    "### Distributions\n",
    "- A **distribution** describes the number of occurrences of each value of a variable.\n",
    "- We visualize distributions of numerical variables with histograms."
   ]
  },
  {
   "cell_type": "markdown",
   "metadata": {
    "slideshow": {
     "slide_type": "slide"
    }
   },
   "source": [
    "### Probability distributions\n",
    "- Consider a random quantity with various possible values, each of which has some associated probability.\n",
    "- A **probability distribution** is a description of:\n",
    "    - All the possible values of the quantity.\n",
    "    - The theoretical probability of each value.\n",
    "* Example, for rolling a single die:\n",
    "\n",
    "| Value     |Probability |\n",
    "| ----------- | ----------- |\n",
    "| 1      | 1/6       |\n",
    "| 2   | 1/6        |\n",
    "| 3      | 1/6       |\n",
    "| 4   | 1/6        |\n",
    "| 5      | 1/6       |\n",
    "| 6   | 1/6        |\n"
   ]
  },
  {
   "cell_type": "markdown",
   "metadata": {
    "slideshow": {
     "slide_type": "slide"
    }
   },
   "source": [
    "### Example: probability distribution of a die roll\n",
    "\n",
    "- The distribution is **uniform**, meaning that each outcome has the same probability of occurring."
   ]
  },
  {
   "cell_type": "code",
   "execution_count": null,
   "metadata": {},
   "outputs": [],
   "source": [
    "die_faces = np.arange(1, 7, 1)\n",
    "die = bpd.DataFrame().assign(face=die_faces)\n",
    "die"
   ]
  },
  {
   "cell_type": "code",
   "execution_count": null,
   "metadata": {},
   "outputs": [],
   "source": [
    "bins = np.arange(0.5, 6.6, 1)\n",
    "\n",
    "# Note that you can add titles to your visualizations, like this!\n",
    "die.plot(kind='hist', y='face', bins=bins, density=True, ec='w', \n",
    "         title='Probability Distribution of a Die Roll');"
   ]
  },
  {
   "cell_type": "markdown",
   "metadata": {
    "slideshow": {
     "slide_type": "slide"
    }
   },
   "source": [
    "### Empirical distributions\n",
    "\n",
    "- Unlike probability distributions, which are theoretical, empirical distributions are **based on observations**.\n",
    "- Commonly, these observations are of repetitions of an experiment.\n",
    "- An **empirical distribution** describes:\n",
    "    - All observed values.\n",
    "    - The proportion of observations in which each value occurred.\n",
    "- Unlike the probability distribution, it represents what actually happened in practice. "
   ]
  },
  {
   "cell_type": "markdown",
   "metadata": {
    "slideshow": {
     "slide_type": "slide"
    }
   },
   "source": [
    "### Example: Empirical distribution of a die roll\n",
    "- Let's simulate a roll by using `np.random.choice`.\n",
    "- Rolling a die = sampling with replacement.\n",
    "    - If you roll a 4, you can roll a 4 again."
   ]
  },
  {
   "cell_type": "code",
   "execution_count": null,
   "metadata": {},
   "outputs": [],
   "source": [
    "num_rolls = 25\n",
    "many_rolls = np.random.choice(die_faces, num_rolls)\n",
    "many_rolls"
   ]
  },
  {
   "cell_type": "code",
   "execution_count": null,
   "metadata": {},
   "outputs": [],
   "source": [
    "bpd.DataFrame().assign(face=many_rolls).plot(kind='hist', y='face', bins=bins, density=True, ec='w');"
   ]
  },
  {
   "cell_type": "markdown",
   "metadata": {
    "slideshow": {
     "slide_type": "slide"
    }
   },
   "source": [
    "**Question:** As we increase the number of die rolls, what happens to the shape of the empirical distribution? 🤔"
   ]
  },
  {
   "cell_type": "markdown",
   "metadata": {
    "slideshow": {
     "slide_type": "slide"
    }
   },
   "source": [
    "### Law of averages\n",
    "\n",
    "The **law of averages** states that if a chance experiment is repeated \n",
    "- many times,\n",
    "- independently, and\n",
    "- under the same conditions,\n",
    "    \n",
    "then the **proportion** of times that an event occurs gets closer to the **theoretical probability** of that event."
   ]
  },
  {
   "cell_type": "markdown",
   "metadata": {
    "slideshow": {
     "slide_type": "fragment"
    }
   },
   "source": [
    "Example: As you roll a die repeatedly, the proportion of times you roll a 5 gets closer to 1/6."
   ]
  },
  {
   "cell_type": "code",
   "execution_count": null,
   "metadata": {
    "scrolled": false,
    "slideshow": {
     "slide_type": "slide"
    }
   },
   "outputs": [],
   "source": [
    "for num_rolls in [10, 50, 100, 500, 1000, 5000, 10000]:\n",
    "    die.sample(n=num_rolls, replace=True) \\\n",
    "        .plot(kind='hist', y='face', bins=bins, density=True, ec='w', title=f'Distribution of {num_rolls} Die Rolls');"
   ]
  },
  {
   "cell_type": "markdown",
   "metadata": {
    "slideshow": {
     "slide_type": "slide"
    }
   },
   "source": [
    "## Sampling"
   ]
  },
  {
   "cell_type": "markdown",
   "metadata": {
    "slideshow": {
     "slide_type": "slide"
    }
   },
   "source": [
    "### Populations and samples\n",
    "\n",
    "- A **population** is a group of people, objects, or events that we want to learn something about.\n",
    "- It's often infeasible to collect information about every member of a population.\n",
    "- Instead, we can collect a **sample**, which is a subset of the population.\n",
    "- **Goal**: estimate the distribution of some numerical variable in the population, using only a sample.\n",
    "    - For example, say I want to know the number of credits each UCSD student is taking this quarter.\n",
    "    - It's too hard to get this information for every UCSD student, so we don't know the **population distribution**.\n",
    "    - Instead we collect data from only certain UCSD students to generate a **sample distribution**.\n",
    "    "
   ]
  },
  {
   "cell_type": "markdown",
   "metadata": {
    "slideshow": {
     "slide_type": "slide"
    }
   },
   "source": [
    "**Question:** How do we collect a good sample, so that the sample distribution closely approximates the population distribution?"
   ]
  },
  {
   "cell_type": "markdown",
   "metadata": {
    "slideshow": {
     "slide_type": "slide"
    }
   },
   "source": [
    "### Convenience samples\n",
    "\n",
    "- A **convenience sample** is when you sample whoever you can get ahold of.\n",
    "    - e.g. a voluntary internet survey.\n",
    "    - e.g. people in line at Panda Express at Price Center.\n",
    "    - e.g. the first 50 people to submit the homework.\n",
    "- **Pro:** They're easy and inexpensive (they're the most common type of sample!).\n",
    "- **Cons:** The results won't generalize to the population as a whole and are likely **biased**."
   ]
  },
  {
   "cell_type": "markdown",
   "metadata": {
    "slideshow": {
     "slide_type": "slide"
    }
   },
   "source": [
    "### Example of bias in a convenience sample\n",
    "\n",
    "- **Study:** Determine the average age of gamblers at a casino.\n",
    "- **Methodology:** Ask casino-goers for their age for three hours on a weekday afternoon.\n",
    "- **Bias:** Might overrepresent elderly people who have retired and underrepresented by people of working age.\n",
    "\n",
    "### Main takeaway: convenience samples are not good 🙅‍♀️."
   ]
  },
  {
   "cell_type": "markdown",
   "metadata": {
    "slideshow": {
     "slide_type": "slide"
    }
   },
   "source": [
    "### Probability sample (aka random sample)\n",
    "\n",
    "- In order for a sample to be a probability sample, you **must be able to calculate the probability of selecting any subset of the population**.\n",
    "- Not all individuals need to have an equal chance of being selected.\n",
    "- What's the point?\n",
    "    - There's a better chance of collecting a **representative** sample this way.\n",
    "- Not all probability samples are good, though!"
   ]
  },
  {
   "cell_type": "markdown",
   "metadata": {
    "slideshow": {
     "slide_type": "slide"
    }
   },
   "source": [
    "### Example: movies"
   ]
  },
  {
   "cell_type": "code",
   "execution_count": null,
   "metadata": {
    "slideshow": {
     "slide_type": "-"
    }
   },
   "outputs": [],
   "source": [
    "top = bpd.read_csv('data/top_movies.csv')\n",
    "top"
   ]
  },
  {
   "cell_type": "markdown",
   "metadata": {
    "slideshow": {
     "slide_type": "slide"
    }
   },
   "source": [
    "### A probability sample\n",
    "- **Scheme:** Start with a random number between 0 and 9 take every tenth row thereafter.\n",
    "    - **This is a probability sample!**\n",
    "- Any given row is equally likely to be picked, with probability 1/10.\n",
    "- It is **not** true that every subset of rows has the same probability of being selected.\n",
    "    - There are only 10 possible samples: rows (0, 10, 20, 30, ..., 190), rows (1, 11, 21, ..., 191), and so on.\n",
    "- This is a probability sample."
   ]
  },
  {
   "cell_type": "code",
   "execution_count": null,
   "metadata": {
    "slideshow": {
     "slide_type": "-"
    }
   },
   "outputs": [],
   "source": [
    "start = np.random.choice(np.arange(10))\n",
    "top.take(np.arange(start, 200, 10))"
   ]
  },
  {
   "cell_type": "markdown",
   "metadata": {
    "slideshow": {
     "slide_type": "slide"
    }
   },
   "source": [
    "### Simple random sample\n",
    "\n",
    "- A **simple random sample (SRS)** is a sample drawn **uniformly** at random **without** replacement.\n",
    "- In an SRS...\n",
    "    - Every individual has the same chance of being selected.\n",
    "    - Every pair has the same chance of being selected.\n",
    "    - Every triplet has the same chance of being selected.\n",
    "    - And so on...\n",
    "- To perform an SRS from an array `options`, we use `np.random.choice(options, replace=False)`.\n",
    "    - If we use `replace=True`, then we're **sampling uniformly at random with replacement** – there's no simpler term for this."
   ]
  },
  {
   "cell_type": "markdown",
   "metadata": {
    "slideshow": {
     "slide_type": "slide"
    }
   },
   "source": [
    "### Sampling rows from a DataFrame\n",
    "\n",
    "If we instead want to sample rows from a DataFrame, we can use the `.sample` method on a DataFrame.\n",
    "\n",
    "```py\n",
    "df.sample(n)\n",
    "```\n",
    "\n",
    "returns a random subset of `n` rows of `df`, drawn **without replacement** (i.e. the default is `replace=False`, unlike `np.random.choice`)."
   ]
  },
  {
   "cell_type": "code",
   "execution_count": null,
   "metadata": {},
   "outputs": [],
   "source": [
    "# Without replacement\n",
    "top.sample(5)"
   ]
  },
  {
   "cell_type": "code",
   "execution_count": null,
   "metadata": {},
   "outputs": [],
   "source": [
    "# With replacement\n",
    "top.sample(5, replace=True)"
   ]
  },
  {
   "cell_type": "markdown",
   "metadata": {
    "slideshow": {
     "slide_type": "slide"
    }
   },
   "source": [
    "### Sample size\n",
    "\n",
    "- We saw earlier that when we repeat a random experiment more and more times, the empirical distribution looks more and more like the probability distribution.\n",
    "- Similarly, if we take a larger simple random sample, then the sample distribution is more likely to better approximate the true population distribution."
   ]
  },
  {
   "cell_type": "markdown",
   "metadata": {
    "slideshow": {
     "slide_type": "slide"
    }
   },
   "source": [
    "### Example: distribution of flight delays\n",
    "\n",
    "`united_full` contains information about all United flights leaving SFO between 6/1/15 and 8/31/15."
   ]
  },
  {
   "cell_type": "code",
   "execution_count": null,
   "metadata": {},
   "outputs": [],
   "source": [
    "united_full = bpd.read_csv('data/united_summer2015.csv')\n",
    "united_full"
   ]
  },
  {
   "cell_type": "markdown",
   "metadata": {
    "slideshow": {
     "slide_type": "slide"
    }
   },
   "source": [
    "### Only need delays..."
   ]
  },
  {
   "cell_type": "code",
   "execution_count": null,
   "metadata": {},
   "outputs": [],
   "source": [
    "united = united_full.get(['Delay'])\n",
    "united"
   ]
  },
  {
   "cell_type": "markdown",
   "metadata": {
    "slideshow": {
     "slide_type": "slide"
    }
   },
   "source": [
    "### Population distribution of flight delays"
   ]
  },
  {
   "cell_type": "code",
   "execution_count": null,
   "metadata": {},
   "outputs": [],
   "source": [
    "bins = np.arange(-20, 300, 10)\n",
    "united.plot(kind='hist', y='Delay', bins=bins, density=True, ec='w', title='Population Distribution of Flight Delays', figsize=(10, 5));"
   ]
  },
  {
   "cell_type": "markdown",
   "metadata": {
    "slideshow": {
     "slide_type": "slide"
    }
   },
   "source": [
    "### Sample distribution of flight delays\n",
    "\n",
    "- The 13825 flight delays in `united` constitute our population.\n",
    "- Normally, we won't have access to the entire population.\n",
    "- To replicate a real-world scenario, we will sample from `united` **without replacement**."
   ]
  },
  {
   "cell_type": "code",
   "execution_count": null,
   "metadata": {},
   "outputs": [],
   "source": [
    "# Sample distribution\n",
    "N = 100\n",
    "united.sample(N).plot(kind='hist', y='Delay', bins=bins, density=True, ec='w',\n",
    "                                   title='Sample Distribution of Flight Delays',\n",
    "                                   figsize=(10, 5));"
   ]
  },
  {
   "cell_type": "markdown",
   "metadata": {},
   "source": [
    "Note that as we increase `N`, the sample distribution of delays looks closer and closer to the true population distribution of delays."
   ]
  },
  {
   "cell_type": "markdown",
   "metadata": {
    "slideshow": {
     "slide_type": "slide"
    }
   },
   "source": [
    "## Sample means"
   ]
  },
  {
   "cell_type": "markdown",
   "metadata": {
    "slideshow": {
     "slide_type": "slide"
    }
   },
   "source": [
    "### Average flight delay\n",
    "\n",
    "- What is the average delay of United flights out of SFO?\n",
    "- We'd love to know the average delay of **population**, but we only have a **sample**.\n",
    "- How does the mean of the **sample** compare to the mean of the **population**?"
   ]
  },
  {
   "cell_type": "markdown",
   "metadata": {
    "slideshow": {
     "slide_type": "slide"
    }
   },
   "source": [
    "### Mean of the population"
   ]
  },
  {
   "cell_type": "code",
   "execution_count": null,
   "metadata": {},
   "outputs": [],
   "source": [
    "# Calculate the mean\n",
    "united_mean = united.get('Delay').mean()\n",
    "united_mean"
   ]
  },
  {
   "cell_type": "markdown",
   "metadata": {
    "slideshow": {
     "slide_type": "slide"
    }
   },
   "source": [
    "### Mean of the sample\n",
    "\n",
    "- This is called the **sample mean**.\n",
    "- Because the sample is random, the **sample mean** is too!"
   ]
  },
  {
   "cell_type": "code",
   "execution_count": null,
   "metadata": {},
   "outputs": [],
   "source": [
    "# Each time you run this, you will get a different result.\n",
    "# This cell is sampling 100 flight delays from the population and averaging those results.\n",
    "united.sample(100).get('Delay').mean()"
   ]
  },
  {
   "cell_type": "markdown",
   "metadata": {
    "slideshow": {
     "slide_type": "slide"
    }
   },
   "source": [
    "### Mean of a large SRS\n",
    "- As the sample gets bigger, the sample mean gets closer to the population mean.\n",
    "- To illustrate this, we'll collect samples of various sizes and look at their corresponding means."
   ]
  },
  {
   "cell_type": "code",
   "execution_count": null,
   "metadata": {},
   "outputs": [],
   "source": [
    "# The mean of a lot of samples\n",
    "sizes = np.arange(100, 10000, 200)\n",
    "means = np.array([])\n",
    "for n in sizes:\n",
    "    m = united.sample(int(n)).get('Delay').mean()\n",
    "    means = np.append(means, m)\n",
    "    \n",
    "many_samples = bpd.DataFrame().assign(sample_size=sizes, sample_mean=means)\n",
    "many_samples"
   ]
  },
  {
   "cell_type": "code",
   "execution_count": null,
   "metadata": {
    "scrolled": true
   },
   "outputs": [],
   "source": [
    "many_samples.plot(kind='line', x='sample_size', y='sample_mean', \n",
    "                  title='Relationship Between Sample Size and Sample Mean');"
   ]
  },
  {
   "cell_type": "markdown",
   "metadata": {},
   "source": [
    "Note that while the sample mean can be quite inaccurate for small sample sizes, as we increase our sample size it tends to get closer and closer to the true population mean."
   ]
  },
  {
   "cell_type": "markdown",
   "metadata": {
    "slideshow": {
     "slide_type": "slide"
    }
   },
   "source": [
    "### What if we repeat this process many, many times?\n",
    "\n",
    "Don't worry about how this graph is created, but at a high level:\n",
    "- Each line corresponds to one repetition of the process from the previous slide (collecting samples of various sizes and determining the sample mean).\n",
    "- As samples get larger and larger, the sample mean gets closer to the population mean."
   ]
  },
  {
   "cell_type": "code",
   "execution_count": null,
   "metadata": {},
   "outputs": [],
   "source": [
    "sizes = np.arange(100, 10000, 200)\n",
    "\n",
    "def create_many_samples():\n",
    "    means = np.array([])\n",
    "    for n in sizes:\n",
    "        m = united.sample(int(n)).get('Delay').mean()\n",
    "        means = np.append(means, m)\n",
    "    return means\n",
    "\n",
    "repeated_samples = [create_many_samples() for _ in np.arange(100)]\n",
    "plt.figure(figsize=(10, 5), dpi=200)\n",
    "for rep in repeated_samples:\n",
    "    plt.plot(sizes, rep, alpha=0.25);\n",
    "\n",
    "plt.title('Relationship Between Sample Size and Sample Mean');"
   ]
  },
  {
   "cell_type": "markdown",
   "metadata": {
    "slideshow": {
     "slide_type": "fragment"
    }
   },
   "source": [
    "**What do you notice?** The vertical spread of the graph decreases as sample size increases."
   ]
  },
  {
   "cell_type": "markdown",
   "metadata": {
    "slideshow": {
     "slide_type": "slide"
    }
   },
   "source": [
    "### How good is the _sample mean_?\n",
    "\n",
    "- In other words, is it close to the population mean?\n",
    "- If the sample is small, there's a high chance that sample mean is bad.\n",
    "- If the sample is big, there's a small chance that sample mean is bad."
   ]
  },
  {
   "cell_type": "markdown",
   "metadata": {
    "slideshow": {
     "slide_type": "slide"
    }
   },
   "source": [
    "### Small random sample\n",
    "\n",
    "<center><img src=\"data/bullseye-high.png\"></center>"
   ]
  },
  {
   "cell_type": "markdown",
   "metadata": {
    "slideshow": {
     "slide_type": "slide"
    }
   },
   "source": [
    "### Large random sample\n",
    "\n",
    "<center><img src=\"data/bullseye-low.png\"></center>"
   ]
  },
  {
   "cell_type": "markdown",
   "metadata": {
    "slideshow": {
     "slide_type": "slide"
    }
   },
   "source": [
    "### Distribution of sample means\n",
    "\n",
    "- Let's...\n",
    "    - Repeatedly draw a bunch of samples.\n",
    "    - Record the mean of each.\n",
    "    - Draw a histogram of the resulting distribution.\n",
    "- What's the point?\n",
    "    - This helps us answer the question \"what would the sample mean have looked like if we drew a different sample?\"\n",
    "- Try different sample sizes and look at the resulting histogram!"
   ]
  },
  {
   "cell_type": "code",
   "execution_count": null,
   "metadata": {},
   "outputs": [],
   "source": [
    "# Sample one thousand flights, two thousand times\n",
    "sample_size = 1000\n",
    "n_experiments = 2000\n",
    "means = np.array([])\n",
    "\n",
    "for n in np.arange(n_experiments):\n",
    "    m = united.sample(sample_size).get('Delay').mean()\n",
    "    means = np.append(m, means)\n",
    "\n",
    "bpd.DataFrame().assign(means=means).plot(kind='hist', bins=np.arange(10, 25, 0.5), density=True, ec='w',\n",
    "                                         title=f'Distribution of Sample Mean with Sample Size {sample_size}')\n",
    "plt.axvline(x=united_mean, c='r');"
   ]
  },
  {
   "cell_type": "markdown",
   "metadata": {
    "slideshow": {
     "slide_type": "slide"
    }
   },
   "source": [
    "### Discussion Question\n",
    "\n",
    "We just sampled **one thousand** flights, two thousand times. If we now sample **one hundred** flights, two thousand times, how will the histogram change?\n",
    "\n",
    "- A.  narrower  \n",
    "- B.  wider  \n",
    "- C.  shifted left  \n",
    "- D.  shifted right  \n",
    "- E.  unchanged\n",
    "\n",
    "### To answer, go to [menti.com](https://menti.com) and enter the code 8197 3501."
   ]
  },
  {
   "cell_type": "markdown",
   "metadata": {
    "slideshow": {
     "slide_type": "slide"
    }
   },
   "source": [
    "### How we sample matters\n",
    "\n",
    "* So far, we've taken large uniform random samples, **without replacement**, from the full population.\n",
    "    * If the population is large enough, then it doesn't really matter if we sample with or without replacement.\n",
    "* The sample mean, for samples like this, is a good approximation of the population mean.\n",
    "* But this is not always the case if we sample differently."
   ]
  },
  {
   "cell_type": "markdown",
   "metadata": {
    "slideshow": {
     "slide_type": "slide"
    }
   },
   "source": [
    "### Example: uniform random sample of flights to Denver\n",
    "* Estimation of the mean is highly biased!"
   ]
  },
  {
   "cell_type": "code",
   "execution_count": null,
   "metadata": {},
   "outputs": [],
   "source": [
    "n_experiments = 2000\n",
    "means = np.array([])\n",
    "\n",
    "den = united_full[united_full.get('Destination') == 'DEN'].get(['Delay'])\n",
    "for n in np.arange(n_experiments):\n",
    "    m = den.sample(100).get('Delay').mean()\n",
    "    means = np.append(m, means)\n",
    "\n",
    "bpd.DataFrame().assign(means=means).plot(kind='hist', bins=np.arange(0, 40, .5), density=True)\n",
    "plt.axvline(x=united_mean, c='r');\n",
    "# plt.axvline(x=den.get('Delay').mean(), c='y');"
   ]
  },
  {
   "cell_type": "markdown",
   "metadata": {
    "slideshow": {
     "slide_type": "slide"
    }
   },
   "source": [
    "## Summary"
   ]
  },
  {
   "cell_type": "markdown",
   "metadata": {
    "slideshow": {
     "slide_type": "slide"
    }
   },
   "source": [
    "### Summary, next time\n",
    "\n",
    "- The **probability distribution** of a random quantity describes the values it takes on along with the probability of each value occurring.\n",
    "- An **empirical distribution** describes the values and frequencies of the results of a random experiment.\n",
    "- With more trials of an experiment, the empirical distribution gets closer to the probability distribution.\n",
    "- A **population distribution** describes the values and frequencies of some characteristic of a population.\n",
    "- A **sample distribution** describes the values and frequencies of some characteristic of a sample, which is a subset of a population.\n",
    "- When we sample uniformly at random, as we increase our sample size, the sample distribution (in particular, the sample mean) gets closer and closer to the population distribution (in particular, the population mean).\n",
    "- **Next time (Friday):** more on populations and samples.\n",
    "    - None of today's lecture is on the midterm!"
   ]
  }
 ],
 "metadata": {
  "celltoolbar": "Slideshow",
  "kernelspec": {
   "display_name": "Python 3",
   "language": "python",
   "name": "python3"
  },
  "language_info": {
   "codemirror_mode": {
    "name": "ipython",
    "version": 3
   },
   "file_extension": ".py",
   "mimetype": "text/x-python",
   "name": "python",
   "nbconvert_exporter": "python",
   "pygments_lexer": "ipython3",
   "version": "3.8.5"
  },
  "livereveal": {
   "scroll": true,
   "transition": "none"
  }
 },
 "nbformat": 4,
 "nbformat_minor": 2
}
