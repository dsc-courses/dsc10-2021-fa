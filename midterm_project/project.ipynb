{
 "cells": [
  {
   "cell_type": "markdown",
   "metadata": {},
   "source": [
    "# Project 1: Restaurants 🍔\n",
    "\n",
    "## Due Saturday, October 30 at 11:59 pm"
   ]
  },
  {
   "cell_type": "markdown",
   "metadata": {},
   "source": [
    "Welcome to Project 1! Projects in DSC 10 are similar in format to homeworks, but are different in a few key ways. First, a project is comprehensive, meaning that it draws upon everything we've learned this quarter so far. Second, since problems can vary quite a bit in difficulty, some problems will be worth more points than others. Finally, in a project, the problems are more open-ended; they will usually ask for some result, but won't tell you what method should be used to get it. There might be several equally-valid approaches, and several steps might be necessary. This is closer to how data science is done in \"real life\".\n",
    "\n",
    "It is important that you **start early** on the project! It will take the place of a homework in the week that it is due, but you should also expect it to take longer than a homework. You are especially encouraged to **find a partner** to work through the project with. If you work in a pair, you must work with someone from your team, following the [Pair Programming Guidelines](https://dsc10.com/pair-programming/) on the course website. In particular, you must work together at the same time, and you are not allowed to split up the problems and each work on certain problems. If working in a pair, you should submit one notebook to Gradescope for the both of you. Use [this sheet](https://docs.google.com/spreadsheets/d/19tnetCMN1z9Kl57kKLtqNzT5ppjub1nDUniNjA-iXKE/edit#gid=0) to find someone else on your team to work with."
   ]
  },
  {
   "cell_type": "markdown",
   "metadata": {},
   "source": [
    "**Important**: The `otter` tests don't usually tell you that your answer is correct. More often, they help catch basic mistakes. It's up to you to ensure that your answer is correct. If you're not sure, ask someone (not for the answer, but for some guidance about your approach). Directly sharing answers between groups is not okay, but discussing problems with the course staff or with other students is encouraged.\n",
    "\n",
    "**Please do not use for-loops or import any packages.** Loops in Python are slow, and looping over arrays and DataFrames should usually be avoided in favor of commands that are meant specifically for these objects. This entire project can be done without any loops, using the tools we've learned so far in DSC 10. Please do no import any additional packages - you don't need them, and our autograder may not be able to run your code if you do."
   ]
  },
  {
   "cell_type": "code",
   "execution_count": null,
   "metadata": {},
   "outputs": [],
   "source": [
    "# Please don't change this cell but do run it.\n",
    "import babypandas as bpd\n",
    "import numpy as np\n",
    "import matplotlib.pyplot as plt\n",
    "\n",
    "import otter\n",
    "grader = otter.Notebook()"
   ]
  },
  {
   "cell_type": "markdown",
   "metadata": {},
   "source": [
    "## Outline\n",
    "\n",
    "Use this outline to help you quickly navigate to the part of the project you're working on:\n",
    "- [The Data](#data)    \n",
    "- [Part 1. Chains](#part1) \n",
    "    - Questions 1.1 - 1.12    \n",
    "- [Part 2. Cities](#part2) \n",
    "    - Questions 2.1 - 2.8\n",
    "- [Part 3. Stars](#part3) \n",
    "    - Questions 3.1 - 3.5"
   ]
  },
  {
   "cell_type": "markdown",
   "metadata": {},
   "source": [
    "<a id='data'></a>\n",
    "## The Data\n",
    "\n",
    "In this project, we will explore several 2020 restaurant rankings from [Restaurant Business](https://www.restaurantbusinessonline.com) (RB), a media brand that provides business intelligence insights for commercial restaurants.\n",
    "\n",
    "Our data is split across three different CSV files, each of which contains a different set of restaurants, using a different ranking methodology. Run the cell below to load in our data as DataFrames."
   ]
  },
  {
   "cell_type": "code",
   "execution_count": null,
   "metadata": {},
   "outputs": [],
   "source": [
    "future = bpd.read_csv('data/Future50.csv')\n",
    "\n",
    "independents = bpd.read_csv('data/Independents100.csv')\n",
    "# Ignore this, it fixes the format of the Sales column\n",
    "independents = independents.assign(Sales=independents.get('Sales').apply(int))\n",
    "\n",
    "chain_restaurants = bpd.read_csv('data/Top250.csv')"
   ]
  },
  {
   "cell_type": "markdown",
   "metadata": {},
   "source": [
    "The `future` DataFrame contains information about the 50 fastest-growing restaurant chains in the US whose yearly sales are between 25 and 50 million dollars.  Because of the moderate range for yearly sales, the `future` DataFrame does not include restaurant giants like McDonald's and Starbucks. Instead, the restaurant chains in the `future` DataFrame are mid-sized restaurant chains that may boom in popularity in the future, hence the DataFrame's name.\n",
    "\n",
    "The `future` DataFrame is sorted in descending order by percentage change in sales from 2019 to 2020 (`'YOY_Sales'`; YOY stands for \"Year-over-Year\"). `'Sales'` are reported in millions in dollars. The `'Location'` column refers to the city where the chain is headquartered, not to any specific location. \n",
    "\n",
    "Run the cell below to take a look at the `future` DataFrame, and [click here](https://www.restaurantbusinessonline.com/future-50) to see the ranking on RB's website."
   ]
  },
  {
   "cell_type": "code",
   "execution_count": null,
   "metadata": {},
   "outputs": [],
   "source": [
    "future"
   ]
  },
  {
   "cell_type": "markdown",
   "metadata": {},
   "source": [
    "The `independents` DataFrame contains information about the 100 highest-grossing independent restaurants in the US, sorted by `'Sales'` in decreasing order.  A restaurant is classified as \"independent\" if it has fewer than five locations; unlike in the `future` DataFrame, the `'City'` column here corresponds to the actual location of the restaurant. Here, `'Sales'` are measured in dollars, not in millions of dollars."
   ]
  },
  {
   "cell_type": "code",
   "execution_count": null,
   "metadata": {},
   "outputs": [],
   "source": [
    "independents"
   ]
  },
  {
   "cell_type": "markdown",
   "metadata": {},
   "source": [
    "Finally, the `chain_restaurants` DataFrame contains information about the 250 largest restaurant chains in the US, sorted by `'Sales'` in decreasing order. Here, sales are measured in millions, so McDonald's sales value of `40412` really means \\$40.4 billion dollars.\n",
    "\n",
    "Run the cell below to take a look at the `chain_restaurants` DataFrame, and [click here](https://www.restaurantbusinessonline.com/top-500-chains) to see the ranking on RB's website."
   ]
  },
  {
   "cell_type": "code",
   "execution_count": null,
   "metadata": {},
   "outputs": [],
   "source": [
    "chain_restaurants"
   ]
  },
  {
   "cell_type": "markdown",
   "metadata": {},
   "source": [
    "<a id='part1'></a>\n",
    "## Part 1 – Chains 🍟\n",
    "\n",
    "Let's start by asking questions about the `chain_restaurants` DataFrame; we'll take a closer look at our other two DataFrames later."
   ]
  },
  {
   "cell_type": "markdown",
   "metadata": {},
   "source": [
    "### Question 1.1 \n",
    "**1 point**"
   ]
  },
  {
   "cell_type": "markdown",
   "metadata": {
    "deletable": false,
    "editable": false
   },
   "source": [
    "The `chain_restaurants` DataFrame has many columns that we aren't going to look at. Below, create a new DataFrame called `chains` with only has the columns `'Rank'`, `'Restaurant'`, `'Sales'`, `'YOY_Sales'`, and `'Segment_Category'` from the `chain_restaurants` DataFrame.\n",
    "\n",
    "<!--\n",
    "BEGIN QUESTION\n",
    "name: q1_1\n",
    "points: 1\n",
    "-->"
   ]
  },
  {
   "cell_type": "code",
   "execution_count": null,
   "metadata": {},
   "outputs": [],
   "source": [
    "chains = ...\n",
    "chains"
   ]
  },
  {
   "cell_type": "code",
   "execution_count": null,
   "metadata": {
    "deletable": false,
    "editable": false
   },
   "outputs": [],
   "source": [
    "grader.check(\"q1_1\")"
   ]
  },
  {
   "cell_type": "markdown",
   "metadata": {
    "deletable": false,
    "editable": false
   },
   "source": [
    "### Question 1.2\n",
    "**1 point**\n",
    "\n",
    "We want to know the restaurant chain that ranks $n$th in RB's chain restaurant rankings; that is, the chain restaurant with the $n$th highest sales in 2020. But to do so for various values of $n$, we would have to write a long query every time. Create a function called `rank_chain` that takes as input a ranking $n$ between 1 and 250 and returns the name of the chain ranked $n$th. Example behavior of the function is shown below.\n",
    "\n",
    "```py\n",
    ">>> rank_chain(2)\n",
    "'Starbucks'\n",
    "\n",
    ">>> rank_chain(250)\n",
    "'Jollibee'\n",
    "```\n",
    "\n",
    "\n",
    "<!--\n",
    "BEGIN QUESTION\n",
    "name: q1_2\n",
    "-->"
   ]
  },
  {
   "cell_type": "code",
   "execution_count": null,
   "metadata": {},
   "outputs": [],
   "source": [
    "def rank_chain(n):\n",
    "    ..."
   ]
  },
  {
   "cell_type": "code",
   "execution_count": null,
   "metadata": {
    "deletable": false,
    "editable": false
   },
   "outputs": [],
   "source": [
    "grader.check(\"q1_2\")"
   ]
  },
  {
   "cell_type": "markdown",
   "metadata": {
    "deletable": false,
    "editable": false
   },
   "source": [
    "### Question 1.3\n",
    "**1 point**\n",
    "\n",
    "The `'Segment_Category'` describes the food and service of each chain. What are the most popular segment categories in `chains`?\n",
    "\n",
    "Create an array called `ordered_segment_categories` containing all the segment categories, ordered from the most popular segment category to the least popular segment category in `chains`. \n",
    "\n",
    "\n",
    "<!--\n",
    "BEGIN QUESTION\n",
    "name: q1_3\n",
    "-->"
   ]
  },
  {
   "cell_type": "code",
   "execution_count": null,
   "metadata": {},
   "outputs": [],
   "source": [
    "ordered_segment_categories = ...\n",
    "ordered_segment_categories"
   ]
  },
  {
   "cell_type": "code",
   "execution_count": null,
   "metadata": {
    "deletable": false,
    "editable": false
   },
   "outputs": [],
   "source": [
    "grader.check(\"q1_3\")"
   ]
  },
  {
   "cell_type": "markdown",
   "metadata": {
    "deletable": false,
    "editable": false
   },
   "source": [
    "### Question 1.4\n",
    "**1 point**\n",
    "\n",
    "In the previous question, we determined that the segment category that appeared most often was `'Varied Menu'`. It's not immediately obvious what that means!\n",
    "\n",
    "Below, assign `varied_menu_only` to a DataFrame with only the rows in `chains` where the segment category was `'Varied Menu'`. **Don't sort or make any other modifications**.\n",
    "\n",
    "<!--\n",
    "BEGIN QUESTION\n",
    "name: q1_4\n",
    "-->"
   ]
  },
  {
   "cell_type": "code",
   "execution_count": null,
   "metadata": {},
   "outputs": [],
   "source": [
    "varied_menu_only = ...\n",
    "varied_menu_only"
   ]
  },
  {
   "cell_type": "code",
   "execution_count": null,
   "metadata": {
    "deletable": false,
    "editable": false
   },
   "outputs": [],
   "source": [
    "grader.check(\"q1_4\")"
   ]
  },
  {
   "cell_type": "markdown",
   "metadata": {},
   "source": [
    "As you can see, the highest ranking `'Varied Menu'` segment category restaurant chain isn't very high. Have you heard of any of these chains before? The chains 'Seasons 52' and 'True Food Kitchen' in the `varied_menu` DataFrame are at the Westfield UTC mall in San Diego right next to campus. Have you been to either of them? 🤔\n",
    "\n",
    "Remember that the data that we work with as data scientists is more than just a bunch of numbers, it is based on the world around us."
   ]
  },
  {
   "cell_type": "markdown",
   "metadata": {
    "deletable": false,
    "editable": false
   },
   "source": [
    "### Question 1.5\n",
    "**2 points**\n",
    "\n",
    "In the last two subparts we looked at the most common segment categories in `chains`. But what if we're interested in determining the segment categories that averaged the most sales?\n",
    "\n",
    "Below, assign `top_selling_segments` to a DataFrame with two columns, `'Segment_Category'` and `'Average_Sales'`, such that:\n",
    "- Each row corresponds to a single segment category, and the `'Average_Sales'` column contains the average (mean) sales for each category.\n",
    "- Only the segment categories with average sales of over 2.5 billion dollars are included. (Note, \\$2.5 billion is equivalent to `2500` in our data's units.)\n",
    "- Rows are sorted by `'Average_Sales'` in decreasing order.\n",
    "\n",
    "The first few rows of `top_selling_segments` should look like this:\n",
    "\n",
    "|     | Segment_Category            |   Average_Sales     |\n",
    "-----:|----------------------------:|--------------------:|\n",
    " **0**| Quick Service & Coffee Cafe |         7972.250000 |\n",
    " **1**| Quick Service & Burger      |         6106.460000 |\n",
    " **2**| Quick Service & Mexican     |         6071.500000 |\n",
    "\n",
    "*Hint*: You might want to create a new DataFrame rather than renaming columns.\n",
    "\n",
    "<!--\n",
    "BEGIN QUESTION\n",
    "name: q1_5\n",
    "points: 2\n",
    "-->"
   ]
  },
  {
   "cell_type": "code",
   "execution_count": null,
   "metadata": {},
   "outputs": [],
   "source": [
    "top_selling_segments = ...\n",
    "top_selling_segments"
   ]
  },
  {
   "cell_type": "code",
   "execution_count": null,
   "metadata": {
    "deletable": false,
    "editable": false
   },
   "outputs": [],
   "source": [
    "grader.check(\"q1_5\")"
   ]
  },
  {
   "cell_type": "markdown",
   "metadata": {
    "deletable": false,
    "editable": false
   },
   "source": [
    "### Question 1.6\n",
    "**2 points**\n",
    "\n",
    "Notice that many of the categories with high average sales include \"Quick Service\". Let us compare the \"Quick Service\" restaurant chains and the non-\"Quick Service\" chains. Find the difference between the average sales for all \"Quick Service\" restaurant chains and the average sales for all non-\"Quick Service\" chains in the `chains` DataFrame. Save the answer to `quick_sales_diff`.\n",
    "\n",
    "*Note 1*: If the restaurant chain category has the word \"Quick Service\" in it, it is a \"Quick Service\" chain.\n",
    "\n",
    "*Note 2*: Your answer should be positive.\n",
    "\n",
    "*Hint*: You can use the `-` operator on a boolean Series to negate the entire Series. Example behavior of the operation is shown below:\n",
    "\n",
    "```py\n",
    ">>> s = bpd.Series(np.array[False, True, True])\n",
    ">>> s\n",
    "0   False\n",
    "1   True\n",
    "1   True\n",
    ">>> -s\n",
    "0   True\n",
    "1   False\n",
    "1   False\n",
    "```\n",
    "\n",
    "\n",
    "<!--\n",
    "BEGIN QUESTION\n",
    "name: q1_6\n",
    "points: 2\n",
    "-->"
   ]
  },
  {
   "cell_type": "code",
   "execution_count": null,
   "metadata": {},
   "outputs": [],
   "source": [
    "quick_sales_diff = ...\n",
    "quick_sales_diff"
   ]
  },
  {
   "cell_type": "code",
   "execution_count": null,
   "metadata": {
    "deletable": false,
    "editable": false
   },
   "outputs": [],
   "source": [
    "grader.check(\"q1_6\")"
   ]
  },
  {
   "cell_type": "markdown",
   "metadata": {},
   "source": [
    "### Question 1.7\n",
    "**2 points**\n",
    "\n",
    "So far, we haven't really looked at the `'YOY_Sales'` column in `chains`. Remember, the values in `'YOY_Sales'` tell us the percentage change in sales from 2019 to 2020 for each restaurant chain (YOY means \"Year-over-Year\"); a `'YOY_Sales'` value of 8.6% means the restaurant earned 8.6% more in sales in 2020 than it did in 2019."
   ]
  },
  {
   "cell_type": "code",
   "execution_count": null,
   "metadata": {},
   "outputs": [],
   "source": [
    "# Returns an array of the first five elements in the YOY_Sales column just for us to see\n",
    "np.array(chains.get('YOY_Sales').take(np.arange(5)))"
   ]
  },
  {
   "cell_type": "markdown",
   "metadata": {},
   "source": [
    "Since the values in the `'YOY_Sales'` column are stored as strings, not numbers, we can't reliably sort by `'YOY_Sales'`. (Try it out – if you sort by `'YOY_Sales'` in decreasing order, it will tell you the highest `'YOY_Sales'` any restaurant had was 9.9%, though there are several restaurants with `'YOY_Sales'` values of over 10%.)"
   ]
  },
  {
   "cell_type": "code",
   "execution_count": null,
   "metadata": {},
   "outputs": [],
   "source": [
    "# Use this cell for experimentation, if you want!"
   ]
  },
  {
   "cell_type": "markdown",
   "metadata": {
    "deletable": false,
    "editable": false
   },
   "source": [
    "#### Part a)\n",
    "**1 point**\n",
    "\n",
    "As we saw above, a string like '4.9%' doesn't help us. Write a function `percent_str_to_prop` that takes in a percentage string and returns the corresponding proportion, which should be a decimal between 0 and 1. Example behavior of the function is shown below.\n",
    "\n",
    "```py\n",
    ">>> percent_str_to_prop('-15.8%')\n",
    "-0.158\n",
    "\n",
    ">>> percent_str_to_prop('4.8%')\n",
    "0.048\n",
    "```\n",
    "\n",
    "<!--\n",
    "BEGIN QUESTION\n",
    "name: q1_7a\n",
    "-->"
   ]
  },
  {
   "cell_type": "code",
   "execution_count": null,
   "metadata": {},
   "outputs": [],
   "source": [
    "def percent_str_to_prop(pct_str):\n",
    "..."
   ]
  },
  {
   "cell_type": "code",
   "execution_count": null,
   "metadata": {
    "deletable": false,
    "editable": false
   },
   "outputs": [],
   "source": [
    "grader.check(\"q1_7a\")"
   ]
  },
  {
   "cell_type": "markdown",
   "metadata": {
    "deletable": false,
    "editable": false
   },
   "source": [
    "#### Part b)\n",
    "**1 point**\n",
    "\n",
    "Now that we have a function to change a percentage string into a decimal proportion, create a new DataFrame called `chains_YOY` which has the same columns as `chains`, except the values in the `'YOY_Sales'` column should be proportions.\n",
    "\n",
    "<!--\n",
    "BEGIN QUESTION\n",
    "name: q1_7b\n",
    "-->"
   ]
  },
  {
   "cell_type": "code",
   "execution_count": null,
   "metadata": {},
   "outputs": [],
   "source": [
    "chains_YOY = ...\n",
    "chains_YOY"
   ]
  },
  {
   "cell_type": "code",
   "execution_count": null,
   "metadata": {
    "deletable": false,
    "editable": false
   },
   "outputs": [],
   "source": [
    "grader.check(\"q1_7b\")"
   ]
  },
  {
   "cell_type": "markdown",
   "metadata": {
    "deletable": false,
    "editable": false
   },
   "source": [
    "### Question 1.8\n",
    "**1 point**\n",
    "\n",
    "The `'Sales'` data in the `chains` DataFrame comes from 2020. We want to find out what the sales were for 2019. Create a new column in `chains_YOY` named ``Sales_2019``, which contains the sales for each chain in 2019, in millions of dollars. \n",
    "\n",
    "<!--\n",
    "BEGIN QUESTION\n",
    "name: q1_8\n",
    "-->"
   ]
  },
  {
   "cell_type": "code",
   "execution_count": null,
   "metadata": {
    "scrolled": true
   },
   "outputs": [],
   "source": [
    "chains_YOY = ...\n",
    "chains_YOY"
   ]
  },
  {
   "cell_type": "code",
   "execution_count": null,
   "metadata": {
    "deletable": false,
    "editable": false
   },
   "outputs": [],
   "source": [
    "grader.check(\"q1_8\")"
   ]
  },
  {
   "cell_type": "markdown",
   "metadata": {
    "deletable": false,
    "editable": false
   },
   "source": [
    "### Question 1.9\n",
    "**1 point**\n",
    "\n",
    "The Year-over-Year sales metric may not be very intuitive for some. So let's categorize the `'YOY_Sales'` column into 5 categories as follows:\n",
    "\n",
    "| Growth Category | Interpretation | Year-over-Year Sales |\n",
    "| --- | --- | --- |\n",
    "| 5 | rapid increase | $\\geq 0.10$ |\n",
    "| 4 | steady increase | $[0.025, 0.10)$ |\n",
    "| 3 | stagnant | $[-0.025, 0.025)$ | \n",
    "| 2 | steady decrease | $[-0.10, -0.025)$ |\n",
    "| 1 | rapid decrease | $< -0.10$ |\n",
    "\n",
    "Remember, $[a, b)$ means greater than or equal to $a$ and less than $b$.\n",
    "\n",
    "Create a new DataFrame called `chains_growth` with all the columns in `chains_YOY` plus a sixth column called `'Growth_Category'` with the corresponding numerical growth category. The first few rows of `chains_growth` should look like this:\n",
    "\n",
    "|     |   Rank | Restaurant   |   Sales | YOY_Sales   | Segment_Category            | Sales_2019 | Growth_Category   |\n",
    "-----:|-------:|-------------:|--------:|------------:|----------------------------:|-:|------------------:|\n",
    " **0**|      1 | McDonald's   |   40412 | 0.049        | Quick Service & Burger      | 38524.308866 |4   |\n",
    " **1**|      2 | Starbucks    |   21380 | 0.086        | Quick Service & Coffee Cafe | 19686.924494|4   |\n",
    " **2**|      3 | Chick-fil-A  |   11320 | 0.13      | Quick Service & Chicken     | 10017.699115|5    |\n",
    " **3**|      4 | Taco Bell    |   11293 | 0.09        | Quick Service & Mexican     |10360.550459|4   |\n",
    " **4**|      5 | Burger King  |   10204 | 0.027        | Quick Service & Burger      | 9935.735151|4  |\n",
    "\n",
    "*Note*: At the time this project was released, we haven't yet covered how to solve problems like this. You may want to revisit this later when we've learned the appropriate tools in class.\n",
    "\n",
    "<!--\n",
    "BEGIN QUESTION\n",
    "name: q1_9\n",
    "-->"
   ]
  },
  {
   "cell_type": "code",
   "execution_count": null,
   "metadata": {},
   "outputs": [],
   "source": [
    "chains_growth = ...\n",
    "chains_growth"
   ]
  },
  {
   "cell_type": "code",
   "execution_count": null,
   "metadata": {
    "deletable": false,
    "editable": false
   },
   "outputs": [],
   "source": [
    "grader.check(\"q1_9\")"
   ]
  },
  {
   "cell_type": "markdown",
   "metadata": {
    "deletable": false,
    "editable": false
   },
   "source": [
    "### Question 1.10\n",
    "**1 point**\n",
    "\n",
    "Let's find the chains that earned the prestigious `'Growth_Category'` value of 5 (rapid increase). In the variable `rapid_growth_chains`, create an array of the names of such chains, sorted in alphabetical order.\n",
    "\n",
    "<!--\n",
    "BEGIN QUESTION\n",
    "name: q1_10\n",
    "-->"
   ]
  },
  {
   "cell_type": "code",
   "execution_count": null,
   "metadata": {
    "scrolled": true
   },
   "outputs": [],
   "source": [
    "rapid_growth_chains = ...\n",
    "rapid_growth_chains"
   ]
  },
  {
   "cell_type": "code",
   "execution_count": null,
   "metadata": {
    "deletable": false,
    "editable": false
   },
   "outputs": [],
   "source": [
    "grader.check(\"q1_10\")"
   ]
  },
  {
   "cell_type": "markdown",
   "metadata": {
    "deletable": false,
    "editable": false
   },
   "source": [
    "Do you know any of these restaurants? If not, maybe you will in a few years! 📈\n",
    "\n",
    "### Question 1.11\n",
    "**2 points**\n",
    "\n",
    "Since there are five possible values for `'Growth_Category'`, we might expect each growth category value to be associated with about $1/5 = 20\\%$ of restaurants. Let's see if that's the case. Set the variable `unpopular_growth_category` to the number (1 through 5) representing the growth category associated with the fewest number of restaurants. Set the variable `unpopular_proportion` to the proportion of restaurants with this growth category. \n",
    "\n",
    "<!--\n",
    "BEGIN QUESTION\n",
    "name: q1_11\n",
    "points: 2\n",
    "-->"
   ]
  },
  {
   "cell_type": "code",
   "execution_count": null,
   "metadata": {},
   "outputs": [],
   "source": [
    "unpopular_growth_category = ...\n",
    "unpopular_proportion = ...\n",
    "print(f\"The most unpopular growth category was {unpopular_growth_category}; the proportion of restaurants in this category was {unpopular_proportion}.\")"
   ]
  },
  {
   "cell_type": "code",
   "execution_count": null,
   "metadata": {
    "deletable": false,
    "editable": false
   },
   "outputs": [],
   "source": [
    "grader.check(\"q1_11\")"
   ]
  },
  {
   "cell_type": "markdown",
   "metadata": {},
   "source": [
    "This is a good time to pause and remember the nature of our data. Since we're looking at only the top 250 chain restaurants by 2020 sales, our data set does not accurately represent what was going on in the restaurant industry as a whole. There may be many chain restaurants whose sales dropped significantly from 2019 to 2020, but these are less likely to be included in our dataset. We might see a very different distribution of growth categories if we were to look at a data set of the all chain restaurants instead of just the top 250. Understanding the context of how our data was collected is crucial to being able to interpret results and draw meaningful conclusions."
   ]
  },
  {
   "cell_type": "markdown",
   "metadata": {},
   "source": [
    "### Question 1.12\n",
    "**2 points**\n",
    "\n",
    "Earlier, we investigated how each segment category performed in terms of average sales for 2020. Now we'll compare segment categories by their growth category. \n",
    "\n",
    "Say you are looking to invest in some restaurant chains and instead of sales, you are more interested in growth, as determined by the `'Growth_Category'`. Plot a vertical bar chart showing the mean growth category for the top 20 segment categories. \n",
    "\n",
    "Use the bar chart to help you decide the best three segment categories of restaurants to invest in. Assign your result, as an array of three strings, to the variable `invest_segment_categories`. \n",
    "\n",
    "*Note*: It's okay to type by hand the values in `invest_segment_categories` after looking at your bar chart."
   ]
  },
  {
   "cell_type": "code",
   "execution_count": null,
   "metadata": {},
   "outputs": [],
   "source": [
    "# Make your vertical bar chart here.\n",
    "invest_segment_categories = ...\n",
    "invest_segment_categories"
   ]
  },
  {
   "cell_type": "code",
   "execution_count": null,
   "metadata": {
    "deletable": false,
    "editable": false
   },
   "outputs": [],
   "source": [
    "grader.check(\"q1_12\")"
   ]
  },
  {
   "cell_type": "markdown",
   "metadata": {},
   "source": [
    "<a id='part2'></a>\n",
    "## Part 2 – Cities 🌆\n",
    "\n",
    "Awesome! Now that we've gotten a feel for the `chains` dataset, let's move on to the `future` and `independents` datasets. Since both datasets include location information, we'll focus on identifying \"hot food cities\". 🔥 \n",
    "\n",
    "Remember, the `future` DataFrame contains information about the fastest-growing chains with sales between \\\\$25 and \\\\$50 million – there's no overlap between the chains in `future` and the chains in `chains` since the \"smallest\" chain in `chains` made over \\\\$125 million last year. In `future`,  we're given the locations where the chains are headquartered. In the `independents` DataFrame, the restaurants are not chains, so we're given their actual locations."
   ]
  },
  {
   "cell_type": "markdown",
   "metadata": {
    "deletable": false,
    "editable": false
   },
   "source": [
    "### Question 2.1\n",
    "**1 point**\n",
    "\n",
    "Let's start with the `independents` DataFrame. Unlike most of the restaurants in `chains`, many independent restaurants in our data set are 💲💲💲💲. Assign `most_expensive_restaurant` to a list containing the [`'Restaurant'`, `'City'`, `'Average Check'`] of the restaurant with the highest average check in the `independents` dataset.\n",
    "\n",
    "<!--\n",
    "BEGIN QUESTION\n",
    "name: q2_1\n",
    "-->"
   ]
  },
  {
   "cell_type": "code",
   "execution_count": null,
   "metadata": {},
   "outputs": [],
   "source": [
    "most_expensive_restaurant = ...\n",
    "most_expensive_restaurant"
   ]
  },
  {
   "cell_type": "code",
   "execution_count": null,
   "metadata": {
    "deletable": false,
    "editable": false
   },
   "outputs": [],
   "source": [
    "grader.check(\"q2_1\")"
   ]
  },
  {
   "cell_type": "markdown",
   "metadata": {
    "deletable": false,
    "editable": false
   },
   "source": [
    "### Question 2.2\n",
    "**1 point**\n",
    "\n",
    "Which restaurant in `independents` has the lowest sales per meal served? Assign the restaurant name to the variable `lowest_spm_restaurant` and also assign the sales per meal for this restaurant to `lowest_spm`.\n",
    "\n",
    "<!--\n",
    "BEGIN QUESTION\n",
    "name: q2_2\n",
    "-->"
   ]
  },
  {
   "cell_type": "code",
   "execution_count": null,
   "metadata": {},
   "outputs": [],
   "source": [
    "lowest_spm_restaurant = ...\n",
    "lowest_spm = ...\n",
    "print(f\"The restaurant with the lowest sales per meal is {lowest_spm_restaurant}; the sales per meal at this restaurant was {lowest_spm} dollars.\")\n"
   ]
  },
  {
   "cell_type": "code",
   "execution_count": null,
   "metadata": {
    "deletable": false,
    "editable": false
   },
   "outputs": [],
   "source": [
    "grader.check(\"q2_2\")"
   ]
  },
  {
   "cell_type": "markdown",
   "metadata": {},
   "source": [
    "### Question 2.3\n",
    "**1 point**\n",
    "\n",
    "Unless you spend a lot of time in Michigan ✋, chances are you've probably never heard of this restaurant. Here's how the tourism site [Pure Michigan](https://www.michigan.org/property/zehnder-s-frankenmuth) describes it:\n",
    "\n",
    "*America's largest family restaurant serves approximately one million guests per year with old world hospitality. Nine dining rooms that seat more than 1,500 guests, Zehnder's offers a full service menu that features all-you-can-eat family style chicken dinners, seafood, steaks, fresh baked goods and European desserts.*\n",
    "\n",
    "Sorting `independents` by `Meals Served` shows that the `most_expensive_restaurant` served far fewer meals than the `lowest_spm_restaurant`, as you might expect. "
   ]
  },
  {
   "cell_type": "code",
   "execution_count": null,
   "metadata": {
    "scrolled": false
   },
   "outputs": [],
   "source": [
    "independents.sort_values('Meals Served')"
   ]
  },
  {
   "cell_type": "markdown",
   "metadata": {},
   "source": [
    "This may make you wonder if more expensive restaurants serve fewer meals in general. Create a data visualization based on the `independents` DataFrame that helps you answer this question."
   ]
  },
  {
   "cell_type": "markdown",
   "metadata": {
    "deletable": false,
    "editable": false
   },
   "source": [
    "<!-- BEGIN QUESTION -->\n",
    "\n",
    "<!--\n",
    "BEGIN QUESTION\n",
    "name: q2_3\n",
    "manual: true\n",
    "-->"
   ]
  },
  {
   "cell_type": "code",
   "execution_count": null,
   "metadata": {},
   "outputs": [],
   "source": [
    "# Make your data visualization here."
   ]
  },
  {
   "cell_type": "markdown",
   "metadata": {},
   "source": [
    "<!-- END QUESTION -->\n",
    "\n",
    "\n",
    "\n",
    "### Question 2.4\n",
    "**3 points**\n",
    "\n",
    "Let's start working with the cities in the `independents` DataFrame. Run the following cell to get a feel for the type of cities that appear."
   ]
  },
  {
   "cell_type": "code",
   "execution_count": null,
   "metadata": {
    "scrolled": true
   },
   "outputs": [],
   "source": [
    "independents"
   ]
  },
  {
   "cell_type": "markdown",
   "metadata": {
    "deletable": false,
    "editable": false
   },
   "source": [
    "Some cities appear many times, like `'New York'` and `'Washington'`, and some appear only once, like `'Bal Harbour'`.\n",
    "\n",
    "Below, assign `city_checks` to a DataFrame with index `'City'` and column `'Average Check'`, containing the **median** `'Average Check'` in all cities with at least 3 restaurants in the dataset, sorted by median `'Average Check'` in decreasing order. The first few rows of `city_checks` should look like this:\n",
    "\n",
    "| City          |   Average Check  |\n",
    "|--------------:|-----------------------:|\n",
    "| **Las Vegas**     |                     99.0 |\n",
    "| **Miami**         |                     98.0 |\n",
    "| **New York**      |                     84.0 |\n",
    "\n",
    "\n",
    "*Note*: This question is challenging and takes multiple steps, so feel free to break it down and use as many lines of code as you need.\n",
    "\n",
    "<!--\n",
    "BEGIN QUESTION\n",
    "name: q2_4\n",
    "points: 3\n",
    "-->"
   ]
  },
  {
   "cell_type": "code",
   "execution_count": null,
   "metadata": {},
   "outputs": [],
   "source": [
    "city_checks = ...\n",
    "city_checks"
   ]
  },
  {
   "cell_type": "code",
   "execution_count": null,
   "metadata": {
    "deletable": false,
    "editable": false
   },
   "outputs": [],
   "source": [
    "grader.check(\"q2_4\")"
   ]
  },
  {
   "cell_type": "markdown",
   "metadata": {},
   "source": [
    "### Question 2.5\n",
    "**1 point**\n",
    "\n",
    "Now we'll look at the cities in the `future` DataFrame."
   ]
  },
  {
   "cell_type": "code",
   "execution_count": null,
   "metadata": {},
   "outputs": [],
   "source": [
    "future"
   ]
  },
  {
   "cell_type": "markdown",
   "metadata": {
    "deletable": false,
    "editable": false
   },
   "source": [
    "We're eventually going to want to merge `independents` and `future` by city, but right now we can't do that, since `future` does not have a column with just the name of the city in it. `future`'s `'Location'` column also includes the state's name.\n",
    "\n",
    "Below, create a DataFrame called `future_with_city` with the `'Rank'`, `'Restaurant'`, `'Sales'`, and `'YOY_Sales'` columns from `future` but with an additional column, `'City'`, that contains the name of the city in which the restaurant is headquartered. The first few rows of `future_with_city` are shown below; the order of the columns in `future_with_city` **must** match the output below.\n",
    "\n",
    "|    |   Rank | Restaurant   | City             |   Sales | YOY_Sales   |\n",
    "|-----:|-------:|-------------:|-----------------:|--------:|------------:|\n",
    "**0**     |      1 | Evergreens   | Seattle          |      24 | 130.5%      |\n",
    "**1**       |      2 | Clean Juice  | Charlotte        |      44 | 121.9%      |\n",
    "**2**       |      3 | Slapfish     | Huntington Beach |      21 | 81.0%       |\n",
    " **3**      |      4 | Clean Eatz   | Wilmington       |      25 | 79.7%       |\n",
    "  **4**     |      5 | Pokeworks    | Irvine           |      49 | 77.1%       |\n",
    "\n",
    "*Hint*: If you pass in a `list` of columns to `.get`, the resulting DataFrame will have only the columns you listed, in the order that you listed them.\n",
    "\n",
    "<!--\n",
    "BEGIN QUESTION\n",
    "name: q2_5\n",
    "-->"
   ]
  },
  {
   "cell_type": "code",
   "execution_count": null,
   "metadata": {},
   "outputs": [],
   "source": [
    "future_with_city = ...\n",
    "future_with_city"
   ]
  },
  {
   "cell_type": "code",
   "execution_count": null,
   "metadata": {
    "deletable": false,
    "editable": false
   },
   "outputs": [],
   "source": [
    "grader.check(\"q2_5\")"
   ]
  },
  {
   "cell_type": "markdown",
   "metadata": {
    "deletable": false,
    "editable": false
   },
   "source": [
    "### Question 2.6\n",
    "**3 points**\n",
    "\n",
    "We will say a \"hot food city\" is a city with at least one restaurant in the Independents 100 (`independents`) and at least one restaurant in the Future 50 (`future_with_city`).\n",
    "\n",
    "Below, create a DataFrame `hot_cities` indexed by `'City'` and having two columns,  `'Independents_100'` and `'Future_50'`. Each row should correspond to a city, and the values in the columns should represent the number of restaurants in that city that appear on the Independents 100 and Future 50, respectively. The first few rows of `hot_cities` should look like this:\n",
    "\n",
    "| City          |   Independents_100 |   Future_50 |\n",
    "|--------------:|-------------------:|------------:|\n",
    "|**Atlanta**       |                  2 |           1 |\n",
    "|**Denver**        |                  1 |           1 |\n",
    "|**Los Angeles**|                     1 |           1 |\n",
    "\n",
    "*Hint*: This question requires you to use data from multiple DataFrames. How can you combine data from different DataFrames?\n",
    "\n",
    "<!--\n",
    "BEGIN QUESTION\n",
    "name: q2_6\n",
    "points: 3\n",
    "-->"
   ]
  },
  {
   "cell_type": "code",
   "execution_count": null,
   "metadata": {
    "scrolled": false
   },
   "outputs": [],
   "source": [
    "hot_cities = ...\n",
    "hot_cities"
   ]
  },
  {
   "cell_type": "code",
   "execution_count": null,
   "metadata": {
    "deletable": false,
    "editable": false
   },
   "outputs": [],
   "source": [
    "grader.check(\"q2_6\")"
   ]
  },
  {
   "cell_type": "markdown",
   "metadata": {
    "deletable": false,
    "editable": false
   },
   "source": [
    "<!-- BEGIN QUESTION -->\n",
    "\n",
    "### Question 2.7\n",
    "**1 point**\n",
    "\n",
    "To visualize the `hot_cities` DataFrame, create an overlaid horizontal bar chart showing, for each hot city, how many of that city's restaurants appear in each of the `independents` and `future` DataFrames.\n",
    "\n",
    "\n",
    "\n",
    "<!--\n",
    "BEGIN QUESTION\n",
    "name: q2_7\n",
    "manual: true\n",
    "-->"
   ]
  },
  {
   "cell_type": "code",
   "execution_count": null,
   "metadata": {},
   "outputs": [],
   "source": [
    "# Make your overlaid horizontal bar chart here."
   ]
  },
  {
   "cell_type": "markdown",
   "metadata": {},
   "source": [
    "<!-- END QUESTION -->\n",
    "\n",
    "\n",
    "\n",
    "### Question 2.8\n",
    "**2 points**\n",
    "\n",
    "For each city in `hot_cities`, let us define \"food hotness\" of a city as the sum of the `Independents_100` and `Future_50` columns of `hot_cities`. In other words, the food hotness of a city is the total number of restaurants in `independents` located in that city plus the total number of mid-size chains in `future` headquartered there. \n",
    "\n",
    "Now, we want to compare the food hotness of a city with its population. Is it simply the case that larger cities are considered hotter because they have larger populations? How do we measure the \"foodiness\" of a city, taking into account its population?\n",
    "\n",
    "Use the `populations` dataset loaded below to visually compare food hotness and 2021 population using a scatter plot. Then, using your scatter plot, assign to `foodiest_city` the name of the city with the highest food hotness per capita. Food lovers, this is where you might want to plan your next vacation! ✈️\n"
   ]
  },
  {
   "cell_type": "code",
   "execution_count": null,
   "metadata": {},
   "outputs": [],
   "source": [
    "populations = bpd.read_csv(\"data/populations.csv\")\n",
    "populations"
   ]
  },
  {
   "cell_type": "code",
   "execution_count": null,
   "metadata": {},
   "outputs": [],
   "source": [
    "# Make your scatter plot here.\n",
    "foodiest_city = ...\n",
    "foodiest_city"
   ]
  },
  {
   "cell_type": "code",
   "execution_count": null,
   "metadata": {
    "deletable": false,
    "editable": false
   },
   "outputs": [],
   "source": [
    "grader.check(\"q2_8\")"
   ]
  },
  {
   "cell_type": "markdown",
   "metadata": {},
   "source": [
    "<a id='part3'></a>\n",
    "## Part 3 – Stars ⭐️\n",
    "\n",
    "So far, we have been looking at restaurant data from a company that provides business intelligence for restaurants. Therefore, our data has focused on important business concepts, like sales and growth. But are these profitable, fast-growing restaurants actually serving up delicious food that we want to eat? For that information, we ask the people of Yelp. \n",
    "\n",
    "In this section, we'll work with a dataset of Yelp ratings from March 2021 for most (but not all) of the restaurants in `independents`. In the cell below, we load in our Yelp data as a DataFrame called `ratings`."
   ]
  },
  {
   "cell_type": "code",
   "execution_count": null,
   "metadata": {},
   "outputs": [],
   "source": [
    "ratings = bpd.read_csv('data/independents_ratings.csv')\n",
    "ratings"
   ]
  },
  {
   "cell_type": "markdown",
   "metadata": {},
   "source": [
    "### Question 3.1\n",
    "**1 point**\n",
    "\n",
    "It's worth thinking about why this Yelp data includes `'City'` – isn't it enough to just have the name of the restaurant and its rating?\n",
    "\n",
    "Well, no – not if there are multiple restaurants with the same name! Below, assign `duplicate_restaurants` to an array containing the names of restaurants in `independents` that appear more than once. You don't need to sort them in any particular order."
   ]
  },
  {
   "cell_type": "code",
   "execution_count": null,
   "metadata": {
    "scrolled": true
   },
   "outputs": [],
   "source": [
    "duplicate_restaurants = ...\n",
    "duplicate_restaurants"
   ]
  },
  {
   "cell_type": "code",
   "execution_count": null,
   "metadata": {
    "deletable": false,
    "editable": false
   },
   "outputs": [],
   "source": [
    "grader.check(\"q3_1\")"
   ]
  },
  {
   "cell_type": "markdown",
   "metadata": {},
   "source": [
    "Next, we'll create a new DataFrame called `independents_with_ratings` by merging `independents` and `ratings` on both `'Restaurant'` and `'City'`.\n",
    "\n",
    "We need to merge by both columns to correctly handle the duplicate restaurants we identified above. Think about what would happen if we merged by only `'Restaurant'`.\n",
    "\n",
    "We haven't yet seen how to merge two DataFrames on multiple columns, but it turns out that if you just omit all the optional parameters in the call to `merge`, the DataFrames will be merged on all column labels that are common to both DataFrames.\n",
    "\n",
    "Recall the column names of the `independents` and `ratings` DataFrames by running the next two cells."
   ]
  },
  {
   "cell_type": "code",
   "execution_count": null,
   "metadata": {
    "scrolled": true
   },
   "outputs": [],
   "source": [
    "independents.columns"
   ]
  },
  {
   "cell_type": "code",
   "execution_count": null,
   "metadata": {},
   "outputs": [],
   "source": [
    "ratings.columns"
   ]
  },
  {
   "cell_type": "markdown",
   "metadata": {},
   "source": [
    "The column names appearing in both DataFrames are exactly `'Restaurant'` and `'City'`, the two columns we want to merge on. This makes our call to `merge` simple. Run the cell below to merge the two DataFrames based on `'Restaurant'` and `'City'`."
   ]
  },
  {
   "cell_type": "code",
   "execution_count": null,
   "metadata": {
    "scrolled": true
   },
   "outputs": [],
   "source": [
    "independents_with_ratings = independents.merge(ratings) \n",
    "independents_with_ratings"
   ]
  },
  {
   "cell_type": "markdown",
   "metadata": {
    "deletable": false,
    "editable": false
   },
   "source": [
    "### Question 3.2\n",
    "**2 points**\n",
    "\n",
    "For each state, find the proportion of independent restaurants in that state that have at least a 4 star rating. Save your result to a `Series` called `state_proportions` indexed by state name and sorted in ascending order.\n",
    "\n",
    "<!--\n",
    "BEGIN QUESTION\n",
    "name: q3_2\n",
    "points: 2\n",
    "-->"
   ]
  },
  {
   "cell_type": "code",
   "execution_count": null,
   "metadata": {},
   "outputs": [],
   "source": [
    "state_proportions = ...\n",
    "state_proportions"
   ]
  },
  {
   "cell_type": "code",
   "execution_count": null,
   "metadata": {
    "deletable": false,
    "editable": false
   },
   "outputs": [],
   "source": [
    "grader.check(\"q3_2\")"
   ]
  },
  {
   "cell_type": "code",
   "execution_count": null,
   "metadata": {},
   "outputs": [],
   "source": [
    "## HIDDEN TEST\n",
    "np.isclose(state_proportions.loc[\"Calif.\"], 0.5833333333333334)"
   ]
  },
  {
   "cell_type": "code",
   "execution_count": null,
   "metadata": {},
   "outputs": [],
   "source": [
    "## HIDDEN TEST\n",
    "np.isclose(state_proportions.mean(), 0.580707872374539)"
   ]
  },
  {
   "cell_type": "markdown",
   "metadata": {
    "deletable": false,
    "editable": false
   },
   "source": [
    "<!-- BEGIN QUESTION -->\n",
    "\n",
    "### Question 3.3\n",
    "**1 point**\n",
    "\n",
    "Are higher-rated restaurants more expensive? Make a vertical bar chart of restaurant `'Rating'` versus **median**`'Average Check'` to see if there is an association between these variables. \n",
    "\n",
    "<!--\n",
    "BEGIN QUESTION\n",
    "name: q3_3\n",
    "manual: true\n",
    "-->"
   ]
  },
  {
   "cell_type": "code",
   "execution_count": null,
   "metadata": {
    "scrolled": true
   },
   "outputs": [],
   "source": [
    "# Make your vertical bar chart here."
   ]
  },
  {
   "cell_type": "markdown",
   "metadata": {},
   "source": [
    "<!-- END QUESTION -->\n",
    "\n",
    "\n",
    "\n",
    "This is a very interesting result! One possible explanation is that people who go to really expensive restaurants are hard to please. "
   ]
  },
  {
   "cell_type": "markdown",
   "metadata": {
    "deletable": false,
    "editable": false
   },
   "source": [
    "### Question 3.4 \n",
    "**3 points**\n",
    "\n",
    "In the bar chart above, we were thinking of `'Rating'` as a categorical variable. Now let's treat `'Rating'` as a numerical variable and look at its distribution to understand what kind of ratings the restaurants in `independents_with_ratings` receive. \n",
    "\n",
    "#### Part a)\n",
    "**1 point**\n",
    "\n",
    "Set the variable `rating_bins` to an array of values such that:\n",
    "- a  histogram of `'Rating'` with these bins has each distinct value of `'Rating'` in a separate bin, \n",
    "- there are no spaces between the bins, \n",
    "- the first bin includes the lowest value in the `'Rating'` column, and \n",
    "- the last bin includes the highest value in the `'Rating'` column.\n",
    "\n",
    "<!--\n",
    "BEGIN QUESTION\n",
    "name: q3_4a\n",
    "-->\n"
   ]
  },
  {
   "cell_type": "code",
   "execution_count": null,
   "metadata": {
    "scrolled": false
   },
   "outputs": [],
   "source": [
    "rating_bins = ...\n",
    "independents_with_ratings.plot(kind='hist', y='Rating', bins = rating_bins, density=True, ec='w');"
   ]
  },
  {
   "cell_type": "code",
   "execution_count": null,
   "metadata": {
    "deletable": false,
    "editable": false
   },
   "outputs": [],
   "source": [
    "grader.check(\"q3_4a\")"
   ]
  },
  {
   "cell_type": "markdown",
   "metadata": {
    "deletable": false,
    "editable": false
   },
   "source": [
    "#### Part b)\n",
    "**1 point**\n",
    "\n",
    "Your histogram should show you that very few restaurants in `independents_with_ratings` got the lowest rating. In fact, there is only one! Set `worst_restaurant` to the name of this restaurant and set `worst_restaurant_avg_check` to the amount of the average check at this restaurant. \n",
    "<!--\n",
    "BEGIN QUESTION\n",
    "name: q3_4b\n",
    "-->"
   ]
  },
  {
   "cell_type": "code",
   "execution_count": null,
   "metadata": {
    "scrolled": true
   },
   "outputs": [],
   "source": [
    "worst_restaurant = ...\n",
    "worst_restaurant_avg_check = ...\n",
    "print(f\"The worst restaurant is {worst_restaurant}; the average check at this restaurant is {worst_restaurant_avg_check} dollars.\")"
   ]
  },
  {
   "cell_type": "code",
   "execution_count": null,
   "metadata": {
    "deletable": false,
    "editable": false
   },
   "outputs": [],
   "source": [
    "grader.check(\"q3_4b\")"
   ]
  },
  {
   "cell_type": "markdown",
   "metadata": {
    "deletable": false,
    "editable": false
   },
   "source": [
    "Notice that this explains the interesting result we found in our bar chart from Question 3.3. Our bar chart made it seem like low-rated restaurants were really expensive, but this was based only on a single bad expensive restaurant. Perhaps it's better to go one place for Italian food and then go to a separate nightclub? 🤷🏽‍♀️\n",
    "\n",
    "#### Part c)\n",
    "**1 point**\n",
    "\n",
    "In a density histogram, it can be hard to tell the exact height of a bar from looking at the histogram, but if you know the data from which the histogram was generated, you should be able to figure it out. Use `independents_with_ratings` to determine the exact height of the bar in the histogram that corresponds to restaurants with a rating of 3.5 stars. Save your result as `hist_height`.\n",
    "\n",
    "*Hint*: You can check if your answer is approximately correct by inspecting the histogram in Part (a).\n",
    "\n",
    "<!--\n",
    "BEGIN QUESTION\n",
    "name: q3_4c\n",
    "-->"
   ]
  },
  {
   "cell_type": "code",
   "execution_count": null,
   "metadata": {},
   "outputs": [],
   "source": [
    "hist_height = ...\n",
    "hist_height"
   ]
  },
  {
   "cell_type": "code",
   "execution_count": null,
   "metadata": {
    "deletable": false,
    "editable": false
   },
   "outputs": [],
   "source": [
    "grader.check(\"q3_4c\")"
   ]
  },
  {
   "cell_type": "markdown",
   "metadata": {
    "deletable": false,
    "editable": false
   },
   "source": [
    "### Question 3.5\n",
    "**3 points**\n",
    "\n",
    "Lastly, we want to examine the relationship between average check and star rating, separately in each city. To do this, we can use `.groupby` with subgroups. Create a DataFrame called `check_by_city_and_rating` that shows the **median** `'Average Check'` value of restaurants for each city-rating combination. Since there are many such pairs, limit their number in two ways:\n",
    "- Only include cities that have at least three restaurants in `independents_with_rating`.\n",
    "- Only include full stars earned in the rating. For example, a rating of 3.5 should be counted the same as a rating of 3.0 for this problem.\n",
    "\n",
    "The first few rows of `check_by_city_and_rating` should look like this:\n",
    "\n",
    "\n",
    "<img src=\"./images/last_output.png\" width=300/>\n",
    "\n",
    "\n",
    "*Hint*: The function `np.floor` should be useful here. Feel free to look up what it does.\n",
    "\n",
    "*Note*: This question is similar to Question 2.4, where we looked at the median `'Average Check'` by city. Referring back to how you solved that problem might be helpful. As with Question 2.4, this is a challenging problem that takes multiple steps, so feel free to break it down and use as many lines of code as you need.\n",
    "\n",
    "\n",
    "<!--\n",
    "BEGIN QUESTION\n",
    "name: q3_5\n",
    "points: 3\n",
    "-->"
   ]
  },
  {
   "cell_type": "code",
   "execution_count": null,
   "metadata": {},
   "outputs": [],
   "source": [
    "check_by_city_and_rating = ...\n",
    "check_by_city_and_rating"
   ]
  },
  {
   "cell_type": "code",
   "execution_count": null,
   "metadata": {
    "deletable": false,
    "editable": false
   },
   "outputs": [],
   "source": [
    "grader.check(\"q3_5\")"
   ]
  },
  {
   "cell_type": "markdown",
   "metadata": {},
   "source": [
    "## Congratulations! You've completed Project 1!\n",
    "\n",
    "All you need to do now is submit your assignment:\n",
    "\n",
    "1. Select Kernel -> Restart & Run All to ensure that you have executed all cells, including the test cells.\n",
    "2. Read through the notebook to make sure everything is fine and all tests passed.\n",
    "3. Run the cell below to run all tests, and make sure that they all pass.\n",
    "4. Download your notebook using File -> Download as -> Notebook (.ipynb), then upload your notebook to Gradescope. Don't forget to add your partner to your group on Gradescope!\n",
    "\n",
    "If running all the tests at once causes a test to fail that didn't fail when you ran the notebook in order, check to see if you changed a variable's value later in your code. Make sure to use new variable names instead of reusing ones that are used in the tests. \n",
    "\n",
    "Remember, the tests here and on Gradescope just check the format of your answers. We will run correctness tests after the assignment's due date has passed."
   ]
  },
  {
   "cell_type": "code",
   "execution_count": null,
   "metadata": {},
   "outputs": [],
   "source": [
    "grader.check_all()"
   ]
  }
 ],
 "metadata": {
  "interpreter": {
   "hash": "aee8b7b246df8f9039afb4144a1f6fd8d2ca17a180786b69acc140d282b71a49"
  },
  "kernelspec": {
   "display_name": "Python 3",
   "language": "python",
   "name": "python3"
  },
  "language_info": {
   "codemirror_mode": {
    "name": "ipython",
    "version": 3
   },
   "file_extension": ".py",
   "mimetype": "text/x-python",
   "name": "python",
   "nbconvert_exporter": "python",
   "pygments_lexer": "ipython3",
   "version": "3.7.4"
  },
  "toc": {
   "base_numbering": 1,
   "nav_menu": {},
   "number_sections": true,
   "sideBar": true,
   "skip_h1_title": false,
   "title_cell": "Table of Contents",
   "title_sidebar": "Contents",
   "toc_cell": false,
   "toc_position": {},
   "toc_section_display": true,
   "toc_window_display": false
  }
 },
 "nbformat": 4,
 "nbformat_minor": 4
}
